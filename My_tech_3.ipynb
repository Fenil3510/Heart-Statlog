{
 "cells": [
  {
   "cell_type": "code",
   "execution_count": 1,
   "metadata": {},
   "outputs": [],
   "source": [
    "%store -r __toolboxforsalesdata"
   ]
  },
  {
   "cell_type": "code",
   "execution_count": 2,
   "metadata": {},
   "outputs": [
    {
     "name": "stderr",
     "output_type": "stream",
     "text": [
      "/anaconda/lib/python3.6/site-packages/sklearn/cross_validation.py:41: DeprecationWarning: This module was deprecated in version 0.18 in favor of the model_selection module into which all the refactored classes and functions are moved. Also note that the interface of the new CV iterators are different from that of this module. This module will be removed in 0.20.\n",
      "  \"This module will be removed in 0.20.\", DeprecationWarning)\n",
      "/anaconda/lib/python3.6/site-packages/sklearn/ensemble/weight_boosting.py:29: DeprecationWarning: numpy.core.umath_tests is an internal NumPy module and should not be imported. It will be removed in a future NumPy release.\n",
      "  from numpy.core.umath_tests import inner1d\n"
     ]
    }
   ],
   "source": [
    "__toolboxforsalesdata"
   ]
  },
  {
   "cell_type": "code",
   "execution_count": 3,
   "metadata": {},
   "outputs": [],
   "source": [
    "from catboost import CatBoostClassifier"
   ]
  },
  {
   "cell_type": "code",
   "execution_count": 157,
   "metadata": {},
   "outputs": [],
   "source": [
    "for_id = pd.read_csv(\"test.csv\")"
   ]
  },
  {
   "cell_type": "code",
   "execution_count": 4,
   "metadata": {},
   "outputs": [],
   "source": [
    "train_df_old = pd.read_csv(\"train_new_feature.csv\")"
   ]
  },
  {
   "cell_type": "code",
   "execution_count": 5,
   "metadata": {},
   "outputs": [],
   "source": [
    "test_df_old = pd.read_csv(\"test_new_feature.csv\")"
   ]
  },
  {
   "cell_type": "code",
   "execution_count": 6,
   "metadata": {},
   "outputs": [],
   "source": [
    "train_df = pd.read_csv(\"train_new_features_2.csv\")"
   ]
  },
  {
   "cell_type": "code",
   "execution_count": 7,
   "metadata": {},
   "outputs": [],
   "source": [
    "test_df = pd.read_csv(\"test_new_features_2.csv\")"
   ]
  },
  {
   "cell_type": "code",
   "execution_count": 8,
   "metadata": {},
   "outputs": [],
   "source": [
    "#Lets try fitting an Logistic on train_df."
   ]
  },
  {
   "cell_type": "code",
   "execution_count": 9,
   "metadata": {},
   "outputs": [],
   "source": [
    "from sklearn.model_selection import train_test_split"
   ]
  },
  {
   "cell_type": "code",
   "execution_count": 10,
   "metadata": {},
   "outputs": [],
   "source": [
    "train_cv , val_cv = train_test_split(train_df)"
   ]
  },
  {
   "cell_type": "code",
   "execution_count": 11,
   "metadata": {},
   "outputs": [],
   "source": [
    "train_cv_old , val_cv_old = train_test_split(train_df_old)"
   ]
  },
  {
   "cell_type": "code",
   "execution_count": 12,
   "metadata": {},
   "outputs": [],
   "source": [
    "from sklearn.linear_model import LogisticRegression"
   ]
  },
  {
   "cell_type": "code",
   "execution_count": null,
   "metadata": {},
   "outputs": [],
   "source": []
  },
  {
   "cell_type": "code",
   "execution_count": 13,
   "metadata": {},
   "outputs": [],
   "source": [
    "from sklearn.preprocessing import StandardScaler"
   ]
  },
  {
   "cell_type": "code",
   "execution_count": 14,
   "metadata": {},
   "outputs": [],
   "source": [
    "scaler = StandardScaler()\n",
    "scaler.fit(train_df.drop('class', axis = 1))\n",
    "scaler_2 = StandardScaler()\n",
    "scaler_2.fit(train_df_old.drop('class', axis = 1))\n",
    "train_df_std = scaler.transform(train_df.drop('class', axis = 1))\n",
    "train_df_old_std = scaler_2.transform(train_df_old.drop('class', axis = 1))"
   ]
  },
  {
   "cell_type": "code",
   "execution_count": 15,
   "metadata": {},
   "outputs": [],
   "source": [
    "X_train_cv_std , X_val_cv_std = train_test_split(train_df_std)"
   ]
  },
  {
   "cell_type": "code",
   "execution_count": 16,
   "metadata": {},
   "outputs": [],
   "source": [
    "X_train_cv_old_std , X_val_cv_old_std = train_test_split(train_df_old_std)"
   ]
  },
  {
   "cell_type": "code",
   "execution_count": 17,
   "metadata": {},
   "outputs": [
    {
     "data": {
      "text/plain": [
       "<matplotlib.axes._subplots.AxesSubplot at 0x1253a5240>"
      ]
     },
     "execution_count": 17,
     "metadata": {},
     "output_type": "execute_result"
    },
    {
     "data": {
      "image/png": "[encoded data removed]",
      "text/plain": [
       "<Figure size 432x288 with 1 Axes>"
      ]
     },
     "metadata": {},
     "output_type": "display_data"
    }
   ],
   "source": [
    "sns.boxplot(train_df['class'],train_df['maximum_heart_rate_achieved']*train_df['thal'])"
   ]
  },
  {
   "cell_type": "code",
   "execution_count": 18,
   "metadata": {},
   "outputs": [
    {
     "data": {
      "text/plain": [
       "<matplotlib.axes._subplots.AxesSubplot at 0x1258dbe48>"
      ]
     },
     "execution_count": 18,
     "metadata": {},
     "output_type": "execute_result"
    },
    {
     "data": {
      "image/png": "[encoded data removed]",
      "text/plain": [
       "<Figure size 432x288 with 1 Axes>"
      ]
     },
     "metadata": {},
     "output_type": "display_data"
    }
   ],
   "source": [
    "sns.boxplot(train_df['class'],train_df['maximum_heart_rate_achieved'])"
   ]
  },
  {
   "cell_type": "code",
   "execution_count": 19,
   "metadata": {},
   "outputs": [
    {
     "data": {
      "image/png": "[encoded data removed]",
      "text/plain": [
       "<Figure size 432x288 with 1 Axes>"
      ]
     },
     "metadata": {},
     "output_type": "display_data"
    }
   ],
   "source": [
    "plt.scatter(train_df['class']+np.random.randn(len(train_df))/10,train_df['thal']+np.random.randn(len(train_df))/10)\n",
    "plt.show()"
   ]
  },
  {
   "cell_type": "code",
   "execution_count": 20,
   "metadata": {},
   "outputs": [
    {
     "data": {
      "text/plain": [
       "array([3, 6, 7])"
      ]
     },
     "execution_count": 20,
     "metadata": {},
     "output_type": "execute_result"
    }
   ],
   "source": [
    "np.unique(train_df['thal'])"
   ]
  },
  {
   "cell_type": "code",
   "execution_count": 21,
   "metadata": {},
   "outputs": [],
   "source": []
  },
  {
   "cell_type": "code",
   "execution_count": 22,
   "metadata": {},
   "outputs": [
    {
     "data": {
      "text/html": [
       "<div>\n",
       "<style>\n",
       "    .dataframe thead tr:only-child th {\n",
       "        text-align: right;\n",
       "    }\n",
       "\n",
       "    .dataframe thead th {\n",
       "        text-align: left;\n",
       "    }\n",
       "\n",
       "    .dataframe tbody tr th {\n",
       "        vertical-align: top;\n",
       "    }\n",
       "</style>\n",
       "<table border=\"1\" class=\"dataframe\">\n",
       "  <thead>\n",
       "    <tr style=\"text-align: right;\">\n",
       "      <th></th>\n",
       "      <th>age</th>\n",
       "      <th>sex</th>\n",
       "      <th>chest</th>\n",
       "      <th>resting_blood_pressure</th>\n",
       "      <th>serum_cholestoral</th>\n",
       "      <th>resting_electrocardiographic_results</th>\n",
       "      <th>maximum_heart_rate_achieved</th>\n",
       "      <th>exercise_induced_angina</th>\n",
       "      <th>oldpeak</th>\n",
       "      <th>slope</th>\n",
       "      <th>...</th>\n",
       "      <th>age_sex</th>\n",
       "      <th>sex_chest</th>\n",
       "      <th>age_chest</th>\n",
       "      <th>cholestoral_age_sex</th>\n",
       "      <th>big_mix</th>\n",
       "      <th>class</th>\n",
       "      <th>chest_cat_mean_enc</th>\n",
       "      <th>num_vessels_and_angina_less_one</th>\n",
       "      <th>oldpeak*slope</th>\n",
       "      <th>is_rev_defect</th>\n",
       "    </tr>\n",
       "  </thead>\n",
       "  <tbody>\n",
       "    <tr>\n",
       "      <th>0</th>\n",
       "      <td>49.207124</td>\n",
       "      <td>0</td>\n",
       "      <td>4.000000</td>\n",
       "      <td>162.996167</td>\n",
       "      <td>181.108682</td>\n",
       "      <td>0</td>\n",
       "      <td>148.227858</td>\n",
       "      <td>1</td>\n",
       "      <td>0.944547</td>\n",
       "      <td>2</td>\n",
       "      <td>...</td>\n",
       "      <td>0.000000</td>\n",
       "      <td>0.000000</td>\n",
       "      <td>196.828496</td>\n",
       "      <td>0.000000</td>\n",
       "      <td>0.000000</td>\n",
       "      <td>1</td>\n",
       "      <td>0.702245</td>\n",
       "      <td>0</td>\n",
       "      <td>1.889094</td>\n",
       "      <td>False</td>\n",
       "    </tr>\n",
       "    <tr>\n",
       "      <th>1</th>\n",
       "      <td>53.628425</td>\n",
       "      <td>1</td>\n",
       "      <td>1.741596</td>\n",
       "      <td>130.233730</td>\n",
       "      <td>276.474630</td>\n",
       "      <td>2</td>\n",
       "      <td>152.917139</td>\n",
       "      <td>0</td>\n",
       "      <td>0.119070</td>\n",
       "      <td>2</td>\n",
       "      <td>...</td>\n",
       "      <td>53.628425</td>\n",
       "      <td>1.741596</td>\n",
       "      <td>93.399050</td>\n",
       "      <td>14826.898959</td>\n",
       "      <td>0.000000</td>\n",
       "      <td>0</td>\n",
       "      <td>0.198040</td>\n",
       "      <td>1</td>\n",
       "      <td>0.238140</td>\n",
       "      <td>False</td>\n",
       "    </tr>\n",
       "    <tr>\n",
       "      <th>2</th>\n",
       "      <td>49.591426</td>\n",
       "      <td>1</td>\n",
       "      <td>4.000000</td>\n",
       "      <td>146.999012</td>\n",
       "      <td>223.300517</td>\n",
       "      <td>2</td>\n",
       "      <td>102.352090</td>\n",
       "      <td>1</td>\n",
       "      <td>1.616747</td>\n",
       "      <td>2</td>\n",
       "      <td>...</td>\n",
       "      <td>49.591426</td>\n",
       "      <td>4.000000</td>\n",
       "      <td>198.365704</td>\n",
       "      <td>11073.791065</td>\n",
       "      <td>204116.937519</td>\n",
       "      <td>1</td>\n",
       "      <td>0.702800</td>\n",
       "      <td>0</td>\n",
       "      <td>3.233494</td>\n",
       "      <td>True</td>\n",
       "    </tr>\n",
       "    <tr>\n",
       "      <th>3</th>\n",
       "      <td>58.991445</td>\n",
       "      <td>1</td>\n",
       "      <td>4.000000</td>\n",
       "      <td>112.369143</td>\n",
       "      <td>187.245501</td>\n",
       "      <td>0</td>\n",
       "      <td>158.164750</td>\n",
       "      <td>1</td>\n",
       "      <td>0.000000</td>\n",
       "      <td>1</td>\n",
       "      <td>...</td>\n",
       "      <td>58.991445</td>\n",
       "      <td>4.000000</td>\n",
       "      <td>235.965780</td>\n",
       "      <td>11045.882674</td>\n",
       "      <td>46401.726833</td>\n",
       "      <td>1</td>\n",
       "      <td>0.702343</td>\n",
       "      <td>0</td>\n",
       "      <td>0.000000</td>\n",
       "      <td>True</td>\n",
       "    </tr>\n",
       "    <tr>\n",
       "      <th>4</th>\n",
       "      <td>51.053602</td>\n",
       "      <td>1</td>\n",
       "      <td>1.954609</td>\n",
       "      <td>138.032047</td>\n",
       "      <td>238.482868</td>\n",
       "      <td>0</td>\n",
       "      <td>172.540828</td>\n",
       "      <td>0</td>\n",
       "      <td>1.150464</td>\n",
       "      <td>1</td>\n",
       "      <td>...</td>\n",
       "      <td>51.053602</td>\n",
       "      <td>1.954609</td>\n",
       "      <td>99.789830</td>\n",
       "      <td>12175.409427</td>\n",
       "      <td>0.000000</td>\n",
       "      <td>0</td>\n",
       "      <td>0.198025</td>\n",
       "      <td>0</td>\n",
       "      <td>1.150464</td>\n",
       "      <td>False</td>\n",
       "    </tr>\n",
       "  </tbody>\n",
       "</table>\n",
       "<p>5 rows × 22 columns</p>\n",
       "</div>"
      ],
      "text/plain": [
       "         age  sex     chest  resting_blood_pressure  serum_cholestoral  \\\n",
       "0  49.207124    0  4.000000              162.996167         181.108682   \n",
       "1  53.628425    1  1.741596              130.233730         276.474630   \n",
       "2  49.591426    1  4.000000              146.999012         223.300517   \n",
       "3  58.991445    1  4.000000              112.369143         187.245501   \n",
       "4  51.053602    1  1.954609              138.032047         238.482868   \n",
       "\n",
       "   resting_electrocardiographic_results  maximum_heart_rate_achieved  \\\n",
       "0                                     0                   148.227858   \n",
       "1                                     2                   152.917139   \n",
       "2                                     2                   102.352090   \n",
       "3                                     0                   158.164750   \n",
       "4                                     0                   172.540828   \n",
       "\n",
       "   exercise_induced_angina   oldpeak  slope      ...          age_sex  \\\n",
       "0                        1  0.944547      2      ...         0.000000   \n",
       "1                        0  0.119070      2      ...        53.628425   \n",
       "2                        1  1.616747      2      ...        49.591426   \n",
       "3                        1  0.000000      1      ...        58.991445   \n",
       "4                        0  1.150464      1      ...        51.053602   \n",
       "\n",
       "   sex_chest   age_chest  cholestoral_age_sex        big_mix  class  \\\n",
       "0   0.000000  196.828496             0.000000       0.000000      1   \n",
       "1   1.741596   93.399050         14826.898959       0.000000      0   \n",
       "2   4.000000  198.365704         11073.791065  204116.937519      1   \n",
       "3   4.000000  235.965780         11045.882674   46401.726833      1   \n",
       "4   1.954609   99.789830         12175.409427       0.000000      0   \n",
       "\n",
       "   chest_cat_mean_enc  num_vessels_and_angina_less_one  oldpeak*slope  \\\n",
       "0            0.702245                                0       1.889094   \n",
       "1            0.198040                                1       0.238140   \n",
       "2            0.702800                                0       3.233494   \n",
       "3            0.702343                                0       0.000000   \n",
       "4            0.198025                                0       1.150464   \n",
       "\n",
       "   is_rev_defect  \n",
       "0          False  \n",
       "1          False  \n",
       "2           True  \n",
       "3           True  \n",
       "4          False  \n",
       "\n",
       "[5 rows x 22 columns]"
      ]
     },
     "execution_count": 22,
     "metadata": {},
     "output_type": "execute_result"
    }
   ],
   "source": [
    "train_df.head()"
   ]
  },
  {
   "cell_type": "code",
   "execution_count": 23,
   "metadata": {},
   "outputs": [],
   "source": [
    "train_df['is_rev_defect'] = (train_df['thal'] == 7)\n",
    "train_df['thal_max_heart_rate'] = train_df['thal']*train_df['maximum_heart_rate_achieved']\n",
    "train_df.drop(['big_mix'], axis = 1 , inplace = True)\n",
    "train_df['is_rev_defect'] = train_df['is_rev_defect'].astype(int)\n",
    "train_df.drop('chest', axis = 1 , inplace= True)"
   ]
  },
  {
   "cell_type": "code",
   "execution_count": 24,
   "metadata": {},
   "outputs": [],
   "source": []
  },
  {
   "cell_type": "code",
   "execution_count": 25,
   "metadata": {},
   "outputs": [],
   "source": [
    "#Mean encoding for number of vessels?"
   ]
  },
  {
   "cell_type": "code",
   "execution_count": 26,
   "metadata": {},
   "outputs": [],
   "source": []
  },
  {
   "cell_type": "code",
   "execution_count": 27,
   "metadata": {},
   "outputs": [],
   "source": []
  },
  {
   "cell_type": "code",
   "execution_count": 28,
   "metadata": {},
   "outputs": [],
   "source": [
    "#Number of vessels narrowing > 50%"
   ]
  },
  {
   "cell_type": "code",
   "execution_count": 29,
   "metadata": {},
   "outputs": [],
   "source": [
    "#Okay, lets see if catboost picks something."
   ]
  },
  {
   "cell_type": "code",
   "execution_count": 30,
   "metadata": {},
   "outputs": [
    {
     "data": {
      "text/html": [
       "<div>\n",
       "<style>\n",
       "    .dataframe thead tr:only-child th {\n",
       "        text-align: right;\n",
       "    }\n",
       "\n",
       "    .dataframe thead th {\n",
       "        text-align: left;\n",
       "    }\n",
       "\n",
       "    .dataframe tbody tr th {\n",
       "        vertical-align: top;\n",
       "    }\n",
       "</style>\n",
       "<table border=\"1\" class=\"dataframe\">\n",
       "  <thead>\n",
       "    <tr style=\"text-align: right;\">\n",
       "      <th></th>\n",
       "      <th>age</th>\n",
       "      <th>sex</th>\n",
       "      <th>resting_blood_pressure</th>\n",
       "      <th>serum_cholestoral</th>\n",
       "      <th>resting_electrocardiographic_results</th>\n",
       "      <th>maximum_heart_rate_achieved</th>\n",
       "      <th>exercise_induced_angina</th>\n",
       "      <th>oldpeak</th>\n",
       "      <th>slope</th>\n",
       "      <th>number_of_major_vessels</th>\n",
       "      <th>...</th>\n",
       "      <th>age_sex</th>\n",
       "      <th>sex_chest</th>\n",
       "      <th>age_chest</th>\n",
       "      <th>cholestoral_age_sex</th>\n",
       "      <th>class</th>\n",
       "      <th>chest_cat_mean_enc</th>\n",
       "      <th>num_vessels_and_angina_less_one</th>\n",
       "      <th>oldpeak*slope</th>\n",
       "      <th>is_rev_defect</th>\n",
       "      <th>thal_max_heart_rate</th>\n",
       "    </tr>\n",
       "  </thead>\n",
       "  <tbody>\n",
       "    <tr>\n",
       "      <th>0</th>\n",
       "      <td>49.207124</td>\n",
       "      <td>0</td>\n",
       "      <td>162.996167</td>\n",
       "      <td>181.108682</td>\n",
       "      <td>0</td>\n",
       "      <td>148.227858</td>\n",
       "      <td>1</td>\n",
       "      <td>0.944547</td>\n",
       "      <td>2</td>\n",
       "      <td>0</td>\n",
       "      <td>...</td>\n",
       "      <td>0.000000</td>\n",
       "      <td>0.000000</td>\n",
       "      <td>196.828496</td>\n",
       "      <td>0.000000</td>\n",
       "      <td>1</td>\n",
       "      <td>0.702245</td>\n",
       "      <td>0</td>\n",
       "      <td>1.889094</td>\n",
       "      <td>0</td>\n",
       "      <td>444.683574</td>\n",
       "    </tr>\n",
       "    <tr>\n",
       "      <th>1</th>\n",
       "      <td>53.628425</td>\n",
       "      <td>1</td>\n",
       "      <td>130.233730</td>\n",
       "      <td>276.474630</td>\n",
       "      <td>2</td>\n",
       "      <td>152.917139</td>\n",
       "      <td>0</td>\n",
       "      <td>0.119070</td>\n",
       "      <td>2</td>\n",
       "      <td>0</td>\n",
       "      <td>...</td>\n",
       "      <td>53.628425</td>\n",
       "      <td>1.741596</td>\n",
       "      <td>93.399050</td>\n",
       "      <td>14826.898959</td>\n",
       "      <td>0</td>\n",
       "      <td>0.198040</td>\n",
       "      <td>1</td>\n",
       "      <td>0.238140</td>\n",
       "      <td>0</td>\n",
       "      <td>458.751417</td>\n",
       "    </tr>\n",
       "    <tr>\n",
       "      <th>2</th>\n",
       "      <td>49.591426</td>\n",
       "      <td>1</td>\n",
       "      <td>146.999012</td>\n",
       "      <td>223.300517</td>\n",
       "      <td>2</td>\n",
       "      <td>102.352090</td>\n",
       "      <td>1</td>\n",
       "      <td>1.616747</td>\n",
       "      <td>2</td>\n",
       "      <td>2</td>\n",
       "      <td>...</td>\n",
       "      <td>49.591426</td>\n",
       "      <td>4.000000</td>\n",
       "      <td>198.365704</td>\n",
       "      <td>11073.791065</td>\n",
       "      <td>1</td>\n",
       "      <td>0.702800</td>\n",
       "      <td>0</td>\n",
       "      <td>3.233494</td>\n",
       "      <td>1</td>\n",
       "      <td>716.464630</td>\n",
       "    </tr>\n",
       "    <tr>\n",
       "      <th>3</th>\n",
       "      <td>58.991445</td>\n",
       "      <td>1</td>\n",
       "      <td>112.369143</td>\n",
       "      <td>187.245501</td>\n",
       "      <td>0</td>\n",
       "      <td>158.164750</td>\n",
       "      <td>1</td>\n",
       "      <td>0.000000</td>\n",
       "      <td>1</td>\n",
       "      <td>1</td>\n",
       "      <td>...</td>\n",
       "      <td>58.991445</td>\n",
       "      <td>4.000000</td>\n",
       "      <td>235.965780</td>\n",
       "      <td>11045.882674</td>\n",
       "      <td>1</td>\n",
       "      <td>0.702343</td>\n",
       "      <td>0</td>\n",
       "      <td>0.000000</td>\n",
       "      <td>1</td>\n",
       "      <td>1107.153250</td>\n",
       "    </tr>\n",
       "    <tr>\n",
       "      <th>4</th>\n",
       "      <td>51.053602</td>\n",
       "      <td>1</td>\n",
       "      <td>138.032047</td>\n",
       "      <td>238.482868</td>\n",
       "      <td>0</td>\n",
       "      <td>172.540828</td>\n",
       "      <td>0</td>\n",
       "      <td>1.150464</td>\n",
       "      <td>1</td>\n",
       "      <td>1</td>\n",
       "      <td>...</td>\n",
       "      <td>51.053602</td>\n",
       "      <td>1.954609</td>\n",
       "      <td>99.789830</td>\n",
       "      <td>12175.409427</td>\n",
       "      <td>0</td>\n",
       "      <td>0.198025</td>\n",
       "      <td>0</td>\n",
       "      <td>1.150464</td>\n",
       "      <td>0</td>\n",
       "      <td>517.622484</td>\n",
       "    </tr>\n",
       "  </tbody>\n",
       "</table>\n",
       "<p>5 rows × 21 columns</p>\n",
       "</div>"
      ],
      "text/plain": [
       "         age  sex  resting_blood_pressure  serum_cholestoral  \\\n",
       "0  49.207124    0              162.996167         181.108682   \n",
       "1  53.628425    1              130.233730         276.474630   \n",
       "2  49.591426    1              146.999012         223.300517   \n",
       "3  58.991445    1              112.369143         187.245501   \n",
       "4  51.053602    1              138.032047         238.482868   \n",
       "\n",
       "   resting_electrocardiographic_results  maximum_heart_rate_achieved  \\\n",
       "0                                     0                   148.227858   \n",
       "1                                     2                   152.917139   \n",
       "2                                     2                   102.352090   \n",
       "3                                     0                   158.164750   \n",
       "4                                     0                   172.540828   \n",
       "\n",
       "   exercise_induced_angina   oldpeak  slope  number_of_major_vessels  \\\n",
       "0                        1  0.944547      2                        0   \n",
       "1                        0  0.119070      2                        0   \n",
       "2                        1  1.616747      2                        2   \n",
       "3                        1  0.000000      1                        1   \n",
       "4                        0  1.150464      1                        1   \n",
       "\n",
       "          ...             age_sex  sex_chest   age_chest  cholestoral_age_sex  \\\n",
       "0         ...            0.000000   0.000000  196.828496             0.000000   \n",
       "1         ...           53.628425   1.741596   93.399050         14826.898959   \n",
       "2         ...           49.591426   4.000000  198.365704         11073.791065   \n",
       "3         ...           58.991445   4.000000  235.965780         11045.882674   \n",
       "4         ...           51.053602   1.954609   99.789830         12175.409427   \n",
       "\n",
       "   class  chest_cat_mean_enc  num_vessels_and_angina_less_one  oldpeak*slope  \\\n",
       "0      1            0.702245                                0       1.889094   \n",
       "1      0            0.198040                                1       0.238140   \n",
       "2      1            0.702800                                0       3.233494   \n",
       "3      1            0.702343                                0       0.000000   \n",
       "4      0            0.198025                                0       1.150464   \n",
       "\n",
       "   is_rev_defect  thal_max_heart_rate  \n",
       "0              0           444.683574  \n",
       "1              0           458.751417  \n",
       "2              1           716.464630  \n",
       "3              1          1107.153250  \n",
       "4              0           517.622484  \n",
       "\n",
       "[5 rows x 21 columns]"
      ]
     },
     "execution_count": 30,
     "metadata": {},
     "output_type": "execute_result"
    }
   ],
   "source": [
    "train_df.head()"
   ]
  },
  {
   "cell_type": "code",
   "execution_count": 31,
   "metadata": {},
   "outputs": [],
   "source": [
    "train_df['oldpeak*slope'] = train_df['oldpeak']*train_df['slope']"
   ]
  },
  {
   "cell_type": "code",
   "execution_count": 32,
   "metadata": {},
   "outputs": [],
   "source": [
    "train_cv , val_cv = train_test_split(train_df)"
   ]
  },
  {
   "cell_type": "code",
   "execution_count": 33,
   "metadata": {},
   "outputs": [],
   "source": [
    "params1 = {'iterations':10000, 'learning_rate':0.2, 'depth':8,'eval_metric':'Accuracy','random_seed':333,'use_best_model':True,'early_stopping_rounds':30,\n",
    "          'thread_count':5}\n",
    "cat_x_3 = CatBoostClassifier(**params1)\n",
    "cat_x_3.fit(train_cv.drop('class',axis = 1), train_cv['class'],eval_set=(val_cv.drop('class',axis = 1), val_cv['class']),verbose = 1)"
   ]
  },
  {
   "cell_type": "code",
   "execution_count": 58,
   "metadata": {},
   "outputs": [
    {
     "name": "stdout",
     "output_type": "stream",
     "text": [
      "0:\tlearn: 0.8811378\ttest: 0.8816600\tbest: 0.8816600 (0)\ttotal: 195ms\tremaining: 32m 27s\n",
      "1:\tlearn: 0.8828422\ttest: 0.8835200\tbest: 0.8835200 (1)\ttotal: 383ms\tremaining: 31m 53s\n",
      "2:\tlearn: 0.8867444\ttest: 0.8875267\tbest: 0.8875267 (2)\ttotal: 580ms\tremaining: 32m 11s\n",
      "3:\tlearn: 0.8896800\ttest: 0.8901133\tbest: 0.8901133 (3)\ttotal: 746ms\tremaining: 31m 3s\n",
      "4:\tlearn: 0.8915733\ttest: 0.8918533\tbest: 0.8918533 (4)\ttotal: 946ms\tremaining: 31m 30s\n",
      "5:\tlearn: 0.8931422\ttest: 0.8929600\tbest: 0.8929600 (5)\ttotal: 1.16s\tremaining: 32m 18s\n",
      "6:\tlearn: 0.8939356\ttest: 0.8939067\tbest: 0.8939067 (6)\ttotal: 1.42s\tremaining: 33m 46s\n",
      "7:\tlearn: 0.8948778\ttest: 0.8948667\tbest: 0.8948667 (7)\ttotal: 1.62s\tremaining: 33m 48s\n",
      "8:\tlearn: 0.8966844\ttest: 0.8966933\tbest: 0.8966933 (8)\ttotal: 1.82s\tremaining: 33m 44s\n",
      "9:\tlearn: 0.8971933\ttest: 0.8973267\tbest: 0.8973267 (9)\ttotal: 2.01s\tremaining: 33m 29s\n",
      "10:\tlearn: 0.8988022\ttest: 0.8989533\tbest: 0.8989533 (10)\ttotal: 2.17s\tremaining: 32m 47s\n",
      "11:\tlearn: 0.8992200\ttest: 0.8994933\tbest: 0.8994933 (11)\ttotal: 2.38s\tremaining: 33m 4s\n",
      "12:\tlearn: 0.9000711\ttest: 0.9007400\tbest: 0.9007400 (12)\ttotal: 2.55s\tremaining: 32m 36s\n",
      "13:\tlearn: 0.9003111\ttest: 0.9009533\tbest: 0.9009533 (13)\ttotal: 2.74s\tremaining: 32m 36s\n",
      "14:\tlearn: 0.9005400\ttest: 0.9013067\tbest: 0.9013067 (14)\ttotal: 2.93s\tremaining: 32m 31s\n",
      "15:\tlearn: 0.9008244\ttest: 0.9013733\tbest: 0.9013733 (15)\ttotal: 3.13s\tremaining: 32m 33s\n",
      "16:\tlearn: 0.9012756\ttest: 0.9019133\tbest: 0.9019133 (16)\ttotal: 3.35s\tremaining: 32m 46s\n",
      "17:\tlearn: 0.9013844\ttest: 0.9019733\tbest: 0.9019733 (17)\ttotal: 3.54s\tremaining: 32m 42s\n",
      "18:\tlearn: 0.9015356\ttest: 0.9021067\tbest: 0.9021067 (18)\ttotal: 3.74s\tremaining: 32m 43s\n",
      "19:\tlearn: 0.9016489\ttest: 0.9022000\tbest: 0.9022000 (19)\ttotal: 3.89s\tremaining: 32m 21s\n",
      "20:\tlearn: 0.9019200\ttest: 0.9025467\tbest: 0.9025467 (20)\ttotal: 4.08s\tremaining: 32m 19s\n",
      "21:\tlearn: 0.9020467\ttest: 0.9026800\tbest: 0.9026800 (21)\ttotal: 4.23s\tremaining: 31m 58s\n",
      "22:\tlearn: 0.9021200\ttest: 0.9028200\tbest: 0.9028200 (22)\ttotal: 4.42s\tremaining: 31m 59s\n",
      "23:\tlearn: 0.9024956\ttest: 0.9030067\tbest: 0.9030067 (23)\ttotal: 4.59s\tremaining: 31m 49s\n",
      "24:\tlearn: 0.9026311\ttest: 0.9029267\tbest: 0.9030067 (23)\ttotal: 4.79s\tremaining: 31m 50s\n",
      "25:\tlearn: 0.9029267\ttest: 0.9029933\tbest: 0.9030067 (23)\ttotal: 4.94s\tremaining: 31m 34s\n",
      "26:\tlearn: 0.9030200\ttest: 0.9030467\tbest: 0.9030467 (26)\ttotal: 5.12s\tremaining: 31m 31s\n",
      "27:\tlearn: 0.9031244\ttest: 0.9030867\tbest: 0.9030867 (27)\ttotal: 5.45s\tremaining: 32m 19s\n",
      "28:\tlearn: 0.9032733\ttest: 0.9031533\tbest: 0.9031533 (28)\ttotal: 5.65s\tremaining: 32m 21s\n",
      "29:\tlearn: 0.9033200\ttest: 0.9033267\tbest: 0.9033267 (29)\ttotal: 5.95s\tremaining: 32m 56s\n",
      "30:\tlearn: 0.9033333\ttest: 0.9032733\tbest: 0.9033267 (29)\ttotal: 6.13s\tremaining: 32m 52s\n",
      "31:\tlearn: 0.9033978\ttest: 0.9033133\tbest: 0.9033267 (29)\ttotal: 6.33s\tremaining: 32m 51s\n",
      "32:\tlearn: 0.9034311\ttest: 0.9032200\tbest: 0.9033267 (29)\ttotal: 6.49s\tremaining: 32m 38s\n",
      "33:\tlearn: 0.9034978\ttest: 0.9034000\tbest: 0.9034000 (33)\ttotal: 6.71s\tremaining: 32m 46s\n",
      "34:\tlearn: 0.9036289\ttest: 0.9034933\tbest: 0.9034933 (34)\ttotal: 7.02s\tremaining: 33m 18s\n",
      "35:\tlearn: 0.9036489\ttest: 0.9035600\tbest: 0.9035600 (35)\ttotal: 7.2s\tremaining: 33m 13s\n",
      "36:\tlearn: 0.9037200\ttest: 0.9035667\tbest: 0.9035667 (36)\ttotal: 7.41s\tremaining: 33m 16s\n",
      "37:\tlearn: 0.9037178\ttest: 0.9035200\tbest: 0.9035667 (36)\ttotal: 7.59s\tremaining: 33m 9s\n",
      "38:\tlearn: 0.9037733\ttest: 0.9033733\tbest: 0.9035667 (36)\ttotal: 7.79s\tremaining: 33m 10s\n",
      "39:\tlearn: 0.9037844\ttest: 0.9035600\tbest: 0.9035667 (36)\ttotal: 7.95s\tremaining: 33m\n",
      "40:\tlearn: 0.9038400\ttest: 0.9036067\tbest: 0.9036067 (40)\ttotal: 8.14s\tremaining: 32m 58s\n",
      "41:\tlearn: 0.9038756\ttest: 0.9037333\tbest: 0.9037333 (41)\ttotal: 8.3s\tremaining: 32m 47s\n",
      "42:\tlearn: 0.9038178\ttest: 0.9036400\tbest: 0.9037333 (41)\ttotal: 8.47s\tremaining: 32m 42s\n",
      "43:\tlearn: 0.9040578\ttest: 0.9037733\tbest: 0.9037733 (43)\ttotal: 8.79s\tremaining: 33m 8s\n",
      "44:\tlearn: 0.9040756\ttest: 0.9037067\tbest: 0.9037733 (43)\ttotal: 8.99s\tremaining: 33m 8s\n",
      "45:\tlearn: 0.9041978\ttest: 0.9038133\tbest: 0.9038133 (45)\ttotal: 9.18s\tremaining: 33m 6s\n",
      "46:\tlearn: 0.9043178\ttest: 0.9039867\tbest: 0.9039867 (46)\ttotal: 9.35s\tremaining: 33m\n",
      "47:\tlearn: 0.9042711\ttest: 0.9039267\tbest: 0.9039867 (46)\ttotal: 9.72s\tremaining: 33m 35s\n",
      "48:\tlearn: 0.9044000\ttest: 0.9039267\tbest: 0.9039867 (46)\ttotal: 9.98s\tremaining: 33m 47s\n",
      "49:\tlearn: 0.9044667\ttest: 0.9039333\tbest: 0.9039867 (46)\ttotal: 10.2s\tremaining: 33m 51s\n",
      "50:\tlearn: 0.9045000\ttest: 0.9040533\tbest: 0.9040533 (50)\ttotal: 10.5s\tremaining: 34m 13s\n",
      "51:\tlearn: 0.9045911\ttest: 0.9040467\tbest: 0.9040533 (50)\ttotal: 10.7s\tremaining: 34m 4s\n",
      "52:\tlearn: 0.9045978\ttest: 0.9039933\tbest: 0.9040533 (50)\ttotal: 10.9s\tremaining: 34m 9s\n",
      "53:\tlearn: 0.9046244\ttest: 0.9040933\tbest: 0.9040933 (53)\ttotal: 11.1s\tremaining: 34m 4s\n",
      "54:\tlearn: 0.9046911\ttest: 0.9040400\tbest: 0.9040933 (53)\ttotal: 11.3s\tremaining: 34m 1s\n",
      "55:\tlearn: 0.9047533\ttest: 0.9039400\tbest: 0.9040933 (53)\ttotal: 11.6s\tremaining: 34m 25s\n",
      "56:\tlearn: 0.9047711\ttest: 0.9038400\tbest: 0.9040933 (53)\ttotal: 11.8s\tremaining: 34m 19s\n",
      "57:\tlearn: 0.9048067\ttest: 0.9038667\tbest: 0.9040933 (53)\ttotal: 12.1s\tremaining: 34m 31s\n",
      "58:\tlearn: 0.9047622\ttest: 0.9038533\tbest: 0.9040933 (53)\ttotal: 12.2s\tremaining: 34m 23s\n",
      "59:\tlearn: 0.9048244\ttest: 0.9038533\tbest: 0.9040933 (53)\ttotal: 12.4s\tremaining: 34m 19s\n",
      "60:\tlearn: 0.9048733\ttest: 0.9038467\tbest: 0.9040933 (53)\ttotal: 12.7s\tremaining: 34m 28s\n",
      "61:\tlearn: 0.9048867\ttest: 0.9038000\tbest: 0.9040933 (53)\ttotal: 12.9s\tremaining: 34m 27s\n",
      "62:\tlearn: 0.9049333\ttest: 0.9038133\tbest: 0.9040933 (53)\ttotal: 13.1s\tremaining: 34m 27s\n",
      "63:\tlearn: 0.9049489\ttest: 0.9038533\tbest: 0.9040933 (53)\ttotal: 13.3s\tremaining: 34m 18s\n",
      "64:\tlearn: 0.9050089\ttest: 0.9039200\tbest: 0.9040933 (53)\ttotal: 13.5s\tremaining: 34m 16s\n",
      "65:\tlearn: 0.9050111\ttest: 0.9039733\tbest: 0.9040933 (53)\ttotal: 13.7s\tremaining: 34m 24s\n",
      "66:\tlearn: 0.9050600\ttest: 0.9039133\tbest: 0.9040933 (53)\ttotal: 13.9s\tremaining: 34m 22s\n",
      "67:\tlearn: 0.9051467\ttest: 0.9039333\tbest: 0.9040933 (53)\ttotal: 14.1s\tremaining: 34m 19s\n",
      "68:\tlearn: 0.9051867\ttest: 0.9039133\tbest: 0.9040933 (53)\ttotal: 14.2s\tremaining: 34m 9s\n",
      "69:\tlearn: 0.9051956\ttest: 0.9039933\tbest: 0.9040933 (53)\ttotal: 14.4s\tremaining: 34m 5s\n",
      "70:\tlearn: 0.9052244\ttest: 0.9040533\tbest: 0.9040933 (53)\ttotal: 14.6s\tremaining: 33m 59s\n",
      "71:\tlearn: 0.9053311\ttest: 0.9040000\tbest: 0.9040933 (53)\ttotal: 14.8s\tremaining: 33m 56s\n",
      "72:\tlearn: 0.9053222\ttest: 0.9041000\tbest: 0.9041000 (72)\ttotal: 14.9s\tremaining: 33m 48s\n",
      "73:\tlearn: 0.9053311\ttest: 0.9041000\tbest: 0.9041000 (72)\ttotal: 15.1s\tremaining: 33m 45s\n",
      "74:\tlearn: 0.9053889\ttest: 0.9040667\tbest: 0.9041000 (72)\ttotal: 15.4s\tremaining: 33m 53s\n",
      "75:\tlearn: 0.9055289\ttest: 0.9042200\tbest: 0.9042200 (75)\ttotal: 15.6s\tremaining: 33m 56s\n",
      "76:\tlearn: 0.9055244\ttest: 0.9043533\tbest: 0.9043533 (76)\ttotal: 15.8s\tremaining: 33m 51s\n",
      "77:\tlearn: 0.9055733\ttest: 0.9042933\tbest: 0.9043533 (76)\ttotal: 15.9s\tremaining: 33m 46s\n",
      "78:\tlearn: 0.9055533\ttest: 0.9043267\tbest: 0.9043533 (76)\ttotal: 16.1s\tremaining: 33m 40s\n",
      "79:\tlearn: 0.9055933\ttest: 0.9041733\tbest: 0.9043533 (76)\ttotal: 16.4s\tremaining: 33m 47s\n",
      "80:\tlearn: 0.9056111\ttest: 0.9041667\tbest: 0.9043533 (76)\ttotal: 16.5s\tremaining: 33m 45s\n",
      "81:\tlearn: 0.9056200\ttest: 0.9040800\tbest: 0.9043533 (76)\ttotal: 16.7s\tremaining: 33m 43s\n",
      "82:\tlearn: 0.9056867\ttest: 0.9040467\tbest: 0.9043533 (76)\ttotal: 16.9s\tremaining: 33m 36s\n",
      "83:\tlearn: 0.9057422\ttest: 0.9041067\tbest: 0.9043533 (76)\ttotal: 17.1s\tremaining: 33m 38s\n",
      "84:\tlearn: 0.9058244\ttest: 0.9041200\tbest: 0.9043533 (76)\ttotal: 17.3s\tremaining: 33m 41s\n",
      "85:\tlearn: 0.9058156\ttest: 0.9041133\tbest: 0.9043533 (76)\ttotal: 17.5s\tremaining: 33m 38s\n",
      "86:\tlearn: 0.9058222\ttest: 0.9041733\tbest: 0.9043533 (76)\ttotal: 17.7s\tremaining: 33m 36s\n",
      "87:\tlearn: 0.9059044\ttest: 0.9040533\tbest: 0.9043533 (76)\ttotal: 17.8s\tremaining: 33m 29s\n",
      "88:\tlearn: 0.9059644\ttest: 0.9041467\tbest: 0.9043533 (76)\ttotal: 18s\tremaining: 33m 29s\n",
      "89:\tlearn: 0.9059644\ttest: 0.9041067\tbest: 0.9043533 (76)\ttotal: 18.2s\tremaining: 33m 23s\n",
      "90:\tlearn: 0.9059578\ttest: 0.9040533\tbest: 0.9043533 (76)\ttotal: 18.4s\tremaining: 33m 22s\n",
      "91:\tlearn: 0.9059711\ttest: 0.9041533\tbest: 0.9043533 (76)\ttotal: 18.5s\tremaining: 33m 16s\n"
     ]
    },
    {
     "name": "stdout",
     "output_type": "stream",
     "text": [
      "92:\tlearn: 0.9060244\ttest: 0.9041200\tbest: 0.9043533 (76)\ttotal: 18.7s\tremaining: 33m 14s\n",
      "93:\tlearn: 0.9061044\ttest: 0.9041533\tbest: 0.9043533 (76)\ttotal: 18.9s\tremaining: 33m 9s\n",
      "94:\tlearn: 0.9061111\ttest: 0.9041333\tbest: 0.9043533 (76)\ttotal: 19s\tremaining: 33m 4s\n",
      "95:\tlearn: 0.9061400\ttest: 0.9041133\tbest: 0.9043533 (76)\ttotal: 19.2s\tremaining: 33m\n",
      "96:\tlearn: 0.9062022\ttest: 0.9042333\tbest: 0.9043533 (76)\ttotal: 19.4s\tremaining: 33m\n",
      "97:\tlearn: 0.9062600\ttest: 0.9042933\tbest: 0.9043533 (76)\ttotal: 19.5s\tremaining: 32m 54s\n",
      "98:\tlearn: 0.9062889\ttest: 0.9043600\tbest: 0.9043600 (98)\ttotal: 19.7s\tremaining: 32m 52s\n",
      "99:\tlearn: 0.9063111\ttest: 0.9043333\tbest: 0.9043600 (98)\ttotal: 19.9s\tremaining: 32m 46s\n",
      "100:\tlearn: 0.9063289\ttest: 0.9043133\tbest: 0.9043600 (98)\ttotal: 20s\tremaining: 32m 44s\n",
      "101:\tlearn: 0.9063533\ttest: 0.9043067\tbest: 0.9043600 (98)\ttotal: 20.2s\tremaining: 32m 39s\n",
      "102:\tlearn: 0.9064111\ttest: 0.9043333\tbest: 0.9043600 (98)\ttotal: 20.4s\tremaining: 32m 38s\n",
      "103:\tlearn: 0.9064156\ttest: 0.9042800\tbest: 0.9043600 (98)\ttotal: 20.5s\tremaining: 32m 33s\n",
      "104:\tlearn: 0.9064356\ttest: 0.9043133\tbest: 0.9043600 (98)\ttotal: 20.7s\tremaining: 32m 31s\n",
      "105:\tlearn: 0.9064133\ttest: 0.9043067\tbest: 0.9043600 (98)\ttotal: 21s\tremaining: 32m 44s\n",
      "106:\tlearn: 0.9064111\ttest: 0.9042867\tbest: 0.9043600 (98)\ttotal: 21.4s\tremaining: 32m 54s\n",
      "107:\tlearn: 0.9065044\ttest: 0.9043267\tbest: 0.9043600 (98)\ttotal: 21.7s\tremaining: 33m 3s\n",
      "108:\tlearn: 0.9064978\ttest: 0.9042867\tbest: 0.9043600 (98)\ttotal: 21.9s\tremaining: 33m 6s\n",
      "109:\tlearn: 0.9066289\ttest: 0.9042200\tbest: 0.9043600 (98)\ttotal: 22.3s\tremaining: 33m 24s\n",
      "110:\tlearn: 0.9066978\ttest: 0.9042267\tbest: 0.9043600 (98)\ttotal: 22.6s\tremaining: 33m 29s\n",
      "111:\tlearn: 0.9066933\ttest: 0.9042867\tbest: 0.9043600 (98)\ttotal: 23s\tremaining: 33m 49s\n",
      "112:\tlearn: 0.9066867\ttest: 0.9043267\tbest: 0.9043600 (98)\ttotal: 23.5s\tremaining: 34m 18s\n",
      "113:\tlearn: 0.9067844\ttest: 0.9043000\tbest: 0.9043600 (98)\ttotal: 23.7s\tremaining: 34m 18s\n",
      "114:\tlearn: 0.9067800\ttest: 0.9042667\tbest: 0.9043600 (98)\ttotal: 24s\tremaining: 34m 24s\n",
      "115:\tlearn: 0.9068333\ttest: 0.9042467\tbest: 0.9043600 (98)\ttotal: 24.4s\tremaining: 34m 37s\n",
      "116:\tlearn: 0.9068689\ttest: 0.9042667\tbest: 0.9043600 (98)\ttotal: 24.6s\tremaining: 34m 36s\n",
      "117:\tlearn: 0.9068978\ttest: 0.9042600\tbest: 0.9043600 (98)\ttotal: 24.8s\tremaining: 34m 38s\n",
      "118:\tlearn: 0.9068556\ttest: 0.9041800\tbest: 0.9043600 (98)\ttotal: 25s\tremaining: 34m 35s\n",
      "119:\tlearn: 0.9069089\ttest: 0.9042467\tbest: 0.9043600 (98)\ttotal: 25.5s\tremaining: 35m 2s\n",
      "120:\tlearn: 0.9069711\ttest: 0.9042467\tbest: 0.9043600 (98)\ttotal: 26.2s\tremaining: 35m 36s\n",
      "121:\tlearn: 0.9070422\ttest: 0.9042400\tbest: 0.9043600 (98)\ttotal: 26.4s\tremaining: 35m 35s\n",
      "122:\tlearn: 0.9071022\ttest: 0.9042400\tbest: 0.9043600 (98)\ttotal: 26.7s\tremaining: 35m 40s\n",
      "123:\tlearn: 0.9071178\ttest: 0.9042000\tbest: 0.9043600 (98)\ttotal: 26.8s\tremaining: 35m 37s\n",
      "124:\tlearn: 0.9071889\ttest: 0.9042467\tbest: 0.9043600 (98)\ttotal: 27.1s\tremaining: 35m 43s\n",
      "125:\tlearn: 0.9072000\ttest: 0.9042533\tbest: 0.9043600 (98)\ttotal: 27.3s\tremaining: 35m 39s\n",
      "126:\tlearn: 0.9072622\ttest: 0.9042400\tbest: 0.9043600 (98)\ttotal: 27.6s\tremaining: 35m 47s\n",
      "127:\tlearn: 0.9072711\ttest: 0.9042267\tbest: 0.9043600 (98)\ttotal: 27.8s\tremaining: 35m 45s\n",
      "128:\tlearn: 0.9073089\ttest: 0.9042733\tbest: 0.9043600 (98)\ttotal: 28.1s\tremaining: 35m 51s\n",
      "Stopped by overfitting detector  (30 iterations wait)\n",
      "\n",
      "bestTest = 0.90436\n",
      "bestIteration = 98\n",
      "\n",
      "Shrink model to first 99 iterations.\n"
     ]
    },
    {
     "data": {
      "text/plain": [
       "<catboost.core.CatBoostClassifier at 0x12605c2b0>"
      ]
     },
     "execution_count": 58,
     "metadata": {},
     "output_type": "execute_result"
    }
   ],
   "source": [
    "#do not delete"
   ]
  },
  {
   "cell_type": "code",
   "execution_count": 90,
   "metadata": {},
   "outputs": [],
   "source": [
    "val_pred_cat_x_3 = cat_x_3.predict(val_cv.drop('class',axis = 1))"
   ]
  },
  {
   "cell_type": "code",
   "execution_count": 59,
   "metadata": {},
   "outputs": [],
   "source": [
    "val_pred_cat_x_3_proba = cat_x_3.predict_proba(val_cv.drop('class',axis = 1))"
   ]
  },
  {
   "cell_type": "code",
   "execution_count": 213,
   "metadata": {},
   "outputs": [],
   "source": [
    "from catboost import Pool"
   ]
  },
  {
   "cell_type": "code",
   "execution_count": 208,
   "metadata": {},
   "outputs": [
    {
     "data": {
      "image/png": "[encoded data removed]",
      "text/plain": [
       "<Figure size 432x288 with 1 Axes>"
      ]
     },
     "metadata": {},
     "output_type": "display_data"
    }
   ],
   "source": [
    "feat_imp = cat_x_3.get_feature_importance(Pool(train_cv.drop('class',axis = 1)))\n",
    "plt.figure()\n",
    "plt.bar(train_cv.drop('class',axis = 1).columns.values, feat_imp)\n",
    "plt.xticks(rotation = 90)\n",
    "plt.show()"
   ]
  },
  {
   "cell_type": "code",
   "execution_count": 35,
   "metadata": {},
   "outputs": [],
   "source": [
    "scaler = StandardScaler()\n",
    "scaler.fit(train_df.drop('class', axis = 1))\n",
    "scaler_2 = StandardScaler()\n",
    "scaler_2.fit(train_df_old.drop('class', axis = 1))\n",
    "train_df_std = scaler.transform(train_df.drop('class', axis = 1))\n",
    "train_df_old_std = scaler_2.transform(train_df_old.drop('class', axis = 1))"
   ]
  },
  {
   "cell_type": "code",
   "execution_count": 36,
   "metadata": {},
   "outputs": [],
   "source": [
    "train_cv_old_std, val_cv_old_std = train_test_split(train_df_old_std)"
   ]
  },
  {
   "cell_type": "code",
   "execution_count": null,
   "metadata": {},
   "outputs": [],
   "source": [
    "#lets see rf on this new dataset."
   ]
  },
  {
   "cell_type": "code",
   "execution_count": 48,
   "metadata": {},
   "outputs": [],
   "source": [
    "from sklearn.ensemble import RandomForestClassifier"
   ]
  },
  {
   "cell_type": "code",
   "execution_count": 161,
   "metadata": {},
   "outputs": [],
   "source": [
    "rf_x_2 = RandomForestClassifier(n_estimators=1000, max_depth=10, max_features=None, n_jobs=-1, verbose = 1)"
   ]
  },
  {
   "cell_type": "code",
   "execution_count": 162,
   "metadata": {},
   "outputs": [
    {
     "name": "stderr",
     "output_type": "stream",
     "text": [
      "[Parallel(n_jobs=-1)]: Done  42 tasks      | elapsed:  1.6min\n",
      "[Parallel(n_jobs=-1)]: Done 192 tasks      | elapsed:  6.8min\n",
      "[Parallel(n_jobs=-1)]: Done 442 tasks      | elapsed: 18.0min\n",
      "[Parallel(n_jobs=-1)]: Done 792 tasks      | elapsed: 80.6min\n",
      "[Parallel(n_jobs=-1)]: Done 1000 out of 1000 | elapsed: 286.6min finished\n"
     ]
    },
    {
     "data": {
      "text/plain": [
       "RandomForestClassifier(bootstrap=True, class_weight=None, criterion='gini',\n",
       "            max_depth=10, max_features=None, max_leaf_nodes=None,\n",
       "            min_impurity_decrease=0.0, min_impurity_split=None,\n",
       "            min_samples_leaf=1, min_samples_split=2,\n",
       "            min_weight_fraction_leaf=0.0, n_estimators=1000, n_jobs=-1,\n",
       "            oob_score=False, random_state=None, verbose=1,\n",
       "            warm_start=False)"
      ]
     },
     "execution_count": 162,
     "metadata": {},
     "output_type": "execute_result"
    }
   ],
   "source": [
    "rf_x_2.fit(train_cv.drop('class',axis = 1), train_cv['class'])"
   ]
  },
  {
   "cell_type": "code",
   "execution_count": 163,
   "metadata": {},
   "outputs": [
    {
     "name": "stderr",
     "output_type": "stream",
     "text": [
      "[Parallel(n_jobs=4)]: Done  42 tasks      | elapsed:    0.5s\n",
      "[Parallel(n_jobs=4)]: Done 192 tasks      | elapsed:    2.2s\n",
      "[Parallel(n_jobs=4)]: Done 442 tasks      | elapsed:    5.0s\n",
      "[Parallel(n_jobs=4)]: Done 792 tasks      | elapsed:    8.8s\n",
      "[Parallel(n_jobs=4)]: Done 1000 out of 1000 | elapsed:   11.1s finished\n"
     ]
    }
   ],
   "source": [
    "val_rf_2_pred_proba = rf_x_2.predict_proba(val_cv.drop('class', axis = 1))"
   ]
  },
  {
   "cell_type": "code",
   "execution_count": 164,
   "metadata": {},
   "outputs": [
    {
     "name": "stderr",
     "output_type": "stream",
     "text": [
      "[Parallel(n_jobs=4)]: Done  42 tasks      | elapsed:    0.5s\n",
      "[Parallel(n_jobs=4)]: Done 192 tasks      | elapsed:    2.1s\n",
      "[Parallel(n_jobs=4)]: Done 442 tasks      | elapsed:    4.7s\n",
      "[Parallel(n_jobs=4)]: Done 792 tasks      | elapsed:    8.4s\n",
      "[Parallel(n_jobs=4)]: Done 1000 out of 1000 | elapsed:   10.5s finished\n"
     ]
    }
   ],
   "source": [
    "val_rf_2_pred = rf_x_2.predict(val_cv.drop('class', axis = 1))"
   ]
  },
  {
   "cell_type": "code",
   "execution_count": 165,
   "metadata": {},
   "outputs": [
    {
     "name": "stderr",
     "output_type": "stream",
     "text": [
      "[Parallel(n_jobs=4)]: Done  42 tasks      | elapsed:    1.6s\n",
      "[Parallel(n_jobs=4)]: Done 192 tasks      | elapsed:    6.3s\n",
      "[Parallel(n_jobs=4)]: Done 442 tasks      | elapsed: 60.2min\n",
      "[Parallel(n_jobs=4)]: Done 792 tasks      | elapsed: 60.3min\n",
      "[Parallel(n_jobs=4)]: Done 1000 out of 1000 | elapsed: 60.4min finished\n"
     ]
    }
   ],
   "source": [
    "train_rf_2_pred = rf_x_2.predict(train_cv.drop('class', axis = 1))"
   ]
  },
  {
   "cell_type": "code",
   "execution_count": 166,
   "metadata": {},
   "outputs": [
    {
     "data": {
      "text/plain": [
       "0.8951666666666667"
      ]
     },
     "execution_count": 166,
     "metadata": {},
     "output_type": "execute_result"
    }
   ],
   "source": [
    "sum(val_rf_2_pred==val_cv['class'])/len(val_cv)"
   ]
  },
  {
   "cell_type": "code",
   "execution_count": 167,
   "metadata": {},
   "outputs": [
    {
     "data": {
      "text/plain": [
       "0.9013622222222222"
      ]
     },
     "execution_count": 167,
     "metadata": {},
     "output_type": "execute_result"
    }
   ],
   "source": [
    "sum(train_rf_2_pred==train_cv['class'])/len(train_cv)"
   ]
  },
  {
   "cell_type": "code",
   "execution_count": 170,
   "metadata": {},
   "outputs": [
    {
     "data": {
      "text/plain": [
       "0.8951666666666667"
      ]
     },
     "execution_count": 170,
     "metadata": {},
     "output_type": "execute_result"
    }
   ],
   "source": [
    "sum(val_rf_2_pred==val_cv['class'])/len(val_cv)"
   ]
  },
  {
   "cell_type": "code",
   "execution_count": 64,
   "metadata": {},
   "outputs": [
    {
     "data": {
      "text/plain": [
       "0.8903733333333333"
      ]
     },
     "execution_count": 64,
     "metadata": {},
     "output_type": "execute_result"
    }
   ],
   "source": [
    "sum(val_rf_2_pred==val_cv['class'])/len(val_rf_2_pred)"
   ]
  },
  {
   "cell_type": "code",
   "execution_count": 65,
   "metadata": {},
   "outputs": [
    {
     "data": {
      "image/png": "[encoded data removed]",
      "text/plain": [
       "<Figure size 432x288 with 1 Axes>"
      ]
     },
     "metadata": {},
     "output_type": "display_data"
    }
   ],
   "source": [
    "for_plot = pd.DataFrame({'col':val_cv.drop('class', axis = 1).columns.values,'imp':rf_x_2.feature_importances_})\n",
    "\n",
    "plt.bar(for_plot['col'],for_plot['imp'])\n",
    "plt.xticks(rotation = 90)\n",
    "plt.show()"
   ]
  },
  {
   "cell_type": "code",
   "execution_count": 172,
   "metadata": {},
   "outputs": [],
   "source": [
    "#lets puT A LOGISTIC LAYER no its giving the same result as catboost.\n",
    "train_pred_cat_x_3_proba = cat_x_3.predict_proba(train_cv.drop('class',axis = 1))"
   ]
  },
  {
   "cell_type": "code",
   "execution_count": 173,
   "metadata": {},
   "outputs": [
    {
     "name": "stderr",
     "output_type": "stream",
     "text": [
      "[Parallel(n_jobs=4)]: Done  42 tasks      | elapsed:    1.0s\n",
      "[Parallel(n_jobs=4)]: Done 192 tasks      | elapsed:    4.2s\n",
      "[Parallel(n_jobs=4)]: Done 442 tasks      | elapsed:    9.8s\n",
      "[Parallel(n_jobs=4)]: Done 792 tasks      | elapsed:   19.3s\n",
      "[Parallel(n_jobs=4)]: Done 1000 out of 1000 | elapsed:   25.3s finished\n"
     ]
    }
   ],
   "source": [
    "train_rf_2_pred_proba = rf_x_2.predict_proba(train_cv.drop('class', axis = 1))"
   ]
  },
  {
   "cell_type": "code",
   "execution_count": 174,
   "metadata": {},
   "outputs": [],
   "source": [
    "#Logistic Layer.\n",
    "stack_cv_train = pd.DataFrame({'rf':train_rf_2_pred_proba[:,1], 'cat':train_pred_cat_x_3_proba[:,1]})"
   ]
  },
  {
   "cell_type": "code",
   "execution_count": 175,
   "metadata": {},
   "outputs": [],
   "source": [
    "#Logistic Layer.\n",
    "stack_cv_val = pd.DataFrame({'rf':val_rf_2_pred_proba[:,1], 'cat':val_pred_cat_x_3_proba[:,1]})"
   ]
  },
  {
   "cell_type": "code",
   "execution_count": 176,
   "metadata": {},
   "outputs": [
    {
     "data": {
      "text/html": [
       "<div>\n",
       "<style>\n",
       "    .dataframe thead tr:only-child th {\n",
       "        text-align: right;\n",
       "    }\n",
       "\n",
       "    .dataframe thead th {\n",
       "        text-align: left;\n",
       "    }\n",
       "\n",
       "    .dataframe tbody tr th {\n",
       "        vertical-align: top;\n",
       "    }\n",
       "</style>\n",
       "<table border=\"1\" class=\"dataframe\">\n",
       "  <thead>\n",
       "    <tr style=\"text-align: right;\">\n",
       "      <th></th>\n",
       "      <th>cat</th>\n",
       "      <th>rf</th>\n",
       "    </tr>\n",
       "  </thead>\n",
       "  <tbody>\n",
       "    <tr>\n",
       "      <th>0</th>\n",
       "      <td>0.026163</td>\n",
       "      <td>0.042862</td>\n",
       "    </tr>\n",
       "    <tr>\n",
       "      <th>1</th>\n",
       "      <td>0.002260</td>\n",
       "      <td>0.004394</td>\n",
       "    </tr>\n",
       "    <tr>\n",
       "      <th>2</th>\n",
       "      <td>0.983653</td>\n",
       "      <td>0.977700</td>\n",
       "    </tr>\n",
       "    <tr>\n",
       "      <th>3</th>\n",
       "      <td>0.468239</td>\n",
       "      <td>0.822475</td>\n",
       "    </tr>\n",
       "    <tr>\n",
       "      <th>4</th>\n",
       "      <td>0.936519</td>\n",
       "      <td>0.825355</td>\n",
       "    </tr>\n",
       "    <tr>\n",
       "      <th>5</th>\n",
       "      <td>0.807923</td>\n",
       "      <td>0.803723</td>\n",
       "    </tr>\n",
       "    <tr>\n",
       "      <th>6</th>\n",
       "      <td>0.254021</td>\n",
       "      <td>0.417209</td>\n",
       "    </tr>\n",
       "    <tr>\n",
       "      <th>7</th>\n",
       "      <td>0.733717</td>\n",
       "      <td>0.689935</td>\n",
       "    </tr>\n",
       "    <tr>\n",
       "      <th>8</th>\n",
       "      <td>0.998590</td>\n",
       "      <td>0.980608</td>\n",
       "    </tr>\n",
       "    <tr>\n",
       "      <th>9</th>\n",
       "      <td>0.798151</td>\n",
       "      <td>0.722484</td>\n",
       "    </tr>\n",
       "    <tr>\n",
       "      <th>10</th>\n",
       "      <td>0.064794</td>\n",
       "      <td>0.103635</td>\n",
       "    </tr>\n",
       "    <tr>\n",
       "      <th>11</th>\n",
       "      <td>0.172288</td>\n",
       "      <td>0.205276</td>\n",
       "    </tr>\n",
       "    <tr>\n",
       "      <th>12</th>\n",
       "      <td>0.476107</td>\n",
       "      <td>0.475522</td>\n",
       "    </tr>\n",
       "    <tr>\n",
       "      <th>13</th>\n",
       "      <td>0.008517</td>\n",
       "      <td>0.015260</td>\n",
       "    </tr>\n",
       "    <tr>\n",
       "      <th>14</th>\n",
       "      <td>0.147618</td>\n",
       "      <td>0.053983</td>\n",
       "    </tr>\n",
       "    <tr>\n",
       "      <th>15</th>\n",
       "      <td>0.011217</td>\n",
       "      <td>0.010907</td>\n",
       "    </tr>\n",
       "    <tr>\n",
       "      <th>16</th>\n",
       "      <td>0.727783</td>\n",
       "      <td>0.551462</td>\n",
       "    </tr>\n",
       "    <tr>\n",
       "      <th>17</th>\n",
       "      <td>0.995063</td>\n",
       "      <td>0.992576</td>\n",
       "    </tr>\n",
       "    <tr>\n",
       "      <th>18</th>\n",
       "      <td>0.986902</td>\n",
       "      <td>0.972264</td>\n",
       "    </tr>\n",
       "    <tr>\n",
       "      <th>19</th>\n",
       "      <td>0.832424</td>\n",
       "      <td>0.662361</td>\n",
       "    </tr>\n",
       "    <tr>\n",
       "      <th>20</th>\n",
       "      <td>0.997376</td>\n",
       "      <td>0.985339</td>\n",
       "    </tr>\n",
       "    <tr>\n",
       "      <th>21</th>\n",
       "      <td>0.047483</td>\n",
       "      <td>0.037273</td>\n",
       "    </tr>\n",
       "    <tr>\n",
       "      <th>22</th>\n",
       "      <td>0.943002</td>\n",
       "      <td>0.961031</td>\n",
       "    </tr>\n",
       "    <tr>\n",
       "      <th>23</th>\n",
       "      <td>0.083517</td>\n",
       "      <td>0.046215</td>\n",
       "    </tr>\n",
       "    <tr>\n",
       "      <th>24</th>\n",
       "      <td>0.481601</td>\n",
       "      <td>0.418792</td>\n",
       "    </tr>\n",
       "    <tr>\n",
       "      <th>25</th>\n",
       "      <td>0.763605</td>\n",
       "      <td>0.477323</td>\n",
       "    </tr>\n",
       "    <tr>\n",
       "      <th>26</th>\n",
       "      <td>0.094621</td>\n",
       "      <td>0.146689</td>\n",
       "    </tr>\n",
       "    <tr>\n",
       "      <th>27</th>\n",
       "      <td>0.174403</td>\n",
       "      <td>0.381565</td>\n",
       "    </tr>\n",
       "    <tr>\n",
       "      <th>28</th>\n",
       "      <td>0.449405</td>\n",
       "      <td>0.655266</td>\n",
       "    </tr>\n",
       "    <tr>\n",
       "      <th>29</th>\n",
       "      <td>0.732581</td>\n",
       "      <td>0.621348</td>\n",
       "    </tr>\n",
       "    <tr>\n",
       "      <th>...</th>\n",
       "      <td>...</td>\n",
       "      <td>...</td>\n",
       "    </tr>\n",
       "    <tr>\n",
       "      <th>149970</th>\n",
       "      <td>0.006976</td>\n",
       "      <td>0.011938</td>\n",
       "    </tr>\n",
       "    <tr>\n",
       "      <th>149971</th>\n",
       "      <td>0.465010</td>\n",
       "      <td>0.667657</td>\n",
       "    </tr>\n",
       "    <tr>\n",
       "      <th>149972</th>\n",
       "      <td>0.013756</td>\n",
       "      <td>0.058737</td>\n",
       "    </tr>\n",
       "    <tr>\n",
       "      <th>149973</th>\n",
       "      <td>0.093754</td>\n",
       "      <td>0.251409</td>\n",
       "    </tr>\n",
       "    <tr>\n",
       "      <th>149974</th>\n",
       "      <td>0.003167</td>\n",
       "      <td>0.010942</td>\n",
       "    </tr>\n",
       "    <tr>\n",
       "      <th>149975</th>\n",
       "      <td>0.735229</td>\n",
       "      <td>0.862192</td>\n",
       "    </tr>\n",
       "    <tr>\n",
       "      <th>149976</th>\n",
       "      <td>0.004282</td>\n",
       "      <td>0.005146</td>\n",
       "    </tr>\n",
       "    <tr>\n",
       "      <th>149977</th>\n",
       "      <td>0.516698</td>\n",
       "      <td>0.500050</td>\n",
       "    </tr>\n",
       "    <tr>\n",
       "      <th>149978</th>\n",
       "      <td>0.965913</td>\n",
       "      <td>0.959334</td>\n",
       "    </tr>\n",
       "    <tr>\n",
       "      <th>149979</th>\n",
       "      <td>0.921328</td>\n",
       "      <td>0.798956</td>\n",
       "    </tr>\n",
       "    <tr>\n",
       "      <th>149980</th>\n",
       "      <td>0.795657</td>\n",
       "      <td>0.643502</td>\n",
       "    </tr>\n",
       "    <tr>\n",
       "      <th>149981</th>\n",
       "      <td>0.965440</td>\n",
       "      <td>0.952300</td>\n",
       "    </tr>\n",
       "    <tr>\n",
       "      <th>149982</th>\n",
       "      <td>0.767402</td>\n",
       "      <td>0.769534</td>\n",
       "    </tr>\n",
       "    <tr>\n",
       "      <th>149983</th>\n",
       "      <td>0.600957</td>\n",
       "      <td>0.627287</td>\n",
       "    </tr>\n",
       "    <tr>\n",
       "      <th>149984</th>\n",
       "      <td>0.002890</td>\n",
       "      <td>0.005368</td>\n",
       "    </tr>\n",
       "    <tr>\n",
       "      <th>149985</th>\n",
       "      <td>0.828354</td>\n",
       "      <td>0.780314</td>\n",
       "    </tr>\n",
       "    <tr>\n",
       "      <th>149986</th>\n",
       "      <td>0.017961</td>\n",
       "      <td>0.006496</td>\n",
       "    </tr>\n",
       "    <tr>\n",
       "      <th>149987</th>\n",
       "      <td>0.361006</td>\n",
       "      <td>0.626741</td>\n",
       "    </tr>\n",
       "    <tr>\n",
       "      <th>149988</th>\n",
       "      <td>0.021641</td>\n",
       "      <td>0.011605</td>\n",
       "    </tr>\n",
       "    <tr>\n",
       "      <th>149989</th>\n",
       "      <td>0.234583</td>\n",
       "      <td>0.144684</td>\n",
       "    </tr>\n",
       "    <tr>\n",
       "      <th>149990</th>\n",
       "      <td>0.964949</td>\n",
       "      <td>0.940589</td>\n",
       "    </tr>\n",
       "    <tr>\n",
       "      <th>149991</th>\n",
       "      <td>0.060884</td>\n",
       "      <td>0.023664</td>\n",
       "    </tr>\n",
       "    <tr>\n",
       "      <th>149992</th>\n",
       "      <td>0.057031</td>\n",
       "      <td>0.046863</td>\n",
       "    </tr>\n",
       "    <tr>\n",
       "      <th>149993</th>\n",
       "      <td>0.995857</td>\n",
       "      <td>0.992513</td>\n",
       "    </tr>\n",
       "    <tr>\n",
       "      <th>149994</th>\n",
       "      <td>0.358976</td>\n",
       "      <td>0.236413</td>\n",
       "    </tr>\n",
       "    <tr>\n",
       "      <th>149995</th>\n",
       "      <td>0.030404</td>\n",
       "      <td>0.082121</td>\n",
       "    </tr>\n",
       "    <tr>\n",
       "      <th>149996</th>\n",
       "      <td>0.355724</td>\n",
       "      <td>0.372920</td>\n",
       "    </tr>\n",
       "    <tr>\n",
       "      <th>149997</th>\n",
       "      <td>0.979979</td>\n",
       "      <td>0.959002</td>\n",
       "    </tr>\n",
       "    <tr>\n",
       "      <th>149998</th>\n",
       "      <td>0.005333</td>\n",
       "      <td>0.006200</td>\n",
       "    </tr>\n",
       "    <tr>\n",
       "      <th>149999</th>\n",
       "      <td>0.002617</td>\n",
       "      <td>0.004543</td>\n",
       "    </tr>\n",
       "  </tbody>\n",
       "</table>\n",
       "<p>150000 rows × 2 columns</p>\n",
       "</div>"
      ],
      "text/plain": [
       "             cat        rf\n",
       "0       0.026163  0.042862\n",
       "1       0.002260  0.004394\n",
       "2       0.983653  0.977700\n",
       "3       0.468239  0.822475\n",
       "4       0.936519  0.825355\n",
       "5       0.807923  0.803723\n",
       "6       0.254021  0.417209\n",
       "7       0.733717  0.689935\n",
       "8       0.998590  0.980608\n",
       "9       0.798151  0.722484\n",
       "10      0.064794  0.103635\n",
       "11      0.172288  0.205276\n",
       "12      0.476107  0.475522\n",
       "13      0.008517  0.015260\n",
       "14      0.147618  0.053983\n",
       "15      0.011217  0.010907\n",
       "16      0.727783  0.551462\n",
       "17      0.995063  0.992576\n",
       "18      0.986902  0.972264\n",
       "19      0.832424  0.662361\n",
       "20      0.997376  0.985339\n",
       "21      0.047483  0.037273\n",
       "22      0.943002  0.961031\n",
       "23      0.083517  0.046215\n",
       "24      0.481601  0.418792\n",
       "25      0.763605  0.477323\n",
       "26      0.094621  0.146689\n",
       "27      0.174403  0.381565\n",
       "28      0.449405  0.655266\n",
       "29      0.732581  0.621348\n",
       "...          ...       ...\n",
       "149970  0.006976  0.011938\n",
       "149971  0.465010  0.667657\n",
       "149972  0.013756  0.058737\n",
       "149973  0.093754  0.251409\n",
       "149974  0.003167  0.010942\n",
       "149975  0.735229  0.862192\n",
       "149976  0.004282  0.005146\n",
       "149977  0.516698  0.500050\n",
       "149978  0.965913  0.959334\n",
       "149979  0.921328  0.798956\n",
       "149980  0.795657  0.643502\n",
       "149981  0.965440  0.952300\n",
       "149982  0.767402  0.769534\n",
       "149983  0.600957  0.627287\n",
       "149984  0.002890  0.005368\n",
       "149985  0.828354  0.780314\n",
       "149986  0.017961  0.006496\n",
       "149987  0.361006  0.626741\n",
       "149988  0.021641  0.011605\n",
       "149989  0.234583  0.144684\n",
       "149990  0.964949  0.940589\n",
       "149991  0.060884  0.023664\n",
       "149992  0.057031  0.046863\n",
       "149993  0.995857  0.992513\n",
       "149994  0.358976  0.236413\n",
       "149995  0.030404  0.082121\n",
       "149996  0.355724  0.372920\n",
       "149997  0.979979  0.959002\n",
       "149998  0.005333  0.006200\n",
       "149999  0.002617  0.004543\n",
       "\n",
       "[150000 rows x 2 columns]"
      ]
     },
     "execution_count": 176,
     "metadata": {},
     "output_type": "execute_result"
    }
   ],
   "source": [
    "stack_cv_val"
   ]
  },
  {
   "cell_type": "code",
   "execution_count": 180,
   "metadata": {},
   "outputs": [],
   "source": [
    "stack_new_feats_2 = LogisticRegression(C=1)"
   ]
  },
  {
   "cell_type": "code",
   "execution_count": 181,
   "metadata": {},
   "outputs": [
    {
     "data": {
      "text/plain": [
       "LogisticRegression(C=1, class_weight=None, dual=False, fit_intercept=True,\n",
       "          intercept_scaling=1, max_iter=100, multi_class='ovr', n_jobs=1,\n",
       "          penalty='l2', random_state=None, solver='liblinear', tol=0.0001,\n",
       "          verbose=0, warm_start=False)"
      ]
     },
     "execution_count": 181,
     "metadata": {},
     "output_type": "execute_result"
    }
   ],
   "source": [
    "stack_new_feats_2.fit(stack_cv_train, train_cv['class'])"
   ]
  },
  {
   "cell_type": "code",
   "execution_count": 182,
   "metadata": {},
   "outputs": [
    {
     "data": {
      "text/plain": [
       "0.9064711111111111"
      ]
     },
     "execution_count": 182,
     "metadata": {},
     "output_type": "execute_result"
    }
   ],
   "source": [
    "stack_new_feats_2.score(stack_cv_train, train_cv['class'])"
   ]
  },
  {
   "cell_type": "code",
   "execution_count": 188,
   "metadata": {},
   "outputs": [],
   "source": [
    "val_check = stack_new_feats_2.predict(stack_cv_val)"
   ]
  },
  {
   "cell_type": "code",
   "execution_count": 186,
   "metadata": {},
   "outputs": [],
   "source": [
    "stack_cv_val_pred = stack_cv_val.copy()"
   ]
  },
  {
   "cell_type": "code",
   "execution_count": 187,
   "metadata": {},
   "outputs": [],
   "source": [
    "stack_cv_val[stack_cv_val>0.5] = 1\n",
    "stack_cv_val[stack_cv_val<=0.5] = 0"
   ]
  },
  {
   "cell_type": "code",
   "execution_count": 189,
   "metadata": {},
   "outputs": [
    {
     "data": {
      "text/plain": [
       "0"
      ]
     },
     "execution_count": 189,
     "metadata": {},
     "output_type": "execute_result"
    }
   ],
   "source": [
    "sum(stack_cv_val['cat']!=val_check)"
   ]
  },
  {
   "cell_type": "code",
   "execution_count": null,
   "metadata": {},
   "outputs": [],
   "source": []
  },
  {
   "cell_type": "code",
   "execution_count": 108,
   "metadata": {},
   "outputs": [],
   "source": [
    "from tqdm import tqdm"
   ]
  },
  {
   "cell_type": "code",
   "execution_count": 111,
   "metadata": {},
   "outputs": [
    {
     "name": "stderr",
     "output_type": "stream",
     "text": [
      "100%|██████████| 10/10 [00:04<00:00,  2.31it/s]\n"
     ]
    }
   ],
   "source": [
    "best_alpha = 0.5\n",
    "alphas = np.arange(0,1,0.1)\n",
    "temp_pred= val_check[:,1].copy()\n",
    "temp_pred[temp_pred>0.5] = 1\n",
    "temp_pred[temp_pred<=0.5] = 0\n",
    "best_accuracy = sum(temp_pred == val_cv['class'])/len(val_cv)\n",
    "for alpha in tqdm(alphas):\n",
    "    temp_pred = val_check[:,1].copy()\n",
    "    temp_pred[temp_pred >= alpha] = 1\n",
    "    temp_pred[temp_pred < alpha] = 0\n",
    "    temp_accuracy = sum(temp_pred == val_cv['class'])/len(val_cv)\n",
    "    if (temp_accuracy > best_accuracy):\n",
    "        best_alpha= alpha\n",
    "        best_accuracy = temp_accuracy\n",
    "        print(best_accuracy)"
   ]
  },
  {
   "cell_type": "code",
   "execution_count": 112,
   "metadata": {},
   "outputs": [
    {
     "data": {
      "text/plain": [
       "0.90436"
      ]
     },
     "execution_count": 112,
     "metadata": {},
     "output_type": "execute_result"
    }
   ],
   "source": [
    "best_accuracy"
   ]
  },
  {
   "cell_type": "code",
   "execution_count": null,
   "metadata": {},
   "outputs": [],
   "source": [
    "#Training full, looks like a big one."
   ]
  },
  {
   "cell_type": "code",
   "execution_count": 137,
   "metadata": {},
   "outputs": [],
   "source": [
    "params1_full = {'iterations':98, 'learning_rate':0.2, 'depth':8,'eval_metric':'Accuracy','random_seed':333,'use_best_model':True,'early_stopping_rounds':30,\n",
    "          'thread_count':5}"
   ]
  },
  {
   "cell_type": "code",
   "execution_count": 152,
   "metadata": {},
   "outputs": [
    {
     "name": "stdout",
     "output_type": "stream",
     "text": [
      "0:\tlearn: 0.8792733\ttest: 0.8792733\tbest: 0.8792733 (0)\ttotal: 303ms\tremaining: 29.4s\n",
      "1:\tlearn: 0.8836983\ttest: 0.8836983\tbest: 0.8836983 (1)\ttotal: 645ms\tremaining: 31s\n",
      "2:\tlearn: 0.8880617\ttest: 0.8880617\tbest: 0.8880617 (2)\ttotal: 1.03s\tremaining: 32.5s\n",
      "3:\tlearn: 0.8901483\ttest: 0.8901483\tbest: 0.8901483 (3)\ttotal: 1.3s\tremaining: 30.5s\n",
      "4:\tlearn: 0.8916233\ttest: 0.8916233\tbest: 0.8916233 (4)\ttotal: 1.61s\tremaining: 30s\n",
      "5:\tlearn: 0.8934350\ttest: 0.8934350\tbest: 0.8934350 (5)\ttotal: 1.85s\tremaining: 28.4s\n",
      "6:\tlearn: 0.8942867\ttest: 0.8942867\tbest: 0.8942867 (6)\ttotal: 2.14s\tremaining: 27.8s\n",
      "7:\tlearn: 0.8949567\ttest: 0.8949567\tbest: 0.8949567 (7)\ttotal: 2.38s\tremaining: 26.8s\n",
      "8:\tlearn: 0.8959400\ttest: 0.8959400\tbest: 0.8959400 (8)\ttotal: 2.63s\tremaining: 26s\n",
      "9:\tlearn: 0.8965150\ttest: 0.8965150\tbest: 0.8965150 (9)\ttotal: 2.94s\tremaining: 25.9s\n",
      "10:\tlearn: 0.8980633\ttest: 0.8980633\tbest: 0.8980633 (10)\ttotal: 3.17s\tremaining: 25.1s\n",
      "11:\tlearn: 0.8992367\ttest: 0.8992367\tbest: 0.8992367 (11)\ttotal: 3.42s\tremaining: 24.5s\n",
      "12:\tlearn: 0.8998750\ttest: 0.8998750\tbest: 0.8998750 (12)\ttotal: 3.67s\tremaining: 24s\n",
      "13:\tlearn: 0.9002900\ttest: 0.9002900\tbest: 0.9002900 (13)\ttotal: 3.94s\tremaining: 23.6s\n",
      "14:\tlearn: 0.9006683\ttest: 0.9006683\tbest: 0.9006683 (14)\ttotal: 4.2s\tremaining: 23.2s\n",
      "15:\tlearn: 0.9009950\ttest: 0.9009950\tbest: 0.9009950 (15)\ttotal: 4.44s\tremaining: 22.8s\n",
      "16:\tlearn: 0.9017083\ttest: 0.9017083\tbest: 0.9017083 (16)\ttotal: 4.72s\tremaining: 22.5s\n",
      "17:\tlearn: 0.9017800\ttest: 0.9017800\tbest: 0.9017800 (17)\ttotal: 4.99s\tremaining: 22.2s\n",
      "18:\tlearn: 0.9019300\ttest: 0.9019300\tbest: 0.9019300 (18)\ttotal: 5.24s\tremaining: 21.8s\n",
      "19:\tlearn: 0.9021250\ttest: 0.9021250\tbest: 0.9021250 (19)\ttotal: 5.5s\tremaining: 21.5s\n",
      "20:\tlearn: 0.9024267\ttest: 0.9024267\tbest: 0.9024267 (20)\ttotal: 5.75s\tremaining: 21.1s\n",
      "21:\tlearn: 0.9025900\ttest: 0.9025900\tbest: 0.9025900 (21)\ttotal: 6.02s\tremaining: 20.8s\n",
      "22:\tlearn: 0.9026417\ttest: 0.9026417\tbest: 0.9026417 (22)\ttotal: 6.26s\tremaining: 20.4s\n",
      "23:\tlearn: 0.9027917\ttest: 0.9027917\tbest: 0.9027917 (23)\ttotal: 6.53s\tremaining: 20.1s\n",
      "24:\tlearn: 0.9028517\ttest: 0.9028517\tbest: 0.9028517 (24)\ttotal: 6.77s\tremaining: 19.8s\n",
      "25:\tlearn: 0.9029600\ttest: 0.9029600\tbest: 0.9029600 (25)\ttotal: 7.04s\tremaining: 19.5s\n",
      "26:\tlearn: 0.9031450\ttest: 0.9031450\tbest: 0.9031450 (26)\ttotal: 7.29s\tremaining: 19.2s\n",
      "27:\tlearn: 0.9032183\ttest: 0.9032183\tbest: 0.9032183 (27)\ttotal: 7.58s\tremaining: 19s\n",
      "28:\tlearn: 0.9032917\ttest: 0.9032917\tbest: 0.9032917 (28)\ttotal: 7.83s\tremaining: 18.6s\n",
      "29:\tlearn: 0.9032933\ttest: 0.9032933\tbest: 0.9032933 (29)\ttotal: 8.09s\tremaining: 18.3s\n",
      "30:\tlearn: 0.9033683\ttest: 0.9033683\tbest: 0.9033683 (30)\ttotal: 8.34s\tremaining: 18s\n",
      "31:\tlearn: 0.9034867\ttest: 0.9034867\tbest: 0.9034867 (31)\ttotal: 8.59s\tremaining: 17.7s\n",
      "32:\tlearn: 0.9037033\ttest: 0.9037033\tbest: 0.9037033 (32)\ttotal: 8.84s\tremaining: 17.4s\n",
      "33:\tlearn: 0.9036883\ttest: 0.9036883\tbest: 0.9037033 (32)\ttotal: 9.1s\tremaining: 17.1s\n",
      "34:\tlearn: 0.9036833\ttest: 0.9036833\tbest: 0.9037033 (32)\ttotal: 9.35s\tremaining: 16.8s\n",
      "35:\tlearn: 0.9037467\ttest: 0.9037467\tbest: 0.9037467 (35)\ttotal: 9.63s\tremaining: 16.6s\n",
      "36:\tlearn: 0.9038300\ttest: 0.9038300\tbest: 0.9038300 (36)\ttotal: 9.88s\tremaining: 16.3s\n",
      "37:\tlearn: 0.9039267\ttest: 0.9039267\tbest: 0.9039267 (37)\ttotal: 10.2s\tremaining: 16s\n",
      "38:\tlearn: 0.9039150\ttest: 0.9039150\tbest: 0.9039267 (37)\ttotal: 10.4s\tremaining: 15.7s\n",
      "39:\tlearn: 0.9039817\ttest: 0.9039817\tbest: 0.9039817 (39)\ttotal: 10.6s\tremaining: 15.4s\n",
      "40:\tlearn: 0.9040217\ttest: 0.9040217\tbest: 0.9040217 (40)\ttotal: 10.9s\tremaining: 15.1s\n",
      "41:\tlearn: 0.9041150\ttest: 0.9041150\tbest: 0.9041150 (41)\ttotal: 11.1s\tremaining: 14.9s\n",
      "42:\tlearn: 0.9041450\ttest: 0.9041450\tbest: 0.9041450 (42)\ttotal: 11.4s\tremaining: 14.6s\n",
      "43:\tlearn: 0.9042233\ttest: 0.9042233\tbest: 0.9042233 (43)\ttotal: 11.7s\tremaining: 14.3s\n",
      "44:\tlearn: 0.9043117\ttest: 0.9043117\tbest: 0.9043117 (44)\ttotal: 11.9s\tremaining: 14s\n",
      "45:\tlearn: 0.9043833\ttest: 0.9043833\tbest: 0.9043833 (45)\ttotal: 12.2s\tremaining: 13.8s\n",
      "46:\tlearn: 0.9044267\ttest: 0.9044267\tbest: 0.9044267 (46)\ttotal: 12.4s\tremaining: 13.5s\n",
      "47:\tlearn: 0.9044450\ttest: 0.9044450\tbest: 0.9044450 (47)\ttotal: 12.7s\tremaining: 13.2s\n",
      "48:\tlearn: 0.9044783\ttest: 0.9044783\tbest: 0.9044783 (48)\ttotal: 12.9s\tremaining: 12.9s\n",
      "49:\tlearn: 0.9045333\ttest: 0.9045333\tbest: 0.9045333 (49)\ttotal: 13.2s\tremaining: 12.7s\n",
      "50:\tlearn: 0.9045083\ttest: 0.9045083\tbest: 0.9045333 (49)\ttotal: 13.4s\tremaining: 12.4s\n",
      "51:\tlearn: 0.9045733\ttest: 0.9045733\tbest: 0.9045733 (51)\ttotal: 13.7s\tremaining: 12.1s\n",
      "52:\tlearn: 0.9046250\ttest: 0.9046250\tbest: 0.9046250 (52)\ttotal: 14s\tremaining: 11.9s\n",
      "53:\tlearn: 0.9046917\ttest: 0.9046917\tbest: 0.9046917 (53)\ttotal: 14.2s\tremaining: 11.6s\n",
      "54:\tlearn: 0.9047683\ttest: 0.9047683\tbest: 0.9047683 (54)\ttotal: 14.5s\tremaining: 11.3s\n",
      "55:\tlearn: 0.9048200\ttest: 0.9048200\tbest: 0.9048200 (55)\ttotal: 14.7s\tremaining: 11s\n",
      "56:\tlearn: 0.9048600\ttest: 0.9048600\tbest: 0.9048600 (56)\ttotal: 15s\tremaining: 10.8s\n",
      "57:\tlearn: 0.9048283\ttest: 0.9048283\tbest: 0.9048600 (56)\ttotal: 15.3s\tremaining: 10.5s\n",
      "58:\tlearn: 0.9048650\ttest: 0.9048650\tbest: 0.9048650 (58)\ttotal: 15.5s\tremaining: 10.2s\n",
      "59:\tlearn: 0.9048750\ttest: 0.9048750\tbest: 0.9048750 (59)\ttotal: 15.7s\tremaining: 9.96s\n",
      "60:\tlearn: 0.9048867\ttest: 0.9048867\tbest: 0.9048867 (60)\ttotal: 16s\tremaining: 9.71s\n",
      "61:\tlearn: 0.9049200\ttest: 0.9049200\tbest: 0.9049200 (61)\ttotal: 16.2s\tremaining: 9.43s\n",
      "62:\tlearn: 0.9049600\ttest: 0.9049600\tbest: 0.9049600 (62)\ttotal: 16.5s\tremaining: 9.16s\n",
      "63:\tlearn: 0.9049683\ttest: 0.9049683\tbest: 0.9049683 (63)\ttotal: 16.7s\tremaining: 8.89s\n",
      "64:\tlearn: 0.9049983\ttest: 0.9049983\tbest: 0.9049983 (64)\ttotal: 17s\tremaining: 8.63s\n",
      "65:\tlearn: 0.9049783\ttest: 0.9049783\tbest: 0.9049983 (64)\ttotal: 17.2s\tremaining: 8.36s\n",
      "66:\tlearn: 0.9050150\ttest: 0.9050150\tbest: 0.9050150 (66)\ttotal: 17.5s\tremaining: 8.1s\n",
      "67:\tlearn: 0.9050700\ttest: 0.9050700\tbest: 0.9050700 (67)\ttotal: 17.7s\tremaining: 7.82s\n",
      "68:\tlearn: 0.9051117\ttest: 0.9051117\tbest: 0.9051117 (68)\ttotal: 18s\tremaining: 7.56s\n",
      "69:\tlearn: 0.9051750\ttest: 0.9051750\tbest: 0.9051750 (69)\ttotal: 18.2s\tremaining: 7.29s\n",
      "70:\tlearn: 0.9051683\ttest: 0.9051683\tbest: 0.9051750 (69)\ttotal: 18.5s\tremaining: 7.04s\n",
      "71:\tlearn: 0.9052350\ttest: 0.9052350\tbest: 0.9052350 (71)\ttotal: 18.8s\tremaining: 6.77s\n",
      "72:\tlearn: 0.9052200\ttest: 0.9052200\tbest: 0.9052350 (71)\ttotal: 19s\tremaining: 6.5s\n",
      "73:\tlearn: 0.9052517\ttest: 0.9052517\tbest: 0.9052517 (73)\ttotal: 19.3s\tremaining: 6.25s\n",
      "74:\tlearn: 0.9052567\ttest: 0.9052567\tbest: 0.9052567 (74)\ttotal: 19.5s\tremaining: 5.98s\n",
      "75:\tlearn: 0.9052850\ttest: 0.9052850\tbest: 0.9052850 (75)\ttotal: 19.7s\tremaining: 5.72s\n",
      "76:\tlearn: 0.9053417\ttest: 0.9053417\tbest: 0.9053417 (76)\ttotal: 20s\tremaining: 5.46s\n",
      "77:\tlearn: 0.9053267\ttest: 0.9053267\tbest: 0.9053417 (76)\ttotal: 20.2s\tremaining: 5.19s\n",
      "78:\tlearn: 0.9053450\ttest: 0.9053450\tbest: 0.9053450 (78)\ttotal: 20.5s\tremaining: 4.93s\n",
      "79:\tlearn: 0.9053750\ttest: 0.9053750\tbest: 0.9053750 (79)\ttotal: 20.7s\tremaining: 4.67s\n",
      "80:\tlearn: 0.9054133\ttest: 0.9054133\tbest: 0.9054133 (80)\ttotal: 21s\tremaining: 4.41s\n",
      "81:\tlearn: 0.9054650\ttest: 0.9054650\tbest: 0.9054650 (81)\ttotal: 21.2s\tremaining: 4.14s\n",
      "82:\tlearn: 0.9055233\ttest: 0.9055233\tbest: 0.9055233 (82)\ttotal: 21.5s\tremaining: 3.88s\n",
      "83:\tlearn: 0.9054983\ttest: 0.9054983\tbest: 0.9055233 (82)\ttotal: 21.7s\tremaining: 3.62s\n",
      "84:\tlearn: 0.9055483\ttest: 0.9055483\tbest: 0.9055483 (84)\ttotal: 22s\tremaining: 3.36s\n",
      "85:\tlearn: 0.9055733\ttest: 0.9055733\tbest: 0.9055733 (85)\ttotal: 22.2s\tremaining: 3.1s\n",
      "86:\tlearn: 0.9056067\ttest: 0.9056067\tbest: 0.9056067 (86)\ttotal: 22.5s\tremaining: 2.84s\n",
      "87:\tlearn: 0.9056967\ttest: 0.9056967\tbest: 0.9056967 (87)\ttotal: 22.7s\tremaining: 2.58s\n",
      "88:\tlearn: 0.9056783\ttest: 0.9056783\tbest: 0.9056967 (87)\ttotal: 23s\tremaining: 2.32s\n",
      "89:\tlearn: 0.9056983\ttest: 0.9056983\tbest: 0.9056983 (89)\ttotal: 23.2s\tremaining: 2.06s\n",
      "90:\tlearn: 0.9057283\ttest: 0.9057283\tbest: 0.9057283 (90)\ttotal: 23.5s\tremaining: 1.8s\n",
      "91:\tlearn: 0.9057650\ttest: 0.9057650\tbest: 0.9057650 (91)\ttotal: 23.7s\tremaining: 1.55s\n",
      "92:\tlearn: 0.9057967\ttest: 0.9057967\tbest: 0.9057967 (92)\ttotal: 24s\tremaining: 1.29s\n",
      "93:\tlearn: 0.9058300\ttest: 0.9058300\tbest: 0.9058300 (93)\ttotal: 24.2s\tremaining: 1.03s\n"
     ]
    },
    {
     "name": "stdout",
     "output_type": "stream",
     "text": [
      "94:\tlearn: 0.9058550\ttest: 0.9058550\tbest: 0.9058550 (94)\ttotal: 24.5s\tremaining: 774ms\n",
      "95:\tlearn: 0.9058633\ttest: 0.9058633\tbest: 0.9058633 (95)\ttotal: 24.7s\tremaining: 515ms\n",
      "96:\tlearn: 0.9059117\ttest: 0.9059117\tbest: 0.9059117 (96)\ttotal: 25s\tremaining: 258ms\n",
      "97:\tlearn: 0.9059367\ttest: 0.9059367\tbest: 0.9059367 (97)\ttotal: 25.2s\tremaining: 0us\n",
      "\n",
      "bestTest = 0.9059366667\n",
      "bestIteration = 97\n",
      "\n"
     ]
    },
    {
     "data": {
      "text/plain": [
       "<catboost.core.CatBoostClassifier at 0x1257ffc50>"
      ]
     },
     "execution_count": 152,
     "metadata": {},
     "output_type": "execute_result"
    }
   ],
   "source": [
    "cat_full_3 = CatBoostClassifier(**params1_full)\n",
    "cat_full_3.fit(train_df.drop('class',axis = 1), train_df['class'],eval_set=(train_df.drop('class',axis = 1), train_df['class']),verbose = 1)"
   ]
  },
  {
   "cell_type": "code",
   "execution_count": 153,
   "metadata": {},
   "outputs": [],
   "source": [
    "#Making test with new features.\n",
    "test_df['is_rev_defect'] = (test_df['thal'] == 7)\n",
    "test_df['thal_max_heart_rate'] = test_df['thal']*test_df['maximum_heart_rate_achieved']\n",
    "test_df.drop(['big_mix'], axis = 1 , inplace = True)\n",
    "test_df['is_rev_defect'] = test_df['is_rev_defect'].astype(int)\n",
    "test_df.drop('chest', axis = 1 , inplace= True)"
   ]
  },
  {
   "cell_type": "code",
   "execution_count": 154,
   "metadata": {},
   "outputs": [],
   "source": [
    "test_df = test_df[train_df.drop('class', axis = 1).columns]"
   ]
  },
  {
   "cell_type": "code",
   "execution_count": 205,
   "metadata": {},
   "outputs": [
    {
     "data": {
      "text/html": [
       "<div>\n",
       "<style>\n",
       "    .dataframe thead tr:only-child th {\n",
       "        text-align: right;\n",
       "    }\n",
       "\n",
       "    .dataframe thead th {\n",
       "        text-align: left;\n",
       "    }\n",
       "\n",
       "    .dataframe tbody tr th {\n",
       "        vertical-align: top;\n",
       "    }\n",
       "</style>\n",
       "<table border=\"1\" class=\"dataframe\">\n",
       "  <thead>\n",
       "    <tr style=\"text-align: right;\">\n",
       "      <th></th>\n",
       "      <th>age</th>\n",
       "      <th>sex</th>\n",
       "      <th>resting_blood_pressure</th>\n",
       "      <th>serum_cholestoral</th>\n",
       "      <th>resting_electrocardiographic_results</th>\n",
       "      <th>maximum_heart_rate_achieved</th>\n",
       "      <th>exercise_induced_angina</th>\n",
       "      <th>oldpeak</th>\n",
       "      <th>slope</th>\n",
       "      <th>number_of_major_vessels</th>\n",
       "      <th>thal</th>\n",
       "      <th>age_sex</th>\n",
       "      <th>sex_chest</th>\n",
       "      <th>age_chest</th>\n",
       "      <th>cholestoral_age_sex</th>\n",
       "      <th>chest_cat_mean_enc</th>\n",
       "      <th>num_vessels_and_angina_less_one</th>\n",
       "      <th>oldpeak*slope</th>\n",
       "      <th>is_rev_defect</th>\n",
       "      <th>thal_max_heart_rate</th>\n",
       "    </tr>\n",
       "  </thead>\n",
       "  <tbody>\n",
       "    <tr>\n",
       "      <th>0</th>\n",
       "      <td>53.963191</td>\n",
       "      <td>1</td>\n",
       "      <td>136.940829</td>\n",
       "      <td>236.862814</td>\n",
       "      <td>2</td>\n",
       "      <td>143.961525</td>\n",
       "      <td>1</td>\n",
       "      <td>0.711100</td>\n",
       "      <td>1</td>\n",
       "      <td>2</td>\n",
       "      <td>7</td>\n",
       "      <td>53.963191</td>\n",
       "      <td>4.000000</td>\n",
       "      <td>215.852764</td>\n",
       "      <td>12781.873273</td>\n",
       "      <td>0.702450</td>\n",
       "      <td>0</td>\n",
       "      <td>0.711100</td>\n",
       "      <td>1</td>\n",
       "      <td>1007.730675</td>\n",
       "    </tr>\n",
       "    <tr>\n",
       "      <th>1</th>\n",
       "      <td>49.621479</td>\n",
       "      <td>1</td>\n",
       "      <td>122.024651</td>\n",
       "      <td>226.593019</td>\n",
       "      <td>2</td>\n",
       "      <td>112.220874</td>\n",
       "      <td>1</td>\n",
       "      <td>0.000000</td>\n",
       "      <td>1</td>\n",
       "      <td>1</td>\n",
       "      <td>7</td>\n",
       "      <td>49.621479</td>\n",
       "      <td>4.000000</td>\n",
       "      <td>198.485916</td>\n",
       "      <td>11243.880734</td>\n",
       "      <td>0.702450</td>\n",
       "      <td>0</td>\n",
       "      <td>0.000000</td>\n",
       "      <td>1</td>\n",
       "      <td>785.546118</td>\n",
       "    </tr>\n",
       "    <tr>\n",
       "      <th>2</th>\n",
       "      <td>36.933893</td>\n",
       "      <td>1</td>\n",
       "      <td>127.585643</td>\n",
       "      <td>351.061046</td>\n",
       "      <td>0</td>\n",
       "      <td>177.945922</td>\n",
       "      <td>0</td>\n",
       "      <td>0.313078</td>\n",
       "      <td>1</td>\n",
       "      <td>0</td>\n",
       "      <td>7</td>\n",
       "      <td>36.933893</td>\n",
       "      <td>1.300924</td>\n",
       "      <td>48.048188</td>\n",
       "      <td>12966.051109</td>\n",
       "      <td>0.197894</td>\n",
       "      <td>1</td>\n",
       "      <td>0.313078</td>\n",
       "      <td>1</td>\n",
       "      <td>1245.621454</td>\n",
       "    </tr>\n",
       "    <tr>\n",
       "      <th>3</th>\n",
       "      <td>54.884588</td>\n",
       "      <td>1</td>\n",
       "      <td>124.876745</td>\n",
       "      <td>250.370530</td>\n",
       "      <td>0</td>\n",
       "      <td>153.176526</td>\n",
       "      <td>0</td>\n",
       "      <td>0.308277</td>\n",
       "      <td>1</td>\n",
       "      <td>1</td>\n",
       "      <td>7</td>\n",
       "      <td>54.884588</td>\n",
       "      <td>3.000000</td>\n",
       "      <td>164.653764</td>\n",
       "      <td>13741.483386</td>\n",
       "      <td>0.219477</td>\n",
       "      <td>0</td>\n",
       "      <td>0.308277</td>\n",
       "      <td>1</td>\n",
       "      <td>1072.235682</td>\n",
       "    </tr>\n",
       "    <tr>\n",
       "      <th>4</th>\n",
       "      <td>71.016392</td>\n",
       "      <td>0</td>\n",
       "      <td>120.922600</td>\n",
       "      <td>210.979710</td>\n",
       "      <td>0</td>\n",
       "      <td>164.573122</td>\n",
       "      <td>0</td>\n",
       "      <td>1.021370</td>\n",
       "      <td>1</td>\n",
       "      <td>1</td>\n",
       "      <td>3</td>\n",
       "      <td>0.000000</td>\n",
       "      <td>0.000000</td>\n",
       "      <td>124.063648</td>\n",
       "      <td>0.000000</td>\n",
       "      <td>0.197894</td>\n",
       "      <td>0</td>\n",
       "      <td>1.021370</td>\n",
       "      <td>0</td>\n",
       "      <td>493.719366</td>\n",
       "    </tr>\n",
       "  </tbody>\n",
       "</table>\n",
       "</div>"
      ],
      "text/plain": [
       "         age  sex  resting_blood_pressure  serum_cholestoral  \\\n",
       "0  53.963191    1              136.940829         236.862814   \n",
       "1  49.621479    1              122.024651         226.593019   \n",
       "2  36.933893    1              127.585643         351.061046   \n",
       "3  54.884588    1              124.876745         250.370530   \n",
       "4  71.016392    0              120.922600         210.979710   \n",
       "\n",
       "   resting_electrocardiographic_results  maximum_heart_rate_achieved  \\\n",
       "0                                     2                   143.961525   \n",
       "1                                     2                   112.220874   \n",
       "2                                     0                   177.945922   \n",
       "3                                     0                   153.176526   \n",
       "4                                     0                   164.573122   \n",
       "\n",
       "   exercise_induced_angina   oldpeak  slope  number_of_major_vessels  thal  \\\n",
       "0                        1  0.711100      1                        2     7   \n",
       "1                        1  0.000000      1                        1     7   \n",
       "2                        0  0.313078      1                        0     7   \n",
       "3                        0  0.308277      1                        1     7   \n",
       "4                        0  1.021370      1                        1     3   \n",
       "\n",
       "     age_sex  sex_chest   age_chest  cholestoral_age_sex  chest_cat_mean_enc  \\\n",
       "0  53.963191   4.000000  215.852764         12781.873273            0.702450   \n",
       "1  49.621479   4.000000  198.485916         11243.880734            0.702450   \n",
       "2  36.933893   1.300924   48.048188         12966.051109            0.197894   \n",
       "3  54.884588   3.000000  164.653764         13741.483386            0.219477   \n",
       "4   0.000000   0.000000  124.063648             0.000000            0.197894   \n",
       "\n",
       "   num_vessels_and_angina_less_one  oldpeak*slope  is_rev_defect  \\\n",
       "0                                0       0.711100              1   \n",
       "1                                0       0.000000              1   \n",
       "2                                1       0.313078              1   \n",
       "3                                0       0.308277              1   \n",
       "4                                0       1.021370              0   \n",
       "\n",
       "   thal_max_heart_rate  \n",
       "0          1007.730675  \n",
       "1           785.546118  \n",
       "2          1245.621454  \n",
       "3          1072.235682  \n",
       "4           493.719366  "
      ]
     },
     "execution_count": 205,
     "metadata": {},
     "output_type": "execute_result"
    }
   ],
   "source": [
    "test_df.head()"
   ]
  },
  {
   "cell_type": "code",
   "execution_count": 155,
   "metadata": {},
   "outputs": [],
   "source": [
    "catboost_3_new_feat = cat_full_3.predict(test_df)"
   ]
  },
  {
   "cell_type": "code",
   "execution_count": 159,
   "metadata": {},
   "outputs": [],
   "source": [
    "catboost_3_new_feat = catboost_3_new_feat.astype(int)"
   ]
  },
  {
   "cell_type": "code",
   "execution_count": 160,
   "metadata": {},
   "outputs": [],
   "source": [
    "submit = pd.DataFrame({'ID': for_id['ID'], 'class':catboost_3_new_feat})\n",
    "submit.to_csv('catboost_3_new_feat.csv', index = False)"
   ]
  },
  {
   "cell_type": "code",
   "execution_count": 192,
   "metadata": {},
   "outputs": [
    {
     "data": {
      "text/plain": [
       "array([1, 2, 3])"
      ]
     },
     "execution_count": 192,
     "metadata": {},
     "output_type": "execute_result"
    }
   ],
   "source": [
    "np.unique(train_df['slope'])"
   ]
  },
  {
   "cell_type": "code",
   "execution_count": null,
   "metadata": {},
   "outputs": [],
   "source": [
    "#Make slope categorical and one-hot it."
   ]
  },
  {
   "cell_type": "code",
   "execution_count": 193,
   "metadata": {},
   "outputs": [],
   "source": [
    "train_df.loc[train_df['slope'] == 1, 'slope'] = 'A'\n",
    "train_df.loc[train_df['slope'] == 2, 'slope'] = 'B'\n",
    "train_df.loc[train_df['slope'] == 3, 'slope'] = 'C'"
   ]
  },
  {
   "cell_type": "code",
   "execution_count": 194,
   "metadata": {},
   "outputs": [],
   "source": [
    "train_df_dummy_slope = pd.get_dummies(train_df)"
   ]
  },
  {
   "cell_type": "code",
   "execution_count": 197,
   "metadata": {},
   "outputs": [],
   "source": [
    "train_cv_dummy_slope, val_cv_dummy_slope = train_test_split(train_df_dummy_slope)"
   ]
  },
  {
   "cell_type": "code",
   "execution_count": 200,
   "metadata": {},
   "outputs": [
    {
     "name": "stdout",
     "output_type": "stream",
     "text": [
      "0:\tlearn: 0.8893489\ttest: 0.8888533\tbest: 0.8888533 (0)\ttotal: 565ms\tremaining: 1h 34m 9s\n",
      "1:\tlearn: 0.8916400\ttest: 0.8903933\tbest: 0.8903933 (1)\ttotal: 1.09s\tremaining: 1h 30m 29s\n",
      "2:\tlearn: 0.8933000\ttest: 0.8924200\tbest: 0.8924200 (2)\ttotal: 1.36s\tremaining: 1h 15m 45s\n",
      "3:\tlearn: 0.8947644\ttest: 0.8932667\tbest: 0.8932667 (3)\ttotal: 1.86s\tremaining: 1h 17m 19s\n",
      "4:\tlearn: 0.8974000\ttest: 0.8958667\tbest: 0.8958667 (4)\ttotal: 2.38s\tremaining: 1h 19m 7s\n",
      "5:\tlearn: 0.8984733\ttest: 0.8970067\tbest: 0.8970067 (5)\ttotal: 2.85s\tremaining: 1h 19m 15s\n",
      "6:\tlearn: 0.8995111\ttest: 0.8984133\tbest: 0.8984133 (6)\ttotal: 3.32s\tremaining: 1h 19m 2s\n",
      "7:\tlearn: 0.9002422\ttest: 0.8986800\tbest: 0.8986800 (7)\ttotal: 3.79s\tremaining: 1h 18m 53s\n",
      "8:\tlearn: 0.9010356\ttest: 0.8989800\tbest: 0.8989800 (8)\ttotal: 4.24s\tremaining: 1h 18m 24s\n",
      "9:\tlearn: 0.9015978\ttest: 0.8992733\tbest: 0.8992733 (9)\ttotal: 4.67s\tremaining: 1h 17m 41s\n",
      "10:\tlearn: 0.9022178\ttest: 0.8997267\tbest: 0.8997267 (10)\ttotal: 5.11s\tremaining: 1h 17m 17s\n",
      "11:\tlearn: 0.9026000\ttest: 0.8998667\tbest: 0.8998667 (11)\ttotal: 5.54s\tremaining: 1h 16m 54s\n",
      "12:\tlearn: 0.9031356\ttest: 0.8999800\tbest: 0.8999800 (12)\ttotal: 6s\tremaining: 1h 16m 48s\n",
      "13:\tlearn: 0.9035600\ttest: 0.9001400\tbest: 0.9001400 (13)\ttotal: 6.45s\tremaining: 1h 16m 37s\n",
      "14:\tlearn: 0.9042844\ttest: 0.9008467\tbest: 0.9008467 (14)\ttotal: 6.82s\tremaining: 1h 15m 43s\n",
      "15:\tlearn: 0.9047689\ttest: 0.9011000\tbest: 0.9011000 (15)\ttotal: 7.24s\tremaining: 1h 15m 15s\n",
      "16:\tlearn: 0.9052022\ttest: 0.9015733\tbest: 0.9015733 (16)\ttotal: 7.62s\tremaining: 1h 14m 33s\n",
      "17:\tlearn: 0.9054044\ttest: 0.9015267\tbest: 0.9015733 (16)\ttotal: 8.09s\tremaining: 1h 14m 45s\n",
      "18:\tlearn: 0.9057089\ttest: 0.9016200\tbest: 0.9016200 (18)\ttotal: 8.54s\tremaining: 1h 14m 43s\n",
      "19:\tlearn: 0.9059111\ttest: 0.9017400\tbest: 0.9017400 (19)\ttotal: 9.13s\tremaining: 1h 15m 54s\n",
      "20:\tlearn: 0.9062022\ttest: 0.9015933\tbest: 0.9017400 (19)\ttotal: 9.62s\tremaining: 1h 16m 12s\n",
      "21:\tlearn: 0.9064711\ttest: 0.9020800\tbest: 0.9020800 (21)\ttotal: 10.1s\tremaining: 1h 15m 59s\n",
      "22:\tlearn: 0.9066933\ttest: 0.9020333\tbest: 0.9020800 (21)\ttotal: 10.5s\tremaining: 1h 15m 50s\n",
      "23:\tlearn: 0.9068689\ttest: 0.9020200\tbest: 0.9020800 (21)\ttotal: 10.9s\tremaining: 1h 15m 24s\n",
      "24:\tlearn: 0.9069578\ttest: 0.9021800\tbest: 0.9021800 (24)\ttotal: 11.3s\tremaining: 1h 15m 16s\n",
      "25:\tlearn: 0.9071733\ttest: 0.9020933\tbest: 0.9021800 (24)\ttotal: 11.8s\tremaining: 1h 15m 40s\n",
      "26:\tlearn: 0.9074911\ttest: 0.9020733\tbest: 0.9021800 (24)\ttotal: 12.3s\tremaining: 1h 15m 49s\n",
      "27:\tlearn: 0.9077511\ttest: 0.9021933\tbest: 0.9021933 (27)\ttotal: 12.8s\tremaining: 1h 16m\n",
      "28:\tlearn: 0.9079044\ttest: 0.9023200\tbest: 0.9023200 (28)\ttotal: 13.3s\tremaining: 1h 16m 6s\n",
      "29:\tlearn: 0.9080067\ttest: 0.9023533\tbest: 0.9023533 (29)\ttotal: 13.8s\tremaining: 1h 16m 10s\n",
      "30:\tlearn: 0.9081111\ttest: 0.9021800\tbest: 0.9023533 (29)\ttotal: 14.2s\tremaining: 1h 16m 5s\n",
      "31:\tlearn: 0.9083511\ttest: 0.9021867\tbest: 0.9023533 (29)\ttotal: 14.6s\tremaining: 1h 16m 3s\n",
      "32:\tlearn: 0.9084889\ttest: 0.9020600\tbest: 0.9023533 (29)\ttotal: 15.1s\tremaining: 1h 15m 46s\n",
      "33:\tlearn: 0.9086422\ttest: 0.9020467\tbest: 0.9023533 (29)\ttotal: 15.5s\tremaining: 1h 15m 46s\n",
      "34:\tlearn: 0.9089111\ttest: 0.9022467\tbest: 0.9023533 (29)\ttotal: 15.9s\tremaining: 1h 15m 38s\n",
      "35:\tlearn: 0.9090200\ttest: 0.9024800\tbest: 0.9024800 (35)\ttotal: 16.5s\tremaining: 1h 15m 59s\n",
      "36:\tlearn: 0.9091933\ttest: 0.9025067\tbest: 0.9025067 (36)\ttotal: 16.9s\tremaining: 1h 16m 1s\n",
      "37:\tlearn: 0.9092467\ttest: 0.9025733\tbest: 0.9025733 (37)\ttotal: 17.4s\tremaining: 1h 16m 4s\n",
      "38:\tlearn: 0.9094244\ttest: 0.9025533\tbest: 0.9025733 (37)\ttotal: 17.8s\tremaining: 1h 15m 44s\n",
      "39:\tlearn: 0.9095933\ttest: 0.9026533\tbest: 0.9026533 (39)\ttotal: 18.2s\tremaining: 1h 15m 33s\n",
      "40:\tlearn: 0.9097089\ttest: 0.9025467\tbest: 0.9026533 (39)\ttotal: 18.6s\tremaining: 1h 15m 21s\n",
      "41:\tlearn: 0.9098444\ttest: 0.9024267\tbest: 0.9026533 (39)\ttotal: 19s\tremaining: 1h 15m 12s\n",
      "42:\tlearn: 0.9100933\ttest: 0.9024467\tbest: 0.9026533 (39)\ttotal: 19.5s\tremaining: 1h 15m 6s\n",
      "43:\tlearn: 0.9102044\ttest: 0.9023800\tbest: 0.9026533 (39)\ttotal: 19.9s\tremaining: 1h 14m 54s\n",
      "44:\tlearn: 0.9104000\ttest: 0.9024333\tbest: 0.9026533 (39)\ttotal: 20.3s\tremaining: 1h 14m 48s\n",
      "45:\tlearn: 0.9105244\ttest: 0.9024733\tbest: 0.9026533 (39)\ttotal: 20.7s\tremaining: 1h 14m 40s\n",
      "46:\tlearn: 0.9107044\ttest: 0.9024267\tbest: 0.9026533 (39)\ttotal: 21.1s\tremaining: 1h 14m 30s\n",
      "47:\tlearn: 0.9109156\ttest: 0.9022667\tbest: 0.9026533 (39)\ttotal: 21.5s\tremaining: 1h 14m 25s\n",
      "48:\tlearn: 0.9110822\ttest: 0.9021933\tbest: 0.9026533 (39)\ttotal: 21.9s\tremaining: 1h 14m 15s\n",
      "49:\tlearn: 0.9112156\ttest: 0.9023400\tbest: 0.9026533 (39)\ttotal: 22.4s\tremaining: 1h 14m 10s\n",
      "50:\tlearn: 0.9113822\ttest: 0.9023133\tbest: 0.9026533 (39)\ttotal: 22.8s\tremaining: 1h 14m 3s\n",
      "51:\tlearn: 0.9114956\ttest: 0.9022267\tbest: 0.9026533 (39)\ttotal: 23.5s\tremaining: 1h 14m 48s\n",
      "52:\tlearn: 0.9116533\ttest: 0.9022733\tbest: 0.9026533 (39)\ttotal: 24s\tremaining: 1h 15m 1s\n",
      "53:\tlearn: 0.9120111\ttest: 0.9023067\tbest: 0.9026533 (39)\ttotal: 24.5s\tremaining: 1h 15m 7s\n",
      "54:\tlearn: 0.9121356\ttest: 0.9021467\tbest: 0.9026533 (39)\ttotal: 24.9s\tremaining: 1h 15m\n",
      "55:\tlearn: 0.9123133\ttest: 0.9021267\tbest: 0.9026533 (39)\ttotal: 25.3s\tremaining: 1h 14m 59s\n",
      "56:\tlearn: 0.9125244\ttest: 0.9019733\tbest: 0.9026533 (39)\ttotal: 25.8s\tremaining: 1h 15m 8s\n",
      "57:\tlearn: 0.9126756\ttest: 0.9018733\tbest: 0.9026533 (39)\ttotal: 26.3s\tremaining: 1h 15m 5s\n",
      "58:\tlearn: 0.9128756\ttest: 0.9019067\tbest: 0.9026533 (39)\ttotal: 26.7s\tremaining: 1h 15m 1s\n",
      "59:\tlearn: 0.9130244\ttest: 0.9019600\tbest: 0.9026533 (39)\ttotal: 27.2s\tremaining: 1h 15m 1s\n",
      "60:\tlearn: 0.9130933\ttest: 0.9020533\tbest: 0.9026533 (39)\ttotal: 28s\tremaining: 1h 15m 59s\n",
      "61:\tlearn: 0.9132511\ttest: 0.9021000\tbest: 0.9026533 (39)\ttotal: 28.6s\tremaining: 1h 16m 19s\n",
      "62:\tlearn: 0.9133800\ttest: 0.9020400\tbest: 0.9026533 (39)\ttotal: 29s\tremaining: 1h 16m 12s\n",
      "63:\tlearn: 0.9135356\ttest: 0.9020867\tbest: 0.9026533 (39)\ttotal: 29.4s\tremaining: 1h 16m 10s\n",
      "64:\tlearn: 0.9135956\ttest: 0.9020067\tbest: 0.9026533 (39)\ttotal: 29.8s\tremaining: 1h 16m 1s\n",
      "65:\tlearn: 0.9138222\ttest: 0.9020333\tbest: 0.9026533 (39)\ttotal: 30.3s\tremaining: 1h 15m 55s\n",
      "66:\tlearn: 0.9139444\ttest: 0.9019333\tbest: 0.9026533 (39)\ttotal: 30.7s\tremaining: 1h 15m 47s\n",
      "67:\tlearn: 0.9140489\ttest: 0.9019333\tbest: 0.9026533 (39)\ttotal: 31.1s\tremaining: 1h 15m 37s\n",
      "68:\tlearn: 0.9142511\ttest: 0.9019267\tbest: 0.9026533 (39)\ttotal: 31.5s\tremaining: 1h 15m 31s\n",
      "69:\tlearn: 0.9144822\ttest: 0.9019000\tbest: 0.9026533 (39)\ttotal: 31.9s\tremaining: 1h 15m 28s\n",
      "Stopped by overfitting detector  (30 iterations wait)\n",
      "\n",
      "bestTest = 0.9026533333\n",
      "bestIteration = 39\n",
      "\n",
      "Shrink model to first 40 iterations.\n"
     ]
    },
    {
     "data": {
      "text/plain": [
       "<catboost.core.CatBoostClassifier at 0x1253e7278>"
      ]
     },
     "execution_count": 200,
     "metadata": {},
     "output_type": "execute_result"
    }
   ],
   "source": [
    "params_dum = {'iterations':10000, 'learning_rate':0.2, 'depth':11,'eval_metric':'Accuracy','random_seed':333,'use_best_model':True,'early_stopping_rounds':30,\n",
    "          'thread_count':5}\n",
    "cat_x_4 = CatBoostClassifier(**params_dum)\n",
    "cat_x_4.fit(train_cv_dummy_slope.drop('class',axis = 1), train_cv_dummy_slope['class'],eval_set=(val_cv_dummy_slope.drop('class',axis = 1), val_cv_dummy_slope['class']),verbose = 1)"
   ]
  },
  {
   "cell_type": "code",
   "execution_count": 203,
   "metadata": {},
   "outputs": [],
   "source": [
    "from catboost import Pool"
   ]
  },
  {
   "cell_type": "code",
   "execution_count": 204,
   "metadata": {},
   "outputs": [
    {
     "data": {
      "image/png": "[encoded data removed]",
      "text/plain": [
       "<Figure size 432x288 with 1 Axes>"
      ]
     },
     "metadata": {},
     "output_type": "display_data"
    }
   ],
   "source": [
    "feat_imp = cat_x_4.get_feature_importance(Pool(train_cv_dummy_slope.drop('class',axis = 1)))\n",
    "plt.figure()\n",
    "plt.bar(train_cv_dummy_slope.drop('class',axis = 1).columns.values, feat_imp)\n",
    "plt.xticks(rotation = 90)\n",
    "plt.show()"
   ]
  },
  {
   "cell_type": "code",
   "execution_count": null,
   "metadata": {},
   "outputs": [],
   "source": [
    "#Combining models with different features."
   ]
  },
  {
   "cell_type": "code",
   "execution_count": null,
   "metadata": {},
   "outputs": [],
   "source": [
    "#catboost trained on  features now, features_new, features_new_2"
   ]
  },
  {
   "cell_type": "code",
   "execution_count": 209,
   "metadata": {},
   "outputs": [],
   "source": [
    "train_df.to_csv('train_new_feature_3.csv', index = False)"
   ]
  },
  {
   "cell_type": "code",
   "execution_count": 210,
   "metadata": {},
   "outputs": [],
   "source": [
    "test_df.to_csv('test_new_feature_3.csv', index = False)"
   ]
  },
  {
   "cell_type": "code",
   "execution_count": 211,
   "metadata": {},
   "outputs": [],
   "source": [
    "cat_full_3_for_stack = cat_full_3.copy()"
   ]
  },
  {
   "cell_type": "code",
   "execution_count": 212,
   "metadata": {},
   "outputs": [],
   "source": [
    "cat_x_3_for_stack = cat_x_3.copy()"
   ]
  },
  {
   "cell_type": "code",
   "execution_count": 213,
   "metadata": {},
   "outputs": [],
   "source": [
    "train_df_1 = pd.read_csv('train_new_feature.csv')\n",
    "test_df_1  = pd.read_csv('test_new_feature.csv')\n",
    "train_df_2 = pd.read_csv('train_new_features_2.csv')\n",
    "test_df_2 = pd.read_csv('test_new_features_2.csv')\n",
    "train_df_3 = pd.read_csv('train_new_feature_3.csv')\n",
    "test_df_3 = pd.read_csv('test_new_feature_3.csv')"
   ]
  },
  {
   "cell_type": "code",
   "execution_count": 215,
   "metadata": {},
   "outputs": [],
   "source": [
    "train_cv_1, val_cv_1 = train_test_split(train_df_1)"
   ]
  },
  {
   "cell_type": "code",
   "execution_count": 216,
   "metadata": {},
   "outputs": [],
   "source": [
    "train_cv_2, val_cv_2 = train_test_split(train_df_2)"
   ]
  },
  {
   "cell_type": "code",
   "execution_count": 233,
   "metadata": {},
   "outputs": [],
   "source": []
  },
  {
   "cell_type": "code",
   "execution_count": 326,
   "metadata": {},
   "outputs": [
    {
     "name": "stdout",
     "output_type": "stream",
     "text": [
      "0:\tlearn: 0.8645978\ttest: 0.8660667\tbest: 0.8660667 (0)\ttotal: 133ms\tremaining: 22m 11s\n",
      "1:\tlearn: 0.8778422\ttest: 0.8788933\tbest: 0.8788933 (1)\ttotal: 257ms\tremaining: 21m 24s\n",
      "2:\tlearn: 0.8747911\ttest: 0.8756200\tbest: 0.8788933 (1)\ttotal: 387ms\tremaining: 21m 30s\n",
      "3:\tlearn: 0.8808289\ttest: 0.8819667\tbest: 0.8819667 (3)\ttotal: 553ms\tremaining: 23m 1s\n",
      "4:\tlearn: 0.8839778\ttest: 0.8847067\tbest: 0.8847067 (4)\ttotal: 761ms\tremaining: 25m 20s\n",
      "5:\tlearn: 0.8864578\ttest: 0.8869667\tbest: 0.8869667 (5)\ttotal: 909ms\tremaining: 25m 14s\n",
      "6:\tlearn: 0.8869889\ttest: 0.8878333\tbest: 0.8878333 (6)\ttotal: 1.05s\tremaining: 25m 5s\n",
      "7:\tlearn: 0.8889444\ttest: 0.8900800\tbest: 0.8900800 (7)\ttotal: 1.21s\tremaining: 25m 15s\n",
      "8:\tlearn: 0.8905267\ttest: 0.8913867\tbest: 0.8913867 (8)\ttotal: 1.37s\tremaining: 25m 18s\n",
      "9:\tlearn: 0.8913844\ttest: 0.8926133\tbest: 0.8926133 (9)\ttotal: 1.53s\tremaining: 25m 27s\n",
      "10:\tlearn: 0.8921644\ttest: 0.8937133\tbest: 0.8937133 (10)\ttotal: 1.68s\tremaining: 25m 24s\n",
      "11:\tlearn: 0.8928378\ttest: 0.8942933\tbest: 0.8942933 (11)\ttotal: 1.82s\tremaining: 25m 14s\n",
      "12:\tlearn: 0.8939756\ttest: 0.8951267\tbest: 0.8951267 (12)\ttotal: 1.96s\tremaining: 25m 5s\n",
      "13:\tlearn: 0.8950111\ttest: 0.8961600\tbest: 0.8961600 (13)\ttotal: 2.11s\tremaining: 25m 3s\n",
      "14:\tlearn: 0.8957222\ttest: 0.8970533\tbest: 0.8970533 (14)\ttotal: 2.29s\tremaining: 25m 22s\n",
      "15:\tlearn: 0.8960533\ttest: 0.8973467\tbest: 0.8973467 (15)\ttotal: 2.58s\tremaining: 26m 50s\n",
      "16:\tlearn: 0.8969667\ttest: 0.8979467\tbest: 0.8979467 (16)\ttotal: 2.74s\tremaining: 26m 50s\n",
      "17:\tlearn: 0.8975778\ttest: 0.8987267\tbest: 0.8987267 (17)\ttotal: 2.9s\tremaining: 26m 51s\n",
      "18:\tlearn: 0.8976644\ttest: 0.8988667\tbest: 0.8988667 (18)\ttotal: 3.1s\tremaining: 27m 11s\n",
      "19:\tlearn: 0.8982556\ttest: 0.8992933\tbest: 0.8992933 (19)\ttotal: 3.31s\tremaining: 27m 30s\n",
      "20:\tlearn: 0.8983578\ttest: 0.8995867\tbest: 0.8995867 (20)\ttotal: 3.47s\tremaining: 27m 28s\n",
      "21:\tlearn: 0.8986089\ttest: 0.8996333\tbest: 0.8996333 (21)\ttotal: 3.67s\tremaining: 27m 45s\n",
      "22:\tlearn: 0.8990289\ttest: 0.8999933\tbest: 0.8999933 (22)\ttotal: 3.83s\tremaining: 27m 41s\n",
      "23:\tlearn: 0.8994467\ttest: 0.9002133\tbest: 0.9002133 (23)\ttotal: 3.99s\tremaining: 27m 38s\n",
      "24:\tlearn: 0.8995244\ttest: 0.9002733\tbest: 0.9002733 (24)\ttotal: 4.15s\tremaining: 27m 34s\n",
      "25:\tlearn: 0.8996644\ttest: 0.9003667\tbest: 0.9003667 (25)\ttotal: 4.29s\tremaining: 27m 27s\n",
      "26:\tlearn: 0.8999800\ttest: 0.9008667\tbest: 0.9008667 (26)\ttotal: 4.58s\tremaining: 28m 13s\n",
      "27:\tlearn: 0.9002244\ttest: 0.9011333\tbest: 0.9011333 (27)\ttotal: 4.75s\tremaining: 28m 12s\n",
      "28:\tlearn: 0.9005689\ttest: 0.9013133\tbest: 0.9013133 (28)\ttotal: 4.98s\tremaining: 28m 33s\n",
      "29:\tlearn: 0.9005222\ttest: 0.9013200\tbest: 0.9013200 (29)\ttotal: 5.12s\tremaining: 28m 21s\n",
      "30:\tlearn: 0.9005244\ttest: 0.9013200\tbest: 0.9013200 (29)\ttotal: 5.25s\tremaining: 28m 9s\n",
      "31:\tlearn: 0.9005022\ttest: 0.9013600\tbest: 0.9013600 (31)\ttotal: 5.41s\tremaining: 28m 6s\n",
      "32:\tlearn: 0.9006511\ttest: 0.9014200\tbest: 0.9014200 (32)\ttotal: 5.62s\tremaining: 28m 17s\n",
      "33:\tlearn: 0.9009111\ttest: 0.9016000\tbest: 0.9016000 (33)\ttotal: 5.8s\tremaining: 28m 18s\n",
      "34:\tlearn: 0.9009444\ttest: 0.9016533\tbest: 0.9016533 (34)\ttotal: 5.98s\tremaining: 28m 23s\n",
      "35:\tlearn: 0.9009756\ttest: 0.9017867\tbest: 0.9017867 (35)\ttotal: 6.11s\tremaining: 28m 11s\n",
      "36:\tlearn: 0.9011378\ttest: 0.9019933\tbest: 0.9019933 (36)\ttotal: 6.24s\tremaining: 28m 1s\n",
      "37:\tlearn: 0.9011311\ttest: 0.9020600\tbest: 0.9020600 (37)\ttotal: 6.42s\tremaining: 28m 4s\n",
      "38:\tlearn: 0.9011067\ttest: 0.9021067\tbest: 0.9021067 (38)\ttotal: 6.59s\tremaining: 28m 2s\n",
      "39:\tlearn: 0.9011867\ttest: 0.9021667\tbest: 0.9021667 (39)\ttotal: 6.72s\tremaining: 27m 54s\n",
      "40:\tlearn: 0.9012311\ttest: 0.9021067\tbest: 0.9021667 (39)\ttotal: 6.86s\tremaining: 27m 46s\n",
      "41:\tlearn: 0.9012533\ttest: 0.9021267\tbest: 0.9021667 (39)\ttotal: 7.01s\tremaining: 27m 42s\n",
      "42:\tlearn: 0.9014067\ttest: 0.9023733\tbest: 0.9023733 (42)\ttotal: 7.16s\tremaining: 27m 38s\n",
      "43:\tlearn: 0.9013044\ttest: 0.9023400\tbest: 0.9023733 (42)\ttotal: 7.31s\tremaining: 27m 34s\n",
      "44:\tlearn: 0.9014156\ttest: 0.9024133\tbest: 0.9024133 (44)\ttotal: 7.46s\tremaining: 27m 30s\n",
      "45:\tlearn: 0.9014911\ttest: 0.9024467\tbest: 0.9024467 (45)\ttotal: 7.61s\tremaining: 27m 27s\n",
      "46:\tlearn: 0.9015222\ttest: 0.9024000\tbest: 0.9024467 (45)\ttotal: 7.75s\tremaining: 27m 20s\n",
      "47:\tlearn: 0.9015378\ttest: 0.9023533\tbest: 0.9024467 (45)\ttotal: 7.91s\tremaining: 27m 20s\n",
      "48:\tlearn: 0.9015756\ttest: 0.9024600\tbest: 0.9024600 (48)\ttotal: 8.05s\tremaining: 27m 15s\n",
      "49:\tlearn: 0.9016511\ttest: 0.9024133\tbest: 0.9024600 (48)\ttotal: 8.21s\tremaining: 27m 12s\n",
      "50:\tlearn: 0.9017067\ttest: 0.9025400\tbest: 0.9025400 (50)\ttotal: 8.35s\tremaining: 27m 8s\n",
      "51:\tlearn: 0.9016489\ttest: 0.9024933\tbest: 0.9025400 (50)\ttotal: 8.51s\tremaining: 27m 7s\n",
      "52:\tlearn: 0.9016489\ttest: 0.9024467\tbest: 0.9025400 (50)\ttotal: 8.79s\tremaining: 27m 29s\n",
      "53:\tlearn: 0.9016356\ttest: 0.9024333\tbest: 0.9025400 (50)\ttotal: 9s\tremaining: 27m 36s\n",
      "54:\tlearn: 0.9017622\ttest: 0.9025867\tbest: 0.9025867 (54)\ttotal: 9.16s\tremaining: 27m 36s\n",
      "55:\tlearn: 0.9017778\ttest: 0.9025867\tbest: 0.9025867 (54)\ttotal: 9.32s\tremaining: 27m 34s\n",
      "56:\tlearn: 0.9018378\ttest: 0.9026200\tbest: 0.9026200 (56)\ttotal: 9.49s\tremaining: 27m 35s\n",
      "57:\tlearn: 0.9021200\ttest: 0.9028467\tbest: 0.9028467 (57)\ttotal: 9.67s\tremaining: 27m 37s\n",
      "58:\tlearn: 0.9022044\ttest: 0.9030867\tbest: 0.9030867 (58)\ttotal: 9.83s\tremaining: 27m 36s\n",
      "59:\tlearn: 0.9022400\ttest: 0.9030667\tbest: 0.9030867 (58)\ttotal: 10s\tremaining: 27m 36s\n",
      "60:\tlearn: 0.9023400\ttest: 0.9032267\tbest: 0.9032267 (60)\ttotal: 10.2s\tremaining: 27m 34s\n",
      "61:\tlearn: 0.9024022\ttest: 0.9032800\tbest: 0.9032800 (61)\ttotal: 10.3s\tremaining: 27m 30s\n",
      "62:\tlearn: 0.9023844\ttest: 0.9032533\tbest: 0.9032800 (61)\ttotal: 10.4s\tremaining: 27m 27s\n",
      "63:\tlearn: 0.9024400\ttest: 0.9033200\tbest: 0.9033200 (63)\ttotal: 10.7s\tremaining: 27m 41s\n",
      "64:\tlearn: 0.9025044\ttest: 0.9033533\tbest: 0.9033533 (64)\ttotal: 10.9s\tremaining: 27m 52s\n",
      "65:\tlearn: 0.9025244\ttest: 0.9033733\tbest: 0.9033733 (65)\ttotal: 11.1s\tremaining: 27m 51s\n",
      "66:\tlearn: 0.9027022\ttest: 0.9034733\tbest: 0.9034733 (66)\ttotal: 11.3s\tremaining: 27m 56s\n",
      "67:\tlearn: 0.9026933\ttest: 0.9034267\tbest: 0.9034733 (66)\ttotal: 11.7s\tremaining: 28m 31s\n",
      "68:\tlearn: 0.9026600\ttest: 0.9035200\tbest: 0.9035200 (68)\ttotal: 12.1s\tremaining: 28m 59s\n",
      "69:\tlearn: 0.9027222\ttest: 0.9034800\tbest: 0.9035200 (68)\ttotal: 12.4s\tremaining: 29m 22s\n",
      "70:\tlearn: 0.9027711\ttest: 0.9035267\tbest: 0.9035267 (70)\ttotal: 12.8s\tremaining: 29m 47s\n",
      "71:\tlearn: 0.9028800\ttest: 0.9035800\tbest: 0.9035800 (71)\ttotal: 13.2s\tremaining: 30m 14s\n",
      "72:\tlearn: 0.9028889\ttest: 0.9035667\tbest: 0.9035800 (71)\ttotal: 13.5s\tremaining: 30m 36s\n",
      "73:\tlearn: 0.9028711\ttest: 0.9035133\tbest: 0.9035800 (71)\ttotal: 13.8s\tremaining: 30m 56s\n",
      "74:\tlearn: 0.9028667\ttest: 0.9034933\tbest: 0.9035800 (71)\ttotal: 14.2s\tremaining: 31m 15s\n",
      "75:\tlearn: 0.9030444\ttest: 0.9037200\tbest: 0.9037200 (75)\ttotal: 14.5s\tremaining: 31m 36s\n",
      "76:\tlearn: 0.9030733\ttest: 0.9037333\tbest: 0.9037333 (76)\ttotal: 14.9s\tremaining: 31m 57s\n",
      "77:\tlearn: 0.9030867\ttest: 0.9037533\tbest: 0.9037533 (77)\ttotal: 15.2s\tremaining: 32m 15s\n",
      "78:\tlearn: 0.9030978\ttest: 0.9037600\tbest: 0.9037600 (78)\ttotal: 15.6s\tremaining: 32m 36s\n",
      "79:\tlearn: 0.9031756\ttest: 0.9036800\tbest: 0.9037600 (78)\ttotal: 15.9s\tremaining: 32m 56s\n",
      "80:\tlearn: 0.9031200\ttest: 0.9037667\tbest: 0.9037667 (80)\ttotal: 16.3s\tremaining: 33m 16s\n",
      "81:\tlearn: 0.9031467\ttest: 0.9037533\tbest: 0.9037667 (80)\ttotal: 16.6s\tremaining: 33m 33s\n",
      "82:\tlearn: 0.9031933\ttest: 0.9036533\tbest: 0.9037667 (80)\ttotal: 17s\tremaining: 33m 49s\n",
      "83:\tlearn: 0.9031689\ttest: 0.9036133\tbest: 0.9037667 (80)\ttotal: 17.4s\tremaining: 34m 9s\n",
      "84:\tlearn: 0.9031667\ttest: 0.9036400\tbest: 0.9037667 (80)\ttotal: 17.7s\tremaining: 34m 23s\n",
      "85:\tlearn: 0.9032889\ttest: 0.9036000\tbest: 0.9037667 (80)\ttotal: 18.1s\tremaining: 34m 42s\n",
      "86:\tlearn: 0.9033311\ttest: 0.9035467\tbest: 0.9037667 (80)\ttotal: 18.4s\tremaining: 34m 56s\n",
      "87:\tlearn: 0.9032911\ttest: 0.9035333\tbest: 0.9037667 (80)\ttotal: 18.8s\tremaining: 35m 12s\n",
      "88:\tlearn: 0.9032933\ttest: 0.9036333\tbest: 0.9037667 (80)\ttotal: 19.3s\tremaining: 35m 46s\n",
      "89:\tlearn: 0.9032822\ttest: 0.9036733\tbest: 0.9037667 (80)\ttotal: 19.5s\tremaining: 35m 42s\n",
      "90:\tlearn: 0.9034467\ttest: 0.9037600\tbest: 0.9037667 (80)\ttotal: 19.6s\tremaining: 35m 34s\n",
      "91:\tlearn: 0.9034933\ttest: 0.9037600\tbest: 0.9037667 (80)\ttotal: 19.7s\tremaining: 35m 26s\n"
     ]
    },
    {
     "name": "stdout",
     "output_type": "stream",
     "text": [
      "92:\tlearn: 0.9034533\ttest: 0.9038000\tbest: 0.9038000 (92)\ttotal: 19.9s\tremaining: 35m 18s\n",
      "93:\tlearn: 0.9035644\ttest: 0.9038467\tbest: 0.9038467 (93)\ttotal: 20s\tremaining: 35m 12s\n",
      "94:\tlearn: 0.9035533\ttest: 0.9038733\tbest: 0.9038733 (94)\ttotal: 20.2s\tremaining: 35m 3s\n",
      "95:\tlearn: 0.9035711\ttest: 0.9039333\tbest: 0.9039333 (95)\ttotal: 20.3s\tremaining: 34m 58s\n",
      "96:\tlearn: 0.9035733\ttest: 0.9039200\tbest: 0.9039333 (95)\ttotal: 20.5s\tremaining: 34m 54s\n",
      "97:\tlearn: 0.9035889\ttest: 0.9038800\tbest: 0.9039333 (95)\ttotal: 20.6s\tremaining: 34m 46s\n",
      "98:\tlearn: 0.9036978\ttest: 0.9040467\tbest: 0.9040467 (98)\ttotal: 20.8s\tremaining: 34m 37s\n",
      "99:\tlearn: 0.9037311\ttest: 0.9041133\tbest: 0.9041133 (99)\ttotal: 20.9s\tremaining: 34m 33s\n",
      "100:\tlearn: 0.9037244\ttest: 0.9041533\tbest: 0.9041533 (100)\ttotal: 21.1s\tremaining: 34m 31s\n",
      "101:\tlearn: 0.9037511\ttest: 0.9041267\tbest: 0.9041533 (100)\ttotal: 21.4s\tremaining: 34m 40s\n",
      "102:\tlearn: 0.9037489\ttest: 0.9041267\tbest: 0.9041533 (100)\ttotal: 21.6s\tremaining: 34m 36s\n",
      "103:\tlearn: 0.9038067\ttest: 0.9041733\tbest: 0.9041733 (103)\ttotal: 21.8s\tremaining: 34m 31s\n",
      "104:\tlearn: 0.9038044\ttest: 0.9040933\tbest: 0.9041733 (103)\ttotal: 21.9s\tremaining: 34m 25s\n",
      "105:\tlearn: 0.9037622\ttest: 0.9041067\tbest: 0.9041733 (103)\ttotal: 22.1s\tremaining: 34m 18s\n",
      "106:\tlearn: 0.9037667\ttest: 0.9041200\tbest: 0.9041733 (103)\ttotal: 22.2s\tremaining: 34m 16s\n",
      "107:\tlearn: 0.9037578\ttest: 0.9040533\tbest: 0.9041733 (103)\ttotal: 22.5s\tremaining: 34m 17s\n",
      "108:\tlearn: 0.9037689\ttest: 0.9041133\tbest: 0.9041733 (103)\ttotal: 22.6s\tremaining: 34m 10s\n",
      "109:\tlearn: 0.9037956\ttest: 0.9041133\tbest: 0.9041733 (103)\ttotal: 22.7s\tremaining: 34m 3s\n",
      "110:\tlearn: 0.9038133\ttest: 0.9041333\tbest: 0.9041733 (103)\ttotal: 22.9s\tremaining: 33m 55s\n",
      "111:\tlearn: 0.9038156\ttest: 0.9041600\tbest: 0.9041733 (103)\ttotal: 23s\tremaining: 33m 49s\n",
      "112:\tlearn: 0.9037911\ttest: 0.9041600\tbest: 0.9041733 (103)\ttotal: 23.1s\tremaining: 33m 41s\n",
      "113:\tlearn: 0.9037933\ttest: 0.9041667\tbest: 0.9041733 (103)\ttotal: 23.2s\tremaining: 33m 35s\n",
      "114:\tlearn: 0.9038000\ttest: 0.9041600\tbest: 0.9041733 (103)\ttotal: 23.4s\tremaining: 33m 28s\n",
      "115:\tlearn: 0.9038111\ttest: 0.9041600\tbest: 0.9041733 (103)\ttotal: 23.5s\tremaining: 33m 21s\n",
      "116:\tlearn: 0.9038111\ttest: 0.9041533\tbest: 0.9041733 (103)\ttotal: 23.8s\tremaining: 33m 28s\n",
      "117:\tlearn: 0.9039022\ttest: 0.9042000\tbest: 0.9042000 (117)\ttotal: 24.6s\tremaining: 34m 19s\n",
      "118:\tlearn: 0.9039244\ttest: 0.9042267\tbest: 0.9042267 (118)\ttotal: 25s\tremaining: 34m 38s\n",
      "119:\tlearn: 0.9039356\ttest: 0.9042200\tbest: 0.9042267 (118)\ttotal: 25.8s\tremaining: 35m 20s\n",
      "120:\tlearn: 0.9038822\ttest: 0.9042467\tbest: 0.9042467 (120)\ttotal: 26.2s\tremaining: 35m 39s\n",
      "121:\tlearn: 0.9039289\ttest: 0.9042467\tbest: 0.9042467 (120)\ttotal: 26.8s\tremaining: 36m 10s\n",
      "122:\tlearn: 0.9039711\ttest: 0.9042600\tbest: 0.9042600 (122)\ttotal: 27.1s\tremaining: 36m 19s\n",
      "123:\tlearn: 0.9039622\ttest: 0.9042733\tbest: 0.9042733 (123)\ttotal: 27.5s\tremaining: 36m 31s\n",
      "124:\tlearn: 0.9039667\ttest: 0.9043000\tbest: 0.9043000 (124)\ttotal: 27.8s\tremaining: 36m 38s\n",
      "125:\tlearn: 0.9039600\ttest: 0.9042800\tbest: 0.9043000 (124)\ttotal: 28.2s\tremaining: 36m 48s\n",
      "126:\tlearn: 0.9040089\ttest: 0.9042600\tbest: 0.9043000 (124)\ttotal: 28.6s\tremaining: 37m 5s\n",
      "127:\tlearn: 0.9040156\ttest: 0.9042600\tbest: 0.9043000 (124)\ttotal: 29.2s\tremaining: 37m 35s\n",
      "128:\tlearn: 0.9040067\ttest: 0.9042533\tbest: 0.9043000 (124)\ttotal: 29.8s\tremaining: 37m 57s\n",
      "129:\tlearn: 0.9040067\ttest: 0.9041667\tbest: 0.9043000 (124)\ttotal: 30.3s\tremaining: 38m 23s\n",
      "130:\tlearn: 0.9039733\ttest: 0.9042333\tbest: 0.9043000 (124)\ttotal: 30.7s\tremaining: 38m 36s\n",
      "131:\tlearn: 0.9039867\ttest: 0.9042067\tbest: 0.9043000 (124)\ttotal: 31s\tremaining: 38m 34s\n",
      "132:\tlearn: 0.9040000\ttest: 0.9042000\tbest: 0.9043000 (124)\ttotal: 31.1s\tremaining: 38m 30s\n",
      "133:\tlearn: 0.9040089\ttest: 0.9042867\tbest: 0.9043000 (124)\ttotal: 31.3s\tremaining: 38m 24s\n",
      "134:\tlearn: 0.9039889\ttest: 0.9042867\tbest: 0.9043000 (124)\ttotal: 31.5s\tremaining: 38m 18s\n",
      "135:\tlearn: 0.9039711\ttest: 0.9042067\tbest: 0.9043000 (124)\ttotal: 31.7s\tremaining: 38m 20s\n",
      "136:\tlearn: 0.9039911\ttest: 0.9042400\tbest: 0.9043000 (124)\ttotal: 32s\tremaining: 38m 21s\n",
      "137:\tlearn: 0.9040244\ttest: 0.9041867\tbest: 0.9043000 (124)\ttotal: 32.2s\tremaining: 38m 22s\n",
      "138:\tlearn: 0.9040333\ttest: 0.9042467\tbest: 0.9043000 (124)\ttotal: 32.4s\tremaining: 38m 21s\n",
      "139:\tlearn: 0.9040244\ttest: 0.9042200\tbest: 0.9043000 (124)\ttotal: 32.6s\tremaining: 38m 17s\n",
      "140:\tlearn: 0.9040756\ttest: 0.9041667\tbest: 0.9043000 (124)\ttotal: 32.8s\tremaining: 38m 13s\n",
      "141:\tlearn: 0.9040911\ttest: 0.9042000\tbest: 0.9043000 (124)\ttotal: 33s\tremaining: 38m 11s\n",
      "142:\tlearn: 0.9040733\ttest: 0.9041933\tbest: 0.9043000 (124)\ttotal: 33.2s\tremaining: 38m 8s\n",
      "143:\tlearn: 0.9040667\ttest: 0.9042333\tbest: 0.9043000 (124)\ttotal: 33.5s\tremaining: 38m 14s\n",
      "144:\tlearn: 0.9041000\ttest: 0.9042000\tbest: 0.9043000 (124)\ttotal: 33.8s\tremaining: 38m 18s\n",
      "145:\tlearn: 0.9041289\ttest: 0.9041267\tbest: 0.9043000 (124)\ttotal: 34.2s\tremaining: 38m 30s\n",
      "146:\tlearn: 0.9041289\ttest: 0.9041067\tbest: 0.9043000 (124)\ttotal: 34.9s\tremaining: 39m 1s\n",
      "147:\tlearn: 0.9041178\ttest: 0.9041400\tbest: 0.9043000 (124)\ttotal: 35.3s\tremaining: 39m 13s\n",
      "148:\tlearn: 0.9041111\ttest: 0.9041267\tbest: 0.9043000 (124)\ttotal: 35.8s\tremaining: 39m 29s\n",
      "149:\tlearn: 0.9041044\ttest: 0.9042000\tbest: 0.9043000 (124)\ttotal: 36.4s\tremaining: 39m 47s\n",
      "150:\tlearn: 0.9041022\ttest: 0.9041667\tbest: 0.9043000 (124)\ttotal: 36.8s\tremaining: 40m 1s\n",
      "151:\tlearn: 0.9040911\ttest: 0.9041933\tbest: 0.9043000 (124)\ttotal: 37.3s\tremaining: 40m 16s\n",
      "152:\tlearn: 0.9041089\ttest: 0.9041933\tbest: 0.9043000 (124)\ttotal: 38.2s\tremaining: 40m 58s\n",
      "153:\tlearn: 0.9041356\ttest: 0.9042000\tbest: 0.9043000 (124)\ttotal: 38.8s\tremaining: 41m 18s\n",
      "154:\tlearn: 0.9041467\ttest: 0.9041933\tbest: 0.9043000 (124)\ttotal: 39.2s\tremaining: 41m 32s\n",
      "Stopped by overfitting detector  (30 iterations wait)\n",
      "\n",
      "bestTest = 0.9043\n",
      "bestIteration = 124\n",
      "\n",
      "Shrink model to first 125 iterations.\n"
     ]
    },
    {
     "data": {
      "text/plain": [
       "<catboost.core.CatBoostClassifier at 0x16144a8d0>"
      ]
     },
     "execution_count": 326,
     "metadata": {},
     "output_type": "execute_result"
    }
   ],
   "source": [
    "params_1_for_stack = {'iterations':10000, 'learning_rate':0.2, 'depth':5,'eval_metric':'Accuracy','random_seed':333,'use_best_model':True,'early_stopping_rounds':30,\n",
    "          'thread_count':5}\n",
    "cat_x_1_for_stack = CatBoostClassifier(**params_1_for_stack)\n",
    "cat_x_1_for_stack.fit(train_cv_1.drop('class',axis = 1), train_cv_1['class'],eval_set=(val_cv_1.drop('class',axis = 1), val_cv_1['class']),verbose = 1)"
   ]
  },
  {
   "cell_type": "code",
   "execution_count": 327,
   "metadata": {},
   "outputs": [],
   "source": [
    "train_pred_x_1 = cat_x_1_for_stack.predict_proba(train_cv_1.drop('class',axis = 1), ntree_end=cat_x_1_for_stack.best_iteration_)"
   ]
  },
  {
   "cell_type": "code",
   "execution_count": 328,
   "metadata": {},
   "outputs": [],
   "source": [
    "val_pred_x_1 = cat_x_1_for_stack.predict_proba(val_cv_1.drop('class',axis = 1), ntree_end=cat_x_1_for_stack.best_iteration_)"
   ]
  },
  {
   "cell_type": "code",
   "execution_count": 329,
   "metadata": {},
   "outputs": [
    {
     "data": {
      "image/png": "[encoded data removed]",
      "text/plain": [
       "<Figure size 432x288 with 1 Axes>"
      ]
     },
     "metadata": {},
     "output_type": "display_data"
    }
   ],
   "source": [
    "feat_imp = cat_x_1_for_stack.get_feature_importance(Pool(train_cv_1.drop('class',axis = 1)))\n",
    "plt.figure()\n",
    "plt.bar(train_cv_1.drop('class',axis = 1).columns.values, feat_imp)\n",
    "plt.xticks(rotation = 90)\n",
    "plt.show()"
   ]
  },
  {
   "cell_type": "code",
   "execution_count": 332,
   "metadata": {},
   "outputs": [],
   "source": [
    "params_2_for_stack = {'iterations':10000, 'learning_rate':0.2, 'depth':5,'eval_metric':'Accuracy','random_seed':333,'use_best_model':True,'early_stopping_rounds':30,\n",
    "          'thread_count':5}"
   ]
  },
  {
   "cell_type": "code",
   "execution_count": 333,
   "metadata": {},
   "outputs": [
    {
     "name": "stdout",
     "output_type": "stream",
     "text": [
      "0:\tlearn: 0.8705422\ttest: 0.8722267\tbest: 0.8722267 (0)\ttotal: 133ms\tremaining: 22m 14s\n",
      "1:\tlearn: 0.8742933\ttest: 0.8759867\tbest: 0.8759867 (1)\ttotal: 259ms\tremaining: 21m 34s\n",
      "2:\tlearn: 0.8779000\ttest: 0.8791000\tbest: 0.8791000 (2)\ttotal: 406ms\tremaining: 22m 34s\n",
      "3:\tlearn: 0.8808200\ttest: 0.8823200\tbest: 0.8823200 (3)\ttotal: 576ms\tremaining: 23m 59s\n",
      "4:\tlearn: 0.8833067\ttest: 0.8849200\tbest: 0.8849200 (4)\ttotal: 771ms\tremaining: 25m 42s\n",
      "5:\tlearn: 0.8845444\ttest: 0.8859533\tbest: 0.8859533 (5)\ttotal: 910ms\tremaining: 25m 15s\n",
      "6:\tlearn: 0.8876578\ttest: 0.8888933\tbest: 0.8888933 (6)\ttotal: 1.05s\tremaining: 24m 59s\n",
      "7:\tlearn: 0.8890200\ttest: 0.8903267\tbest: 0.8903267 (7)\ttotal: 1.2s\tremaining: 24m 57s\n",
      "8:\tlearn: 0.8899800\ttest: 0.8909067\tbest: 0.8909067 (8)\ttotal: 1.37s\tremaining: 25m 24s\n",
      "9:\tlearn: 0.8913267\ttest: 0.8922200\tbest: 0.8922200 (9)\ttotal: 1.51s\tremaining: 25m 12s\n",
      "10:\tlearn: 0.8928067\ttest: 0.8937933\tbest: 0.8937933 (10)\ttotal: 1.66s\tremaining: 25m 4s\n",
      "11:\tlearn: 0.8930267\ttest: 0.8938867\tbest: 0.8938867 (11)\ttotal: 1.83s\tremaining: 25m 24s\n",
      "12:\tlearn: 0.8941089\ttest: 0.8951133\tbest: 0.8951133 (12)\ttotal: 1.97s\tremaining: 25m 13s\n",
      "13:\tlearn: 0.8951867\ttest: 0.8965667\tbest: 0.8965667 (13)\ttotal: 2.14s\tremaining: 25m 26s\n",
      "14:\tlearn: 0.8960867\ttest: 0.8975400\tbest: 0.8975400 (14)\ttotal: 2.31s\tremaining: 25m 39s\n",
      "15:\tlearn: 0.8964444\ttest: 0.8980800\tbest: 0.8980800 (15)\ttotal: 2.46s\tremaining: 25m 33s\n",
      "16:\tlearn: 0.8966222\ttest: 0.8980667\tbest: 0.8980800 (15)\ttotal: 2.6s\tremaining: 25m 26s\n",
      "17:\tlearn: 0.8975244\ttest: 0.8987867\tbest: 0.8987867 (17)\ttotal: 2.75s\tremaining: 25m 24s\n",
      "18:\tlearn: 0.8978978\ttest: 0.8992400\tbest: 0.8992400 (18)\ttotal: 2.9s\tremaining: 25m 20s\n",
      "19:\tlearn: 0.8981756\ttest: 0.8994733\tbest: 0.8994733 (19)\ttotal: 3.04s\tremaining: 25m 19s\n",
      "20:\tlearn: 0.8984978\ttest: 0.8999800\tbest: 0.8999800 (20)\ttotal: 3.2s\tremaining: 25m 20s\n",
      "21:\tlearn: 0.8985756\ttest: 0.8999733\tbest: 0.8999800 (20)\ttotal: 3.34s\tremaining: 25m 16s\n",
      "22:\tlearn: 0.8989244\ttest: 0.9000600\tbest: 0.9000600 (22)\ttotal: 3.48s\tremaining: 25m 10s\n",
      "23:\tlearn: 0.8991933\ttest: 0.9003800\tbest: 0.9003800 (23)\ttotal: 3.64s\tremaining: 25m 11s\n",
      "24:\tlearn: 0.8994600\ttest: 0.9006867\tbest: 0.9006867 (24)\ttotal: 3.78s\tremaining: 25m 10s\n",
      "25:\tlearn: 0.8995822\ttest: 0.9010467\tbest: 0.9010467 (25)\ttotal: 3.94s\tremaining: 25m 9s\n",
      "26:\tlearn: 0.8997267\ttest: 0.9010867\tbest: 0.9010867 (26)\ttotal: 4.07s\tremaining: 25m 4s\n",
      "27:\tlearn: 0.8998711\ttest: 0.9011533\tbest: 0.9011533 (27)\ttotal: 4.24s\tremaining: 25m 11s\n",
      "28:\tlearn: 0.9000222\ttest: 0.9012867\tbest: 0.9012867 (28)\ttotal: 4.4s\tremaining: 25m 14s\n",
      "29:\tlearn: 0.9001756\ttest: 0.9013267\tbest: 0.9013267 (29)\ttotal: 4.55s\tremaining: 25m 11s\n",
      "30:\tlearn: 0.9002978\ttest: 0.9014067\tbest: 0.9014067 (30)\ttotal: 4.71s\tremaining: 25m 16s\n",
      "31:\tlearn: 0.9004489\ttest: 0.9016267\tbest: 0.9016267 (31)\ttotal: 4.88s\tremaining: 25m 19s\n",
      "32:\tlearn: 0.9004533\ttest: 0.9017933\tbest: 0.9017933 (32)\ttotal: 5.02s\tremaining: 25m 16s\n",
      "33:\tlearn: 0.9005844\ttest: 0.9018133\tbest: 0.9018133 (33)\ttotal: 5.17s\tremaining: 25m 16s\n",
      "34:\tlearn: 0.9006200\ttest: 0.9017933\tbest: 0.9018133 (33)\ttotal: 5.32s\tremaining: 25m 14s\n",
      "35:\tlearn: 0.9007311\ttest: 0.9020733\tbest: 0.9020733 (35)\ttotal: 5.48s\tremaining: 25m 15s\n",
      "36:\tlearn: 0.9008978\ttest: 0.9022667\tbest: 0.9022667 (36)\ttotal: 5.63s\tremaining: 25m 17s\n",
      "37:\tlearn: 0.9009289\ttest: 0.9021333\tbest: 0.9022667 (36)\ttotal: 5.78s\tremaining: 25m 14s\n",
      "38:\tlearn: 0.9010933\ttest: 0.9023000\tbest: 0.9023000 (38)\ttotal: 5.92s\tremaining: 25m 12s\n",
      "39:\tlearn: 0.9010467\ttest: 0.9022933\tbest: 0.9023000 (38)\ttotal: 6.08s\tremaining: 25m 13s\n",
      "40:\tlearn: 0.9010533\ttest: 0.9022267\tbest: 0.9023000 (38)\ttotal: 6.22s\tremaining: 25m 11s\n",
      "41:\tlearn: 0.9011578\ttest: 0.9023467\tbest: 0.9023467 (41)\ttotal: 6.37s\tremaining: 25m 9s\n",
      "42:\tlearn: 0.9012000\ttest: 0.9025000\tbest: 0.9025000 (42)\ttotal: 6.5s\tremaining: 25m 5s\n",
      "43:\tlearn: 0.9012156\ttest: 0.9025267\tbest: 0.9025267 (43)\ttotal: 6.67s\tremaining: 25m 8s\n",
      "44:\tlearn: 0.9012711\ttest: 0.9024400\tbest: 0.9025267 (43)\ttotal: 6.83s\tremaining: 25m 10s\n",
      "45:\tlearn: 0.9013067\ttest: 0.9024133\tbest: 0.9025267 (43)\ttotal: 6.96s\tremaining: 25m 6s\n",
      "46:\tlearn: 0.9014200\ttest: 0.9024733\tbest: 0.9025267 (43)\ttotal: 7.1s\tremaining: 25m 3s\n",
      "47:\tlearn: 0.9014000\ttest: 0.9025267\tbest: 0.9025267 (43)\ttotal: 7.26s\tremaining: 25m 5s\n",
      "48:\tlearn: 0.9013756\ttest: 0.9026267\tbest: 0.9026267 (48)\ttotal: 7.41s\tremaining: 25m 5s\n",
      "49:\tlearn: 0.9014911\ttest: 0.9026533\tbest: 0.9026533 (49)\ttotal: 7.55s\tremaining: 25m 2s\n",
      "50:\tlearn: 0.9015244\ttest: 0.9027733\tbest: 0.9027733 (50)\ttotal: 7.71s\tremaining: 25m 3s\n",
      "51:\tlearn: 0.9016044\ttest: 0.9028400\tbest: 0.9028400 (51)\ttotal: 7.86s\tremaining: 25m 2s\n",
      "52:\tlearn: 0.9016222\ttest: 0.9028867\tbest: 0.9028867 (52)\ttotal: 7.99s\tremaining: 24m 58s\n",
      "53:\tlearn: 0.9016533\ttest: 0.9028333\tbest: 0.9028867 (52)\ttotal: 8.13s\tremaining: 24m 58s\n",
      "54:\tlearn: 0.9016289\ttest: 0.9029400\tbest: 0.9029400 (54)\ttotal: 8.26s\tremaining: 24m 53s\n",
      "55:\tlearn: 0.9017111\ttest: 0.9029800\tbest: 0.9029800 (55)\ttotal: 8.42s\tremaining: 24m 54s\n",
      "56:\tlearn: 0.9017200\ttest: 0.9029867\tbest: 0.9029867 (56)\ttotal: 8.56s\tremaining: 24m 54s\n",
      "57:\tlearn: 0.9017422\ttest: 0.9030067\tbest: 0.9030067 (57)\ttotal: 8.71s\tremaining: 24m 53s\n",
      "58:\tlearn: 0.9017578\ttest: 0.9029867\tbest: 0.9030067 (57)\ttotal: 8.87s\tremaining: 24m 53s\n",
      "59:\tlearn: 0.9017444\ttest: 0.9030467\tbest: 0.9030467 (59)\ttotal: 9.02s\tremaining: 24m 54s\n",
      "60:\tlearn: 0.9017933\ttest: 0.9029800\tbest: 0.9030467 (59)\ttotal: 9.18s\tremaining: 24m 55s\n",
      "61:\tlearn: 0.9017778\ttest: 0.9030667\tbest: 0.9030667 (61)\ttotal: 9.32s\tremaining: 24m 54s\n",
      "62:\tlearn: 0.9020467\ttest: 0.9032533\tbest: 0.9032533 (62)\ttotal: 9.46s\tremaining: 24m 52s\n",
      "63:\tlearn: 0.9020289\ttest: 0.9032733\tbest: 0.9032733 (63)\ttotal: 9.61s\tremaining: 24m 52s\n",
      "64:\tlearn: 0.9020689\ttest: 0.9033067\tbest: 0.9033067 (64)\ttotal: 9.76s\tremaining: 24m 52s\n",
      "65:\tlearn: 0.9020911\ttest: 0.9033400\tbest: 0.9033400 (65)\ttotal: 9.91s\tremaining: 24m 51s\n",
      "66:\tlearn: 0.9021378\ttest: 0.9033333\tbest: 0.9033400 (65)\ttotal: 10s\tremaining: 24m 49s\n",
      "67:\tlearn: 0.9021800\ttest: 0.9034000\tbest: 0.9034000 (67)\ttotal: 10.2s\tremaining: 24m 50s\n",
      "68:\tlearn: 0.9022311\ttest: 0.9036067\tbest: 0.9036067 (68)\ttotal: 10.4s\tremaining: 24m 49s\n",
      "69:\tlearn: 0.9023422\ttest: 0.9035800\tbest: 0.9036067 (68)\ttotal: 10.5s\tremaining: 24m 48s\n",
      "70:\tlearn: 0.9023711\ttest: 0.9035800\tbest: 0.9036067 (68)\ttotal: 10.6s\tremaining: 24m 45s\n",
      "71:\tlearn: 0.9023933\ttest: 0.9036800\tbest: 0.9036800 (71)\ttotal: 10.8s\tremaining: 24m 46s\n",
      "72:\tlearn: 0.9024133\ttest: 0.9037067\tbest: 0.9037067 (72)\ttotal: 10.9s\tremaining: 24m 45s\n",
      "73:\tlearn: 0.9024644\ttest: 0.9036867\tbest: 0.9037067 (72)\ttotal: 11.1s\tremaining: 24m 44s\n",
      "74:\tlearn: 0.9025711\ttest: 0.9038467\tbest: 0.9038467 (74)\ttotal: 11.2s\tremaining: 24m 42s\n",
      "75:\tlearn: 0.9026711\ttest: 0.9039400\tbest: 0.9039400 (75)\ttotal: 11.4s\tremaining: 24m 44s\n",
      "76:\tlearn: 0.9027022\ttest: 0.9039133\tbest: 0.9039400 (75)\ttotal: 11.5s\tremaining: 24m 44s\n",
      "77:\tlearn: 0.9026867\ttest: 0.9038733\tbest: 0.9039400 (75)\ttotal: 11.7s\tremaining: 24m 44s\n",
      "78:\tlearn: 0.9027178\ttest: 0.9038800\tbest: 0.9039400 (75)\ttotal: 11.8s\tremaining: 24m 45s\n",
      "79:\tlearn: 0.9027267\ttest: 0.9038667\tbest: 0.9039400 (75)\ttotal: 12s\tremaining: 24m 44s\n",
      "80:\tlearn: 0.9027067\ttest: 0.9038667\tbest: 0.9039400 (75)\ttotal: 12.1s\tremaining: 24m 43s\n",
      "81:\tlearn: 0.9027267\ttest: 0.9037600\tbest: 0.9039400 (75)\ttotal: 12.3s\tremaining: 24m 43s\n",
      "82:\tlearn: 0.9028222\ttest: 0.9037867\tbest: 0.9039400 (75)\ttotal: 12.4s\tremaining: 24m 43s\n",
      "83:\tlearn: 0.9029933\ttest: 0.9040200\tbest: 0.9040200 (83)\ttotal: 12.6s\tremaining: 24m 42s\n",
      "84:\tlearn: 0.9029556\ttest: 0.9040000\tbest: 0.9040200 (83)\ttotal: 12.7s\tremaining: 24m 42s\n",
      "85:\tlearn: 0.9029467\ttest: 0.9039933\tbest: 0.9040200 (83)\ttotal: 12.9s\tremaining: 24m 42s\n",
      "86:\tlearn: 0.9029644\ttest: 0.9039733\tbest: 0.9040200 (83)\ttotal: 13s\tremaining: 24m 41s\n",
      "87:\tlearn: 0.9029867\ttest: 0.9040000\tbest: 0.9040200 (83)\ttotal: 13.2s\tremaining: 24m 41s\n",
      "88:\tlearn: 0.9030289\ttest: 0.9040333\tbest: 0.9040333 (88)\ttotal: 13.3s\tremaining: 24m 40s\n",
      "89:\tlearn: 0.9030311\ttest: 0.9039867\tbest: 0.9040333 (88)\ttotal: 13.4s\tremaining: 24m 40s\n",
      "90:\tlearn: 0.9030444\ttest: 0.9040667\tbest: 0.9040667 (90)\ttotal: 13.6s\tremaining: 24m 41s\n",
      "91:\tlearn: 0.9030378\ttest: 0.9041133\tbest: 0.9041133 (91)\ttotal: 13.7s\tremaining: 24m 40s\n"
     ]
    },
    {
     "name": "stdout",
     "output_type": "stream",
     "text": [
      "92:\tlearn: 0.9030622\ttest: 0.9040067\tbest: 0.9041133 (91)\ttotal: 13.9s\tremaining: 24m 39s\n",
      "93:\tlearn: 0.9031600\ttest: 0.9041400\tbest: 0.9041400 (93)\ttotal: 14s\tremaining: 24m 39s\n",
      "94:\tlearn: 0.9032222\ttest: 0.9044333\tbest: 0.9044333 (94)\ttotal: 14.2s\tremaining: 24m 38s\n",
      "95:\tlearn: 0.9032356\ttest: 0.9044533\tbest: 0.9044533 (95)\ttotal: 14.3s\tremaining: 24m 39s\n",
      "96:\tlearn: 0.9032711\ttest: 0.9044267\tbest: 0.9044533 (95)\ttotal: 14.5s\tremaining: 24m 40s\n",
      "97:\tlearn: 0.9032578\ttest: 0.9044000\tbest: 0.9044533 (95)\ttotal: 14.6s\tremaining: 24m 38s\n",
      "98:\tlearn: 0.9032756\ttest: 0.9043733\tbest: 0.9044533 (95)\ttotal: 14.8s\tremaining: 24m 37s\n",
      "99:\tlearn: 0.9032956\ttest: 0.9043733\tbest: 0.9044533 (95)\ttotal: 14.9s\tremaining: 24m 37s\n",
      "100:\tlearn: 0.9033089\ttest: 0.9043867\tbest: 0.9044533 (95)\ttotal: 15.1s\tremaining: 24m 35s\n",
      "101:\tlearn: 0.9033444\ttest: 0.9044200\tbest: 0.9044533 (95)\ttotal: 15.2s\tremaining: 24m 34s\n",
      "102:\tlearn: 0.9033178\ttest: 0.9043867\tbest: 0.9044533 (95)\ttotal: 15.3s\tremaining: 24m 32s\n",
      "103:\tlearn: 0.9033244\ttest: 0.9043733\tbest: 0.9044533 (95)\ttotal: 15.5s\tremaining: 24m 32s\n",
      "104:\tlearn: 0.9033311\ttest: 0.9044200\tbest: 0.9044533 (95)\ttotal: 15.6s\tremaining: 24m 31s\n",
      "105:\tlearn: 0.9033556\ttest: 0.9044000\tbest: 0.9044533 (95)\ttotal: 15.8s\tremaining: 24m 31s\n",
      "106:\tlearn: 0.9033689\ttest: 0.9043133\tbest: 0.9044533 (95)\ttotal: 15.9s\tremaining: 24m 31s\n",
      "107:\tlearn: 0.9033822\ttest: 0.9044467\tbest: 0.9044533 (95)\ttotal: 16.1s\tremaining: 24m 34s\n",
      "108:\tlearn: 0.9034644\ttest: 0.9044333\tbest: 0.9044533 (95)\ttotal: 16.3s\tremaining: 24m 39s\n",
      "109:\tlearn: 0.9034778\ttest: 0.9043733\tbest: 0.9044533 (95)\ttotal: 16.5s\tremaining: 24m 39s\n",
      "110:\tlearn: 0.9034467\ttest: 0.9043400\tbest: 0.9044533 (95)\ttotal: 16.6s\tremaining: 24m 39s\n",
      "111:\tlearn: 0.9034600\ttest: 0.9043533\tbest: 0.9044533 (95)\ttotal: 16.7s\tremaining: 24m 37s\n",
      "112:\tlearn: 0.9035067\ttest: 0.9043733\tbest: 0.9044533 (95)\ttotal: 16.9s\tremaining: 24m 35s\n",
      "113:\tlearn: 0.9035289\ttest: 0.9045000\tbest: 0.9045000 (113)\ttotal: 17s\tremaining: 24m 34s\n",
      "114:\tlearn: 0.9034800\ttest: 0.9045667\tbest: 0.9045667 (114)\ttotal: 17.1s\tremaining: 24m 33s\n",
      "115:\tlearn: 0.9034889\ttest: 0.9045600\tbest: 0.9045667 (114)\ttotal: 17.3s\tremaining: 24m 31s\n",
      "116:\tlearn: 0.9035556\ttest: 0.9045533\tbest: 0.9045667 (114)\ttotal: 17.4s\tremaining: 24m 30s\n",
      "117:\tlearn: 0.9035644\ttest: 0.9045533\tbest: 0.9045667 (114)\ttotal: 17.5s\tremaining: 24m 27s\n",
      "118:\tlearn: 0.9035911\ttest: 0.9045867\tbest: 0.9045867 (118)\ttotal: 17.6s\tremaining: 24m 25s\n",
      "119:\tlearn: 0.9035800\ttest: 0.9045733\tbest: 0.9045867 (118)\ttotal: 17.8s\tremaining: 24m 24s\n",
      "120:\tlearn: 0.9035889\ttest: 0.9045467\tbest: 0.9045867 (118)\ttotal: 17.9s\tremaining: 24m 25s\n",
      "121:\tlearn: 0.9036044\ttest: 0.9046200\tbest: 0.9046200 (121)\ttotal: 18.1s\tremaining: 24m 22s\n",
      "122:\tlearn: 0.9036356\ttest: 0.9046200\tbest: 0.9046200 (121)\ttotal: 18.2s\tremaining: 24m 20s\n",
      "123:\tlearn: 0.9036600\ttest: 0.9046867\tbest: 0.9046867 (123)\ttotal: 18.3s\tremaining: 24m 19s\n",
      "124:\tlearn: 0.9037067\ttest: 0.9046600\tbest: 0.9046867 (123)\ttotal: 18.5s\tremaining: 24m 19s\n",
      "125:\tlearn: 0.9036911\ttest: 0.9046133\tbest: 0.9046867 (123)\ttotal: 18.6s\tremaining: 24m 17s\n",
      "126:\tlearn: 0.9036933\ttest: 0.9046133\tbest: 0.9046867 (123)\ttotal: 18.7s\tremaining: 24m 15s\n",
      "127:\tlearn: 0.9036978\ttest: 0.9046533\tbest: 0.9046867 (123)\ttotal: 18.9s\tremaining: 24m 14s\n",
      "128:\tlearn: 0.9037289\ttest: 0.9046933\tbest: 0.9046933 (128)\ttotal: 19s\tremaining: 24m 13s\n",
      "129:\tlearn: 0.9037400\ttest: 0.9047867\tbest: 0.9047867 (129)\ttotal: 19.1s\tremaining: 24m 13s\n",
      "130:\tlearn: 0.9037733\ttest: 0.9047667\tbest: 0.9047867 (129)\ttotal: 19.3s\tremaining: 24m 13s\n",
      "131:\tlearn: 0.9038044\ttest: 0.9047667\tbest: 0.9047867 (129)\ttotal: 19.4s\tremaining: 24m 11s\n",
      "132:\tlearn: 0.9038244\ttest: 0.9048267\tbest: 0.9048267 (132)\ttotal: 19.5s\tremaining: 24m 9s\n",
      "133:\tlearn: 0.9038400\ttest: 0.9049400\tbest: 0.9049400 (133)\ttotal: 19.7s\tremaining: 24m 9s\n",
      "134:\tlearn: 0.9038511\ttest: 0.9048933\tbest: 0.9049400 (133)\ttotal: 19.8s\tremaining: 24m 9s\n",
      "135:\tlearn: 0.9038644\ttest: 0.9048667\tbest: 0.9049400 (133)\ttotal: 19.9s\tremaining: 24m 6s\n",
      "136:\tlearn: 0.9039133\ttest: 0.9049667\tbest: 0.9049667 (136)\ttotal: 20.1s\tremaining: 24m 5s\n",
      "137:\tlearn: 0.9039089\ttest: 0.9049933\tbest: 0.9049933 (137)\ttotal: 20.2s\tremaining: 24m 4s\n",
      "138:\tlearn: 0.9039267\ttest: 0.9050267\tbest: 0.9050267 (138)\ttotal: 20.3s\tremaining: 24m 3s\n",
      "139:\tlearn: 0.9039022\ttest: 0.9049467\tbest: 0.9050267 (138)\ttotal: 20.5s\tremaining: 24m 2s\n",
      "140:\tlearn: 0.9038889\ttest: 0.9049467\tbest: 0.9050267 (138)\ttotal: 20.6s\tremaining: 24m\n",
      "141:\tlearn: 0.9038889\ttest: 0.9049000\tbest: 0.9050267 (138)\ttotal: 20.7s\tremaining: 23m 59s\n",
      "142:\tlearn: 0.9039311\ttest: 0.9049533\tbest: 0.9050267 (138)\ttotal: 20.9s\tremaining: 23m 58s\n",
      "143:\tlearn: 0.9039200\ttest: 0.9049400\tbest: 0.9050267 (138)\ttotal: 21s\tremaining: 23m 57s\n",
      "144:\tlearn: 0.9039200\ttest: 0.9049333\tbest: 0.9050267 (138)\ttotal: 21.1s\tremaining: 23m 57s\n",
      "145:\tlearn: 0.9039422\ttest: 0.9049267\tbest: 0.9050267 (138)\ttotal: 21.3s\tremaining: 23m 55s\n",
      "146:\tlearn: 0.9039644\ttest: 0.9048400\tbest: 0.9050267 (138)\ttotal: 21.4s\tremaining: 23m 56s\n",
      "147:\tlearn: 0.9039444\ttest: 0.9048600\tbest: 0.9050267 (138)\ttotal: 21.6s\tremaining: 23m 54s\n",
      "148:\tlearn: 0.9039778\ttest: 0.9048667\tbest: 0.9050267 (138)\ttotal: 21.7s\tremaining: 23m 55s\n",
      "149:\tlearn: 0.9039533\ttest: 0.9048867\tbest: 0.9050267 (138)\ttotal: 21.8s\tremaining: 23m 53s\n",
      "150:\tlearn: 0.9039711\ttest: 0.9048933\tbest: 0.9050267 (138)\ttotal: 22s\tremaining: 23m 53s\n",
      "151:\tlearn: 0.9040067\ttest: 0.9048600\tbest: 0.9050267 (138)\ttotal: 22.1s\tremaining: 23m 51s\n",
      "152:\tlearn: 0.9040022\ttest: 0.9048933\tbest: 0.9050267 (138)\ttotal: 22.2s\tremaining: 23m 50s\n",
      "153:\tlearn: 0.9040400\ttest: 0.9049200\tbest: 0.9050267 (138)\ttotal: 22.4s\tremaining: 23m 49s\n",
      "154:\tlearn: 0.9040267\ttest: 0.9049000\tbest: 0.9050267 (138)\ttotal: 22.5s\tremaining: 23m 48s\n",
      "155:\tlearn: 0.9040422\ttest: 0.9048067\tbest: 0.9050267 (138)\ttotal: 22.6s\tremaining: 23m 47s\n",
      "156:\tlearn: 0.9040867\ttest: 0.9047533\tbest: 0.9050267 (138)\ttotal: 22.8s\tremaining: 23m 47s\n",
      "157:\tlearn: 0.9041111\ttest: 0.9046933\tbest: 0.9050267 (138)\ttotal: 22.9s\tremaining: 23m 45s\n",
      "158:\tlearn: 0.9040956\ttest: 0.9047800\tbest: 0.9050267 (138)\ttotal: 23s\tremaining: 23m 44s\n",
      "159:\tlearn: 0.9040867\ttest: 0.9047867\tbest: 0.9050267 (138)\ttotal: 23.2s\tremaining: 23m 43s\n",
      "160:\tlearn: 0.9040844\ttest: 0.9048200\tbest: 0.9050267 (138)\ttotal: 23.3s\tremaining: 23m 43s\n",
      "161:\tlearn: 0.9041044\ttest: 0.9048400\tbest: 0.9050267 (138)\ttotal: 23.4s\tremaining: 23m 41s\n",
      "162:\tlearn: 0.9041489\ttest: 0.9048333\tbest: 0.9050267 (138)\ttotal: 23.5s\tremaining: 23m 39s\n",
      "163:\tlearn: 0.9041444\ttest: 0.9048867\tbest: 0.9050267 (138)\ttotal: 23.7s\tremaining: 23m 38s\n",
      "164:\tlearn: 0.9041867\ttest: 0.9047400\tbest: 0.9050267 (138)\ttotal: 23.8s\tremaining: 23m 38s\n",
      "165:\tlearn: 0.9042222\ttest: 0.9046933\tbest: 0.9050267 (138)\ttotal: 23.9s\tremaining: 23m 37s\n",
      "166:\tlearn: 0.9042289\ttest: 0.9046267\tbest: 0.9050267 (138)\ttotal: 24.1s\tremaining: 23m 36s\n",
      "167:\tlearn: 0.9042067\ttest: 0.9046400\tbest: 0.9050267 (138)\ttotal: 24.2s\tremaining: 23m 34s\n",
      "168:\tlearn: 0.9041889\ttest: 0.9045800\tbest: 0.9050267 (138)\ttotal: 24.3s\tremaining: 23m 34s\n",
      "Stopped by overfitting detector  (30 iterations wait)\n",
      "\n",
      "bestTest = 0.9050266667\n",
      "bestIteration = 138\n",
      "\n",
      "Shrink model to first 139 iterations.\n"
     ]
    },
    {
     "data": {
      "text/plain": [
       "<catboost.core.CatBoostClassifier at 0x1b2409cc0>"
      ]
     },
     "execution_count": 333,
     "metadata": {},
     "output_type": "execute_result"
    }
   ],
   "source": [
    "cat_x_2_for_stack = CatBoostClassifier(**params_2_for_stack)\n",
    "cat_x_2_for_stack.fit(train_cv_2.drop('class',axis = 1), train_cv_2['class'],eval_set=(val_cv_2.drop('class',axis = 1), val_cv_2['class']),verbose = 1)"
   ]
  },
  {
   "cell_type": "code",
   "execution_count": 334,
   "metadata": {},
   "outputs": [],
   "source": [
    "train_pred_x_2 = cat_x_2_for_stack.predict_proba(train_cv_2.drop('class',axis = 1),ntree_end=cat_x_2_for_stack.best_iteration_)"
   ]
  },
  {
   "cell_type": "code",
   "execution_count": 335,
   "metadata": {},
   "outputs": [],
   "source": [
    "val_pred_x_2 = cat_x_2_for_stack.predict_proba(val_cv_2.drop('class',axis = 1),ntree_end=cat_x_2_for_stack.best_iteration_)"
   ]
  },
  {
   "cell_type": "code",
   "execution_count": 336,
   "metadata": {},
   "outputs": [
    {
     "data": {
      "image/png": "[encoded data removed]",
      "text/plain": [
       "<Figure size 432x288 with 1 Axes>"
      ]
     },
     "metadata": {},
     "output_type": "display_data"
    }
   ],
   "source": [
    "feat_imp = cat_x_2_for_stack.get_feature_importance(Pool(train_cv_2.drop('class',axis = 1)))\n",
    "plt.figure()\n",
    "plt.bar(train_cv_2.drop('class',axis = 1).columns.values, feat_imp)\n",
    "plt.xticks(rotation = 90)\n",
    "plt.show()"
   ]
  },
  {
   "cell_type": "code",
   "execution_count": 337,
   "metadata": {},
   "outputs": [],
   "source": [
    "train_df_3.loc[train_df_3['slope'] == 'A', 'slope'] = 1\n",
    "train_df_3.loc[train_df_3['slope'] == 'B', 'slope'] = 2\n",
    "train_df_3.loc[train_df_3['slope'] == 'C', 'slope'] = 3"
   ]
  },
  {
   "cell_type": "code",
   "execution_count": 338,
   "metadata": {},
   "outputs": [],
   "source": [
    "test_df_3.loc[train_df_3['slope'] == 'A', 'slope'] = 1\n",
    "test_df_3.loc[train_df_3['slope'] == 'B', 'slope'] = 2\n",
    "test_df_3.loc[train_df_3['slope'] == 'C', 'slope'] = 3"
   ]
  },
  {
   "cell_type": "code",
   "execution_count": 339,
   "metadata": {},
   "outputs": [],
   "source": [
    "train_cv_3, val_cv_3 = train_test_split(train_df_3)"
   ]
  },
  {
   "cell_type": "code",
   "execution_count": 340,
   "metadata": {},
   "outputs": [],
   "source": [
    "params_3_for_stack = {'iterations':10000, 'learning_rate':0.2, 'depth':5,'eval_metric':'Accuracy','random_seed':333,'use_best_model':True,'early_stopping_rounds':30,\n",
    "          'thread_count':5}"
   ]
  },
  {
   "cell_type": "code",
   "execution_count": 341,
   "metadata": {},
   "outputs": [
    {
     "name": "stdout",
     "output_type": "stream",
     "text": [
      "0:\tlearn: 0.8707467\ttest: 0.8713933\tbest: 0.8713933 (0)\ttotal: 132ms\tremaining: 21m 58s\n",
      "1:\tlearn: 0.8743756\ttest: 0.8750667\tbest: 0.8750667 (1)\ttotal: 277ms\tremaining: 23m 5s\n",
      "2:\tlearn: 0.8767556\ttest: 0.8770800\tbest: 0.8770800 (2)\ttotal: 427ms\tremaining: 23m 42s\n",
      "3:\tlearn: 0.8802911\ttest: 0.8810600\tbest: 0.8810600 (3)\ttotal: 602ms\tremaining: 25m 4s\n",
      "4:\tlearn: 0.8835133\ttest: 0.8839133\tbest: 0.8839133 (4)\ttotal: 797ms\tremaining: 26m 32s\n",
      "5:\tlearn: 0.8840800\ttest: 0.8842067\tbest: 0.8842067 (5)\ttotal: 963ms\tremaining: 26m 44s\n",
      "6:\tlearn: 0.8859067\ttest: 0.8861733\tbest: 0.8861733 (6)\ttotal: 1.15s\tremaining: 27m 17s\n",
      "7:\tlearn: 0.8872778\ttest: 0.8878467\tbest: 0.8878467 (7)\ttotal: 1.28s\tremaining: 26m 44s\n",
      "8:\tlearn: 0.8899356\ttest: 0.8910267\tbest: 0.8910267 (8)\ttotal: 1.42s\tremaining: 26m 14s\n",
      "9:\tlearn: 0.8912133\ttest: 0.8922200\tbest: 0.8922200 (9)\ttotal: 1.57s\tremaining: 26m 10s\n",
      "10:\tlearn: 0.8922422\ttest: 0.8930400\tbest: 0.8930400 (10)\ttotal: 1.73s\tremaining: 26m 7s\n",
      "11:\tlearn: 0.8927444\ttest: 0.8936733\tbest: 0.8936733 (11)\ttotal: 1.88s\tremaining: 26m 6s\n",
      "12:\tlearn: 0.8935178\ttest: 0.8944600\tbest: 0.8944600 (12)\ttotal: 2.02s\tremaining: 25m 51s\n",
      "13:\tlearn: 0.8947800\ttest: 0.8955800\tbest: 0.8955800 (13)\ttotal: 2.19s\tremaining: 26m 2s\n",
      "14:\tlearn: 0.8957800\ttest: 0.8967000\tbest: 0.8967000 (14)\ttotal: 2.37s\tremaining: 26m 18s\n",
      "15:\tlearn: 0.8962956\ttest: 0.8972267\tbest: 0.8972267 (15)\ttotal: 2.51s\tremaining: 26m 8s\n",
      "16:\tlearn: 0.8966956\ttest: 0.8976133\tbest: 0.8976133 (16)\ttotal: 2.66s\tremaining: 26m\n",
      "17:\tlearn: 0.8970400\ttest: 0.8979267\tbest: 0.8979267 (17)\ttotal: 2.82s\tremaining: 26m 5s\n",
      "18:\tlearn: 0.8973400\ttest: 0.8983933\tbest: 0.8983933 (18)\ttotal: 2.98s\tremaining: 26m 8s\n",
      "19:\tlearn: 0.8976533\ttest: 0.8984600\tbest: 0.8984600 (19)\ttotal: 3.13s\tremaining: 26m\n",
      "20:\tlearn: 0.8981844\ttest: 0.8991533\tbest: 0.8991533 (20)\ttotal: 3.27s\tremaining: 25m 52s\n",
      "21:\tlearn: 0.8982067\ttest: 0.8989933\tbest: 0.8991533 (20)\ttotal: 3.42s\tremaining: 25m 51s\n",
      "22:\tlearn: 0.8985111\ttest: 0.8992667\tbest: 0.8992667 (22)\ttotal: 3.56s\tremaining: 25m 43s\n",
      "23:\tlearn: 0.8986600\ttest: 0.8992467\tbest: 0.8992667 (22)\ttotal: 3.71s\tremaining: 25m 43s\n",
      "24:\tlearn: 0.8987778\ttest: 0.8995733\tbest: 0.8995733 (24)\ttotal: 3.87s\tremaining: 25m 43s\n",
      "25:\tlearn: 0.8989022\ttest: 0.8994933\tbest: 0.8995733 (24)\ttotal: 4.02s\tremaining: 25m 42s\n",
      "26:\tlearn: 0.8990800\ttest: 0.8997600\tbest: 0.8997600 (26)\ttotal: 4.16s\tremaining: 25m 36s\n",
      "27:\tlearn: 0.8992933\ttest: 0.8999400\tbest: 0.8999400 (27)\ttotal: 4.31s\tremaining: 25m 34s\n",
      "28:\tlearn: 0.8995378\ttest: 0.9002267\tbest: 0.9002267 (28)\ttotal: 4.45s\tremaining: 25m 28s\n",
      "29:\tlearn: 0.8996378\ttest: 0.9001933\tbest: 0.9002267 (28)\ttotal: 4.59s\tremaining: 25m 26s\n",
      "30:\tlearn: 0.8997511\ttest: 0.9003333\tbest: 0.9003333 (30)\ttotal: 4.74s\tremaining: 25m 23s\n",
      "31:\tlearn: 0.8999133\ttest: 0.9004867\tbest: 0.9004867 (31)\ttotal: 4.89s\tremaining: 25m 23s\n",
      "32:\tlearn: 0.9000000\ttest: 0.9007400\tbest: 0.9007400 (32)\ttotal: 5.04s\tremaining: 25m 22s\n",
      "33:\tlearn: 0.9001467\ttest: 0.9010533\tbest: 0.9010533 (33)\ttotal: 5.25s\tremaining: 25m 38s\n",
      "34:\tlearn: 0.9003778\ttest: 0.9010600\tbest: 0.9010600 (34)\ttotal: 5.42s\tremaining: 25m 42s\n",
      "35:\tlearn: 0.9003400\ttest: 0.9010733\tbest: 0.9010733 (35)\ttotal: 5.56s\tremaining: 25m 39s\n",
      "36:\tlearn: 0.9005956\ttest: 0.9012533\tbest: 0.9012533 (36)\ttotal: 5.71s\tremaining: 25m 38s\n",
      "37:\tlearn: 0.9006200\ttest: 0.9012000\tbest: 0.9012533 (36)\ttotal: 5.86s\tremaining: 25m 35s\n",
      "38:\tlearn: 0.9007889\ttest: 0.9014267\tbest: 0.9014267 (38)\ttotal: 6.01s\tremaining: 25m 34s\n",
      "39:\tlearn: 0.9008711\ttest: 0.9016333\tbest: 0.9016333 (39)\ttotal: 6.15s\tremaining: 25m 32s\n",
      "40:\tlearn: 0.9009711\ttest: 0.9016400\tbest: 0.9016400 (40)\ttotal: 6.31s\tremaining: 25m 32s\n",
      "41:\tlearn: 0.9010600\ttest: 0.9017733\tbest: 0.9017733 (41)\ttotal: 6.46s\tremaining: 25m 30s\n",
      "42:\tlearn: 0.9010933\ttest: 0.9017667\tbest: 0.9017733 (41)\ttotal: 6.6s\tremaining: 25m 28s\n",
      "43:\tlearn: 0.9011022\ttest: 0.9018467\tbest: 0.9018467 (43)\ttotal: 6.73s\tremaining: 25m 23s\n",
      "44:\tlearn: 0.9011556\ttest: 0.9019600\tbest: 0.9019600 (44)\ttotal: 6.89s\tremaining: 25m 25s\n",
      "45:\tlearn: 0.9011711\ttest: 0.9021200\tbest: 0.9021200 (45)\ttotal: 7.03s\tremaining: 25m 21s\n",
      "46:\tlearn: 0.9011889\ttest: 0.9020267\tbest: 0.9021200 (45)\ttotal: 7.18s\tremaining: 25m 20s\n",
      "47:\tlearn: 0.9012822\ttest: 0.9021000\tbest: 0.9021200 (45)\ttotal: 7.32s\tremaining: 25m 17s\n",
      "48:\tlearn: 0.9013644\ttest: 0.9020533\tbest: 0.9021200 (45)\ttotal: 7.47s\tremaining: 25m 17s\n",
      "49:\tlearn: 0.9013889\ttest: 0.9019600\tbest: 0.9021200 (45)\ttotal: 7.61s\tremaining: 25m 13s\n",
      "50:\tlearn: 0.9013911\ttest: 0.9020333\tbest: 0.9021200 (45)\ttotal: 7.75s\tremaining: 25m 12s\n",
      "51:\tlearn: 0.9016000\ttest: 0.9021533\tbest: 0.9021533 (51)\ttotal: 7.9s\tremaining: 25m 11s\n",
      "52:\tlearn: 0.9017311\ttest: 0.9023200\tbest: 0.9023200 (52)\ttotal: 8.05s\tremaining: 25m 11s\n",
      "53:\tlearn: 0.9018778\ttest: 0.9024333\tbest: 0.9024333 (53)\ttotal: 8.2s\tremaining: 25m 9s\n",
      "54:\tlearn: 0.9019044\ttest: 0.9024667\tbest: 0.9024667 (54)\ttotal: 8.34s\tremaining: 25m 8s\n",
      "55:\tlearn: 0.9019200\ttest: 0.9024867\tbest: 0.9024867 (55)\ttotal: 8.48s\tremaining: 25m 6s\n",
      "56:\tlearn: 0.9021733\ttest: 0.9028667\tbest: 0.9028667 (56)\ttotal: 8.63s\tremaining: 25m 6s\n",
      "57:\tlearn: 0.9022067\ttest: 0.9030467\tbest: 0.9030467 (57)\ttotal: 8.77s\tremaining: 25m 3s\n",
      "58:\tlearn: 0.9022267\ttest: 0.9029467\tbest: 0.9030467 (57)\ttotal: 8.92s\tremaining: 25m 3s\n",
      "59:\tlearn: 0.9022711\ttest: 0.9030400\tbest: 0.9030467 (57)\ttotal: 9.09s\tremaining: 25m 5s\n",
      "60:\tlearn: 0.9023244\ttest: 0.9030733\tbest: 0.9030733 (60)\ttotal: 9.23s\tremaining: 25m 3s\n",
      "61:\tlearn: 0.9023822\ttest: 0.9031733\tbest: 0.9031733 (61)\ttotal: 9.39s\tremaining: 25m 5s\n",
      "62:\tlearn: 0.9023733\ttest: 0.9031400\tbest: 0.9031733 (61)\ttotal: 9.54s\tremaining: 25m 5s\n",
      "63:\tlearn: 0.9024556\ttest: 0.9031800\tbest: 0.9031800 (63)\ttotal: 9.69s\tremaining: 25m 3s\n",
      "64:\tlearn: 0.9024556\ttest: 0.9031067\tbest: 0.9031800 (63)\ttotal: 9.83s\tremaining: 25m 2s\n",
      "65:\tlearn: 0.9024711\ttest: 0.9030800\tbest: 0.9031800 (63)\ttotal: 9.97s\tremaining: 25m\n",
      "66:\tlearn: 0.9025422\ttest: 0.9032667\tbest: 0.9032667 (66)\ttotal: 10.1s\tremaining: 25m\n",
      "67:\tlearn: 0.9025600\ttest: 0.9032533\tbest: 0.9032667 (66)\ttotal: 10.3s\tremaining: 24m 58s\n",
      "68:\tlearn: 0.9026156\ttest: 0.9031533\tbest: 0.9032667 (66)\ttotal: 10.4s\tremaining: 24m 58s\n",
      "69:\tlearn: 0.9026022\ttest: 0.9032200\tbest: 0.9032667 (66)\ttotal: 10.6s\tremaining: 24m 58s\n",
      "70:\tlearn: 0.9026533\ttest: 0.9032800\tbest: 0.9032800 (70)\ttotal: 10.7s\tremaining: 24m 57s\n",
      "71:\tlearn: 0.9026578\ttest: 0.9033000\tbest: 0.9033000 (71)\ttotal: 10.9s\tremaining: 24m 57s\n",
      "72:\tlearn: 0.9027422\ttest: 0.9033267\tbest: 0.9033267 (72)\ttotal: 11s\tremaining: 24m 58s\n",
      "73:\tlearn: 0.9028467\ttest: 0.9035333\tbest: 0.9035333 (73)\ttotal: 11.2s\tremaining: 24m 57s\n",
      "74:\tlearn: 0.9028467\ttest: 0.9034267\tbest: 0.9035333 (73)\ttotal: 11.3s\tremaining: 24m 56s\n",
      "75:\tlearn: 0.9028822\ttest: 0.9034133\tbest: 0.9035333 (73)\ttotal: 11.4s\tremaining: 24m 53s\n",
      "76:\tlearn: 0.9029133\ttest: 0.9035000\tbest: 0.9035333 (73)\ttotal: 11.6s\tremaining: 24m 54s\n",
      "77:\tlearn: 0.9029000\ttest: 0.9034800\tbest: 0.9035333 (73)\ttotal: 11.8s\tremaining: 24m 56s\n",
      "78:\tlearn: 0.9030267\ttest: 0.9034867\tbest: 0.9035333 (73)\ttotal: 11.9s\tremaining: 24m 57s\n",
      "79:\tlearn: 0.9030444\ttest: 0.9035400\tbest: 0.9035400 (79)\ttotal: 12.1s\tremaining: 24m 54s\n",
      "80:\tlearn: 0.9030911\ttest: 0.9034600\tbest: 0.9035400 (79)\ttotal: 12.2s\tremaining: 24m 54s\n",
      "81:\tlearn: 0.9030800\ttest: 0.9034933\tbest: 0.9035400 (79)\ttotal: 12.3s\tremaining: 24m 51s\n",
      "82:\tlearn: 0.9031400\ttest: 0.9035200\tbest: 0.9035400 (79)\ttotal: 12.5s\tremaining: 24m 53s\n",
      "83:\tlearn: 0.9031689\ttest: 0.9035000\tbest: 0.9035400 (79)\ttotal: 12.6s\tremaining: 24m 51s\n",
      "84:\tlearn: 0.9031911\ttest: 0.9035733\tbest: 0.9035733 (84)\ttotal: 12.8s\tremaining: 24m 52s\n",
      "85:\tlearn: 0.9031933\ttest: 0.9035133\tbest: 0.9035733 (84)\ttotal: 12.9s\tremaining: 24m 52s\n",
      "86:\tlearn: 0.9032222\ttest: 0.9035067\tbest: 0.9035733 (84)\ttotal: 13.1s\tremaining: 24m 51s\n",
      "87:\tlearn: 0.9032489\ttest: 0.9035467\tbest: 0.9035733 (84)\ttotal: 13.2s\tremaining: 24m 50s\n",
      "88:\tlearn: 0.9031889\ttest: 0.9034933\tbest: 0.9035733 (84)\ttotal: 13.4s\tremaining: 24m 50s\n",
      "89:\tlearn: 0.9032000\ttest: 0.9035600\tbest: 0.9035733 (84)\ttotal: 13.5s\tremaining: 24m 48s\n",
      "90:\tlearn: 0.9032111\ttest: 0.9035867\tbest: 0.9035867 (90)\ttotal: 13.7s\tremaining: 24m 48s\n",
      "91:\tlearn: 0.9033733\ttest: 0.9037200\tbest: 0.9037200 (91)\ttotal: 13.8s\tremaining: 24m 47s\n",
      "92:\tlearn: 0.9033822\ttest: 0.9037733\tbest: 0.9037733 (92)\ttotal: 14s\tremaining: 24m 51s\n"
     ]
    },
    {
     "name": "stdout",
     "output_type": "stream",
     "text": [
      "93:\tlearn: 0.9034156\ttest: 0.9037467\tbest: 0.9037733 (92)\ttotal: 14.3s\tremaining: 25m 4s\n",
      "94:\tlearn: 0.9034378\ttest: 0.9036867\tbest: 0.9037733 (92)\ttotal: 14.4s\tremaining: 25m 5s\n",
      "95:\tlearn: 0.9034311\ttest: 0.9038333\tbest: 0.9038333 (95)\ttotal: 14.6s\tremaining: 25m 4s\n",
      "96:\tlearn: 0.9034689\ttest: 0.9038933\tbest: 0.9038933 (96)\ttotal: 14.7s\tremaining: 25m 5s\n",
      "97:\tlearn: 0.9034578\ttest: 0.9039133\tbest: 0.9039133 (97)\ttotal: 14.9s\tremaining: 25m 6s\n",
      "98:\tlearn: 0.9034689\ttest: 0.9039333\tbest: 0.9039333 (98)\ttotal: 15.1s\tremaining: 25m 8s\n",
      "99:\tlearn: 0.9034556\ttest: 0.9039200\tbest: 0.9039333 (98)\ttotal: 15.3s\tremaining: 25m 10s\n",
      "100:\tlearn: 0.9035156\ttest: 0.9038467\tbest: 0.9039333 (98)\ttotal: 15.4s\tremaining: 25m 9s\n",
      "101:\tlearn: 0.9035889\ttest: 0.9039267\tbest: 0.9039333 (98)\ttotal: 15.5s\tremaining: 25m 7s\n",
      "102:\tlearn: 0.9036000\ttest: 0.9039133\tbest: 0.9039333 (98)\ttotal: 15.7s\tremaining: 25m 6s\n",
      "103:\tlearn: 0.9036111\ttest: 0.9039333\tbest: 0.9039333 (98)\ttotal: 15.8s\tremaining: 25m 3s\n",
      "104:\tlearn: 0.9036267\ttest: 0.9039133\tbest: 0.9039333 (98)\ttotal: 15.9s\tremaining: 25m 2s\n",
      "105:\tlearn: 0.9036733\ttest: 0.9039000\tbest: 0.9039333 (98)\ttotal: 16.1s\tremaining: 24m 59s\n",
      "106:\tlearn: 0.9036889\ttest: 0.9038467\tbest: 0.9039333 (98)\ttotal: 16.2s\tremaining: 25m 2s\n",
      "107:\tlearn: 0.9036867\ttest: 0.9038867\tbest: 0.9039333 (98)\ttotal: 16.5s\tremaining: 25m 7s\n",
      "108:\tlearn: 0.9037156\ttest: 0.9038533\tbest: 0.9039333 (98)\ttotal: 16.6s\tremaining: 25m 5s\n",
      "109:\tlearn: 0.9037778\ttest: 0.9040000\tbest: 0.9040000 (109)\ttotal: 16.7s\tremaining: 25m 5s\n",
      "110:\tlearn: 0.9037622\ttest: 0.9040067\tbest: 0.9040067 (110)\ttotal: 16.9s\tremaining: 25m 2s\n",
      "111:\tlearn: 0.9037533\ttest: 0.9039467\tbest: 0.9040067 (110)\ttotal: 17s\tremaining: 24m 59s\n",
      "112:\tlearn: 0.9037667\ttest: 0.9040200\tbest: 0.9040200 (112)\ttotal: 17.1s\tremaining: 24m 57s\n",
      "113:\tlearn: 0.9037911\ttest: 0.9039733\tbest: 0.9040200 (112)\ttotal: 17.3s\tremaining: 24m 56s\n",
      "114:\tlearn: 0.9038289\ttest: 0.9040533\tbest: 0.9040533 (114)\ttotal: 17.4s\tremaining: 24m 53s\n",
      "115:\tlearn: 0.9038711\ttest: 0.9040667\tbest: 0.9040667 (115)\ttotal: 17.5s\tremaining: 24m 51s\n",
      "116:\tlearn: 0.9038778\ttest: 0.9041267\tbest: 0.9041267 (116)\ttotal: 17.6s\tremaining: 24m 48s\n",
      "117:\tlearn: 0.9039111\ttest: 0.9041200\tbest: 0.9041267 (116)\ttotal: 17.8s\tremaining: 24m 47s\n",
      "118:\tlearn: 0.9039289\ttest: 0.9041467\tbest: 0.9041467 (118)\ttotal: 17.9s\tremaining: 24m 44s\n",
      "119:\tlearn: 0.9039178\ttest: 0.9041533\tbest: 0.9041533 (119)\ttotal: 18s\tremaining: 24m 41s\n",
      "120:\tlearn: 0.9039000\ttest: 0.9041200\tbest: 0.9041533 (119)\ttotal: 18.1s\tremaining: 24m 41s\n",
      "121:\tlearn: 0.9038978\ttest: 0.9042200\tbest: 0.9042200 (121)\ttotal: 18.3s\tremaining: 24m 41s\n",
      "122:\tlearn: 0.9038956\ttest: 0.9041867\tbest: 0.9042200 (121)\ttotal: 18.4s\tremaining: 24m 38s\n",
      "123:\tlearn: 0.9039756\ttest: 0.9040333\tbest: 0.9042200 (121)\ttotal: 18.6s\tremaining: 24m 39s\n",
      "124:\tlearn: 0.9039578\ttest: 0.9041067\tbest: 0.9042200 (121)\ttotal: 18.7s\tremaining: 24m 36s\n",
      "125:\tlearn: 0.9039689\ttest: 0.9042667\tbest: 0.9042667 (125)\ttotal: 18.8s\tremaining: 24m 34s\n",
      "126:\tlearn: 0.9039844\ttest: 0.9042333\tbest: 0.9042667 (125)\ttotal: 18.9s\tremaining: 24m 32s\n",
      "127:\tlearn: 0.9039844\ttest: 0.9042600\tbest: 0.9042667 (125)\ttotal: 19.1s\tremaining: 24m 31s\n",
      "128:\tlearn: 0.9039756\ttest: 0.9042600\tbest: 0.9042667 (125)\ttotal: 19.2s\tremaining: 24m 28s\n",
      "129:\tlearn: 0.9040067\ttest: 0.9043867\tbest: 0.9043867 (129)\ttotal: 19.3s\tremaining: 24m 27s\n",
      "130:\tlearn: 0.9039689\ttest: 0.9044133\tbest: 0.9044133 (130)\ttotal: 19.4s\tremaining: 24m 25s\n",
      "131:\tlearn: 0.9040222\ttest: 0.9044467\tbest: 0.9044467 (131)\ttotal: 19.6s\tremaining: 24m 23s\n",
      "132:\tlearn: 0.9040489\ttest: 0.9044400\tbest: 0.9044467 (131)\ttotal: 19.7s\tremaining: 24m 21s\n",
      "133:\tlearn: 0.9040667\ttest: 0.9043933\tbest: 0.9044467 (131)\ttotal: 19.8s\tremaining: 24m 20s\n",
      "134:\tlearn: 0.9040511\ttest: 0.9043800\tbest: 0.9044467 (131)\ttotal: 20s\tremaining: 24m 18s\n",
      "135:\tlearn: 0.9040489\ttest: 0.9043667\tbest: 0.9044467 (131)\ttotal: 20.1s\tremaining: 24m 15s\n",
      "136:\tlearn: 0.9040667\ttest: 0.9043067\tbest: 0.9044467 (131)\ttotal: 20.2s\tremaining: 24m 14s\n",
      "137:\tlearn: 0.9041044\ttest: 0.9042800\tbest: 0.9044467 (131)\ttotal: 20.4s\tremaining: 24m 14s\n",
      "138:\tlearn: 0.9041067\ttest: 0.9043267\tbest: 0.9044467 (131)\ttotal: 20.5s\tremaining: 24m 11s\n",
      "139:\tlearn: 0.9041244\ttest: 0.9043800\tbest: 0.9044467 (131)\ttotal: 20.6s\tremaining: 24m 9s\n",
      "140:\tlearn: 0.9041200\ttest: 0.9044133\tbest: 0.9044467 (131)\ttotal: 20.7s\tremaining: 24m 8s\n",
      "141:\tlearn: 0.9041267\ttest: 0.9044200\tbest: 0.9044467 (131)\ttotal: 20.8s\tremaining: 24m 7s\n",
      "142:\tlearn: 0.9041622\ttest: 0.9044667\tbest: 0.9044667 (142)\ttotal: 21s\tremaining: 24m 5s\n",
      "143:\tlearn: 0.9041778\ttest: 0.9044200\tbest: 0.9044667 (142)\ttotal: 21.1s\tremaining: 24m 3s\n",
      "144:\tlearn: 0.9041444\ttest: 0.9044133\tbest: 0.9044667 (142)\ttotal: 21.2s\tremaining: 24m 2s\n",
      "145:\tlearn: 0.9041644\ttest: 0.9044533\tbest: 0.9044667 (142)\ttotal: 21.4s\tremaining: 24m 1s\n",
      "146:\tlearn: 0.9041822\ttest: 0.9044133\tbest: 0.9044667 (142)\ttotal: 21.5s\tremaining: 23m 59s\n",
      "147:\tlearn: 0.9041956\ttest: 0.9044400\tbest: 0.9044667 (142)\ttotal: 21.6s\tremaining: 23m 57s\n",
      "148:\tlearn: 0.9042000\ttest: 0.9045133\tbest: 0.9045133 (148)\ttotal: 21.7s\tremaining: 23m 57s\n",
      "149:\tlearn: 0.9042067\ttest: 0.9045067\tbest: 0.9045133 (148)\ttotal: 21.9s\tremaining: 23m 56s\n",
      "150:\tlearn: 0.9042044\ttest: 0.9045200\tbest: 0.9045200 (150)\ttotal: 22s\tremaining: 23m 54s\n",
      "151:\tlearn: 0.9041822\ttest: 0.9044800\tbest: 0.9045200 (150)\ttotal: 22.1s\tremaining: 23m 55s\n",
      "152:\tlearn: 0.9041533\ttest: 0.9044200\tbest: 0.9045200 (150)\ttotal: 22.3s\tremaining: 23m 53s\n",
      "153:\tlearn: 0.9041733\ttest: 0.9044067\tbest: 0.9045200 (150)\ttotal: 22.4s\tremaining: 23m 51s\n",
      "154:\tlearn: 0.9042067\ttest: 0.9043800\tbest: 0.9045200 (150)\ttotal: 22.5s\tremaining: 23m 49s\n",
      "155:\tlearn: 0.9041911\ttest: 0.9044000\tbest: 0.9045200 (150)\ttotal: 22.6s\tremaining: 23m 48s\n",
      "156:\tlearn: 0.9042244\ttest: 0.9043800\tbest: 0.9045200 (150)\ttotal: 22.8s\tremaining: 23m 47s\n",
      "157:\tlearn: 0.9042222\ttest: 0.9043467\tbest: 0.9045200 (150)\ttotal: 22.9s\tremaining: 23m 45s\n",
      "158:\tlearn: 0.9042444\ttest: 0.9043133\tbest: 0.9045200 (150)\ttotal: 23s\tremaining: 23m 44s\n",
      "159:\tlearn: 0.9042911\ttest: 0.9044133\tbest: 0.9045200 (150)\ttotal: 23.2s\tremaining: 23m 45s\n",
      "160:\tlearn: 0.9042756\ttest: 0.9044467\tbest: 0.9045200 (150)\ttotal: 23.3s\tremaining: 23m 43s\n",
      "161:\tlearn: 0.9042867\ttest: 0.9044267\tbest: 0.9045200 (150)\ttotal: 23.4s\tremaining: 23m 42s\n",
      "162:\tlearn: 0.9043067\ttest: 0.9044200\tbest: 0.9045200 (150)\ttotal: 23.6s\tremaining: 23m 41s\n",
      "163:\tlearn: 0.9043222\ttest: 0.9043800\tbest: 0.9045200 (150)\ttotal: 23.7s\tremaining: 23m 42s\n",
      "164:\tlearn: 0.9043067\ttest: 0.9043467\tbest: 0.9045200 (150)\ttotal: 23.8s\tremaining: 23m 41s\n",
      "165:\tlearn: 0.9043156\ttest: 0.9043667\tbest: 0.9045200 (150)\ttotal: 24s\tremaining: 23m 40s\n",
      "166:\tlearn: 0.9043444\ttest: 0.9043400\tbest: 0.9045200 (150)\ttotal: 24.1s\tremaining: 23m 39s\n",
      "167:\tlearn: 0.9043311\ttest: 0.9043800\tbest: 0.9045200 (150)\ttotal: 24.2s\tremaining: 23m 38s\n",
      "168:\tlearn: 0.9043111\ttest: 0.9043733\tbest: 0.9045200 (150)\ttotal: 24.4s\tremaining: 23m 36s\n",
      "169:\tlearn: 0.9043044\ttest: 0.9044133\tbest: 0.9045200 (150)\ttotal: 24.5s\tremaining: 23m 36s\n",
      "170:\tlearn: 0.9043289\ttest: 0.9043733\tbest: 0.9045200 (150)\ttotal: 24.6s\tremaining: 23m 34s\n",
      "171:\tlearn: 0.9043267\ttest: 0.9043533\tbest: 0.9045200 (150)\ttotal: 24.7s\tremaining: 23m 33s\n",
      "172:\tlearn: 0.9043422\ttest: 0.9043867\tbest: 0.9045200 (150)\ttotal: 24.9s\tremaining: 23m 32s\n",
      "173:\tlearn: 0.9043489\ttest: 0.9043800\tbest: 0.9045200 (150)\ttotal: 25s\tremaining: 23m 31s\n",
      "174:\tlearn: 0.9043733\ttest: 0.9044000\tbest: 0.9045200 (150)\ttotal: 25.1s\tremaining: 23m 29s\n",
      "175:\tlearn: 0.9043333\ttest: 0.9043933\tbest: 0.9045200 (150)\ttotal: 25.2s\tremaining: 23m 29s\n",
      "176:\tlearn: 0.9043733\ttest: 0.9043933\tbest: 0.9045200 (150)\ttotal: 25.4s\tremaining: 23m 27s\n",
      "177:\tlearn: 0.9043867\ttest: 0.9044267\tbest: 0.9045200 (150)\ttotal: 25.5s\tremaining: 23m 27s\n",
      "178:\tlearn: 0.9044000\ttest: 0.9044933\tbest: 0.9045200 (150)\ttotal: 25.6s\tremaining: 23m 26s\n",
      "179:\tlearn: 0.9043911\ttest: 0.9044533\tbest: 0.9045200 (150)\ttotal: 25.8s\tremaining: 23m 26s\n",
      "180:\tlearn: 0.9043933\ttest: 0.9044733\tbest: 0.9045200 (150)\ttotal: 25.9s\tremaining: 23m 25s\n",
      "Stopped by overfitting detector  (30 iterations wait)\n",
      "\n",
      "bestTest = 0.90452\n",
      "bestIteration = 150\n",
      "\n",
      "Shrink model to first 151 iterations.\n"
     ]
    },
    {
     "data": {
      "text/plain": [
       "<catboost.core.CatBoostClassifier at 0x14241f7f0>"
      ]
     },
     "execution_count": 341,
     "metadata": {},
     "output_type": "execute_result"
    }
   ],
   "source": [
    "cat_x_3_for_stack = CatBoostClassifier(**params_3_for_stack)\n",
    "cat_x_3_for_stack.fit(train_cv_3.drop('class',axis = 1), train_cv_3['class'],eval_set=(val_cv_3.drop('class',axis = 1), val_cv_3['class']),verbose = 1)"
   ]
  },
  {
   "cell_type": "code",
   "execution_count": 351,
   "metadata": {},
   "outputs": [
    {
     "data": {
      "image/png": "[encoded data removed]",
      "text/plain": [
       "<Figure size 432x288 with 1 Axes>"
      ]
     },
     "metadata": {},
     "output_type": "display_data"
    }
   ],
   "source": [
    "feat_imp = cat_x_3_for_stack.get_feature_importance(Pool(train_cv_3.drop('class',axis = 1)))\n",
    "plt.figure()\n",
    "plt.bar(train_cv_3.drop('class',axis = 1).columns.values, feat_imp)\n",
    "plt.xticks(rotation = 90)\n",
    "plt.show()"
   ]
  },
  {
   "cell_type": "code",
   "execution_count": 352,
   "metadata": {},
   "outputs": [],
   "source": [
    "#Ok, awesome nor stacking."
   ]
  },
  {
   "cell_type": "code",
   "execution_count": 353,
   "metadata": {},
   "outputs": [],
   "source": [
    "train_pred_x_3 = cat_x_3_for_stack.predict_proba(train_cv_3.drop('class',axis = 1), ntree_end=cat_x_3_for_stack.best_iteration_)"
   ]
  },
  {
   "cell_type": "code",
   "execution_count": 354,
   "metadata": {},
   "outputs": [],
   "source": [
    "val_pred_x_3 = cat_x_3_for_stack.predict_proba(val_cv_3.drop('class',axis = 1),ntree_end=cat_x_3_for_stack.best_iteration_)"
   ]
  },
  {
   "cell_type": "code",
   "execution_count": 355,
   "metadata": {},
   "outputs": [],
   "source": [
    "stack_train_cv_3_mix = pd.DataFrame({'c1':train_pred_x_1[:,1],'c2':train_pred_x_2[:,1], 'c3':train_pred_x_3[:,1]})"
   ]
  },
  {
   "cell_type": "code",
   "execution_count": 356,
   "metadata": {},
   "outputs": [],
   "source": [
    "stack_val_cv_3_mix = pd.DataFrame({'c1':val_pred_x_1[:,1],'c2':val_pred_x_2[:,1], 'c3':val_pred_x_3[:,1]})"
   ]
  },
  {
   "cell_type": "code",
   "execution_count": 357,
   "metadata": {},
   "outputs": [],
   "source": [
    "#Logisitc upper layer."
   ]
  },
  {
   "cell_type": "code",
   "execution_count": 358,
   "metadata": {},
   "outputs": [
    {
     "data": {
      "text/plain": [
       "LogisticRegression(C=1.0, class_weight=None, dual=False, fit_intercept=True,\n",
       "          intercept_scaling=1, max_iter=100, multi_class='ovr', n_jobs=1,\n",
       "          penalty='l2', random_state=None, solver='liblinear', tol=0.0001,\n",
       "          verbose=0, warm_start=False)"
      ]
     },
     "execution_count": 358,
     "metadata": {},
     "output_type": "execute_result"
    }
   ],
   "source": [
    "lm_stack_cv = LogisticRegression()\n",
    "lm_stack_cv.fit(stack_train_cv_3_mix, train_cv_1['class'])"
   ]
  },
  {
   "cell_type": "code",
   "execution_count": null,
   "metadata": {},
   "outputs": [],
   "source": []
  },
  {
   "cell_type": "code",
   "execution_count": 359,
   "metadata": {},
   "outputs": [
    {
     "data": {
      "text/plain": [
       "0.9040222222222222"
      ]
     },
     "execution_count": 359,
     "metadata": {},
     "output_type": "execute_result"
    }
   ],
   "source": [
    "lm_stack_cv.score(stack_train_cv_3_mix, train_cv_1['class'])"
   ]
  },
  {
   "cell_type": "code",
   "execution_count": 360,
   "metadata": {},
   "outputs": [
    {
     "data": {
      "text/plain": [
       "0.9042866666666667"
      ]
     },
     "execution_count": 360,
     "metadata": {},
     "output_type": "execute_result"
    }
   ],
   "source": [
    "lm_stack_cv.score(stack_val_cv_3_mix, val_cv_1['class'])"
   ]
  },
  {
   "cell_type": "code",
   "execution_count": 361,
   "metadata": {},
   "outputs": [],
   "source": [
    "#ok, predicting test set"
   ]
  },
  {
   "cell_type": "code",
   "execution_count": 362,
   "metadata": {},
   "outputs": [
    {
     "name": "stdout",
     "output_type": "stream",
     "text": [
      "0:\tlearn: 0.8649633\ttest: 0.8649633\tbest: 0.8649633 (0)\ttotal: 231ms\tremaining: 28.4s\n",
      "1:\tlearn: 0.8780933\ttest: 0.8780933\tbest: 0.8780933 (1)\ttotal: 531ms\tremaining: 32.4s\n",
      "2:\tlearn: 0.8750267\ttest: 0.8750267\tbest: 0.8780933 (1)\ttotal: 866ms\tremaining: 34.9s\n",
      "3:\tlearn: 0.8788350\ttest: 0.8788350\tbest: 0.8788350 (3)\ttotal: 1.22s\tremaining: 36.7s\n",
      "4:\tlearn: 0.8819567\ttest: 0.8819567\tbest: 0.8819567 (4)\ttotal: 1.52s\tremaining: 36.1s\n",
      "5:\tlearn: 0.8859833\ttest: 0.8859833\tbest: 0.8859833 (5)\ttotal: 1.8s\tremaining: 35.4s\n",
      "6:\tlearn: 0.8869750\ttest: 0.8869750\tbest: 0.8869750 (6)\ttotal: 2.08s\tremaining: 34.8s\n",
      "7:\tlearn: 0.8894733\ttest: 0.8894733\tbest: 0.8894733 (7)\ttotal: 2.42s\tremaining: 35s\n",
      "8:\tlearn: 0.8913400\ttest: 0.8913400\tbest: 0.8913400 (8)\ttotal: 2.65s\tremaining: 33.9s\n",
      "9:\tlearn: 0.8919983\ttest: 0.8919983\tbest: 0.8919983 (9)\ttotal: 2.91s\tremaining: 33.2s\n",
      "10:\tlearn: 0.8935467\ttest: 0.8935467\tbest: 0.8935467 (10)\ttotal: 3.2s\tremaining: 32.9s\n",
      "11:\tlearn: 0.8945900\ttest: 0.8945900\tbest: 0.8945900 (11)\ttotal: 3.45s\tremaining: 32.2s\n",
      "12:\tlearn: 0.8949250\ttest: 0.8949250\tbest: 0.8949250 (12)\ttotal: 3.73s\tremaining: 31.9s\n",
      "13:\tlearn: 0.8956050\ttest: 0.8956050\tbest: 0.8956050 (13)\ttotal: 3.97s\tremaining: 31.2s\n",
      "14:\tlearn: 0.8962300\ttest: 0.8962300\tbest: 0.8962300 (14)\ttotal: 4.23s\tremaining: 30.7s\n",
      "15:\tlearn: 0.8965433\ttest: 0.8965433\tbest: 0.8965433 (15)\ttotal: 4.46s\tremaining: 30.1s\n",
      "16:\tlearn: 0.8968550\ttest: 0.8968550\tbest: 0.8968550 (16)\ttotal: 4.75s\tremaining: 29.9s\n",
      "17:\tlearn: 0.8972283\ttest: 0.8972283\tbest: 0.8972283 (17)\ttotal: 5.03s\tremaining: 29.6s\n",
      "18:\tlearn: 0.8978950\ttest: 0.8978950\tbest: 0.8978950 (18)\ttotal: 5.28s\tremaining: 29.2s\n",
      "19:\tlearn: 0.8984667\ttest: 0.8984667\tbest: 0.8984667 (19)\ttotal: 5.58s\tremaining: 29s\n",
      "20:\tlearn: 0.8986300\ttest: 0.8986300\tbest: 0.8986300 (20)\ttotal: 5.87s\tremaining: 28.8s\n",
      "21:\tlearn: 0.8988000\ttest: 0.8988000\tbest: 0.8988000 (21)\ttotal: 6.09s\tremaining: 28.3s\n",
      "22:\tlearn: 0.8989750\ttest: 0.8989750\tbest: 0.8989750 (22)\ttotal: 6.33s\tremaining: 27.8s\n",
      "23:\tlearn: 0.8993533\ttest: 0.8993533\tbest: 0.8993533 (23)\ttotal: 6.58s\tremaining: 27.4s\n",
      "24:\tlearn: 0.8995267\ttest: 0.8995267\tbest: 0.8995267 (24)\ttotal: 6.85s\tremaining: 27.1s\n",
      "25:\tlearn: 0.8996450\ttest: 0.8996450\tbest: 0.8996450 (25)\ttotal: 7.07s\tremaining: 26.6s\n",
      "26:\tlearn: 0.9000017\ttest: 0.9000017\tbest: 0.9000017 (26)\ttotal: 7.3s\tremaining: 26.2s\n",
      "27:\tlearn: 0.9000517\ttest: 0.9000517\tbest: 0.9000517 (27)\ttotal: 7.57s\tremaining: 26s\n",
      "28:\tlearn: 0.9002317\ttest: 0.9002317\tbest: 0.9002317 (28)\ttotal: 7.82s\tremaining: 25.6s\n",
      "29:\tlearn: 0.9003233\ttest: 0.9003233\tbest: 0.9003233 (29)\ttotal: 8.1s\tremaining: 25.4s\n",
      "30:\tlearn: 0.9003667\ttest: 0.9003667\tbest: 0.9003667 (30)\ttotal: 8.34s\tremaining: 25s\n",
      "31:\tlearn: 0.9005683\ttest: 0.9005683\tbest: 0.9005683 (31)\ttotal: 8.6s\tremaining: 24.7s\n",
      "32:\tlearn: 0.9006083\ttest: 0.9006083\tbest: 0.9006083 (32)\ttotal: 8.83s\tremaining: 24.4s\n",
      "33:\tlearn: 0.9007483\ttest: 0.9007483\tbest: 0.9007483 (33)\ttotal: 9.11s\tremaining: 24.1s\n",
      "34:\tlearn: 0.9008183\ttest: 0.9008183\tbest: 0.9008183 (34)\ttotal: 9.33s\tremaining: 23.7s\n",
      "35:\tlearn: 0.9008867\ttest: 0.9008867\tbest: 0.9008867 (35)\ttotal: 9.6s\tremaining: 23.5s\n",
      "36:\tlearn: 0.9009717\ttest: 0.9009717\tbest: 0.9009717 (36)\ttotal: 9.82s\tremaining: 23.1s\n",
      "37:\tlearn: 0.9010333\ttest: 0.9010333\tbest: 0.9010333 (37)\ttotal: 10.1s\tremaining: 22.8s\n",
      "38:\tlearn: 0.9009833\ttest: 0.9009833\tbest: 0.9010333 (37)\ttotal: 10.3s\tremaining: 22.5s\n",
      "39:\tlearn: 0.9010683\ttest: 0.9010683\tbest: 0.9010683 (39)\ttotal: 10.6s\tremaining: 22.2s\n",
      "40:\tlearn: 0.9011933\ttest: 0.9011933\tbest: 0.9011933 (40)\ttotal: 10.8s\tremaining: 21.9s\n",
      "41:\tlearn: 0.9012300\ttest: 0.9012300\tbest: 0.9012300 (41)\ttotal: 11.1s\tremaining: 21.7s\n",
      "42:\tlearn: 0.9012200\ttest: 0.9012200\tbest: 0.9012300 (41)\ttotal: 11.3s\tremaining: 21.3s\n",
      "43:\tlearn: 0.9016100\ttest: 0.9016100\tbest: 0.9016100 (43)\ttotal: 11.6s\tremaining: 21.1s\n",
      "44:\tlearn: 0.9016950\ttest: 0.9016950\tbest: 0.9016950 (44)\ttotal: 11.8s\tremaining: 20.8s\n",
      "45:\tlearn: 0.9016800\ttest: 0.9016800\tbest: 0.9016950 (44)\ttotal: 12.1s\tremaining: 20.5s\n",
      "46:\tlearn: 0.9017133\ttest: 0.9017133\tbest: 0.9017133 (46)\ttotal: 12.3s\tremaining: 20.2s\n",
      "47:\tlearn: 0.9016983\ttest: 0.9016983\tbest: 0.9017133 (46)\ttotal: 12.6s\tremaining: 19.9s\n",
      "48:\tlearn: 0.9017483\ttest: 0.9017483\tbest: 0.9017483 (48)\ttotal: 12.9s\tremaining: 19.7s\n",
      "49:\tlearn: 0.9017800\ttest: 0.9017800\tbest: 0.9017800 (49)\ttotal: 13.1s\tremaining: 19.4s\n",
      "50:\tlearn: 0.9018750\ttest: 0.9018750\tbest: 0.9018750 (50)\ttotal: 13.4s\tremaining: 19.2s\n",
      "51:\tlearn: 0.9019617\ttest: 0.9019617\tbest: 0.9019617 (51)\ttotal: 13.7s\tremaining: 18.9s\n",
      "52:\tlearn: 0.9020233\ttest: 0.9020233\tbest: 0.9020233 (52)\ttotal: 14s\tremaining: 18.7s\n",
      "53:\tlearn: 0.9020183\ttest: 0.9020183\tbest: 0.9020233 (52)\ttotal: 14.2s\tremaining: 18.5s\n",
      "54:\tlearn: 0.9020650\ttest: 0.9020650\tbest: 0.9020650 (54)\ttotal: 14.5s\tremaining: 18.2s\n",
      "55:\tlearn: 0.9022650\ttest: 0.9022650\tbest: 0.9022650 (55)\ttotal: 14.8s\tremaining: 18s\n",
      "56:\tlearn: 0.9022383\ttest: 0.9022383\tbest: 0.9022650 (55)\ttotal: 15s\tremaining: 17.6s\n",
      "57:\tlearn: 0.9023417\ttest: 0.9023417\tbest: 0.9023417 (57)\ttotal: 15.3s\tremaining: 17.4s\n",
      "58:\tlearn: 0.9024483\ttest: 0.9024483\tbest: 0.9024483 (58)\ttotal: 15.5s\tremaining: 17.1s\n",
      "59:\tlearn: 0.9024167\ttest: 0.9024167\tbest: 0.9024483 (58)\ttotal: 15.7s\tremaining: 16.8s\n",
      "60:\tlearn: 0.9024317\ttest: 0.9024317\tbest: 0.9024483 (58)\ttotal: 16s\tremaining: 16.6s\n",
      "61:\tlearn: 0.9025383\ttest: 0.9025383\tbest: 0.9025383 (61)\ttotal: 16.2s\tremaining: 16.2s\n",
      "62:\tlearn: 0.9025333\ttest: 0.9025333\tbest: 0.9025383 (61)\ttotal: 16.6s\tremaining: 16s\n",
      "63:\tlearn: 0.9026617\ttest: 0.9026617\tbest: 0.9026617 (63)\ttotal: 16.8s\tremaining: 15.7s\n",
      "64:\tlearn: 0.9027500\ttest: 0.9027500\tbest: 0.9027500 (64)\ttotal: 17.1s\tremaining: 15.5s\n",
      "65:\tlearn: 0.9027600\ttest: 0.9027600\tbest: 0.9027600 (65)\ttotal: 17.4s\tremaining: 15.3s\n",
      "66:\tlearn: 0.9029867\ttest: 0.9029867\tbest: 0.9029867 (66)\ttotal: 17.6s\tremaining: 15s\n",
      "67:\tlearn: 0.9029783\ttest: 0.9029783\tbest: 0.9029867 (66)\ttotal: 18s\tremaining: 14.8s\n",
      "68:\tlearn: 0.9029967\ttest: 0.9029967\tbest: 0.9029967 (68)\ttotal: 18.2s\tremaining: 14.5s\n",
      "69:\tlearn: 0.9029933\ttest: 0.9029933\tbest: 0.9029967 (68)\ttotal: 18.5s\tremaining: 14.3s\n",
      "70:\tlearn: 0.9030483\ttest: 0.9030483\tbest: 0.9030483 (70)\ttotal: 18.8s\tremaining: 14s\n",
      "71:\tlearn: 0.9031717\ttest: 0.9031717\tbest: 0.9031717 (71)\ttotal: 19.1s\tremaining: 13.8s\n",
      "72:\tlearn: 0.9031333\ttest: 0.9031333\tbest: 0.9031717 (71)\ttotal: 19.4s\tremaining: 13.5s\n",
      "73:\tlearn: 0.9031233\ttest: 0.9031233\tbest: 0.9031717 (71)\ttotal: 19.6s\tremaining: 13.2s\n",
      "74:\tlearn: 0.9031233\ttest: 0.9031233\tbest: 0.9031717 (71)\ttotal: 19.8s\tremaining: 13s\n",
      "75:\tlearn: 0.9031500\ttest: 0.9031500\tbest: 0.9031717 (71)\ttotal: 20.1s\tremaining: 12.7s\n",
      "76:\tlearn: 0.9031683\ttest: 0.9031683\tbest: 0.9031717 (71)\ttotal: 20.4s\tremaining: 12.4s\n",
      "77:\tlearn: 0.9031417\ttest: 0.9031417\tbest: 0.9031717 (71)\ttotal: 20.6s\tremaining: 12.2s\n",
      "78:\tlearn: 0.9031850\ttest: 0.9031850\tbest: 0.9031850 (78)\ttotal: 20.9s\tremaining: 11.9s\n",
      "79:\tlearn: 0.9031633\ttest: 0.9031633\tbest: 0.9031850 (78)\ttotal: 21.2s\tremaining: 11.7s\n",
      "80:\tlearn: 0.9031300\ttest: 0.9031300\tbest: 0.9031850 (78)\ttotal: 21.4s\tremaining: 11.4s\n",
      "81:\tlearn: 0.9031800\ttest: 0.9031800\tbest: 0.9031850 (78)\ttotal: 21.7s\tremaining: 11.1s\n",
      "82:\tlearn: 0.9031817\ttest: 0.9031817\tbest: 0.9031850 (78)\ttotal: 21.9s\tremaining: 10.8s\n",
      "83:\tlearn: 0.9032450\ttest: 0.9032450\tbest: 0.9032450 (83)\ttotal: 22.2s\tremaining: 10.6s\n",
      "84:\tlearn: 0.9032633\ttest: 0.9032633\tbest: 0.9032633 (84)\ttotal: 22.4s\tremaining: 10.3s\n",
      "85:\tlearn: 0.9032650\ttest: 0.9032650\tbest: 0.9032650 (85)\ttotal: 22.7s\tremaining: 10s\n",
      "86:\tlearn: 0.9032700\ttest: 0.9032700\tbest: 0.9032700 (86)\ttotal: 22.9s\tremaining: 9.75s\n",
      "87:\tlearn: 0.9033133\ttest: 0.9033133\tbest: 0.9033133 (87)\ttotal: 23.2s\tremaining: 9.47s\n",
      "88:\tlearn: 0.9033350\ttest: 0.9033350\tbest: 0.9033350 (88)\ttotal: 23.4s\tremaining: 9.2s\n",
      "89:\tlearn: 0.9033583\ttest: 0.9033583\tbest: 0.9033583 (89)\ttotal: 23.6s\tremaining: 8.93s\n",
      "90:\tlearn: 0.9033967\ttest: 0.9033967\tbest: 0.9033967 (90)\ttotal: 23.9s\tremaining: 8.68s\n",
      "91:\tlearn: 0.9034017\ttest: 0.9034017\tbest: 0.9034017 (91)\ttotal: 24.1s\tremaining: 8.39s\n",
      "92:\tlearn: 0.9034200\ttest: 0.9034200\tbest: 0.9034200 (92)\ttotal: 24.4s\tremaining: 8.14s\n",
      "93:\tlearn: 0.9034267\ttest: 0.9034267\tbest: 0.9034267 (93)\ttotal: 24.6s\tremaining: 7.86s\n"
     ]
    },
    {
     "name": "stdout",
     "output_type": "stream",
     "text": [
      "94:\tlearn: 0.9035117\ttest: 0.9035117\tbest: 0.9035117 (94)\ttotal: 24.9s\tremaining: 7.6s\n",
      "95:\tlearn: 0.9036717\ttest: 0.9036717\tbest: 0.9036717 (95)\ttotal: 25.2s\tremaining: 7.34s\n",
      "96:\tlearn: 0.9036800\ttest: 0.9036800\tbest: 0.9036800 (96)\ttotal: 25.5s\tremaining: 7.1s\n",
      "97:\tlearn: 0.9036633\ttest: 0.9036633\tbest: 0.9036800 (96)\ttotal: 25.8s\tremaining: 6.84s\n",
      "98:\tlearn: 0.9036933\ttest: 0.9036933\tbest: 0.9036933 (98)\ttotal: 26.1s\tremaining: 6.58s\n",
      "99:\tlearn: 0.9037100\ttest: 0.9037100\tbest: 0.9037100 (99)\ttotal: 26.3s\tremaining: 6.3s\n",
      "100:\tlearn: 0.9037317\ttest: 0.9037317\tbest: 0.9037317 (100)\ttotal: 26.6s\tremaining: 6.05s\n",
      "101:\tlearn: 0.9037783\ttest: 0.9037783\tbest: 0.9037783 (101)\ttotal: 26.8s\tremaining: 5.78s\n",
      "102:\tlearn: 0.9038733\ttest: 0.9038733\tbest: 0.9038733 (102)\ttotal: 27s\tremaining: 5.51s\n",
      "103:\tlearn: 0.9038867\ttest: 0.9038867\tbest: 0.9038867 (103)\ttotal: 27.2s\tremaining: 5.24s\n",
      "104:\tlearn: 0.9039067\ttest: 0.9039067\tbest: 0.9039067 (104)\ttotal: 27.5s\tremaining: 4.97s\n",
      "105:\tlearn: 0.9039317\ttest: 0.9039317\tbest: 0.9039317 (105)\ttotal: 27.7s\tremaining: 4.7s\n",
      "106:\tlearn: 0.9038783\ttest: 0.9038783\tbest: 0.9039317 (105)\ttotal: 28s\tremaining: 4.44s\n",
      "107:\tlearn: 0.9038900\ttest: 0.9038900\tbest: 0.9039317 (105)\ttotal: 28.3s\tremaining: 4.2s\n",
      "108:\tlearn: 0.9039333\ttest: 0.9039333\tbest: 0.9039333 (108)\ttotal: 28.7s\tremaining: 3.95s\n",
      "109:\tlearn: 0.9039833\ttest: 0.9039833\tbest: 0.9039833 (109)\ttotal: 28.9s\tremaining: 3.68s\n",
      "110:\tlearn: 0.9040067\ttest: 0.9040067\tbest: 0.9040067 (110)\ttotal: 29.1s\tremaining: 3.41s\n",
      "111:\tlearn: 0.9039733\ttest: 0.9039733\tbest: 0.9040067 (110)\ttotal: 29.3s\tremaining: 3.14s\n",
      "112:\tlearn: 0.9039817\ttest: 0.9039817\tbest: 0.9040067 (110)\ttotal: 29.6s\tremaining: 2.88s\n",
      "113:\tlearn: 0.9040167\ttest: 0.9040167\tbest: 0.9040167 (113)\ttotal: 29.9s\tremaining: 2.62s\n",
      "114:\tlearn: 0.9040317\ttest: 0.9040317\tbest: 0.9040317 (114)\ttotal: 30.3s\tremaining: 2.37s\n",
      "115:\tlearn: 0.9040450\ttest: 0.9040450\tbest: 0.9040450 (115)\ttotal: 30.5s\tremaining: 2.1s\n",
      "116:\tlearn: 0.9040400\ttest: 0.9040400\tbest: 0.9040450 (115)\ttotal: 30.8s\tremaining: 1.84s\n",
      "117:\tlearn: 0.9040617\ttest: 0.9040617\tbest: 0.9040617 (117)\ttotal: 31.1s\tremaining: 1.58s\n",
      "118:\tlearn: 0.9040633\ttest: 0.9040633\tbest: 0.9040633 (118)\ttotal: 31.3s\tremaining: 1.32s\n",
      "119:\tlearn: 0.9040733\ttest: 0.9040733\tbest: 0.9040733 (119)\ttotal: 31.6s\tremaining: 1.05s\n",
      "120:\tlearn: 0.9041133\ttest: 0.9041133\tbest: 0.9041133 (120)\ttotal: 31.8s\tremaining: 788ms\n",
      "121:\tlearn: 0.9041000\ttest: 0.9041000\tbest: 0.9041133 (120)\ttotal: 32.1s\tremaining: 526ms\n",
      "122:\tlearn: 0.9041150\ttest: 0.9041150\tbest: 0.9041150 (122)\ttotal: 32.3s\tremaining: 262ms\n",
      "123:\tlearn: 0.9041250\ttest: 0.9041250\tbest: 0.9041250 (123)\ttotal: 32.5s\tremaining: 0us\n",
      "\n",
      "bestTest = 0.904125\n",
      "bestIteration = 123\n",
      "\n"
     ]
    },
    {
     "data": {
      "text/plain": [
       "<catboost.core.CatBoostClassifier at 0x156a089e8>"
      ]
     },
     "execution_count": 362,
     "metadata": {},
     "output_type": "execute_result"
    }
   ],
   "source": [
    "params_1_full_for_stack = {'iterations':cat_x_1_for_stack.best_iteration_, 'learning_rate':0.2, 'depth':5,'eval_metric':'Accuracy','random_seed':333,'use_best_model':True,'early_stopping_rounds':30,\n",
    "          'thread_count':5}\n",
    "cat_x_1_full_for_stack = CatBoostClassifier(**params_1_full_for_stack)\n",
    "cat_x_1_full_for_stack.fit(train_df_1.drop('class',axis = 1), train_df_1['class'],eval_set=(train_df_1.drop('class',axis = 1), train_df_1['class']),verbose = 1)"
   ]
  },
  {
   "cell_type": "code",
   "execution_count": 304,
   "metadata": {},
   "outputs": [
    {
     "name": "stdout",
     "output_type": "stream",
     "text": [
      "0:\tlearn: 0.8786350\ttest: 0.8786350\tbest: 0.8786350 (0)\ttotal: 255ms\tremaining: 19.9s\n",
      "1:\tlearn: 0.8798083\ttest: 0.8798083\tbest: 0.8798083 (1)\ttotal: 528ms\tremaining: 20.3s\n",
      "2:\tlearn: 0.8844350\ttest: 0.8844350\tbest: 0.8844350 (2)\ttotal: 874ms\tremaining: 22.1s\n",
      "3:\tlearn: 0.8868183\ttest: 0.8868183\tbest: 0.8868183 (3)\ttotal: 1.18s\tremaining: 22.2s\n",
      "4:\tlearn: 0.8895800\ttest: 0.8895800\tbest: 0.8895800 (4)\ttotal: 1.5s\tremaining: 22.2s\n",
      "5:\tlearn: 0.8917867\ttest: 0.8917867\tbest: 0.8917867 (5)\ttotal: 1.75s\tremaining: 21.3s\n",
      "6:\tlearn: 0.8925533\ttest: 0.8925533\tbest: 0.8925533 (6)\ttotal: 2.09s\tremaining: 21.5s\n",
      "7:\tlearn: 0.8942933\ttest: 0.8942933\tbest: 0.8942933 (7)\ttotal: 2.33s\tremaining: 20.7s\n",
      "8:\tlearn: 0.8954433\ttest: 0.8954433\tbest: 0.8954433 (8)\ttotal: 2.66s\tremaining: 20.7s\n",
      "9:\tlearn: 0.8958767\ttest: 0.8958767\tbest: 0.8958767 (9)\ttotal: 2.9s\tremaining: 20s\n",
      "10:\tlearn: 0.8969067\ttest: 0.8969067\tbest: 0.8969067 (10)\ttotal: 3.22s\tremaining: 19.9s\n",
      "11:\tlearn: 0.8976850\ttest: 0.8976850\tbest: 0.8976850 (11)\ttotal: 3.45s\tremaining: 19.3s\n",
      "12:\tlearn: 0.8983767\ttest: 0.8983767\tbest: 0.8983767 (12)\ttotal: 3.95s\tremaining: 20s\n",
      "13:\tlearn: 0.8986233\ttest: 0.8986233\tbest: 0.8986233 (13)\ttotal: 4.26s\tremaining: 19.8s\n",
      "14:\tlearn: 0.8988500\ttest: 0.8988500\tbest: 0.8988500 (14)\ttotal: 4.5s\tremaining: 19.2s\n",
      "15:\tlearn: 0.8991783\ttest: 0.8991783\tbest: 0.8991783 (15)\ttotal: 4.86s\tremaining: 19.1s\n",
      "16:\tlearn: 0.8994433\ttest: 0.8994433\tbest: 0.8994433 (16)\ttotal: 5.14s\tremaining: 18.7s\n",
      "17:\tlearn: 0.8997967\ttest: 0.8997967\tbest: 0.8997967 (17)\ttotal: 5.39s\tremaining: 18.3s\n",
      "18:\tlearn: 0.8999400\ttest: 0.8999400\tbest: 0.8999400 (18)\ttotal: 5.72s\tremaining: 18.1s\n",
      "19:\tlearn: 0.9001583\ttest: 0.9001583\tbest: 0.9001583 (19)\ttotal: 5.94s\tremaining: 17.5s\n",
      "20:\tlearn: 0.9007083\ttest: 0.9007083\tbest: 0.9007083 (20)\ttotal: 6.26s\tremaining: 17.3s\n",
      "21:\tlearn: 0.9011017\ttest: 0.9011017\tbest: 0.9011017 (21)\ttotal: 6.48s\tremaining: 16.8s\n",
      "22:\tlearn: 0.9011800\ttest: 0.9011800\tbest: 0.9011800 (22)\ttotal: 6.79s\tremaining: 16.5s\n",
      "23:\tlearn: 0.9014150\ttest: 0.9014150\tbest: 0.9014150 (23)\ttotal: 7.03s\tremaining: 16.1s\n",
      "24:\tlearn: 0.9019400\ttest: 0.9019400\tbest: 0.9019400 (24)\ttotal: 7.34s\tremaining: 15.9s\n",
      "25:\tlearn: 0.9020417\ttest: 0.9020417\tbest: 0.9020417 (25)\ttotal: 7.61s\tremaining: 15.5s\n",
      "26:\tlearn: 0.9022050\ttest: 0.9022050\tbest: 0.9022050 (26)\ttotal: 7.99s\tremaining: 15.4s\n",
      "27:\tlearn: 0.9023183\ttest: 0.9023183\tbest: 0.9023183 (27)\ttotal: 8.31s\tremaining: 15.1s\n",
      "28:\tlearn: 0.9023833\ttest: 0.9023833\tbest: 0.9023833 (28)\ttotal: 8.61s\tremaining: 14.9s\n",
      "29:\tlearn: 0.9025633\ttest: 0.9025633\tbest: 0.9025633 (29)\ttotal: 8.9s\tremaining: 14.5s\n",
      "30:\tlearn: 0.9026650\ttest: 0.9026650\tbest: 0.9026650 (30)\ttotal: 9.13s\tremaining: 14.1s\n",
      "31:\tlearn: 0.9027267\ttest: 0.9027267\tbest: 0.9027267 (31)\ttotal: 9.43s\tremaining: 13.9s\n",
      "32:\tlearn: 0.9027783\ttest: 0.9027783\tbest: 0.9027783 (32)\ttotal: 9.68s\tremaining: 13.5s\n",
      "33:\tlearn: 0.9028617\ttest: 0.9028617\tbest: 0.9028617 (33)\ttotal: 9.99s\tremaining: 13.2s\n",
      "34:\tlearn: 0.9029750\ttest: 0.9029750\tbest: 0.9029750 (34)\ttotal: 10.2s\tremaining: 12.9s\n",
      "35:\tlearn: 0.9029633\ttest: 0.9029633\tbest: 0.9029750 (34)\ttotal: 10.6s\tremaining: 12.7s\n",
      "36:\tlearn: 0.9030867\ttest: 0.9030867\tbest: 0.9030867 (36)\ttotal: 11s\tremaining: 12.4s\n",
      "37:\tlearn: 0.9030567\ttest: 0.9030567\tbest: 0.9030867 (36)\ttotal: 11.3s\tremaining: 12.2s\n",
      "38:\tlearn: 0.9031167\ttest: 0.9031167\tbest: 0.9031167 (38)\ttotal: 11.7s\tremaining: 12s\n",
      "39:\tlearn: 0.9031483\ttest: 0.9031483\tbest: 0.9031483 (39)\ttotal: 11.9s\tremaining: 11.6s\n",
      "40:\tlearn: 0.9032300\ttest: 0.9032300\tbest: 0.9032300 (40)\ttotal: 12.2s\tremaining: 11.3s\n",
      "41:\tlearn: 0.9032950\ttest: 0.9032950\tbest: 0.9032950 (41)\ttotal: 12.4s\tremaining: 11s\n",
      "42:\tlearn: 0.9033467\ttest: 0.9033467\tbest: 0.9033467 (42)\ttotal: 12.7s\tremaining: 10.6s\n",
      "43:\tlearn: 0.9033383\ttest: 0.9033383\tbest: 0.9033467 (42)\ttotal: 13s\tremaining: 10.3s\n",
      "44:\tlearn: 0.9033067\ttest: 0.9033067\tbest: 0.9033467 (42)\ttotal: 13.2s\tremaining: 10s\n",
      "45:\tlearn: 0.9033517\ttest: 0.9033517\tbest: 0.9033517 (45)\ttotal: 13.5s\tremaining: 9.68s\n",
      "46:\tlearn: 0.9033600\ttest: 0.9033600\tbest: 0.9033600 (46)\ttotal: 13.8s\tremaining: 9.38s\n",
      "47:\tlearn: 0.9034983\ttest: 0.9034983\tbest: 0.9034983 (47)\ttotal: 14s\tremaining: 9.07s\n",
      "48:\tlearn: 0.9035383\ttest: 0.9035383\tbest: 0.9035383 (48)\ttotal: 14.3s\tremaining: 8.77s\n",
      "49:\tlearn: 0.9035917\ttest: 0.9035917\tbest: 0.9035917 (49)\ttotal: 14.6s\tremaining: 8.47s\n",
      "50:\tlearn: 0.9037917\ttest: 0.9037917\tbest: 0.9037917 (50)\ttotal: 14.9s\tremaining: 8.17s\n",
      "51:\tlearn: 0.9037667\ttest: 0.9037667\tbest: 0.9037917 (50)\ttotal: 15.2s\tremaining: 7.89s\n",
      "52:\tlearn: 0.9038050\ttest: 0.9038050\tbest: 0.9038050 (52)\ttotal: 15.4s\tremaining: 7.57s\n",
      "53:\tlearn: 0.9038817\ttest: 0.9038817\tbest: 0.9038817 (53)\ttotal: 15.7s\tremaining: 7.29s\n",
      "54:\tlearn: 0.9038867\ttest: 0.9038867\tbest: 0.9038867 (54)\ttotal: 16s\tremaining: 6.97s\n",
      "55:\tlearn: 0.9039033\ttest: 0.9039033\tbest: 0.9039033 (55)\ttotal: 16.3s\tremaining: 6.68s\n",
      "56:\tlearn: 0.9038500\ttest: 0.9038500\tbest: 0.9039033 (55)\ttotal: 16.5s\tremaining: 6.37s\n",
      "57:\tlearn: 0.9038667\ttest: 0.9038667\tbest: 0.9039033 (55)\ttotal: 16.8s\tremaining: 6.07s\n",
      "58:\tlearn: 0.9039083\ttest: 0.9039083\tbest: 0.9039083 (58)\ttotal: 17s\tremaining: 5.77s\n",
      "59:\tlearn: 0.9039183\ttest: 0.9039183\tbest: 0.9039183 (59)\ttotal: 17.4s\tremaining: 5.51s\n",
      "60:\tlearn: 0.9039283\ttest: 0.9039283\tbest: 0.9039283 (60)\ttotal: 17.7s\tremaining: 5.22s\n",
      "61:\tlearn: 0.9039483\ttest: 0.9039483\tbest: 0.9039483 (61)\ttotal: 18.1s\tremaining: 4.96s\n",
      "62:\tlearn: 0.9040267\ttest: 0.9040267\tbest: 0.9040267 (62)\ttotal: 18.4s\tremaining: 4.67s\n",
      "63:\tlearn: 0.9040317\ttest: 0.9040317\tbest: 0.9040317 (63)\ttotal: 18.7s\tremaining: 4.37s\n",
      "64:\tlearn: 0.9040467\ttest: 0.9040467\tbest: 0.9040467 (64)\ttotal: 19s\tremaining: 4.09s\n",
      "65:\tlearn: 0.9040700\ttest: 0.9040700\tbest: 0.9040700 (65)\ttotal: 19.2s\tremaining: 3.79s\n",
      "66:\tlearn: 0.9040850\ttest: 0.9040850\tbest: 0.9040850 (66)\ttotal: 19.5s\tremaining: 3.5s\n",
      "67:\tlearn: 0.9041417\ttest: 0.9041417\tbest: 0.9041417 (67)\ttotal: 19.8s\tremaining: 3.2s\n",
      "68:\tlearn: 0.9041250\ttest: 0.9041250\tbest: 0.9041417 (67)\ttotal: 20.1s\tremaining: 2.91s\n",
      "69:\tlearn: 0.9041983\ttest: 0.9041983\tbest: 0.9041983 (69)\ttotal: 20.3s\tremaining: 2.61s\n",
      "70:\tlearn: 0.9041967\ttest: 0.9041967\tbest: 0.9041983 (69)\ttotal: 20.6s\tremaining: 2.32s\n",
      "71:\tlearn: 0.9042617\ttest: 0.9042617\tbest: 0.9042617 (71)\ttotal: 20.8s\tremaining: 2.03s\n",
      "72:\tlearn: 0.9042783\ttest: 0.9042783\tbest: 0.9042783 (72)\ttotal: 21.1s\tremaining: 1.74s\n",
      "73:\tlearn: 0.9042867\ttest: 0.9042867\tbest: 0.9042867 (73)\ttotal: 21.4s\tremaining: 1.44s\n",
      "74:\tlearn: 0.9043183\ttest: 0.9043183\tbest: 0.9043183 (74)\ttotal: 21.7s\tremaining: 1.16s\n",
      "75:\tlearn: 0.9043150\ttest: 0.9043150\tbest: 0.9043183 (74)\ttotal: 21.9s\tremaining: 864ms\n",
      "76:\tlearn: 0.9043050\ttest: 0.9043050\tbest: 0.9043183 (74)\ttotal: 22.2s\tremaining: 577ms\n",
      "77:\tlearn: 0.9043167\ttest: 0.9043167\tbest: 0.9043183 (74)\ttotal: 22.4s\tremaining: 287ms\n",
      "78:\tlearn: 0.9043417\ttest: 0.9043417\tbest: 0.9043417 (78)\ttotal: 22.7s\tremaining: 0us\n",
      "\n",
      "bestTest = 0.9043416667\n",
      "bestIteration = 78\n",
      "\n"
     ]
    },
    {
     "data": {
      "text/plain": [
       "<catboost.core.CatBoostClassifier at 0x12af70278>"
      ]
     },
     "execution_count": 304,
     "metadata": {},
     "output_type": "execute_result"
    }
   ],
   "source": [
    "params_2_full_for_stack = {'iterations':cat_x_2_for_stack.best_iteration_, 'learning_rate':0.2, 'depth':5,'eval_metric':'Accuracy','random_seed':333,'use_best_model':True,'early_stopping_rounds':30,\n",
    "          'thread_count':5}\n",
    "cat_x_2_full_for_stack = CatBoostClassifier(**params_2_full_for_stack)\n",
    "cat_x_2_full_for_stack.fit(train_df_2.drop('class',axis = 1), train_df_2['class'],eval_set=(train_df_2.drop('class',axis = 1), train_df_2['class']),verbose = 1)"
   ]
  },
  {
   "cell_type": "code",
   "execution_count": 364,
   "metadata": {},
   "outputs": [
    {
     "name": "stdout",
     "output_type": "stream",
     "text": [
      "0:\tlearn: 0.8709567\ttest: 0.8709567\tbest: 0.8709567 (0)\ttotal: 265ms\tremaining: 39.5s\n",
      "1:\tlearn: 0.8749167\ttest: 0.8749167\tbest: 0.8749167 (1)\ttotal: 450ms\tremaining: 33.3s\n",
      "2:\tlearn: 0.8775900\ttest: 0.8775900\tbest: 0.8775900 (2)\ttotal: 701ms\tremaining: 34.4s\n",
      "3:\tlearn: 0.8805333\ttest: 0.8805333\tbest: 0.8805333 (3)\ttotal: 971ms\tremaining: 35.5s\n",
      "4:\tlearn: 0.8837067\ttest: 0.8837067\tbest: 0.8837067 (4)\ttotal: 1.23s\tremaining: 35.7s\n",
      "5:\tlearn: 0.8857917\ttest: 0.8857917\tbest: 0.8857917 (5)\ttotal: 1.52s\tremaining: 36.4s\n",
      "6:\tlearn: 0.8866950\ttest: 0.8866950\tbest: 0.8866950 (6)\ttotal: 1.8s\tremaining: 36.8s\n",
      "7:\tlearn: 0.8893283\ttest: 0.8893283\tbest: 0.8893283 (7)\ttotal: 2.06s\tremaining: 36.5s\n",
      "8:\tlearn: 0.8893133\ttest: 0.8893133\tbest: 0.8893283 (7)\ttotal: 2.5s\tremaining: 39.2s\n",
      "9:\tlearn: 0.8911600\ttest: 0.8911600\tbest: 0.8911600 (9)\ttotal: 2.74s\tremaining: 38.3s\n",
      "10:\tlearn: 0.8919833\ttest: 0.8919833\tbest: 0.8919833 (10)\ttotal: 2.98s\tremaining: 37.7s\n",
      "11:\tlearn: 0.8928450\ttest: 0.8928450\tbest: 0.8928450 (11)\ttotal: 3.26s\tremaining: 37.5s\n",
      "12:\tlearn: 0.8937967\ttest: 0.8937967\tbest: 0.8937967 (12)\ttotal: 3.5s\tremaining: 36.9s\n",
      "13:\tlearn: 0.8948633\ttest: 0.8948633\tbest: 0.8948633 (13)\ttotal: 3.75s\tremaining: 36.5s\n",
      "14:\tlearn: 0.8955583\ttest: 0.8955583\tbest: 0.8955583 (14)\ttotal: 3.96s\tremaining: 35.7s\n",
      "15:\tlearn: 0.8956067\ttest: 0.8956067\tbest: 0.8956067 (15)\ttotal: 4.19s\tremaining: 35.1s\n",
      "16:\tlearn: 0.8961917\ttest: 0.8961917\tbest: 0.8961917 (16)\ttotal: 4.4s\tremaining: 34.4s\n",
      "17:\tlearn: 0.8965733\ttest: 0.8965733\tbest: 0.8965733 (17)\ttotal: 4.66s\tremaining: 34.2s\n",
      "18:\tlearn: 0.8970317\ttest: 0.8970317\tbest: 0.8970317 (18)\ttotal: 4.88s\tremaining: 33.7s\n",
      "19:\tlearn: 0.8975917\ttest: 0.8975917\tbest: 0.8975917 (19)\ttotal: 5.09s\tremaining: 33.1s\n",
      "20:\tlearn: 0.8977600\ttest: 0.8977600\tbest: 0.8977600 (20)\ttotal: 5.3s\tremaining: 32.6s\n",
      "21:\tlearn: 0.8979967\ttest: 0.8979967\tbest: 0.8979967 (21)\ttotal: 5.52s\tremaining: 32.1s\n",
      "22:\tlearn: 0.8982883\ttest: 0.8982883\tbest: 0.8982883 (22)\ttotal: 5.74s\tremaining: 31.7s\n",
      "23:\tlearn: 0.8984767\ttest: 0.8984767\tbest: 0.8984767 (23)\ttotal: 5.97s\tremaining: 31.3s\n",
      "24:\tlearn: 0.8985533\ttest: 0.8985533\tbest: 0.8985533 (24)\ttotal: 6.2s\tremaining: 31s\n",
      "25:\tlearn: 0.8987500\ttest: 0.8987500\tbest: 0.8987500 (25)\ttotal: 6.5s\tremaining: 31s\n",
      "26:\tlearn: 0.8989033\ttest: 0.8989033\tbest: 0.8989033 (26)\ttotal: 6.77s\tremaining: 30.8s\n",
      "27:\tlearn: 0.8990583\ttest: 0.8990583\tbest: 0.8990583 (27)\ttotal: 7.06s\tremaining: 30.8s\n",
      "28:\tlearn: 0.8996133\ttest: 0.8996133\tbest: 0.8996133 (28)\ttotal: 7.4s\tremaining: 30.9s\n",
      "29:\tlearn: 0.8998067\ttest: 0.8998067\tbest: 0.8998067 (29)\ttotal: 7.8s\tremaining: 31.2s\n",
      "30:\tlearn: 0.8999150\ttest: 0.8999150\tbest: 0.8999150 (30)\ttotal: 8.09s\tremaining: 31s\n",
      "31:\tlearn: 0.9000100\ttest: 0.9000100\tbest: 0.9000100 (31)\ttotal: 8.4s\tremaining: 31s\n",
      "32:\tlearn: 0.9004133\ttest: 0.9004133\tbest: 0.9004133 (32)\ttotal: 8.74s\tremaining: 31s\n",
      "33:\tlearn: 0.9006333\ttest: 0.9006333\tbest: 0.9006333 (33)\ttotal: 9.07s\tremaining: 31s\n",
      "34:\tlearn: 0.9006600\ttest: 0.9006600\tbest: 0.9006600 (34)\ttotal: 9.3s\tremaining: 30.6s\n",
      "35:\tlearn: 0.9006533\ttest: 0.9006533\tbest: 0.9006600 (34)\ttotal: 9.7s\tremaining: 30.7s\n",
      "36:\tlearn: 0.9008400\ttest: 0.9008400\tbest: 0.9008400 (36)\ttotal: 9.97s\tremaining: 30.4s\n",
      "37:\tlearn: 0.9011300\ttest: 0.9011300\tbest: 0.9011300 (37)\ttotal: 10.2s\tremaining: 30s\n",
      "38:\tlearn: 0.9011683\ttest: 0.9011683\tbest: 0.9011683 (38)\ttotal: 10.5s\tremaining: 29.8s\n",
      "39:\tlearn: 0.9012850\ttest: 0.9012850\tbest: 0.9012850 (39)\ttotal: 10.8s\tremaining: 29.6s\n",
      "40:\tlearn: 0.9013800\ttest: 0.9013800\tbest: 0.9013800 (40)\ttotal: 11s\tremaining: 29.2s\n",
      "41:\tlearn: 0.9014600\ttest: 0.9014600\tbest: 0.9014600 (41)\ttotal: 11.3s\tremaining: 28.9s\n",
      "42:\tlearn: 0.9015050\ttest: 0.9015050\tbest: 0.9015050 (42)\ttotal: 11.5s\tremaining: 28.6s\n",
      "43:\tlearn: 0.9015150\ttest: 0.9015150\tbest: 0.9015150 (43)\ttotal: 11.7s\tremaining: 28.3s\n",
      "44:\tlearn: 0.9016033\ttest: 0.9016033\tbest: 0.9016033 (44)\ttotal: 12.1s\tremaining: 28.1s\n",
      "45:\tlearn: 0.9016800\ttest: 0.9016800\tbest: 0.9016800 (45)\ttotal: 12.3s\tremaining: 27.8s\n",
      "46:\tlearn: 0.9016667\ttest: 0.9016667\tbest: 0.9016800 (45)\ttotal: 12.9s\tremaining: 28.2s\n",
      "47:\tlearn: 0.9016117\ttest: 0.9016117\tbest: 0.9016800 (45)\ttotal: 13.2s\tremaining: 28s\n",
      "48:\tlearn: 0.9019050\ttest: 0.9019050\tbest: 0.9019050 (48)\ttotal: 13.6s\tremaining: 28s\n",
      "49:\tlearn: 0.9018683\ttest: 0.9018683\tbest: 0.9019050 (48)\ttotal: 14s\tremaining: 28.1s\n",
      "50:\tlearn: 0.9019217\ttest: 0.9019217\tbest: 0.9019217 (50)\ttotal: 14.2s\tremaining: 27.6s\n",
      "51:\tlearn: 0.9019733\ttest: 0.9019733\tbest: 0.9019733 (51)\ttotal: 14.5s\tremaining: 27.3s\n",
      "52:\tlearn: 0.9019933\ttest: 0.9019933\tbest: 0.9019933 (52)\ttotal: 14.7s\tremaining: 26.9s\n",
      "53:\tlearn: 0.9019717\ttest: 0.9019717\tbest: 0.9019933 (52)\ttotal: 14.9s\tremaining: 26.5s\n",
      "54:\tlearn: 0.9020233\ttest: 0.9020233\tbest: 0.9020233 (54)\ttotal: 15.1s\tremaining: 26.1s\n",
      "55:\tlearn: 0.9019917\ttest: 0.9019917\tbest: 0.9020233 (54)\ttotal: 15.4s\tremaining: 25.8s\n",
      "56:\tlearn: 0.9021383\ttest: 0.9021383\tbest: 0.9021383 (56)\ttotal: 15.5s\tremaining: 25.3s\n",
      "57:\tlearn: 0.9021650\ttest: 0.9021650\tbest: 0.9021650 (57)\ttotal: 15.7s\tremaining: 25s\n",
      "58:\tlearn: 0.9022117\ttest: 0.9022117\tbest: 0.9022117 (58)\ttotal: 15.9s\tremaining: 24.5s\n",
      "59:\tlearn: 0.9022400\ttest: 0.9022400\tbest: 0.9022400 (59)\ttotal: 16.1s\tremaining: 24.1s\n",
      "60:\tlearn: 0.9022550\ttest: 0.9022550\tbest: 0.9022550 (60)\ttotal: 16.3s\tremaining: 23.7s\n",
      "61:\tlearn: 0.9022967\ttest: 0.9022967\tbest: 0.9022967 (61)\ttotal: 16.5s\tremaining: 23.4s\n",
      "62:\tlearn: 0.9023267\ttest: 0.9023267\tbest: 0.9023267 (62)\ttotal: 16.8s\tremaining: 23.1s\n",
      "63:\tlearn: 0.9026283\ttest: 0.9026283\tbest: 0.9026283 (63)\ttotal: 17s\tremaining: 22.9s\n",
      "64:\tlearn: 0.9027767\ttest: 0.9027767\tbest: 0.9027767 (64)\ttotal: 17.2s\tremaining: 22.5s\n",
      "65:\tlearn: 0.9028483\ttest: 0.9028483\tbest: 0.9028483 (65)\ttotal: 17.5s\tremaining: 22.2s\n",
      "66:\tlearn: 0.9028917\ttest: 0.9028917\tbest: 0.9028917 (66)\ttotal: 17.7s\tremaining: 21.9s\n",
      "67:\tlearn: 0.9029917\ttest: 0.9029917\tbest: 0.9029917 (67)\ttotal: 17.9s\tremaining: 21.6s\n",
      "68:\tlearn: 0.9030067\ttest: 0.9030067\tbest: 0.9030067 (68)\ttotal: 18.2s\tremaining: 21.3s\n",
      "69:\tlearn: 0.9030350\ttest: 0.9030350\tbest: 0.9030350 (69)\ttotal: 18.4s\tremaining: 21s\n",
      "70:\tlearn: 0.9030733\ttest: 0.9030733\tbest: 0.9030733 (70)\ttotal: 18.6s\tremaining: 20.7s\n",
      "71:\tlearn: 0.9031083\ttest: 0.9031083\tbest: 0.9031083 (71)\ttotal: 18.8s\tremaining: 20.4s\n",
      "72:\tlearn: 0.9031050\ttest: 0.9031050\tbest: 0.9031083 (71)\ttotal: 19s\tremaining: 20.1s\n",
      "73:\tlearn: 0.9031150\ttest: 0.9031150\tbest: 0.9031150 (73)\ttotal: 19.2s\tremaining: 19.7s\n",
      "74:\tlearn: 0.9031867\ttest: 0.9031867\tbest: 0.9031867 (74)\ttotal: 19.4s\tremaining: 19.4s\n",
      "75:\tlearn: 0.9031283\ttest: 0.9031283\tbest: 0.9031867 (74)\ttotal: 19.6s\tremaining: 19.1s\n",
      "76:\tlearn: 0.9032117\ttest: 0.9032117\tbest: 0.9032117 (76)\ttotal: 19.8s\tremaining: 18.8s\n",
      "77:\tlearn: 0.9031917\ttest: 0.9031917\tbest: 0.9032117 (76)\ttotal: 20s\tremaining: 18.4s\n",
      "78:\tlearn: 0.9032050\ttest: 0.9032050\tbest: 0.9032117 (76)\ttotal: 20.2s\tremaining: 18.1s\n",
      "79:\tlearn: 0.9032517\ttest: 0.9032517\tbest: 0.9032517 (79)\ttotal: 20.3s\tremaining: 17.8s\n",
      "80:\tlearn: 0.9032317\ttest: 0.9032317\tbest: 0.9032517 (79)\ttotal: 20.6s\tremaining: 17.5s\n",
      "81:\tlearn: 0.9034917\ttest: 0.9034917\tbest: 0.9034917 (81)\ttotal: 20.9s\tremaining: 17.3s\n",
      "82:\tlearn: 0.9035133\ttest: 0.9035133\tbest: 0.9035133 (82)\ttotal: 21.1s\tremaining: 17s\n",
      "83:\tlearn: 0.9035600\ttest: 0.9035600\tbest: 0.9035600 (83)\ttotal: 21.3s\tremaining: 16.8s\n",
      "84:\tlearn: 0.9035950\ttest: 0.9035950\tbest: 0.9035950 (84)\ttotal: 21.6s\tremaining: 16.5s\n",
      "85:\tlearn: 0.9035650\ttest: 0.9035650\tbest: 0.9035950 (84)\ttotal: 21.8s\tremaining: 16.2s\n",
      "86:\tlearn: 0.9035967\ttest: 0.9035967\tbest: 0.9035967 (86)\ttotal: 22s\tremaining: 15.9s\n",
      "87:\tlearn: 0.9035583\ttest: 0.9035583\tbest: 0.9035967 (86)\ttotal: 22.2s\tremaining: 15.6s\n",
      "88:\tlearn: 0.9035933\ttest: 0.9035933\tbest: 0.9035967 (86)\ttotal: 22.4s\tremaining: 15.4s\n",
      "89:\tlearn: 0.9036100\ttest: 0.9036100\tbest: 0.9036100 (89)\ttotal: 22.6s\tremaining: 15.1s\n",
      "90:\tlearn: 0.9036317\ttest: 0.9036317\tbest: 0.9036317 (90)\ttotal: 22.9s\tremaining: 14.8s\n",
      "91:\tlearn: 0.9036100\ttest: 0.9036100\tbest: 0.9036317 (90)\ttotal: 23.1s\tremaining: 14.6s\n",
      "92:\tlearn: 0.9036650\ttest: 0.9036650\tbest: 0.9036650 (92)\ttotal: 23.3s\tremaining: 14.3s\n",
      "93:\tlearn: 0.9036833\ttest: 0.9036833\tbest: 0.9036833 (93)\ttotal: 23.6s\tremaining: 14.1s\n"
     ]
    },
    {
     "name": "stdout",
     "output_type": "stream",
     "text": [
      "94:\tlearn: 0.9037000\ttest: 0.9037000\tbest: 0.9037000 (94)\ttotal: 23.8s\tremaining: 13.8s\n",
      "95:\tlearn: 0.9037283\ttest: 0.9037283\tbest: 0.9037283 (95)\ttotal: 24s\tremaining: 13.5s\n",
      "96:\tlearn: 0.9037583\ttest: 0.9037583\tbest: 0.9037583 (96)\ttotal: 24.3s\tremaining: 13.3s\n",
      "97:\tlearn: 0.9037050\ttest: 0.9037050\tbest: 0.9037583 (96)\ttotal: 24.6s\tremaining: 13s\n",
      "98:\tlearn: 0.9037500\ttest: 0.9037500\tbest: 0.9037583 (96)\ttotal: 24.8s\tremaining: 12.8s\n",
      "99:\tlearn: 0.9037900\ttest: 0.9037900\tbest: 0.9037900 (99)\ttotal: 25s\tremaining: 12.5s\n",
      "100:\tlearn: 0.9038017\ttest: 0.9038017\tbest: 0.9038017 (100)\ttotal: 25.2s\tremaining: 12.2s\n",
      "101:\tlearn: 0.9037983\ttest: 0.9037983\tbest: 0.9038017 (100)\ttotal: 25.4s\tremaining: 12s\n",
      "102:\tlearn: 0.9038367\ttest: 0.9038367\tbest: 0.9038367 (102)\ttotal: 25.7s\tremaining: 11.7s\n",
      "103:\tlearn: 0.9038150\ttest: 0.9038150\tbest: 0.9038367 (102)\ttotal: 26s\tremaining: 11.5s\n",
      "104:\tlearn: 0.9038000\ttest: 0.9038000\tbest: 0.9038367 (102)\ttotal: 26.2s\tremaining: 11.2s\n",
      "105:\tlearn: 0.9038283\ttest: 0.9038283\tbest: 0.9038367 (102)\ttotal: 26.4s\tremaining: 11s\n",
      "106:\tlearn: 0.9037967\ttest: 0.9037967\tbest: 0.9038367 (102)\ttotal: 26.7s\tremaining: 10.7s\n",
      "107:\tlearn: 0.9038183\ttest: 0.9038183\tbest: 0.9038367 (102)\ttotal: 26.9s\tremaining: 10.5s\n",
      "108:\tlearn: 0.9038283\ttest: 0.9038283\tbest: 0.9038367 (102)\ttotal: 27.1s\tremaining: 10.2s\n",
      "109:\tlearn: 0.9038333\ttest: 0.9038333\tbest: 0.9038367 (102)\ttotal: 27.3s\tremaining: 9.92s\n",
      "110:\tlearn: 0.9038600\ttest: 0.9038600\tbest: 0.9038600 (110)\ttotal: 27.5s\tremaining: 9.65s\n",
      "111:\tlearn: 0.9038633\ttest: 0.9038633\tbest: 0.9038633 (111)\ttotal: 27.9s\tremaining: 9.48s\n",
      "112:\tlearn: 0.9038317\ttest: 0.9038317\tbest: 0.9038633 (111)\ttotal: 28.1s\tremaining: 9.21s\n",
      "113:\tlearn: 0.9038250\ttest: 0.9038250\tbest: 0.9038633 (111)\ttotal: 28.4s\tremaining: 8.96s\n",
      "114:\tlearn: 0.9038133\ttest: 0.9038133\tbest: 0.9038633 (111)\ttotal: 28.7s\tremaining: 8.73s\n",
      "115:\tlearn: 0.9038350\ttest: 0.9038350\tbest: 0.9038633 (111)\ttotal: 28.9s\tremaining: 8.46s\n",
      "116:\tlearn: 0.9038467\ttest: 0.9038467\tbest: 0.9038633 (111)\ttotal: 29.1s\tremaining: 8.21s\n",
      "117:\tlearn: 0.9039183\ttest: 0.9039183\tbest: 0.9039183 (117)\ttotal: 29.4s\tremaining: 7.97s\n",
      "118:\tlearn: 0.9039483\ttest: 0.9039483\tbest: 0.9039483 (118)\ttotal: 29.7s\tremaining: 7.73s\n",
      "119:\tlearn: 0.9039683\ttest: 0.9039683\tbest: 0.9039683 (119)\ttotal: 29.9s\tremaining: 7.48s\n",
      "120:\tlearn: 0.9039850\ttest: 0.9039850\tbest: 0.9039850 (120)\ttotal: 30.2s\tremaining: 7.24s\n",
      "121:\tlearn: 0.9039800\ttest: 0.9039800\tbest: 0.9039850 (120)\ttotal: 30.5s\tremaining: 6.99s\n",
      "122:\tlearn: 0.9039850\ttest: 0.9039850\tbest: 0.9039850 (120)\ttotal: 30.7s\tremaining: 6.74s\n",
      "123:\tlearn: 0.9039883\ttest: 0.9039883\tbest: 0.9039883 (123)\ttotal: 31s\tremaining: 6.5s\n",
      "124:\tlearn: 0.9040250\ttest: 0.9040250\tbest: 0.9040250 (124)\ttotal: 31.2s\tremaining: 6.24s\n",
      "125:\tlearn: 0.9040150\ttest: 0.9040150\tbest: 0.9040250 (124)\ttotal: 31.4s\tremaining: 5.99s\n",
      "126:\tlearn: 0.9040283\ttest: 0.9040283\tbest: 0.9040283 (126)\ttotal: 31.7s\tremaining: 5.75s\n",
      "127:\tlearn: 0.9040333\ttest: 0.9040333\tbest: 0.9040333 (127)\ttotal: 31.9s\tremaining: 5.49s\n",
      "128:\tlearn: 0.9040483\ttest: 0.9040483\tbest: 0.9040483 (128)\ttotal: 32.2s\tremaining: 5.24s\n",
      "129:\tlearn: 0.9040750\ttest: 0.9040750\tbest: 0.9040750 (129)\ttotal: 32.5s\tremaining: 5s\n",
      "130:\tlearn: 0.9040417\ttest: 0.9040417\tbest: 0.9040750 (129)\ttotal: 32.7s\tremaining: 4.74s\n",
      "131:\tlearn: 0.9041100\ttest: 0.9041100\tbest: 0.9041100 (131)\ttotal: 33s\tremaining: 4.5s\n",
      "132:\tlearn: 0.9040983\ttest: 0.9040983\tbest: 0.9041100 (131)\ttotal: 33.2s\tremaining: 4.25s\n",
      "133:\tlearn: 0.9041183\ttest: 0.9041183\tbest: 0.9041183 (133)\ttotal: 33.5s\tremaining: 4s\n",
      "134:\tlearn: 0.9040700\ttest: 0.9040700\tbest: 0.9041183 (133)\ttotal: 33.8s\tremaining: 3.75s\n",
      "135:\tlearn: 0.9040983\ttest: 0.9040983\tbest: 0.9041183 (133)\ttotal: 34.1s\tremaining: 3.51s\n",
      "136:\tlearn: 0.9041300\ttest: 0.9041300\tbest: 0.9041300 (136)\ttotal: 34.3s\tremaining: 3.25s\n",
      "137:\tlearn: 0.9041250\ttest: 0.9041250\tbest: 0.9041300 (136)\ttotal: 34.6s\tremaining: 3.01s\n",
      "138:\tlearn: 0.9041583\ttest: 0.9041583\tbest: 0.9041583 (138)\ttotal: 34.7s\tremaining: 2.75s\n",
      "139:\tlearn: 0.9041317\ttest: 0.9041317\tbest: 0.9041583 (138)\ttotal: 35s\tremaining: 2.5s\n",
      "140:\tlearn: 0.9041517\ttest: 0.9041517\tbest: 0.9041583 (138)\ttotal: 35.2s\tremaining: 2.25s\n",
      "141:\tlearn: 0.9040967\ttest: 0.9040967\tbest: 0.9041583 (138)\ttotal: 35.5s\tremaining: 2s\n",
      "142:\tlearn: 0.9041017\ttest: 0.9041017\tbest: 0.9041583 (138)\ttotal: 35.7s\tremaining: 1.75s\n",
      "143:\tlearn: 0.9041300\ttest: 0.9041300\tbest: 0.9041583 (138)\ttotal: 36s\tremaining: 1.5s\n",
      "144:\tlearn: 0.9041183\ttest: 0.9041183\tbest: 0.9041583 (138)\ttotal: 36.3s\tremaining: 1.25s\n",
      "145:\tlearn: 0.9041250\ttest: 0.9041250\tbest: 0.9041583 (138)\ttotal: 36.5s\tremaining: 1s\n",
      "146:\tlearn: 0.9041517\ttest: 0.9041517\tbest: 0.9041583 (138)\ttotal: 36.8s\tremaining: 750ms\n",
      "147:\tlearn: 0.9041617\ttest: 0.9041617\tbest: 0.9041617 (147)\ttotal: 37s\tremaining: 500ms\n",
      "148:\tlearn: 0.9041917\ttest: 0.9041917\tbest: 0.9041917 (148)\ttotal: 37.2s\tremaining: 250ms\n",
      "149:\tlearn: 0.9042050\ttest: 0.9042050\tbest: 0.9042050 (149)\ttotal: 37.5s\tremaining: 0us\n",
      "\n",
      "bestTest = 0.904205\n",
      "bestIteration = 149\n",
      "\n"
     ]
    },
    {
     "data": {
      "text/plain": [
       "<catboost.core.CatBoostClassifier at 0x144c30ba8>"
      ]
     },
     "execution_count": 364,
     "metadata": {},
     "output_type": "execute_result"
    }
   ],
   "source": [
    "params_3_full_for_stack = {'iterations':cat_x_3_for_stack.best_iteration_, 'learning_rate':0.2, 'depth':5,'eval_metric':'Accuracy','random_seed':333,'use_best_model':True,'early_stopping_rounds':30,\n",
    "          'thread_count':5}\n",
    "cat_x_3_full_for_stack = CatBoostClassifier(**params_3_full_for_stack)\n",
    "cat_x_3_full_for_stack.fit(train_df_3.drop('class',axis = 1), train_df_3['class'],eval_set=(train_df_3.drop('class',axis = 1), train_df_3['class']),verbose = 1)"
   ]
  },
  {
   "cell_type": "code",
   "execution_count": 365,
   "metadata": {},
   "outputs": [],
   "source": [
    "train_pred_full_x_1 = cat_x_1_full_for_stack.predict_proba(train_df_1.drop('class',axis = 1), ntree_end=cat_x_1_for_stack.best_iteration_)"
   ]
  },
  {
   "cell_type": "code",
   "execution_count": 366,
   "metadata": {},
   "outputs": [],
   "source": [
    "test_pred_full_x_1 = cat_x_1_full_for_stack.predict_proba(test_df_1, ntree_end=cat_x_1_for_stack.best_iteration_)"
   ]
  },
  {
   "cell_type": "code",
   "execution_count": 367,
   "metadata": {},
   "outputs": [],
   "source": [
    "train_pred_full_x_2 = cat_x_2_full_for_stack.predict_proba(train_df_2.drop('class',axis = 1), ntree_end=cat_x_2_for_stack.best_iteration_)"
   ]
  },
  {
   "cell_type": "code",
   "execution_count": 368,
   "metadata": {},
   "outputs": [],
   "source": [
    "test_pred_full_x_2 = cat_x_2_full_for_stack.predict_proba(test_df_2, ntree_end=cat_x_2_for_stack.best_iteration_)"
   ]
  },
  {
   "cell_type": "code",
   "execution_count": 369,
   "metadata": {},
   "outputs": [],
   "source": [
    "train_pred_full_x_3 = cat_x_3_full_for_stack.predict_proba(train_df_3.drop('class',axis = 1), ntree_end=cat_x_3_for_stack.best_iteration_)"
   ]
  },
  {
   "cell_type": "code",
   "execution_count": 370,
   "metadata": {},
   "outputs": [],
   "source": [
    "test_pred_full_x_3 = cat_x_3_full_for_stack.predict_proba(test_df_3, ntree_end=cat_x_3_for_stack.best_iteration_)"
   ]
  },
  {
   "cell_type": "code",
   "execution_count": 371,
   "metadata": {},
   "outputs": [],
   "source": [
    "stack_train_full_3_mix = pd.DataFrame({'c1':train_pred_full_x_1[:,1],'c2':train_pred_full_x_2[:,1], 'c3':train_pred_full_x_3[:,1]})"
   ]
  },
  {
   "cell_type": "code",
   "execution_count": 372,
   "metadata": {},
   "outputs": [],
   "source": [
    "stack_test_full_3_mix = pd.DataFrame({'c1':test_pred_full_x_1[:,1],'c2':test_pred_full_x_2[:,1], 'c3':test_pred_full_x_3[:,1]})"
   ]
  },
  {
   "cell_type": "code",
   "execution_count": 373,
   "metadata": {},
   "outputs": [
    {
     "data": {
      "text/plain": [
       "LogisticRegression(C=1.0, class_weight=None, dual=False, fit_intercept=True,\n",
       "          intercept_scaling=1, max_iter=100, multi_class='ovr', n_jobs=1,\n",
       "          penalty='l2', random_state=None, solver='liblinear', tol=0.0001,\n",
       "          verbose=0, warm_start=False)"
      ]
     },
     "execution_count": 373,
     "metadata": {},
     "output_type": "execute_result"
    }
   ],
   "source": [
    "lm_stack_full = LogisticRegression()\n",
    "lm_stack_full.fit(stack_train_full_3_mix, train_df_1['class'])"
   ]
  },
  {
   "cell_type": "code",
   "execution_count": 374,
   "metadata": {},
   "outputs": [
    {
     "data": {
      "text/plain": [
       "0.9043483333333333"
      ]
     },
     "execution_count": 374,
     "metadata": {},
     "output_type": "execute_result"
    }
   ],
   "source": [
    "lm_stack_full.score(stack_train_full_3_mix, train_df_1['class'])"
   ]
  },
  {
   "cell_type": "code",
   "execution_count": 375,
   "metadata": {},
   "outputs": [],
   "source": [
    "stack_god = lm_stack_full.predict(stack_test_full_3_mix)"
   ]
  },
  {
   "cell_type": "code",
   "execution_count": 376,
   "metadata": {},
   "outputs": [],
   "source": [
    "submit = pd.DataFrame({'ID': for_id['ID'], 'class':stack_god})"
   ]
  },
  {
   "cell_type": "code",
   "execution_count": 377,
   "metadata": {},
   "outputs": [],
   "source": [
    "submit['class'] = submit['class'].astype(int)"
   ]
  },
  {
   "cell_type": "code",
   "execution_count": 380,
   "metadata": {},
   "outputs": [],
   "source": [
    "submit.to_csv('stack_god_depth_5_0_2.csv', index = False)"
   ]
  },
  {
   "cell_type": "code",
   "execution_count": null,
   "metadata": {},
   "outputs": [],
   "source": []
  }
 ],
 "metadata": {
  "kernelspec": {
   "display_name": "Python [conda root]",
   "language": "python",
   "name": "conda-root-py"
  },
  "language_info": {
   "codemirror_mode": {
    "name": "ipython",
    "version": 3
   },
   "file_extension": ".py",
   "mimetype": "text/x-python",
   "name": "python",
   "nbconvert_exporter": "python",
   "pygments_lexer": "ipython3",
   "version": "3.6.5"
  }
 },
 "nbformat": 4,
 "nbformat_minor": 2
}

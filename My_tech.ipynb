{
 "cells": [
  {
   "cell_type": "code",
   "execution_count": 162,
   "metadata": {},
   "outputs": [],
   "source": [
    "%store -r __toolboxforsalesdata"
   ]
  },
  {
   "cell_type": "code",
   "execution_count": 371,
   "metadata": {},
   "outputs": [
    {
     "name": "stdout",
     "output_type": "stream",
     "text": [
      "The rpy2.ipython extension is already loaded. To reload it, use:\n",
      "  %reload_ext rpy2.ipython\n"
     ]
    }
   ],
   "source": [
    "__toolboxforsalesdata"
   ]
  },
  {
   "cell_type": "code",
   "execution_count": 667,
   "metadata": {},
   "outputs": [],
   "source": [
    "train_df = pd.read_csv('train.csv')"
   ]
  },
  {
   "cell_type": "code",
   "execution_count": 668,
   "metadata": {},
   "outputs": [],
   "source": [
    "X_test = pd.read_csv('test.csv')"
   ]
  },
  {
   "cell_type": "code",
   "execution_count": 669,
   "metadata": {},
   "outputs": [
    {
     "data": {
      "text/html": [
       "<div>\n",
       "<style>\n",
       "    .dataframe thead tr:only-child th {\n",
       "        text-align: right;\n",
       "    }\n",
       "\n",
       "    .dataframe thead th {\n",
       "        text-align: left;\n",
       "    }\n",
       "\n",
       "    .dataframe tbody tr th {\n",
       "        vertical-align: top;\n",
       "    }\n",
       "</style>\n",
       "<table border=\"1\" class=\"dataframe\">\n",
       "  <thead>\n",
       "    <tr style=\"text-align: right;\">\n",
       "      <th></th>\n",
       "      <th>ID</th>\n",
       "      <th>age</th>\n",
       "      <th>sex</th>\n",
       "      <th>chest</th>\n",
       "      <th>resting_blood_pressure</th>\n",
       "      <th>serum_cholestoral</th>\n",
       "      <th>fasting_blood_sugar</th>\n",
       "      <th>resting_electrocardiographic_results</th>\n",
       "      <th>maximum_heart_rate_achieved</th>\n",
       "      <th>exercise_induced_angina</th>\n",
       "      <th>oldpeak</th>\n",
       "      <th>slope</th>\n",
       "      <th>number_of_major_vessels</th>\n",
       "      <th>thal</th>\n",
       "      <th>class</th>\n",
       "    </tr>\n",
       "  </thead>\n",
       "  <tbody>\n",
       "    <tr>\n",
       "      <th>0</th>\n",
       "      <td>0</td>\n",
       "      <td>49.207124</td>\n",
       "      <td>0</td>\n",
       "      <td>4.000000</td>\n",
       "      <td>162.996167</td>\n",
       "      <td>181.108682</td>\n",
       "      <td>0</td>\n",
       "      <td>0</td>\n",
       "      <td>148.227858</td>\n",
       "      <td>1</td>\n",
       "      <td>0.944547</td>\n",
       "      <td>2</td>\n",
       "      <td>0</td>\n",
       "      <td>3</td>\n",
       "      <td>1</td>\n",
       "    </tr>\n",
       "    <tr>\n",
       "      <th>1</th>\n",
       "      <td>1</td>\n",
       "      <td>53.628425</td>\n",
       "      <td>1</td>\n",
       "      <td>1.741596</td>\n",
       "      <td>130.233730</td>\n",
       "      <td>276.474630</td>\n",
       "      <td>0</td>\n",
       "      <td>2</td>\n",
       "      <td>152.917139</td>\n",
       "      <td>0</td>\n",
       "      <td>0.119070</td>\n",
       "      <td>2</td>\n",
       "      <td>0</td>\n",
       "      <td>3</td>\n",
       "      <td>0</td>\n",
       "    </tr>\n",
       "    <tr>\n",
       "      <th>2</th>\n",
       "      <td>2</td>\n",
       "      <td>49.591426</td>\n",
       "      <td>1</td>\n",
       "      <td>4.000000</td>\n",
       "      <td>146.999012</td>\n",
       "      <td>223.300517</td>\n",
       "      <td>1</td>\n",
       "      <td>2</td>\n",
       "      <td>102.352090</td>\n",
       "      <td>1</td>\n",
       "      <td>1.616747</td>\n",
       "      <td>2</td>\n",
       "      <td>2</td>\n",
       "      <td>7</td>\n",
       "      <td>1</td>\n",
       "    </tr>\n",
       "    <tr>\n",
       "      <th>3</th>\n",
       "      <td>3</td>\n",
       "      <td>58.991445</td>\n",
       "      <td>1</td>\n",
       "      <td>4.000000</td>\n",
       "      <td>112.369143</td>\n",
       "      <td>187.245501</td>\n",
       "      <td>0</td>\n",
       "      <td>0</td>\n",
       "      <td>158.164750</td>\n",
       "      <td>1</td>\n",
       "      <td>0.000000</td>\n",
       "      <td>1</td>\n",
       "      <td>1</td>\n",
       "      <td>7</td>\n",
       "      <td>1</td>\n",
       "    </tr>\n",
       "    <tr>\n",
       "      <th>4</th>\n",
       "      <td>4</td>\n",
       "      <td>51.053602</td>\n",
       "      <td>1</td>\n",
       "      <td>1.954609</td>\n",
       "      <td>138.032047</td>\n",
       "      <td>238.482868</td>\n",
       "      <td>0</td>\n",
       "      <td>0</td>\n",
       "      <td>172.540828</td>\n",
       "      <td>0</td>\n",
       "      <td>1.150464</td>\n",
       "      <td>1</td>\n",
       "      <td>1</td>\n",
       "      <td>3</td>\n",
       "      <td>0</td>\n",
       "    </tr>\n",
       "  </tbody>\n",
       "</table>\n",
       "</div>"
      ],
      "text/plain": [
       "   ID        age  sex     chest  resting_blood_pressure  serum_cholestoral  \\\n",
       "0   0  49.207124    0  4.000000              162.996167         181.108682   \n",
       "1   1  53.628425    1  1.741596              130.233730         276.474630   \n",
       "2   2  49.591426    1  4.000000              146.999012         223.300517   \n",
       "3   3  58.991445    1  4.000000              112.369143         187.245501   \n",
       "4   4  51.053602    1  1.954609              138.032047         238.482868   \n",
       "\n",
       "   fasting_blood_sugar  resting_electrocardiographic_results  \\\n",
       "0                    0                                     0   \n",
       "1                    0                                     2   \n",
       "2                    1                                     2   \n",
       "3                    0                                     0   \n",
       "4                    0                                     0   \n",
       "\n",
       "   maximum_heart_rate_achieved  exercise_induced_angina   oldpeak  slope  \\\n",
       "0                   148.227858                        1  0.944547      2   \n",
       "1                   152.917139                        0  0.119070      2   \n",
       "2                   102.352090                        1  1.616747      2   \n",
       "3                   158.164750                        1  0.000000      1   \n",
       "4                   172.540828                        0  1.150464      1   \n",
       "\n",
       "   number_of_major_vessels  thal  class  \n",
       "0                        0     3      1  \n",
       "1                        0     3      0  \n",
       "2                        2     7      1  \n",
       "3                        1     7      1  \n",
       "4                        1     3      0  "
      ]
     },
     "execution_count": 669,
     "metadata": {},
     "output_type": "execute_result"
    }
   ],
   "source": [
    "train_df.head()"
   ]
  },
  {
   "cell_type": "code",
   "execution_count": 670,
   "metadata": {},
   "outputs": [
    {
     "data": {
      "text/plain": [
       "sex\n",
       "0    0.233202\n",
       "1    0.544641\n",
       "Name: class, dtype: float64"
      ]
     },
     "execution_count": 670,
     "metadata": {},
     "output_type": "execute_result"
    }
   ],
   "source": [
    "train_df.groupby('sex')['class'].mean()"
   ]
  },
  {
   "cell_type": "code",
   "execution_count": 671,
   "metadata": {},
   "outputs": [
    {
     "data": {
      "image/png": "[encoded data removed]",
      "text/plain": [
       "<Figure size 432x288 with 1 Axes>"
      ]
     },
     "metadata": {},
     "output_type": "display_data"
    }
   ],
   "source": [
    "sns.boxplot(train_cv['class'],train_cv['age']*train_cv['serum_cholestoral']*train_cv['sex'])\n",
    "plt.show()"
   ]
  },
  {
   "cell_type": "code",
   "execution_count": 672,
   "metadata": {},
   "outputs": [
    {
     "data": {
      "image/png": "[encoded data removed]",
      "text/plain": [
       "<Figure size 432x288 with 1 Axes>"
      ]
     },
     "metadata": {},
     "output_type": "display_data"
    }
   ],
   "source": [
    "sns.boxplot(train_cv['class'],train_cv['age']*train_cv['resting_blood_pressure']*train_cv['sex'])\n",
    "plt.show()"
   ]
  },
  {
   "cell_type": "code",
   "execution_count": 673,
   "metadata": {},
   "outputs": [
    {
     "data": {
      "image/png": "[encoded data removed]",
      "text/plain": [
       "<Figure size 432x288 with 1 Axes>"
      ]
     },
     "metadata": {},
     "output_type": "display_data"
    }
   ],
   "source": [
    "sns.boxplot(train_cv['class'],train_cv['age']*train_cv['sex'])\n",
    "plt.show()"
   ]
  },
  {
   "cell_type": "code",
   "execution_count": 674,
   "metadata": {},
   "outputs": [],
   "source": [
    "norm = train_cv['age']*train_cv['resting_blood_pressure']*train_cv['sex']*train_cv['number_of_major_vessels']*train_cv['exercise_induced_angina']*train_cv['slope']*train_cv['thal']"
   ]
  },
  {
   "cell_type": "code",
   "execution_count": 675,
   "metadata": {},
   "outputs": [
    {
     "data": {
      "image/png": "[encoded data removed]",
      "text/plain": [
       "<Figure size 432x288 with 1 Axes>"
      ]
     },
     "metadata": {},
     "output_type": "display_data"
    }
   ],
   "source": [
    "sns.boxplot(train_cv['class'],norm)\n",
    "plt.show()"
   ]
  },
  {
   "cell_type": "code",
   "execution_count": 676,
   "metadata": {},
   "outputs": [
    {
     "data": {
      "image/png": "[encoded data removed]",
      "text/plain": [
       "<Figure size 432x288 with 1 Axes>"
      ]
     },
     "metadata": {},
     "output_type": "display_data"
    }
   ],
   "source": [
    "sns.boxplot(train_cv['class'],train_cv['sex']*train_cv['chest'])\n",
    "plt.show()"
   ]
  },
  {
   "cell_type": "code",
   "execution_count": 677,
   "metadata": {},
   "outputs": [
    {
     "data": {
      "image/png": "[encoded data removed]",
      "text/plain": [
       "<Figure size 432x288 with 1 Axes>"
      ]
     },
     "metadata": {},
     "output_type": "display_data"
    }
   ],
   "source": [
    "sns.boxplot(train_cv['class'],train_cv['age']*train_cv['chest'])\n",
    "plt.show()"
   ]
  },
  {
   "cell_type": "code",
   "execution_count": 678,
   "metadata": {},
   "outputs": [
    {
     "data": {
      "text/plain": [
       "<function matplotlib.pyplot.show>"
      ]
     },
     "execution_count": 678,
     "metadata": {},
     "output_type": "execute_result"
    },
    {
     "data": {
      "image/png": "[encoded data removed]",
      "text/plain": [
       "<Figure size 432x288 with 1 Axes>"
      ]
     },
     "metadata": {},
     "output_type": "display_data"
    }
   ],
   "source": [
    "sns.boxplot(train_cv['class'],train_cv['age'])\n",
    "plt.show"
   ]
  },
  {
   "cell_type": "code",
   "execution_count": 679,
   "metadata": {},
   "outputs": [
    {
     "data": {
      "text/plain": [
       "<function matplotlib.pyplot.show>"
      ]
     },
     "execution_count": 679,
     "metadata": {},
     "output_type": "execute_result"
    },
    {
     "data": {
      "image/png": "[encoded data removed]",
      "text/plain": [
       "<Figure size 432x288 with 1 Axes>"
      ]
     },
     "metadata": {},
     "output_type": "display_data"
    }
   ],
   "source": [
    "sns.boxplot(train_cv['class'],train_cv['resting_blood_pressure'])\n",
    "plt.show"
   ]
  },
  {
   "cell_type": "code",
   "execution_count": 680,
   "metadata": {},
   "outputs": [
    {
     "data": {
      "image/png": "[encoded data removed]",
      "text/plain": [
       "<Figure size 432x288 with 1 Axes>"
      ]
     },
     "metadata": {},
     "output_type": "display_data"
    }
   ],
   "source": [
    "sns.boxplot(train_cv['class'],train_cv['serum_cholestoral'])\n",
    "plt.show()"
   ]
  },
  {
   "cell_type": "code",
   "execution_count": 681,
   "metadata": {},
   "outputs": [
    {
     "name": "stderr",
     "output_type": "stream",
     "text": [
      "/anaconda/lib/python3.6/site-packages/scipy/stats/stats.py:1713: FutureWarning: Using a non-tuple sequence for multidimensional indexing is deprecated; use `arr[tuple(seq)]` instead of `arr[seq]`. In the future this will be interpreted as an array index, `arr[np.array(seq)]`, which will result either in an error or a different result.\n",
      "  return np.add.reduce(sorted[indexer] * weights, axis=axis) / sumval\n",
      "/anaconda/lib/python3.6/site-packages/matplotlib/axes/_axes.py:6462: UserWarning: The 'normed' kwarg is deprecated, and has been replaced by the 'density' kwarg.\n",
      "  warnings.warn(\"The 'normed' kwarg is deprecated, and has been \"\n"
     ]
    },
    {
     "data": {
      "image/png": "[encoded data removed]",
      "text/plain": [
       "<Figure size 432x288 with 1 Axes>"
      ]
     },
     "metadata": {},
     "output_type": "display_data"
    }
   ],
   "source": [
    "sns.distplot(np.log(train_df['resting_blood_pressure']))\n",
    "plt.show()"
   ]
  },
  {
   "cell_type": "code",
   "execution_count": 682,
   "metadata": {},
   "outputs": [
    {
     "name": "stderr",
     "output_type": "stream",
     "text": [
      "/anaconda/lib/python3.6/site-packages/scipy/stats/stats.py:1713: FutureWarning: Using a non-tuple sequence for multidimensional indexing is deprecated; use `arr[tuple(seq)]` instead of `arr[seq]`. In the future this will be interpreted as an array index, `arr[np.array(seq)]`, which will result either in an error or a different result.\n",
      "  return np.add.reduce(sorted[indexer] * weights, axis=axis) / sumval\n",
      "/anaconda/lib/python3.6/site-packages/matplotlib/axes/_axes.py:6462: UserWarning: The 'normed' kwarg is deprecated, and has been replaced by the 'density' kwarg.\n",
      "  warnings.warn(\"The 'normed' kwarg is deprecated, and has been \"\n"
     ]
    },
    {
     "data": {
      "image/png": "[encoded data removed]",
      "text/plain": [
       "<Figure size 432x288 with 1 Axes>"
      ]
     },
     "metadata": {},
     "output_type": "display_data"
    }
   ],
   "source": [
    "sns.distplot(train_df['chest']) #Two peaks need to consider.\n",
    "plt.show()"
   ]
  },
  {
   "cell_type": "code",
   "execution_count": 683,
   "metadata": {},
   "outputs": [
    {
     "data": {
      "text/plain": [
       "fasting_blood_sugar\n",
       "0    0.447518\n",
       "1    0.425762\n",
       "Name: class, dtype: float64"
      ]
     },
     "execution_count": 683,
     "metadata": {},
     "output_type": "execute_result"
    }
   ],
   "source": [
    "train_cv.groupby('fasting_blood_sugar')['class'].mean() #HYpothesis that this is lite."
   ]
  },
  {
   "cell_type": "code",
   "execution_count": 684,
   "metadata": {},
   "outputs": [
    {
     "data": {
      "text/plain": [
       "resting_electrocardiographic_results\n",
       "0    0.351491\n",
       "1    0.490869\n",
       "2    0.532138\n",
       "Name: class, dtype: float64"
      ]
     },
     "execution_count": 684,
     "metadata": {},
     "output_type": "execute_result"
    }
   ],
   "source": [
    "train_cv.groupby('resting_electrocardiographic_results')['class'].mean() "
   ]
  },
  {
   "cell_type": "code",
   "execution_count": 685,
   "metadata": {},
   "outputs": [
    {
     "data": {
      "image/png": "[encoded data removed]",
      "text/plain": [
       "<Figure size 432x288 with 1 Axes>"
      ]
     },
     "metadata": {},
     "output_type": "display_data"
    }
   ],
   "source": [
    "sns.boxplot(train_cv['class'],train_cv['maximum_heart_rate_achieved'])\n",
    "plt.show()"
   ]
  },
  {
   "cell_type": "code",
   "execution_count": 686,
   "metadata": {},
   "outputs": [
    {
     "name": "stderr",
     "output_type": "stream",
     "text": [
      "/anaconda/lib/python3.6/site-packages/scipy/stats/stats.py:1713: FutureWarning: Using a non-tuple sequence for multidimensional indexing is deprecated; use `arr[tuple(seq)]` instead of `arr[seq]`. In the future this will be interpreted as an array index, `arr[np.array(seq)]`, which will result either in an error or a different result.\n",
      "  return np.add.reduce(sorted[indexer] * weights, axis=axis) / sumval\n",
      "/anaconda/lib/python3.6/site-packages/matplotlib/axes/_axes.py:6462: UserWarning: The 'normed' kwarg is deprecated, and has been replaced by the 'density' kwarg.\n",
      "  warnings.warn(\"The 'normed' kwarg is deprecated, and has been \"\n"
     ]
    },
    {
     "data": {
      "image/png": "[encoded data removed]",
      "text/plain": [
       "<Figure size 432x288 with 1 Axes>"
      ]
     },
     "metadata": {},
     "output_type": "display_data"
    }
   ],
   "source": [
    "sns.distplot(train_df['maximum_heart_rate_achieved']) #hmmm,, all distributions have peaks.\n",
    "plt.show()"
   ]
  },
  {
   "cell_type": "code",
   "execution_count": 687,
   "metadata": {},
   "outputs": [
    {
     "data": {
      "text/plain": [
       "exercise_induced_angina\n",
       "0    0.299930\n",
       "1    0.733223\n",
       "Name: class, dtype: float64"
      ]
     },
     "execution_count": 687,
     "metadata": {},
     "output_type": "execute_result"
    }
   ],
   "source": [
    "train_cv.groupby('exercise_induced_angina')['class'].mean() "
   ]
  },
  {
   "cell_type": "code",
   "execution_count": 688,
   "metadata": {},
   "outputs": [
    {
     "data": {
      "image/png": "[encoded data removed]",
      "text/plain": [
       "<Figure size 432x288 with 1 Axes>"
      ]
     },
     "metadata": {},
     "output_type": "display_data"
    }
   ],
   "source": [
    "sns.boxplot(train_cv['class'],train_cv['oldpeak'])\n",
    "plt.show()"
   ]
  },
  {
   "cell_type": "code",
   "execution_count": 689,
   "metadata": {},
   "outputs": [
    {
     "name": "stderr",
     "output_type": "stream",
     "text": [
      "/anaconda/lib/python3.6/site-packages/scipy/stats/stats.py:1713: FutureWarning: Using a non-tuple sequence for multidimensional indexing is deprecated; use `arr[tuple(seq)]` instead of `arr[seq]`. In the future this will be interpreted as an array index, `arr[np.array(seq)]`, which will result either in an error or a different result.\n",
      "  return np.add.reduce(sorted[indexer] * weights, axis=axis) / sumval\n",
      "/anaconda/lib/python3.6/site-packages/matplotlib/axes/_axes.py:6462: UserWarning: The 'normed' kwarg is deprecated, and has been replaced by the 'density' kwarg.\n",
      "  warnings.warn(\"The 'normed' kwarg is deprecated, and has been \"\n"
     ]
    },
    {
     "data": {
      "image/png": "[encoded data removed]",
      "text/plain": [
       "<Figure size 432x288 with 1 Axes>"
      ]
     },
     "metadata": {},
     "output_type": "display_data"
    }
   ],
   "source": [
    "sns.distplot(train_df['oldpeak']) #hmmm,, all distributions have peaks.\n",
    "plt.show()"
   ]
  },
  {
   "cell_type": "code",
   "execution_count": 690,
   "metadata": {},
   "outputs": [
    {
     "data": {
      "text/plain": [
       "slope\n",
       "1    0.455291\n",
       "2    1.501460\n",
       "3    2.195452\n",
       "Name: oldpeak, dtype: float64"
      ]
     },
     "execution_count": 690,
     "metadata": {},
     "output_type": "execute_result"
    }
   ],
   "source": [
    "train_df.groupby('slope')['oldpeak'].mean() "
   ]
  },
  {
   "cell_type": "code",
   "execution_count": 691,
   "metadata": {},
   "outputs": [
    {
     "data": {
      "text/plain": [
       "number_of_major_vessels\n",
       "0    0.249812\n",
       "1    0.653074\n",
       "2    0.778655\n",
       "3    0.829529\n",
       "Name: class, dtype: float64"
      ]
     },
     "execution_count": 691,
     "metadata": {},
     "output_type": "execute_result"
    }
   ],
   "source": [
    "train_cv.groupby('number_of_major_vessels')['class'].mean() "
   ]
  },
  {
   "cell_type": "code",
   "execution_count": 692,
   "metadata": {},
   "outputs": [
    {
     "data": {
      "text/plain": [
       "thal\n",
       "3    0.218919\n",
       "6    0.563312\n",
       "7    0.752674\n",
       "Name: class, dtype: float64"
      ]
     },
     "execution_count": 692,
     "metadata": {},
     "output_type": "execute_result"
    }
   ],
   "source": [
    "train_cv.groupby('thal')['class'].mean() "
   ]
  },
  {
   "cell_type": "code",
   "execution_count": 693,
   "metadata": {},
   "outputs": [],
   "source": [
    "#Ok I dont think mean encoding is required.\n",
    "#Building features"
   ]
  },
  {
   "cell_type": "code",
   "execution_count": 694,
   "metadata": {},
   "outputs": [],
   "source": [
    "train_df['age_sex'] = train_df['age']*train_df['sex']\n",
    "train_df['cholestoral_age_sex'] = train_df['age']*train_df['serum_cholestoral']*train_df['sex']\n",
    "train_df['sex_chest'] = train_df['chest']*train_df['sex']\n",
    "train_df['age_chest'] = train_df['age']*train_df['chest']\n",
    "train_df['big_mix'] = train_df['age']*train_df['resting_blood_pressure']*train_df['sex']*train_df['number_of_major_vessels']*train_df['exercise_induced_angina']*train_df['slope']*train_df['thal']"
   ]
  },
  {
   "cell_type": "code",
   "execution_count": null,
   "metadata": {},
   "outputs": [],
   "source": []
  },
  {
   "cell_type": "code",
   "execution_count": 700,
   "metadata": {},
   "outputs": [
    {
     "data": {
      "text/html": [
       "<div>\n",
       "<style>\n",
       "    .dataframe thead tr:only-child th {\n",
       "        text-align: right;\n",
       "    }\n",
       "\n",
       "    .dataframe thead th {\n",
       "        text-align: left;\n",
       "    }\n",
       "\n",
       "    .dataframe tbody tr th {\n",
       "        vertical-align: top;\n",
       "    }\n",
       "</style>\n",
       "<table border=\"1\" class=\"dataframe\">\n",
       "  <thead>\n",
       "    <tr style=\"text-align: right;\">\n",
       "      <th></th>\n",
       "      <th>ID</th>\n",
       "      <th>age</th>\n",
       "      <th>sex</th>\n",
       "      <th>chest</th>\n",
       "      <th>resting_blood_pressure</th>\n",
       "      <th>serum_cholestoral</th>\n",
       "      <th>fasting_blood_sugar</th>\n",
       "      <th>resting_electrocardiographic_results</th>\n",
       "      <th>maximum_heart_rate_achieved</th>\n",
       "      <th>exercise_induced_angina</th>\n",
       "      <th>oldpeak</th>\n",
       "      <th>slope</th>\n",
       "      <th>number_of_major_vessels</th>\n",
       "      <th>thal</th>\n",
       "      <th>class</th>\n",
       "      <th>age_sex</th>\n",
       "      <th>sex_chest</th>\n",
       "      <th>age_chest</th>\n",
       "      <th>cholestoral_age_sex</th>\n",
       "      <th>big_mix</th>\n",
       "    </tr>\n",
       "  </thead>\n",
       "  <tbody>\n",
       "    <tr>\n",
       "      <th>0</th>\n",
       "      <td>0</td>\n",
       "      <td>49.207124</td>\n",
       "      <td>0</td>\n",
       "      <td>4.000000</td>\n",
       "      <td>162.996167</td>\n",
       "      <td>181.108682</td>\n",
       "      <td>0</td>\n",
       "      <td>0</td>\n",
       "      <td>148.227858</td>\n",
       "      <td>1</td>\n",
       "      <td>0.944547</td>\n",
       "      <td>2</td>\n",
       "      <td>0</td>\n",
       "      <td>3</td>\n",
       "      <td>1</td>\n",
       "      <td>0.000000</td>\n",
       "      <td>0.000000</td>\n",
       "      <td>196.828496</td>\n",
       "      <td>0.000000</td>\n",
       "      <td>0.000000</td>\n",
       "    </tr>\n",
       "    <tr>\n",
       "      <th>1</th>\n",
       "      <td>1</td>\n",
       "      <td>53.628425</td>\n",
       "      <td>1</td>\n",
       "      <td>1.741596</td>\n",
       "      <td>130.233730</td>\n",
       "      <td>276.474630</td>\n",
       "      <td>0</td>\n",
       "      <td>2</td>\n",
       "      <td>152.917139</td>\n",
       "      <td>0</td>\n",
       "      <td>0.119070</td>\n",
       "      <td>2</td>\n",
       "      <td>0</td>\n",
       "      <td>3</td>\n",
       "      <td>0</td>\n",
       "      <td>53.628425</td>\n",
       "      <td>1.741596</td>\n",
       "      <td>93.399050</td>\n",
       "      <td>14826.898959</td>\n",
       "      <td>0.000000</td>\n",
       "    </tr>\n",
       "    <tr>\n",
       "      <th>2</th>\n",
       "      <td>2</td>\n",
       "      <td>49.591426</td>\n",
       "      <td>1</td>\n",
       "      <td>4.000000</td>\n",
       "      <td>146.999012</td>\n",
       "      <td>223.300517</td>\n",
       "      <td>1</td>\n",
       "      <td>2</td>\n",
       "      <td>102.352090</td>\n",
       "      <td>1</td>\n",
       "      <td>1.616747</td>\n",
       "      <td>2</td>\n",
       "      <td>2</td>\n",
       "      <td>7</td>\n",
       "      <td>1</td>\n",
       "      <td>49.591426</td>\n",
       "      <td>4.000000</td>\n",
       "      <td>198.365704</td>\n",
       "      <td>11073.791065</td>\n",
       "      <td>204116.937519</td>\n",
       "    </tr>\n",
       "    <tr>\n",
       "      <th>3</th>\n",
       "      <td>3</td>\n",
       "      <td>58.991445</td>\n",
       "      <td>1</td>\n",
       "      <td>4.000000</td>\n",
       "      <td>112.369143</td>\n",
       "      <td>187.245501</td>\n",
       "      <td>0</td>\n",
       "      <td>0</td>\n",
       "      <td>158.164750</td>\n",
       "      <td>1</td>\n",
       "      <td>0.000000</td>\n",
       "      <td>1</td>\n",
       "      <td>1</td>\n",
       "      <td>7</td>\n",
       "      <td>1</td>\n",
       "      <td>58.991445</td>\n",
       "      <td>4.000000</td>\n",
       "      <td>235.965780</td>\n",
       "      <td>11045.882674</td>\n",
       "      <td>46401.726833</td>\n",
       "    </tr>\n",
       "    <tr>\n",
       "      <th>4</th>\n",
       "      <td>4</td>\n",
       "      <td>51.053602</td>\n",
       "      <td>1</td>\n",
       "      <td>1.954609</td>\n",
       "      <td>138.032047</td>\n",
       "      <td>238.482868</td>\n",
       "      <td>0</td>\n",
       "      <td>0</td>\n",
       "      <td>172.540828</td>\n",
       "      <td>0</td>\n",
       "      <td>1.150464</td>\n",
       "      <td>1</td>\n",
       "      <td>1</td>\n",
       "      <td>3</td>\n",
       "      <td>0</td>\n",
       "      <td>51.053602</td>\n",
       "      <td>1.954609</td>\n",
       "      <td>99.789830</td>\n",
       "      <td>12175.409427</td>\n",
       "      <td>0.000000</td>\n",
       "    </tr>\n",
       "  </tbody>\n",
       "</table>\n",
       "</div>"
      ],
      "text/plain": [
       "   ID        age  sex     chest  resting_blood_pressure  serum_cholestoral  \\\n",
       "0   0  49.207124    0  4.000000              162.996167         181.108682   \n",
       "1   1  53.628425    1  1.741596              130.233730         276.474630   \n",
       "2   2  49.591426    1  4.000000              146.999012         223.300517   \n",
       "3   3  58.991445    1  4.000000              112.369143         187.245501   \n",
       "4   4  51.053602    1  1.954609              138.032047         238.482868   \n",
       "\n",
       "   fasting_blood_sugar  resting_electrocardiographic_results  \\\n",
       "0                    0                                     0   \n",
       "1                    0                                     2   \n",
       "2                    1                                     2   \n",
       "3                    0                                     0   \n",
       "4                    0                                     0   \n",
       "\n",
       "   maximum_heart_rate_achieved  exercise_induced_angina   oldpeak  slope  \\\n",
       "0                   148.227858                        1  0.944547      2   \n",
       "1                   152.917139                        0  0.119070      2   \n",
       "2                   102.352090                        1  1.616747      2   \n",
       "3                   158.164750                        1  0.000000      1   \n",
       "4                   172.540828                        0  1.150464      1   \n",
       "\n",
       "   number_of_major_vessels  thal  class    age_sex  sex_chest   age_chest  \\\n",
       "0                        0     3      1   0.000000   0.000000  196.828496   \n",
       "1                        0     3      0  53.628425   1.741596   93.399050   \n",
       "2                        2     7      1  49.591426   4.000000  198.365704   \n",
       "3                        1     7      1  58.991445   4.000000  235.965780   \n",
       "4                        1     3      0  51.053602   1.954609   99.789830   \n",
       "\n",
       "   cholestoral_age_sex        big_mix  \n",
       "0             0.000000       0.000000  \n",
       "1         14826.898959       0.000000  \n",
       "2         11073.791065  204116.937519  \n",
       "3         11045.882674   46401.726833  \n",
       "4         12175.409427       0.000000  "
      ]
     },
     "execution_count": 700,
     "metadata": {},
     "output_type": "execute_result"
    }
   ],
   "source": [
    "train_df.head()"
   ]
  },
  {
   "cell_type": "code",
   "execution_count": 701,
   "metadata": {},
   "outputs": [
    {
     "data": {
      "text/plain": [
       "<matplotlib.axes._subplots.AxesSubplot at 0x143ef4128>"
      ]
     },
     "execution_count": 701,
     "metadata": {},
     "output_type": "execute_result"
    },
    {
     "data": {
      "image/png": "[encoded data removed]",
      "text/plain": [
       "<Figure size 792x648 with 2 Axes>"
      ]
     },
     "metadata": {},
     "output_type": "display_data"
    }
   ],
   "source": [
    "sns.set(style=\"white\")\n",
    "\n",
    "# Generate a large random dataset\n",
    "rs = np.random.RandomState(33)\n",
    "\n",
    "\n",
    "# Compute the correlation matrix\n",
    "corr = train_df.corr()\n",
    "\n",
    "# Generate a mask for the upper triangle\n",
    "mask = np.zeros_like(corr, dtype=np.bool)\n",
    "mask[np.triu_indices_from(mask)] = True\n",
    "\n",
    "# Set up the matplotlib figure\n",
    "f, ax = plt.subplots(figsize=(11, 9))\n",
    "\n",
    "# Generate a custom diverging colormap\n",
    "cmap = sns.diverging_palette(220, 10, as_cmap=True)\n",
    "\n",
    "# Draw the heatmap with the mask and correct aspect ratio\n",
    "sns.heatmap(corr, cmap=cmap, vmax=1, center=0,\n",
    "            square=True, linewidths=.5, cbar_kws={\"shrink\": .5})"
   ]
  },
  {
   "cell_type": "code",
   "execution_count": 702,
   "metadata": {},
   "outputs": [
    {
     "data": {
      "text/html": [
       "<div>\n",
       "<style>\n",
       "    .dataframe thead tr:only-child th {\n",
       "        text-align: right;\n",
       "    }\n",
       "\n",
       "    .dataframe thead th {\n",
       "        text-align: left;\n",
       "    }\n",
       "\n",
       "    .dataframe tbody tr th {\n",
       "        vertical-align: top;\n",
       "    }\n",
       "</style>\n",
       "<table border=\"1\" class=\"dataframe\">\n",
       "  <thead>\n",
       "    <tr style=\"text-align: right;\">\n",
       "      <th></th>\n",
       "      <th>ID</th>\n",
       "      <th>age</th>\n",
       "      <th>sex</th>\n",
       "      <th>chest</th>\n",
       "      <th>resting_blood_pressure</th>\n",
       "      <th>serum_cholestoral</th>\n",
       "      <th>fasting_blood_sugar</th>\n",
       "      <th>resting_electrocardiographic_results</th>\n",
       "      <th>maximum_heart_rate_achieved</th>\n",
       "      <th>exercise_induced_angina</th>\n",
       "      <th>oldpeak</th>\n",
       "      <th>slope</th>\n",
       "      <th>number_of_major_vessels</th>\n",
       "      <th>thal</th>\n",
       "      <th>class</th>\n",
       "      <th>age_sex</th>\n",
       "      <th>sex_chest</th>\n",
       "      <th>age_chest</th>\n",
       "      <th>cholestoral_age_sex</th>\n",
       "      <th>big_mix</th>\n",
       "    </tr>\n",
       "  </thead>\n",
       "  <tbody>\n",
       "    <tr>\n",
       "      <th>0</th>\n",
       "      <td>0</td>\n",
       "      <td>49.207124</td>\n",
       "      <td>0</td>\n",
       "      <td>4.000000</td>\n",
       "      <td>162.996167</td>\n",
       "      <td>181.108682</td>\n",
       "      <td>0</td>\n",
       "      <td>0</td>\n",
       "      <td>148.227858</td>\n",
       "      <td>1</td>\n",
       "      <td>0.944547</td>\n",
       "      <td>2</td>\n",
       "      <td>0</td>\n",
       "      <td>3</td>\n",
       "      <td>1</td>\n",
       "      <td>0.000000</td>\n",
       "      <td>0.000000</td>\n",
       "      <td>196.828496</td>\n",
       "      <td>0.000000</td>\n",
       "      <td>0.000000</td>\n",
       "    </tr>\n",
       "    <tr>\n",
       "      <th>1</th>\n",
       "      <td>1</td>\n",
       "      <td>53.628425</td>\n",
       "      <td>1</td>\n",
       "      <td>1.741596</td>\n",
       "      <td>130.233730</td>\n",
       "      <td>276.474630</td>\n",
       "      <td>0</td>\n",
       "      <td>2</td>\n",
       "      <td>152.917139</td>\n",
       "      <td>0</td>\n",
       "      <td>0.119070</td>\n",
       "      <td>2</td>\n",
       "      <td>0</td>\n",
       "      <td>3</td>\n",
       "      <td>0</td>\n",
       "      <td>53.628425</td>\n",
       "      <td>1.741596</td>\n",
       "      <td>93.399050</td>\n",
       "      <td>14826.898959</td>\n",
       "      <td>0.000000</td>\n",
       "    </tr>\n",
       "    <tr>\n",
       "      <th>2</th>\n",
       "      <td>2</td>\n",
       "      <td>49.591426</td>\n",
       "      <td>1</td>\n",
       "      <td>4.000000</td>\n",
       "      <td>146.999012</td>\n",
       "      <td>223.300517</td>\n",
       "      <td>1</td>\n",
       "      <td>2</td>\n",
       "      <td>102.352090</td>\n",
       "      <td>1</td>\n",
       "      <td>1.616747</td>\n",
       "      <td>2</td>\n",
       "      <td>2</td>\n",
       "      <td>7</td>\n",
       "      <td>1</td>\n",
       "      <td>49.591426</td>\n",
       "      <td>4.000000</td>\n",
       "      <td>198.365704</td>\n",
       "      <td>11073.791065</td>\n",
       "      <td>204116.937519</td>\n",
       "    </tr>\n",
       "    <tr>\n",
       "      <th>3</th>\n",
       "      <td>3</td>\n",
       "      <td>58.991445</td>\n",
       "      <td>1</td>\n",
       "      <td>4.000000</td>\n",
       "      <td>112.369143</td>\n",
       "      <td>187.245501</td>\n",
       "      <td>0</td>\n",
       "      <td>0</td>\n",
       "      <td>158.164750</td>\n",
       "      <td>1</td>\n",
       "      <td>0.000000</td>\n",
       "      <td>1</td>\n",
       "      <td>1</td>\n",
       "      <td>7</td>\n",
       "      <td>1</td>\n",
       "      <td>58.991445</td>\n",
       "      <td>4.000000</td>\n",
       "      <td>235.965780</td>\n",
       "      <td>11045.882674</td>\n",
       "      <td>46401.726833</td>\n",
       "    </tr>\n",
       "    <tr>\n",
       "      <th>4</th>\n",
       "      <td>4</td>\n",
       "      <td>51.053602</td>\n",
       "      <td>1</td>\n",
       "      <td>1.954609</td>\n",
       "      <td>138.032047</td>\n",
       "      <td>238.482868</td>\n",
       "      <td>0</td>\n",
       "      <td>0</td>\n",
       "      <td>172.540828</td>\n",
       "      <td>0</td>\n",
       "      <td>1.150464</td>\n",
       "      <td>1</td>\n",
       "      <td>1</td>\n",
       "      <td>3</td>\n",
       "      <td>0</td>\n",
       "      <td>51.053602</td>\n",
       "      <td>1.954609</td>\n",
       "      <td>99.789830</td>\n",
       "      <td>12175.409427</td>\n",
       "      <td>0.000000</td>\n",
       "    </tr>\n",
       "  </tbody>\n",
       "</table>\n",
       "</div>"
      ],
      "text/plain": [
       "   ID        age  sex     chest  resting_blood_pressure  serum_cholestoral  \\\n",
       "0   0  49.207124    0  4.000000              162.996167         181.108682   \n",
       "1   1  53.628425    1  1.741596              130.233730         276.474630   \n",
       "2   2  49.591426    1  4.000000              146.999012         223.300517   \n",
       "3   3  58.991445    1  4.000000              112.369143         187.245501   \n",
       "4   4  51.053602    1  1.954609              138.032047         238.482868   \n",
       "\n",
       "   fasting_blood_sugar  resting_electrocardiographic_results  \\\n",
       "0                    0                                     0   \n",
       "1                    0                                     2   \n",
       "2                    1                                     2   \n",
       "3                    0                                     0   \n",
       "4                    0                                     0   \n",
       "\n",
       "   maximum_heart_rate_achieved  exercise_induced_angina   oldpeak  slope  \\\n",
       "0                   148.227858                        1  0.944547      2   \n",
       "1                   152.917139                        0  0.119070      2   \n",
       "2                   102.352090                        1  1.616747      2   \n",
       "3                   158.164750                        1  0.000000      1   \n",
       "4                   172.540828                        0  1.150464      1   \n",
       "\n",
       "   number_of_major_vessels  thal  class    age_sex  sex_chest   age_chest  \\\n",
       "0                        0     3      1   0.000000   0.000000  196.828496   \n",
       "1                        0     3      0  53.628425   1.741596   93.399050   \n",
       "2                        2     7      1  49.591426   4.000000  198.365704   \n",
       "3                        1     7      1  58.991445   4.000000  235.965780   \n",
       "4                        1     3      0  51.053602   1.954609   99.789830   \n",
       "\n",
       "   cholestoral_age_sex        big_mix  \n",
       "0             0.000000       0.000000  \n",
       "1         14826.898959       0.000000  \n",
       "2         11073.791065  204116.937519  \n",
       "3         11045.882674   46401.726833  \n",
       "4         12175.409427       0.000000  "
      ]
     },
     "execution_count": 702,
     "metadata": {},
     "output_type": "execute_result"
    }
   ],
   "source": [
    "train_df.head()"
   ]
  },
  {
   "cell_type": "code",
   "execution_count": null,
   "metadata": {},
   "outputs": [],
   "source": []
  },
  {
   "cell_type": "code",
   "execution_count": 703,
   "metadata": {},
   "outputs": [
    {
     "data": {
      "text/html": [
       "<div>\n",
       "<style>\n",
       "    .dataframe thead tr:only-child th {\n",
       "        text-align: right;\n",
       "    }\n",
       "\n",
       "    .dataframe thead th {\n",
       "        text-align: left;\n",
       "    }\n",
       "\n",
       "    .dataframe tbody tr th {\n",
       "        vertical-align: top;\n",
       "    }\n",
       "</style>\n",
       "<table border=\"1\" class=\"dataframe\">\n",
       "  <thead>\n",
       "    <tr style=\"text-align: right;\">\n",
       "      <th></th>\n",
       "      <th>ID</th>\n",
       "      <th>age</th>\n",
       "      <th>sex</th>\n",
       "      <th>chest</th>\n",
       "      <th>resting_blood_pressure</th>\n",
       "      <th>serum_cholestoral</th>\n",
       "      <th>fasting_blood_sugar</th>\n",
       "      <th>resting_electrocardiographic_results</th>\n",
       "      <th>maximum_heart_rate_achieved</th>\n",
       "      <th>exercise_induced_angina</th>\n",
       "      <th>oldpeak</th>\n",
       "      <th>slope</th>\n",
       "      <th>number_of_major_vessels</th>\n",
       "      <th>thal</th>\n",
       "      <th>class</th>\n",
       "      <th>age_sex</th>\n",
       "      <th>sex_chest</th>\n",
       "      <th>age_chest</th>\n",
       "      <th>cholestoral_age_sex</th>\n",
       "      <th>big_mix</th>\n",
       "    </tr>\n",
       "  </thead>\n",
       "  <tbody>\n",
       "    <tr>\n",
       "      <th>0</th>\n",
       "      <td>0</td>\n",
       "      <td>49.207124</td>\n",
       "      <td>0</td>\n",
       "      <td>4.000000</td>\n",
       "      <td>162.996167</td>\n",
       "      <td>181.108682</td>\n",
       "      <td>0</td>\n",
       "      <td>0</td>\n",
       "      <td>148.227858</td>\n",
       "      <td>1</td>\n",
       "      <td>0.944547</td>\n",
       "      <td>2</td>\n",
       "      <td>0</td>\n",
       "      <td>3</td>\n",
       "      <td>1</td>\n",
       "      <td>0.000000</td>\n",
       "      <td>0.000000</td>\n",
       "      <td>196.828496</td>\n",
       "      <td>0.000000</td>\n",
       "      <td>0.000000</td>\n",
       "    </tr>\n",
       "    <tr>\n",
       "      <th>1</th>\n",
       "      <td>1</td>\n",
       "      <td>53.628425</td>\n",
       "      <td>1</td>\n",
       "      <td>1.741596</td>\n",
       "      <td>130.233730</td>\n",
       "      <td>276.474630</td>\n",
       "      <td>0</td>\n",
       "      <td>2</td>\n",
       "      <td>152.917139</td>\n",
       "      <td>0</td>\n",
       "      <td>0.119070</td>\n",
       "      <td>2</td>\n",
       "      <td>0</td>\n",
       "      <td>3</td>\n",
       "      <td>0</td>\n",
       "      <td>53.628425</td>\n",
       "      <td>1.741596</td>\n",
       "      <td>93.399050</td>\n",
       "      <td>14826.898959</td>\n",
       "      <td>0.000000</td>\n",
       "    </tr>\n",
       "    <tr>\n",
       "      <th>2</th>\n",
       "      <td>2</td>\n",
       "      <td>49.591426</td>\n",
       "      <td>1</td>\n",
       "      <td>4.000000</td>\n",
       "      <td>146.999012</td>\n",
       "      <td>223.300517</td>\n",
       "      <td>1</td>\n",
       "      <td>2</td>\n",
       "      <td>102.352090</td>\n",
       "      <td>1</td>\n",
       "      <td>1.616747</td>\n",
       "      <td>2</td>\n",
       "      <td>2</td>\n",
       "      <td>7</td>\n",
       "      <td>1</td>\n",
       "      <td>49.591426</td>\n",
       "      <td>4.000000</td>\n",
       "      <td>198.365704</td>\n",
       "      <td>11073.791065</td>\n",
       "      <td>204116.937519</td>\n",
       "    </tr>\n",
       "    <tr>\n",
       "      <th>3</th>\n",
       "      <td>3</td>\n",
       "      <td>58.991445</td>\n",
       "      <td>1</td>\n",
       "      <td>4.000000</td>\n",
       "      <td>112.369143</td>\n",
       "      <td>187.245501</td>\n",
       "      <td>0</td>\n",
       "      <td>0</td>\n",
       "      <td>158.164750</td>\n",
       "      <td>1</td>\n",
       "      <td>0.000000</td>\n",
       "      <td>1</td>\n",
       "      <td>1</td>\n",
       "      <td>7</td>\n",
       "      <td>1</td>\n",
       "      <td>58.991445</td>\n",
       "      <td>4.000000</td>\n",
       "      <td>235.965780</td>\n",
       "      <td>11045.882674</td>\n",
       "      <td>46401.726833</td>\n",
       "    </tr>\n",
       "    <tr>\n",
       "      <th>4</th>\n",
       "      <td>4</td>\n",
       "      <td>51.053602</td>\n",
       "      <td>1</td>\n",
       "      <td>1.954609</td>\n",
       "      <td>138.032047</td>\n",
       "      <td>238.482868</td>\n",
       "      <td>0</td>\n",
       "      <td>0</td>\n",
       "      <td>172.540828</td>\n",
       "      <td>0</td>\n",
       "      <td>1.150464</td>\n",
       "      <td>1</td>\n",
       "      <td>1</td>\n",
       "      <td>3</td>\n",
       "      <td>0</td>\n",
       "      <td>51.053602</td>\n",
       "      <td>1.954609</td>\n",
       "      <td>99.789830</td>\n",
       "      <td>12175.409427</td>\n",
       "      <td>0.000000</td>\n",
       "    </tr>\n",
       "  </tbody>\n",
       "</table>\n",
       "</div>"
      ],
      "text/plain": [
       "   ID        age  sex     chest  resting_blood_pressure  serum_cholestoral  \\\n",
       "0   0  49.207124    0  4.000000              162.996167         181.108682   \n",
       "1   1  53.628425    1  1.741596              130.233730         276.474630   \n",
       "2   2  49.591426    1  4.000000              146.999012         223.300517   \n",
       "3   3  58.991445    1  4.000000              112.369143         187.245501   \n",
       "4   4  51.053602    1  1.954609              138.032047         238.482868   \n",
       "\n",
       "   fasting_blood_sugar  resting_electrocardiographic_results  \\\n",
       "0                    0                                     0   \n",
       "1                    0                                     2   \n",
       "2                    1                                     2   \n",
       "3                    0                                     0   \n",
       "4                    0                                     0   \n",
       "\n",
       "   maximum_heart_rate_achieved  exercise_induced_angina   oldpeak  slope  \\\n",
       "0                   148.227858                        1  0.944547      2   \n",
       "1                   152.917139                        0  0.119070      2   \n",
       "2                   102.352090                        1  1.616747      2   \n",
       "3                   158.164750                        1  0.000000      1   \n",
       "4                   172.540828                        0  1.150464      1   \n",
       "\n",
       "   number_of_major_vessels  thal  class    age_sex  sex_chest   age_chest  \\\n",
       "0                        0     3      1   0.000000   0.000000  196.828496   \n",
       "1                        0     3      0  53.628425   1.741596   93.399050   \n",
       "2                        2     7      1  49.591426   4.000000  198.365704   \n",
       "3                        1     7      1  58.991445   4.000000  235.965780   \n",
       "4                        1     3      0  51.053602   1.954609   99.789830   \n",
       "\n",
       "   cholestoral_age_sex        big_mix  \n",
       "0             0.000000       0.000000  \n",
       "1         14826.898959       0.000000  \n",
       "2         11073.791065  204116.937519  \n",
       "3         11045.882674   46401.726833  \n",
       "4         12175.409427       0.000000  "
      ]
     },
     "execution_count": 703,
     "metadata": {},
     "output_type": "execute_result"
    }
   ],
   "source": [
    "train_df.head()"
   ]
  },
  {
   "cell_type": "code",
   "execution_count": 704,
   "metadata": {},
   "outputs": [],
   "source": [
    "from sklearn.model_selection import train_test_split"
   ]
  },
  {
   "cell_type": "code",
   "execution_count": 705,
   "metadata": {},
   "outputs": [],
   "source": [
    "train_cv , val_cv = train_test_split(train_df)"
   ]
  },
  {
   "cell_type": "code",
   "execution_count": 706,
   "metadata": {},
   "outputs": [],
   "source": [
    "X_train_cv = train_cv.copy().drop(['ID','class'], axis = 1)"
   ]
  },
  {
   "cell_type": "code",
   "execution_count": 707,
   "metadata": {},
   "outputs": [],
   "source": [
    "X_val_cv = val_cv.copy().drop(['ID','class'], axis = 1)"
   ]
  },
  {
   "cell_type": "code",
   "execution_count": 708,
   "metadata": {},
   "outputs": [],
   "source": [
    "from sklearn.preprocessing import StandardScaler"
   ]
  },
  {
   "cell_type": "code",
   "execution_count": 709,
   "metadata": {},
   "outputs": [],
   "source": [
    "scaler = StandardScaler()"
   ]
  },
  {
   "cell_type": "code",
   "execution_count": 710,
   "metadata": {},
   "outputs": [
    {
     "data": {
      "text/plain": [
       "StandardScaler(copy=True, with_mean=True, with_std=True)"
      ]
     },
     "execution_count": 710,
     "metadata": {},
     "output_type": "execute_result"
    }
   ],
   "source": [
    "scaler.fit(X_train_cv)"
   ]
  },
  {
   "cell_type": "code",
   "execution_count": 711,
   "metadata": {},
   "outputs": [],
   "source": [
    "X_train_cv_std = scaler.transform(X_train_cv)"
   ]
  },
  {
   "cell_type": "code",
   "execution_count": 712,
   "metadata": {},
   "outputs": [],
   "source": [
    "X_val_cv_std = scaler.transform(X_val_cv)"
   ]
  },
  {
   "cell_type": "code",
   "execution_count": 713,
   "metadata": {},
   "outputs": [],
   "source": [
    "y_train_cv = train_cv['class'].copy()"
   ]
  },
  {
   "cell_type": "code",
   "execution_count": 714,
   "metadata": {},
   "outputs": [],
   "source": [
    "y_val_cv = val_cv['class'].copy()"
   ]
  },
  {
   "cell_type": "code",
   "execution_count": 715,
   "metadata": {},
   "outputs": [],
   "source": [
    "#Linear model first\n",
    "from sklearn.linear_model import LogisticRegression"
   ]
  },
  {
   "cell_type": "code",
   "execution_count": 716,
   "metadata": {},
   "outputs": [],
   "source": [
    "lm_1 = LogisticRegression()"
   ]
  },
  {
   "cell_type": "code",
   "execution_count": 741,
   "metadata": {},
   "outputs": [
    {
     "data": {
      "text/plain": [
       "LogisticRegression(C=1.0, class_weight=None, dual=False, fit_intercept=True,\n",
       "          intercept_scaling=1, max_iter=100, multi_class='ovr', n_jobs=1,\n",
       "          penalty='l2', random_state=None, solver='liblinear', tol=0.0001,\n",
       "          verbose=0, warm_start=False)"
      ]
     },
     "execution_count": 741,
     "metadata": {},
     "output_type": "execute_result"
    }
   ],
   "source": [
    "lm_1.fit(X_train_cv_std , y_train_cv)"
   ]
  },
  {
   "cell_type": "code",
   "execution_count": 742,
   "metadata": {},
   "outputs": [
    {
     "data": {
      "text/html": [
       "<div>\n",
       "<style>\n",
       "    .dataframe thead tr:only-child th {\n",
       "        text-align: right;\n",
       "    }\n",
       "\n",
       "    .dataframe thead th {\n",
       "        text-align: left;\n",
       "    }\n",
       "\n",
       "    .dataframe tbody tr th {\n",
       "        vertical-align: top;\n",
       "    }\n",
       "</style>\n",
       "<table border=\"1\" class=\"dataframe\">\n",
       "  <thead>\n",
       "    <tr style=\"text-align: right;\">\n",
       "      <th></th>\n",
       "      <th>coef</th>\n",
       "      <th>col</th>\n",
       "    </tr>\n",
       "  </thead>\n",
       "  <tbody>\n",
       "    <tr>\n",
       "      <th>0</th>\n",
       "      <td>0.232217</td>\n",
       "      <td>age</td>\n",
       "    </tr>\n",
       "    <tr>\n",
       "      <th>1</th>\n",
       "      <td>0.183612</td>\n",
       "      <td>sex</td>\n",
       "    </tr>\n",
       "    <tr>\n",
       "      <th>2</th>\n",
       "      <td>0.802244</td>\n",
       "      <td>chest</td>\n",
       "    </tr>\n",
       "    <tr>\n",
       "      <th>3</th>\n",
       "      <td>0.235037</td>\n",
       "      <td>resting_blood_pressure</td>\n",
       "    </tr>\n",
       "    <tr>\n",
       "      <th>4</th>\n",
       "      <td>0.224418</td>\n",
       "      <td>serum_cholestoral</td>\n",
       "    </tr>\n",
       "    <tr>\n",
       "      <th>5</th>\n",
       "      <td>-0.032258</td>\n",
       "      <td>fasting_blood_sugar</td>\n",
       "    </tr>\n",
       "    <tr>\n",
       "      <th>6</th>\n",
       "      <td>0.367824</td>\n",
       "      <td>resting_electrocardiographic_results</td>\n",
       "    </tr>\n",
       "    <tr>\n",
       "      <th>7</th>\n",
       "      <td>-0.732365</td>\n",
       "      <td>maximum_heart_rate_achieved</td>\n",
       "    </tr>\n",
       "    <tr>\n",
       "      <th>8</th>\n",
       "      <td>0.681714</td>\n",
       "      <td>exercise_induced_angina</td>\n",
       "    </tr>\n",
       "    <tr>\n",
       "      <th>9</th>\n",
       "      <td>0.741748</td>\n",
       "      <td>oldpeak</td>\n",
       "    </tr>\n",
       "    <tr>\n",
       "      <th>10</th>\n",
       "      <td>0.320543</td>\n",
       "      <td>slope</td>\n",
       "    </tr>\n",
       "    <tr>\n",
       "      <th>11</th>\n",
       "      <td>1.035356</td>\n",
       "      <td>number_of_major_vessels</td>\n",
       "    </tr>\n",
       "    <tr>\n",
       "      <th>12</th>\n",
       "      <td>1.033145</td>\n",
       "      <td>thal</td>\n",
       "    </tr>\n",
       "    <tr>\n",
       "      <th>13</th>\n",
       "      <td>0.125703</td>\n",
       "      <td>age_sex</td>\n",
       "    </tr>\n",
       "    <tr>\n",
       "      <th>14</th>\n",
       "      <td>-0.044196</td>\n",
       "      <td>sex_chest</td>\n",
       "    </tr>\n",
       "    <tr>\n",
       "      <th>15</th>\n",
       "      <td>0.021279</td>\n",
       "      <td>age_chest</td>\n",
       "    </tr>\n",
       "    <tr>\n",
       "      <th>16</th>\n",
       "      <td>0.063943</td>\n",
       "      <td>cholestoral_age_sex</td>\n",
       "    </tr>\n",
       "    <tr>\n",
       "      <th>17</th>\n",
       "      <td>0.041187</td>\n",
       "      <td>big_mix</td>\n",
       "    </tr>\n",
       "  </tbody>\n",
       "</table>\n",
       "</div>"
      ],
      "text/plain": [
       "        coef                                   col\n",
       "0   0.232217                                   age\n",
       "1   0.183612                                   sex\n",
       "2   0.802244                                 chest\n",
       "3   0.235037                resting_blood_pressure\n",
       "4   0.224418                     serum_cholestoral\n",
       "5  -0.032258                   fasting_blood_sugar\n",
       "6   0.367824  resting_electrocardiographic_results\n",
       "7  -0.732365           maximum_heart_rate_achieved\n",
       "8   0.681714               exercise_induced_angina\n",
       "9   0.741748                               oldpeak\n",
       "10  0.320543                                 slope\n",
       "11  1.035356               number_of_major_vessels\n",
       "12  1.033145                                  thal\n",
       "13  0.125703                               age_sex\n",
       "14 -0.044196                             sex_chest\n",
       "15  0.021279                             age_chest\n",
       "16  0.063943                   cholestoral_age_sex\n",
       "17  0.041187                               big_mix"
      ]
     },
     "execution_count": 742,
     "metadata": {},
     "output_type": "execute_result"
    }
   ],
   "source": [
    "pd.DataFrame({'col':X_train_cv.columns.values,'coef':lm_1.coef_[0]})"
   ]
  },
  {
   "cell_type": "code",
   "execution_count": 744,
   "metadata": {},
   "outputs": [],
   "source": [
    "train_pred = lm_1.predict(X_train_cv_std)"
   ]
  },
  {
   "cell_type": "code",
   "execution_count": 745,
   "metadata": {},
   "outputs": [],
   "source": [
    "val_pred = lm_1.predict(X_val_cv_std)"
   ]
  },
  {
   "cell_type": "code",
   "execution_count": 746,
   "metadata": {},
   "outputs": [
    {
     "data": {
      "text/plain": [
       "0.8796377777777777"
      ]
     },
     "execution_count": 746,
     "metadata": {},
     "output_type": "execute_result"
    }
   ],
   "source": [
    "sum(train_pred==y_train_cv)/len(train_pred)"
   ]
  },
  {
   "cell_type": "code",
   "execution_count": 747,
   "metadata": {},
   "outputs": [
    {
     "data": {
      "text/plain": [
       "0.87832"
      ]
     },
     "execution_count": 747,
     "metadata": {},
     "output_type": "execute_result"
    }
   ],
   "source": [
    "sum(val_pred==y_val_cv)/len(val_pred)"
   ]
  },
  {
   "cell_type": "code",
   "execution_count": 723,
   "metadata": {},
   "outputs": [],
   "source": [
    "#Trying some complex model. Xgboost."
   ]
  },
  {
   "cell_type": "code",
   "execution_count": 748,
   "metadata": {},
   "outputs": [],
   "source": [
    "#Tuning for a while.\n",
    "paramsx = {'max_depth': 6, 'eta': 0.1, 'silent': 1, 'objective': 'binary:logistic', 'subsample' : 1 ,'eval_metric': 'error'}"
   ]
  },
  {
   "cell_type": "code",
   "execution_count": 749,
   "metadata": {},
   "outputs": [],
   "source": [
    "xg_train_cv = xgboost.DMatrix(X_train_cv, label=y_train_cv)"
   ]
  },
  {
   "cell_type": "code",
   "execution_count": 750,
   "metadata": {},
   "outputs": [],
   "source": [
    "xg_val_cv = xgboost.DMatrix(X_val_cv, label=y_val_cv)"
   ]
  },
  {
   "cell_type": "code",
   "execution_count": 751,
   "metadata": {},
   "outputs": [
    {
     "data": {
      "text/plain": [
       "array([1., 1., 0., ..., 0., 1., 0.], dtype=float32)"
      ]
     },
     "execution_count": 751,
     "metadata": {},
     "output_type": "execute_result"
    }
   ],
   "source": [
    "xg_train_cv.get_label()"
   ]
  },
  {
   "cell_type": "code",
   "execution_count": 752,
   "metadata": {},
   "outputs": [
    {
     "name": "stdout",
     "output_type": "stream",
     "text": [
      "[0]\ttrain_set-error:0.121998\tvalidation_set-error:0.12422\n",
      "Multiple eval metrics have been passed: 'validation_set-error' will be used for early stopping.\n",
      "\n",
      "Will train until validation_set-error hasn't improved in 30 rounds.\n",
      "[1]\ttrain_set-error:0.119631\tvalidation_set-error:0.121753\n",
      "[2]\ttrain_set-error:0.116289\tvalidation_set-error:0.118107\n",
      "[3]\ttrain_set-error:0.115667\tvalidation_set-error:0.11822\n",
      "[4]\ttrain_set-error:0.114813\tvalidation_set-error:0.117293\n",
      "[5]\ttrain_set-error:0.11462\tvalidation_set-error:0.11698\n",
      "[6]\ttrain_set-error:0.113891\tvalidation_set-error:0.116253\n",
      "[7]\ttrain_set-error:0.113713\tvalidation_set-error:0.116253\n",
      "[8]\ttrain_set-error:0.113258\tvalidation_set-error:0.115647\n",
      "[9]\ttrain_set-error:0.112649\tvalidation_set-error:0.11514\n",
      "[10]\ttrain_set-error:0.112151\tvalidation_set-error:0.114393\n",
      "[11]\ttrain_set-error:0.111829\tvalidation_set-error:0.11434\n",
      "[12]\ttrain_set-error:0.110931\tvalidation_set-error:0.113193\n",
      "[13]\ttrain_set-error:0.110364\tvalidation_set-error:0.11242\n",
      "[14]\ttrain_set-error:0.109978\tvalidation_set-error:0.112113\n",
      "[15]\ttrain_set-error:0.108744\tvalidation_set-error:0.11074\n",
      "[16]\ttrain_set-error:0.10798\tvalidation_set-error:0.109787\n",
      "[17]\ttrain_set-error:0.10758\tvalidation_set-error:0.109447\n",
      "[18]\ttrain_set-error:0.107064\tvalidation_set-error:0.108913\n",
      "[19]\ttrain_set-error:0.106584\tvalidation_set-error:0.108173\n",
      "[20]\ttrain_set-error:0.10602\tvalidation_set-error:0.107833\n",
      "[21]\ttrain_set-error:0.10556\tvalidation_set-error:0.10754\n",
      "[22]\ttrain_set-error:0.104893\tvalidation_set-error:0.106567\n",
      "[23]\ttrain_set-error:0.104438\tvalidation_set-error:0.10608\n",
      "[24]\ttrain_set-error:0.10412\tvalidation_set-error:0.105793\n",
      "[25]\ttrain_set-error:0.103613\tvalidation_set-error:0.105653\n",
      "[26]\ttrain_set-error:0.103096\tvalidation_set-error:0.105073\n",
      "[27]\ttrain_set-error:0.102847\tvalidation_set-error:0.104867\n",
      "[28]\ttrain_set-error:0.102478\tvalidation_set-error:0.104867\n",
      "[29]\ttrain_set-error:0.10206\tvalidation_set-error:0.104453\n",
      "[30]\ttrain_set-error:0.101787\tvalidation_set-error:0.1043\n",
      "[31]\ttrain_set-error:0.101471\tvalidation_set-error:0.1039\n",
      "[32]\ttrain_set-error:0.101231\tvalidation_set-error:0.10368\n",
      "[33]\ttrain_set-error:0.100996\tvalidation_set-error:0.103493\n",
      "[34]\ttrain_set-error:0.100667\tvalidation_set-error:0.103093\n",
      "[35]\ttrain_set-error:0.100389\tvalidation_set-error:0.10328\n",
      "[36]\ttrain_set-error:0.100202\tvalidation_set-error:0.103193\n",
      "[37]\ttrain_set-error:0.099838\tvalidation_set-error:0.102827\n",
      "[38]\ttrain_set-error:0.099742\tvalidation_set-error:0.102673\n",
      "[39]\ttrain_set-error:0.099513\tvalidation_set-error:0.102647\n",
      "[40]\ttrain_set-error:0.099436\tvalidation_set-error:0.102413\n",
      "[41]\ttrain_set-error:0.099198\tvalidation_set-error:0.102367\n",
      "[42]\ttrain_set-error:0.099\tvalidation_set-error:0.102027\n",
      "[43]\ttrain_set-error:0.098856\tvalidation_set-error:0.101867\n",
      "[44]\ttrain_set-error:0.098678\tvalidation_set-error:0.101773\n",
      "[45]\ttrain_set-error:0.098576\tvalidation_set-error:0.10174\n",
      "[46]\ttrain_set-error:0.098309\tvalidation_set-error:0.10146\n",
      "[47]\ttrain_set-error:0.098138\tvalidation_set-error:0.101453\n",
      "[48]\ttrain_set-error:0.098151\tvalidation_set-error:0.101367\n",
      "[49]\ttrain_set-error:0.098047\tvalidation_set-error:0.101093\n",
      "[50]\ttrain_set-error:0.097956\tvalidation_set-error:0.101093\n",
      "[51]\ttrain_set-error:0.097836\tvalidation_set-error:0.101173\n",
      "[52]\ttrain_set-error:0.097529\tvalidation_set-error:0.10088\n",
      "[53]\ttrain_set-error:0.097398\tvalidation_set-error:0.10098\n",
      "[54]\ttrain_set-error:0.097302\tvalidation_set-error:0.100847\n",
      "[55]\ttrain_set-error:0.097278\tvalidation_set-error:0.1007\n",
      "[56]\ttrain_set-error:0.097253\tvalidation_set-error:0.10078\n",
      "[57]\ttrain_set-error:0.09718\tvalidation_set-error:0.100793\n",
      "[58]\ttrain_set-error:0.097153\tvalidation_set-error:0.10078\n",
      "[59]\ttrain_set-error:0.097064\tvalidation_set-error:0.10064\n",
      "[60]\ttrain_set-error:0.096998\tvalidation_set-error:0.100587\n",
      "[61]\ttrain_set-error:0.096947\tvalidation_set-error:0.100527\n",
      "[62]\ttrain_set-error:0.096682\tvalidation_set-error:0.10046\n",
      "[63]\ttrain_set-error:0.096642\tvalidation_set-error:0.100447\n",
      "[64]\ttrain_set-error:0.096624\tvalidation_set-error:0.100367\n",
      "[65]\ttrain_set-error:0.096584\tvalidation_set-error:0.100327\n",
      "[66]\ttrain_set-error:0.0964\tvalidation_set-error:0.10016\n",
      "[67]\ttrain_set-error:0.096342\tvalidation_set-error:0.100153\n",
      "[68]\ttrain_set-error:0.096184\tvalidation_set-error:0.100053\n",
      "[69]\ttrain_set-error:0.096213\tvalidation_set-error:0.099953\n",
      "[70]\ttrain_set-error:0.096109\tvalidation_set-error:0.0999\n",
      "[71]\ttrain_set-error:0.096007\tvalidation_set-error:0.099913\n",
      "[72]\ttrain_set-error:0.096\tvalidation_set-error:0.09994\n",
      "[73]\ttrain_set-error:0.095936\tvalidation_set-error:0.09994\n",
      "[74]\ttrain_set-error:0.095902\tvalidation_set-error:0.09992\n",
      "[75]\ttrain_set-error:0.095856\tvalidation_set-error:0.099747\n",
      "[76]\ttrain_set-error:0.095822\tvalidation_set-error:0.099727\n",
      "[77]\ttrain_set-error:0.09578\tvalidation_set-error:0.099693\n",
      "[78]\ttrain_set-error:0.095709\tvalidation_set-error:0.09972\n",
      "[79]\ttrain_set-error:0.095667\tvalidation_set-error:0.099607\n",
      "[80]\ttrain_set-error:0.095673\tvalidation_set-error:0.0996\n",
      "[81]\ttrain_set-error:0.095587\tvalidation_set-error:0.099573\n",
      "[82]\ttrain_set-error:0.095553\tvalidation_set-error:0.099533\n",
      "[83]\ttrain_set-error:0.095491\tvalidation_set-error:0.099533\n",
      "[84]\ttrain_set-error:0.095516\tvalidation_set-error:0.099487\n",
      "[85]\ttrain_set-error:0.095451\tvalidation_set-error:0.099447\n",
      "[86]\ttrain_set-error:0.095398\tvalidation_set-error:0.099547\n",
      "[87]\ttrain_set-error:0.095376\tvalidation_set-error:0.099567\n",
      "[88]\ttrain_set-error:0.09534\tvalidation_set-error:0.099547\n",
      "[89]\ttrain_set-error:0.095322\tvalidation_set-error:0.099547\n",
      "[90]\ttrain_set-error:0.095347\tvalidation_set-error:0.099627\n",
      "[91]\ttrain_set-error:0.095253\tvalidation_set-error:0.09954\n",
      "[92]\ttrain_set-error:0.095124\tvalidation_set-error:0.099433\n",
      "[93]\ttrain_set-error:0.095096\tvalidation_set-error:0.099333\n",
      "[94]\ttrain_set-error:0.095089\tvalidation_set-error:0.099353\n",
      "[95]\ttrain_set-error:0.095084\tvalidation_set-error:0.099407\n",
      "[96]\ttrain_set-error:0.094904\tvalidation_set-error:0.09922\n",
      "[97]\ttrain_set-error:0.09488\tvalidation_set-error:0.09916\n",
      "[98]\ttrain_set-error:0.094838\tvalidation_set-error:0.09908\n",
      "[99]\ttrain_set-error:0.094844\tvalidation_set-error:0.099153\n",
      "[100]\ttrain_set-error:0.09482\tvalidation_set-error:0.099113\n",
      "[101]\ttrain_set-error:0.094804\tvalidation_set-error:0.099127\n",
      "[102]\ttrain_set-error:0.094718\tvalidation_set-error:0.099027\n",
      "[103]\ttrain_set-error:0.094678\tvalidation_set-error:0.098987\n",
      "[104]\ttrain_set-error:0.094629\tvalidation_set-error:0.09894\n",
      "[105]\ttrain_set-error:0.094611\tvalidation_set-error:0.099\n",
      "[106]\ttrain_set-error:0.09456\tvalidation_set-error:0.09896\n",
      "[107]\ttrain_set-error:0.094524\tvalidation_set-error:0.09898\n",
      "[108]\ttrain_set-error:0.09448\tvalidation_set-error:0.098927\n",
      "[109]\ttrain_set-error:0.094447\tvalidation_set-error:0.098927\n",
      "[110]\ttrain_set-error:0.094422\tvalidation_set-error:0.098933\n",
      "[111]\ttrain_set-error:0.094282\tvalidation_set-error:0.09886\n",
      "[112]\ttrain_set-error:0.09426\tvalidation_set-error:0.098887\n",
      "[113]\ttrain_set-error:0.094249\tvalidation_set-error:0.098847\n",
      "[114]\ttrain_set-error:0.094216\tvalidation_set-error:0.098893\n",
      "[115]\ttrain_set-error:0.094184\tvalidation_set-error:0.098867\n",
      "[116]\ttrain_set-error:0.094058\tvalidation_set-error:0.098887\n",
      "[117]\ttrain_set-error:0.094009\tvalidation_set-error:0.09888\n",
      "[118]\ttrain_set-error:0.093847\tvalidation_set-error:0.098767\n",
      "[119]\ttrain_set-error:0.09384\tvalidation_set-error:0.09876\n",
      "[120]\ttrain_set-error:0.093782\tvalidation_set-error:0.098773\n",
      "[121]\ttrain_set-error:0.093789\tvalidation_set-error:0.09874\n",
      "[122]\ttrain_set-error:0.093769\tvalidation_set-error:0.09874\n",
      "[123]\ttrain_set-error:0.093718\tvalidation_set-error:0.09866\n",
      "[124]\ttrain_set-error:0.093693\tvalidation_set-error:0.098653\n",
      "[125]\ttrain_set-error:0.093522\tvalidation_set-error:0.098587\n",
      "[126]\ttrain_set-error:0.093533\tvalidation_set-error:0.09858\n",
      "[127]\ttrain_set-error:0.093504\tvalidation_set-error:0.098573\n",
      "[128]\ttrain_set-error:0.093484\tvalidation_set-error:0.09862\n",
      "[129]\ttrain_set-error:0.093471\tvalidation_set-error:0.09856\n",
      "[130]\ttrain_set-error:0.093458\tvalidation_set-error:0.098513\n",
      "[131]\ttrain_set-error:0.09344\tvalidation_set-error:0.098533\n",
      "[132]\ttrain_set-error:0.09328\tvalidation_set-error:0.098587\n",
      "[133]\ttrain_set-error:0.093264\tvalidation_set-error:0.09858\n",
      "[134]\ttrain_set-error:0.093258\tvalidation_set-error:0.09856\n"
     ]
    },
    {
     "name": "stdout",
     "output_type": "stream",
     "text": [
      "[135]\ttrain_set-error:0.093222\tvalidation_set-error:0.098507\n",
      "[136]\ttrain_set-error:0.093156\tvalidation_set-error:0.09844\n",
      "[137]\ttrain_set-error:0.09316\tvalidation_set-error:0.098433\n",
      "[138]\ttrain_set-error:0.093118\tvalidation_set-error:0.098447\n",
      "[139]\ttrain_set-error:0.093084\tvalidation_set-error:0.098433\n",
      "[140]\ttrain_set-error:0.093071\tvalidation_set-error:0.098467\n",
      "[141]\ttrain_set-error:0.09308\tvalidation_set-error:0.098427\n",
      "[142]\ttrain_set-error:0.093058\tvalidation_set-error:0.098453\n",
      "[143]\ttrain_set-error:0.092929\tvalidation_set-error:0.098313\n",
      "[144]\ttrain_set-error:0.09294\tvalidation_set-error:0.0983\n",
      "[145]\ttrain_set-error:0.092964\tvalidation_set-error:0.09834\n",
      "[146]\ttrain_set-error:0.092938\tvalidation_set-error:0.098287\n",
      "[147]\ttrain_set-error:0.092918\tvalidation_set-error:0.098313\n",
      "[148]\ttrain_set-error:0.092893\tvalidation_set-error:0.098313\n",
      "[149]\ttrain_set-error:0.092884\tvalidation_set-error:0.09832\n",
      "[150]\ttrain_set-error:0.092842\tvalidation_set-error:0.098293\n",
      "[151]\ttrain_set-error:0.092824\tvalidation_set-error:0.0983\n",
      "[152]\ttrain_set-error:0.092802\tvalidation_set-error:0.098273\n",
      "[153]\ttrain_set-error:0.092771\tvalidation_set-error:0.09828\n",
      "[154]\ttrain_set-error:0.092758\tvalidation_set-error:0.098287\n",
      "[155]\ttrain_set-error:0.092693\tvalidation_set-error:0.098267\n",
      "[156]\ttrain_set-error:0.092673\tvalidation_set-error:0.0983\n",
      "[157]\ttrain_set-error:0.092671\tvalidation_set-error:0.098273\n",
      "[158]\ttrain_set-error:0.092682\tvalidation_set-error:0.098327\n",
      "[159]\ttrain_set-error:0.09268\tvalidation_set-error:0.098313\n",
      "[160]\ttrain_set-error:0.092667\tvalidation_set-error:0.098287\n",
      "[161]\ttrain_set-error:0.092662\tvalidation_set-error:0.0983\n",
      "[162]\ttrain_set-error:0.092633\tvalidation_set-error:0.098287\n",
      "[163]\ttrain_set-error:0.092627\tvalidation_set-error:0.09826\n",
      "[164]\ttrain_set-error:0.092622\tvalidation_set-error:0.098273\n",
      "[165]\ttrain_set-error:0.0926\tvalidation_set-error:0.098293\n",
      "[166]\ttrain_set-error:0.092602\tvalidation_set-error:0.098333\n",
      "[167]\ttrain_set-error:0.09248\tvalidation_set-error:0.098027\n",
      "[168]\ttrain_set-error:0.092462\tvalidation_set-error:0.09798\n",
      "[169]\ttrain_set-error:0.092438\tvalidation_set-error:0.09796\n",
      "[170]\ttrain_set-error:0.092411\tvalidation_set-error:0.098\n",
      "[171]\ttrain_set-error:0.092391\tvalidation_set-error:0.098007\n",
      "[172]\ttrain_set-error:0.092364\tvalidation_set-error:0.098007\n",
      "[173]\ttrain_set-error:0.09236\tvalidation_set-error:0.098\n",
      "[174]\ttrain_set-error:0.092351\tvalidation_set-error:0.098013\n",
      "[175]\ttrain_set-error:0.092342\tvalidation_set-error:0.098007\n",
      "[176]\ttrain_set-error:0.092278\tvalidation_set-error:0.09808\n",
      "[177]\ttrain_set-error:0.092251\tvalidation_set-error:0.098073\n",
      "[178]\ttrain_set-error:0.092207\tvalidation_set-error:0.09804\n",
      "[179]\ttrain_set-error:0.092198\tvalidation_set-error:0.098053\n",
      "[180]\ttrain_set-error:0.092156\tvalidation_set-error:0.09802\n",
      "[181]\ttrain_set-error:0.09214\tvalidation_set-error:0.098013\n",
      "[182]\ttrain_set-error:0.092109\tvalidation_set-error:0.097993\n",
      "[183]\ttrain_set-error:0.092087\tvalidation_set-error:0.097967\n",
      "[184]\ttrain_set-error:0.092064\tvalidation_set-error:0.09794\n",
      "[185]\ttrain_set-error:0.092076\tvalidation_set-error:0.097933\n",
      "[186]\ttrain_set-error:0.092007\tvalidation_set-error:0.097973\n",
      "[187]\ttrain_set-error:0.092018\tvalidation_set-error:0.09794\n",
      "[188]\ttrain_set-error:0.092024\tvalidation_set-error:0.09794\n",
      "[189]\ttrain_set-error:0.092\tvalidation_set-error:0.097927\n",
      "[190]\ttrain_set-error:0.091967\tvalidation_set-error:0.097813\n",
      "[191]\ttrain_set-error:0.091922\tvalidation_set-error:0.097827\n",
      "[192]\ttrain_set-error:0.091918\tvalidation_set-error:0.09786\n",
      "[193]\ttrain_set-error:0.091916\tvalidation_set-error:0.09786\n",
      "[194]\ttrain_set-error:0.091893\tvalidation_set-error:0.09778\n",
      "[195]\ttrain_set-error:0.091791\tvalidation_set-error:0.097793\n",
      "[196]\ttrain_set-error:0.091776\tvalidation_set-error:0.09774\n",
      "[197]\ttrain_set-error:0.09176\tvalidation_set-error:0.097727\n",
      "[198]\ttrain_set-error:0.091767\tvalidation_set-error:0.097727\n",
      "[199]\ttrain_set-error:0.091753\tvalidation_set-error:0.097727\n",
      "[200]\ttrain_set-error:0.091713\tvalidation_set-error:0.097753\n",
      "[201]\ttrain_set-error:0.091693\tvalidation_set-error:0.09776\n",
      "[202]\ttrain_set-error:0.091687\tvalidation_set-error:0.097793\n",
      "[203]\ttrain_set-error:0.091684\tvalidation_set-error:0.0978\n",
      "[204]\ttrain_set-error:0.091687\tvalidation_set-error:0.0978\n",
      "[205]\ttrain_set-error:0.091676\tvalidation_set-error:0.097807\n",
      "[206]\ttrain_set-error:0.091656\tvalidation_set-error:0.09782\n",
      "[207]\ttrain_set-error:0.09164\tvalidation_set-error:0.097787\n",
      "[208]\ttrain_set-error:0.091627\tvalidation_set-error:0.0978\n",
      "[209]\ttrain_set-error:0.091591\tvalidation_set-error:0.09778\n",
      "[210]\ttrain_set-error:0.091571\tvalidation_set-error:0.097787\n",
      "[211]\ttrain_set-error:0.091544\tvalidation_set-error:0.097767\n",
      "[212]\ttrain_set-error:0.091542\tvalidation_set-error:0.097773\n",
      "[213]\ttrain_set-error:0.091542\tvalidation_set-error:0.097813\n",
      "[214]\ttrain_set-error:0.091531\tvalidation_set-error:0.097833\n",
      "[215]\ttrain_set-error:0.091538\tvalidation_set-error:0.097847\n",
      "[216]\ttrain_set-error:0.091502\tvalidation_set-error:0.097853\n",
      "[217]\ttrain_set-error:0.091511\tvalidation_set-error:0.0979\n",
      "[218]\ttrain_set-error:0.091451\tvalidation_set-error:0.097827\n",
      "[219]\ttrain_set-error:0.091453\tvalidation_set-error:0.0978\n",
      "[220]\ttrain_set-error:0.091453\tvalidation_set-error:0.097813\n",
      "[221]\ttrain_set-error:0.091456\tvalidation_set-error:0.097813\n",
      "[222]\ttrain_set-error:0.091456\tvalidation_set-error:0.09782\n",
      "[223]\ttrain_set-error:0.091373\tvalidation_set-error:0.09766\n",
      "[224]\ttrain_set-error:0.09136\tvalidation_set-error:0.097693\n",
      "[225]\ttrain_set-error:0.091353\tvalidation_set-error:0.09772\n",
      "[226]\ttrain_set-error:0.091302\tvalidation_set-error:0.097773\n",
      "[227]\ttrain_set-error:0.091289\tvalidation_set-error:0.09774\n",
      "[228]\ttrain_set-error:0.091267\tvalidation_set-error:0.0978\n",
      "[229]\ttrain_set-error:0.091224\tvalidation_set-error:0.09776\n",
      "[230]\ttrain_set-error:0.091242\tvalidation_set-error:0.09776\n",
      "[231]\ttrain_set-error:0.091242\tvalidation_set-error:0.09776\n",
      "[232]\ttrain_set-error:0.091233\tvalidation_set-error:0.09776\n",
      "[233]\ttrain_set-error:0.091209\tvalidation_set-error:0.09776\n",
      "[234]\ttrain_set-error:0.091196\tvalidation_set-error:0.097747\n",
      "[235]\ttrain_set-error:0.091202\tvalidation_set-error:0.097767\n",
      "[236]\ttrain_set-error:0.091136\tvalidation_set-error:0.097733\n",
      "[237]\ttrain_set-error:0.091109\tvalidation_set-error:0.0977\n",
      "[238]\ttrain_set-error:0.09108\tvalidation_set-error:0.097693\n",
      "[239]\ttrain_set-error:0.091073\tvalidation_set-error:0.09772\n",
      "[240]\ttrain_set-error:0.091044\tvalidation_set-error:0.097733\n",
      "[241]\ttrain_set-error:0.091062\tvalidation_set-error:0.09768\n",
      "[242]\ttrain_set-error:0.091049\tvalidation_set-error:0.09768\n",
      "[243]\ttrain_set-error:0.09102\tvalidation_set-error:0.09772\n",
      "[244]\ttrain_set-error:0.090969\tvalidation_set-error:0.097587\n",
      "[245]\ttrain_set-error:0.090962\tvalidation_set-error:0.097593\n",
      "[246]\ttrain_set-error:0.090962\tvalidation_set-error:0.097547\n",
      "[247]\ttrain_set-error:0.09094\tvalidation_set-error:0.097587\n",
      "[248]\ttrain_set-error:0.090933\tvalidation_set-error:0.09756\n",
      "[249]\ttrain_set-error:0.090911\tvalidation_set-error:0.097547\n",
      "[250]\ttrain_set-error:0.090904\tvalidation_set-error:0.097533\n",
      "[251]\ttrain_set-error:0.090882\tvalidation_set-error:0.097527\n",
      "[252]\ttrain_set-error:0.090869\tvalidation_set-error:0.09752\n",
      "[253]\ttrain_set-error:0.090827\tvalidation_set-error:0.097487\n",
      "[254]\ttrain_set-error:0.090804\tvalidation_set-error:0.097493\n",
      "[255]\ttrain_set-error:0.090764\tvalidation_set-error:0.097487\n",
      "[256]\ttrain_set-error:0.09076\tvalidation_set-error:0.097487\n",
      "[257]\ttrain_set-error:0.090744\tvalidation_set-error:0.097467\n",
      "[258]\ttrain_set-error:0.090747\tvalidation_set-error:0.09746\n",
      "[259]\ttrain_set-error:0.090733\tvalidation_set-error:0.09748\n",
      "[260]\ttrain_set-error:0.090729\tvalidation_set-error:0.09748\n",
      "[261]\ttrain_set-error:0.090727\tvalidation_set-error:0.09748\n",
      "[262]\ttrain_set-error:0.090711\tvalidation_set-error:0.097467\n",
      "[263]\ttrain_set-error:0.0907\tvalidation_set-error:0.09748\n",
      "[264]\ttrain_set-error:0.090678\tvalidation_set-error:0.097473\n",
      "[265]\ttrain_set-error:0.090656\tvalidation_set-error:0.097467\n",
      "[266]\ttrain_set-error:0.09064\tvalidation_set-error:0.097453\n",
      "[267]\ttrain_set-error:0.090616\tvalidation_set-error:0.097433\n",
      "[268]\ttrain_set-error:0.090591\tvalidation_set-error:0.09748\n",
      "[269]\ttrain_set-error:0.090593\tvalidation_set-error:0.097507\n",
      "[270]\ttrain_set-error:0.090593\tvalidation_set-error:0.097527\n"
     ]
    },
    {
     "name": "stdout",
     "output_type": "stream",
     "text": [
      "[271]\ttrain_set-error:0.090589\tvalidation_set-error:0.097513\n",
      "[272]\ttrain_set-error:0.090562\tvalidation_set-error:0.097467\n",
      "[273]\ttrain_set-error:0.090549\tvalidation_set-error:0.097487\n",
      "[274]\ttrain_set-error:0.09052\tvalidation_set-error:0.0975\n",
      "[275]\ttrain_set-error:0.090511\tvalidation_set-error:0.097513\n",
      "[276]\ttrain_set-error:0.090489\tvalidation_set-error:0.09748\n",
      "[277]\ttrain_set-error:0.090467\tvalidation_set-error:0.09746\n",
      "[278]\ttrain_set-error:0.090469\tvalidation_set-error:0.097447\n",
      "[279]\ttrain_set-error:0.090447\tvalidation_set-error:0.09746\n",
      "[280]\ttrain_set-error:0.090422\tvalidation_set-error:0.097493\n",
      "[281]\ttrain_set-error:0.090413\tvalidation_set-error:0.097487\n",
      "[282]\ttrain_set-error:0.09038\tvalidation_set-error:0.097453\n",
      "[283]\ttrain_set-error:0.090378\tvalidation_set-error:0.097453\n",
      "[284]\ttrain_set-error:0.090371\tvalidation_set-error:0.09742\n",
      "[285]\ttrain_set-error:0.090376\tvalidation_set-error:0.09746\n",
      "[286]\ttrain_set-error:0.090351\tvalidation_set-error:0.097453\n",
      "[287]\ttrain_set-error:0.090336\tvalidation_set-error:0.097453\n",
      "[288]\ttrain_set-error:0.090333\tvalidation_set-error:0.09746\n",
      "[289]\ttrain_set-error:0.090293\tvalidation_set-error:0.09748\n",
      "[290]\ttrain_set-error:0.090291\tvalidation_set-error:0.09748\n",
      "[291]\ttrain_set-error:0.090278\tvalidation_set-error:0.097527\n",
      "[292]\ttrain_set-error:0.090282\tvalidation_set-error:0.097547\n",
      "[293]\ttrain_set-error:0.090284\tvalidation_set-error:0.097547\n",
      "[294]\ttrain_set-error:0.090287\tvalidation_set-error:0.09756\n",
      "[295]\ttrain_set-error:0.090269\tvalidation_set-error:0.097547\n",
      "[296]\ttrain_set-error:0.090256\tvalidation_set-error:0.09758\n",
      "[297]\ttrain_set-error:0.090253\tvalidation_set-error:0.097613\n",
      "[298]\ttrain_set-error:0.090211\tvalidation_set-error:0.097607\n",
      "[299]\ttrain_set-error:0.090209\tvalidation_set-error:0.097633\n",
      "[300]\ttrain_set-error:0.090184\tvalidation_set-error:0.097573\n",
      "[301]\ttrain_set-error:0.09018\tvalidation_set-error:0.09756\n",
      "[302]\ttrain_set-error:0.090147\tvalidation_set-error:0.09756\n",
      "[303]\ttrain_set-error:0.090122\tvalidation_set-error:0.09758\n",
      "[304]\ttrain_set-error:0.0901\tvalidation_set-error:0.097567\n",
      "[305]\ttrain_set-error:0.090087\tvalidation_set-error:0.097573\n",
      "[306]\ttrain_set-error:0.090064\tvalidation_set-error:0.09758\n",
      "[307]\ttrain_set-error:0.090013\tvalidation_set-error:0.097647\n",
      "[308]\ttrain_set-error:0.089993\tvalidation_set-error:0.097607\n",
      "[309]\ttrain_set-error:0.089989\tvalidation_set-error:0.09758\n",
      "[310]\ttrain_set-error:0.089973\tvalidation_set-error:0.097613\n",
      "[311]\ttrain_set-error:0.089964\tvalidation_set-error:0.09762\n",
      "[312]\ttrain_set-error:0.089936\tvalidation_set-error:0.09756\n",
      "[313]\ttrain_set-error:0.089927\tvalidation_set-error:0.097547\n",
      "[314]\ttrain_set-error:0.089922\tvalidation_set-error:0.097527\n",
      "Stopping. Best iteration:\n",
      "[284]\ttrain_set-error:0.090371\tvalidation_set-error:0.09742\n",
      "\n"
     ]
    }
   ],
   "source": [
    "progressx = {}\n",
    "xgb_modelx = xgboost.train(paramsx,xg_train_cv,early_stopping_rounds=30,evals=[(xg_train_cv , \"train_set\"),(xg_val_cv,\"validation_set\")], evals_result=progressx\n",
    "                                          )"
   ]
  },
  {
   "cell_type": "code",
   "execution_count": 814,
   "metadata": {},
   "outputs": [
    {
     "data": {
      "image/png": "[encoded data removed]",
      "text/plain": [
       "<Figure size 432x288 with 1 Axes>"
      ]
     },
     "metadata": {},
     "output_type": "display_data"
    }
   ],
   "source": [
    "for_plot = pd.DataFrame([(v, k) for k, v in xg_modelx_full.get_fscore().items()])\n",
    "plt.figure()\n",
    "for_plot.sort_values(0,inplace=True)\n",
    "sns.barplot(x = for_plot[1], y =for_plot[0])\n",
    "plt.xticks(rotation = 90)\n",
    "plt.show()"
   ]
  },
  {
   "cell_type": "code",
   "execution_count": 753,
   "metadata": {},
   "outputs": [],
   "source": [
    "prob_val = xgb_modelx.predict(xg_val_cv, ntree_limit=284)"
   ]
  },
  {
   "cell_type": "code",
   "execution_count": 754,
   "metadata": {},
   "outputs": [],
   "source": [
    "best_alpha = 0.5"
   ]
  },
  {
   "cell_type": "code",
   "execution_count": 755,
   "metadata": {},
   "outputs": [],
   "source": [
    "bestie = prob_val.copy()"
   ]
  },
  {
   "cell_type": "code",
   "execution_count": 756,
   "metadata": {},
   "outputs": [],
   "source": [
    "bestie[bestie > 0.5] = 1"
   ]
  },
  {
   "cell_type": "code",
   "execution_count": 757,
   "metadata": {},
   "outputs": [],
   "source": [
    "bestie[bestie <= 0.5] = 0"
   ]
  },
  {
   "cell_type": "code",
   "execution_count": 758,
   "metadata": {},
   "outputs": [],
   "source": [
    "best_score = sum(bestie==y_val_cv)/len(y_val_cv)"
   ]
  },
  {
   "cell_type": "code",
   "execution_count": 759,
   "metadata": {},
   "outputs": [
    {
     "data": {
      "text/plain": [
       "0.9025466666666667"
      ]
     },
     "execution_count": 759,
     "metadata": {},
     "output_type": "execute_result"
    }
   ],
   "source": [
    "best_score"
   ]
  },
  {
   "cell_type": "code",
   "execution_count": 823,
   "metadata": {},
   "outputs": [
    {
     "name": "stderr",
     "output_type": "stream",
     "text": [
      "  0%|          | 1/1000 [00:01<17:28,  1.05s/it]"
     ]
    },
    {
     "name": "stdout",
     "output_type": "stream",
     "text": [
      "0.9025466666666667\n"
     ]
    },
    {
     "name": "stderr",
     "output_type": "stream",
     "text": [
      " 17%|█▋        | 169/1000 [03:07<15:19,  1.11s/it]"
     ]
    },
    {
     "ename": "KeyboardInterrupt",
     "evalue": "",
     "output_type": "error",
     "traceback": [
      "\u001b[0;31m---------------------------------------------------------------------------\u001b[0m",
      "\u001b[0;31mKeyboardInterrupt\u001b[0m                         Traceback (most recent call last)",
      "\u001b[0;32m<ipython-input-823-e67278ed91b0>\u001b[0m in \u001b[0;36m<module>\u001b[0;34m()\u001b[0m\n\u001b[1;32m     12\u001b[0m     \u001b[0mtemp_pred\u001b[0m\u001b[0;34m[\u001b[0m\u001b[0mtemp_pred\u001b[0m \u001b[0;34m>=\u001b[0m \u001b[0;36m0.5\u001b[0m\u001b[0;34m]\u001b[0m \u001b[0;34m=\u001b[0m \u001b[0;36m1\u001b[0m\u001b[0;34m\u001b[0m\u001b[0m\n\u001b[1;32m     13\u001b[0m     \u001b[0mtemp_pred\u001b[0m\u001b[0;34m[\u001b[0m\u001b[0mtemp_pred\u001b[0m \u001b[0;34m<\u001b[0m \u001b[0;36m0.5\u001b[0m\u001b[0;34m]\u001b[0m \u001b[0;34m=\u001b[0m \u001b[0;36m0\u001b[0m\u001b[0;34m\u001b[0m\u001b[0m\n\u001b[0;32m---> 14\u001b[0;31m     \u001b[0mtemp_accuracy\u001b[0m \u001b[0;34m=\u001b[0m \u001b[0msum\u001b[0m\u001b[0;34m(\u001b[0m\u001b[0mtemp_pred\u001b[0m \u001b[0;34m==\u001b[0m \u001b[0my_val_cv\u001b[0m\u001b[0;34m)\u001b[0m\u001b[0;34m/\u001b[0m\u001b[0mlen\u001b[0m\u001b[0;34m(\u001b[0m\u001b[0my_val_cv\u001b[0m\u001b[0;34m)\u001b[0m\u001b[0;34m\u001b[0m\u001b[0m\n\u001b[0m\u001b[1;32m     15\u001b[0m     \u001b[0;32mif\u001b[0m \u001b[0;34m(\u001b[0m\u001b[0mtemp_accuracy\u001b[0m \u001b[0;34m>\u001b[0m \u001b[0mbest_accuracy\u001b[0m\u001b[0;34m)\u001b[0m\u001b[0;34m:\u001b[0m\u001b[0;34m\u001b[0m\u001b[0m\n\u001b[1;32m     16\u001b[0m         \u001b[0mbest_alpha\u001b[0m\u001b[0;34m=\u001b[0m \u001b[0malpha\u001b[0m\u001b[0;34m\u001b[0m\u001b[0m\n",
      "\u001b[0;31mKeyboardInterrupt\u001b[0m: "
     ]
    }
   ],
   "source": [
    "#First finding best alpha for ensembling on val set. alpha*lin + (1-alpha)*xgb\n",
    "alphas = np.arange(0,1,0.001)\n",
    "best_alpha = 0\n",
    "for_xg = xgb_modelx.predict(xg_val_cv, ntree_limit=284)\n",
    "for_lm = lm_1.predict(X_val_cv_std)\n",
    "temp_pred = alpha*for_lm.copy() + (1-alpha)*for_xg.copy()\n",
    "temp_pred[temp_pred >= 0.5] = 1\n",
    "temp_pred[temp_pred < 0.5] = 0\n",
    "best_accuracy = sum(temp_pred == y_val_cv)/len(y_val_cv)\n",
    "for alpha in tqdm(alphas):\n",
    "    temp_pred = alpha*for_lm.copy() + (1-alpha)*for_xg.copy()\n",
    "    temp_pred[temp_pred >= 0.5] = 1\n",
    "    temp_pred[temp_pred < 0.5] = 0\n",
    "    temp_accuracy = sum(temp_pred == y_val_cv)/len(y_val_cv)\n",
    "    if (temp_accuracy > best_accuracy):\n",
    "        best_alpha= alpha\n",
    "        best_accuracy = temp_accuracy\n",
    "        print(best_accuracy)"
   ]
  },
  {
   "cell_type": "code",
   "execution_count": 824,
   "metadata": {},
   "outputs": [],
   "source": [
    "#Training Random forest for stacking.\n",
    "from sklearn.ensemble import RandomForestClassifier"
   ]
  },
  {
   "cell_type": "code",
   "execution_count": null,
   "metadata": {},
   "outputs": [],
   "source": [
    "??RandomForestClassifier"
   ]
  },
  {
   "cell_type": "code",
   "execution_count": 902,
   "metadata": {},
   "outputs": [],
   "source": [
    "rf_x = RandomForestClassifier(n_estimators=500, max_depth=10, max_features='sqrt', n_jobs=-1, verbose = 1)"
   ]
  },
  {
   "cell_type": "code",
   "execution_count": 903,
   "metadata": {},
   "outputs": [
    {
     "name": "stderr",
     "output_type": "stream",
     "text": [
      "[Parallel(n_jobs=-1)]: Done  42 tasks      | elapsed:   47.5s\n",
      "[Parallel(n_jobs=-1)]: Done 192 tasks      | elapsed:  4.0min\n",
      "[Parallel(n_jobs=-1)]: Done 442 tasks      | elapsed:  7.8min\n",
      "[Parallel(n_jobs=-1)]: Done 500 out of 500 | elapsed:  8.7min finished\n"
     ]
    },
    {
     "data": {
      "text/plain": [
       "RandomForestClassifier(bootstrap=True, class_weight=None, criterion='gini',\n",
       "            max_depth=10, max_features='sqrt', max_leaf_nodes=None,\n",
       "            min_impurity_decrease=0.0, min_impurity_split=None,\n",
       "            min_samples_leaf=1, min_samples_split=2,\n",
       "            min_weight_fraction_leaf=0.0, n_estimators=500, n_jobs=-1,\n",
       "            oob_score=False, random_state=None, verbose=1,\n",
       "            warm_start=False)"
      ]
     },
     "execution_count": 903,
     "metadata": {},
     "output_type": "execute_result"
    }
   ],
   "source": [
    "rf_x.fit(X_train_cv, y_train_cv)"
   ]
  },
  {
   "cell_type": "code",
   "execution_count": 904,
   "metadata": {},
   "outputs": [
    {
     "name": "stderr",
     "output_type": "stream",
     "text": [
      "[Parallel(n_jobs=4)]: Done  42 tasks      | elapsed:    1.0s\n",
      "[Parallel(n_jobs=4)]: Done 192 tasks      | elapsed:    4.1s\n",
      "[Parallel(n_jobs=4)]: Done 442 tasks      | elapsed:    9.0s\n",
      "[Parallel(n_jobs=4)]: Done 500 out of 500 | elapsed:   10.3s finished\n"
     ]
    }
   ],
   "source": [
    "rf_x_pred = rf_x.predict(X_val_cv)"
   ]
  },
  {
   "cell_type": "code",
   "execution_count": 905,
   "metadata": {},
   "outputs": [
    {
     "data": {
      "text/plain": [
       "0.8947466666666667"
      ]
     },
     "execution_count": 905,
     "metadata": {},
     "output_type": "execute_result"
    }
   ],
   "source": [
    "sum(rf_x_pred == y_val_cv)/len(y_val_cv)"
   ]
  },
  {
   "cell_type": "code",
   "execution_count": 906,
   "metadata": {},
   "outputs": [
    {
     "data": {
      "image/png": "[encoded data removed]",
      "text/plain": [
       "<Figure size 432x288 with 1 Axes>"
      ]
     },
     "metadata": {},
     "output_type": "display_data"
    }
   ],
   "source": []
  },
  {
   "cell_type": "code",
   "execution_count": 907,
   "metadata": {},
   "outputs": [
    {
     "name": "stderr",
     "output_type": "stream",
     "text": [
      "[Parallel(n_jobs=4)]: Done  42 tasks      | elapsed:    3.0s\n",
      "[Parallel(n_jobs=4)]: Done 192 tasks      | elapsed:   11.2s\n",
      "[Parallel(n_jobs=4)]: Done 442 tasks      | elapsed:   25.9s\n",
      "[Parallel(n_jobs=4)]: Done 500 out of 500 | elapsed:   29.4s finished\n"
     ]
    }
   ],
   "source": [
    "train_pred_rf_for_stack_proba_cv = rf_x.predict_proba(X_train_cv)"
   ]
  },
  {
   "cell_type": "code",
   "execution_count": 908,
   "metadata": {},
   "outputs": [],
   "source": [
    "train_pred_xg_for_stack_proba_cv = xgb_modelx.predict(xg_train_cv)"
   ]
  },
  {
   "cell_type": "code",
   "execution_count": 909,
   "metadata": {},
   "outputs": [
    {
     "name": "stderr",
     "output_type": "stream",
     "text": [
      "[Parallel(n_jobs=4)]: Done  42 tasks      | elapsed:    0.8s\n",
      "[Parallel(n_jobs=4)]: Done 192 tasks      | elapsed:    3.3s\n",
      "[Parallel(n_jobs=4)]: Done 442 tasks      | elapsed:    7.8s\n",
      "[Parallel(n_jobs=4)]: Done 500 out of 500 | elapsed:    8.9s finished\n"
     ]
    }
   ],
   "source": [
    "val_pred_rf_for_stack_proba_cv = rf_x.predict_proba(X_val_cv)"
   ]
  },
  {
   "cell_type": "code",
   "execution_count": 910,
   "metadata": {},
   "outputs": [],
   "source": [
    "val_pred_xg_for_stack_proba_cv = xgb_modelx.predict(xg_val_cv)"
   ]
  },
  {
   "cell_type": "code",
   "execution_count": 911,
   "metadata": {},
   "outputs": [],
   "source": [
    "stack_train_cv = pd.DataFrame({'rf':train_pred_rf_for_stack_proba_cv[:,1], 'xg':train_pred_xg_for_stack_proba_cv})"
   ]
  },
  {
   "cell_type": "code",
   "execution_count": 912,
   "metadata": {},
   "outputs": [],
   "source": [
    "stack_val_cv = pd.DataFrame({'rf':val_pred_rf_for_stack_proba_cv[:,1], 'xg':val_pred_xg_for_stack_proba_cv})"
   ]
  },
  {
   "cell_type": "code",
   "execution_count": 913,
   "metadata": {},
   "outputs": [
    {
     "data": {
      "text/plain": [
       "0.08404292161585734"
      ]
     },
     "execution_count": 913,
     "metadata": {},
     "output_type": "execute_result"
    }
   ],
   "source": [
    "rmse(stack_train_cv['rf'],stack_train_cv['xg'])"
   ]
  },
  {
   "cell_type": "code",
   "execution_count": 914,
   "metadata": {},
   "outputs": [],
   "source": [
    "#Logistic layer.\n",
    "lm_cv_stack = LogisticRegression()"
   ]
  },
  {
   "cell_type": "code",
   "execution_count": 915,
   "metadata": {},
   "outputs": [
    {
     "data": {
      "text/plain": [
       "LogisticRegression(C=1.0, class_weight=None, dual=False, fit_intercept=True,\n",
       "          intercept_scaling=1, max_iter=100, multi_class='ovr', n_jobs=1,\n",
       "          penalty='l2', random_state=None, solver='liblinear', tol=0.0001,\n",
       "          verbose=0, warm_start=False)"
      ]
     },
     "execution_count": 915,
     "metadata": {},
     "output_type": "execute_result"
    }
   ],
   "source": [
    "lm_cv_stack.fit(stack_train_cv, y_train_cv)"
   ]
  },
  {
   "cell_type": "code",
   "execution_count": 973,
   "metadata": {},
   "outputs": [],
   "source": [
    "stack_pred_val = lm_cv_stack.predict(stack_val_cv)"
   ]
  },
  {
   "cell_type": "code",
   "execution_count": 983,
   "metadata": {},
   "outputs": [],
   "source": [
    "xg_pred_val = xgb_modelx.predict(xg_val_cv)"
   ]
  },
  {
   "cell_type": "code",
   "execution_count": 984,
   "metadata": {},
   "outputs": [],
   "source": [
    "xg_pred_val[xg_pred_val>0.5] = 1\n",
    "xg_pred_val[xg_pred_val<=0.5] = 0"
   ]
  },
  {
   "cell_type": "code",
   "execution_count": 986,
   "metadata": {},
   "outputs": [
    {
     "data": {
      "text/plain": [
       "1.0"
      ]
     },
     "execution_count": 986,
     "metadata": {},
     "output_type": "execute_result"
    }
   ],
   "source": [
    "sum(xg_pred_val==stack_pred_val)/len(y_val_cv)"
   ]
  },
  {
   "cell_type": "code",
   "execution_count": 919,
   "metadata": {},
   "outputs": [],
   "source": [
    "#trying predictions not probabilities."
   ]
  },
  {
   "cell_type": "code",
   "execution_count": 920,
   "metadata": {},
   "outputs": [
    {
     "name": "stderr",
     "output_type": "stream",
     "text": [
      "[Parallel(n_jobs=4)]: Done  42 tasks      | elapsed:    2.2s\n",
      "[Parallel(n_jobs=4)]: Done 192 tasks      | elapsed:   11.2s\n",
      "[Parallel(n_jobs=4)]: Done 442 tasks      | elapsed:   23.1s\n",
      "[Parallel(n_jobs=4)]: Done 500 out of 500 | elapsed:   25.9s finished\n"
     ]
    }
   ],
   "source": [
    "train_pred_rf_for_stack_proba_cv = rf_x.predict(X_train_cv)"
   ]
  },
  {
   "cell_type": "code",
   "execution_count": 921,
   "metadata": {},
   "outputs": [],
   "source": [
    "train_pred_xg_for_stack_proba_cv = xgb_modelx.predict(xg_train_cv)"
   ]
  },
  {
   "cell_type": "code",
   "execution_count": 922,
   "metadata": {},
   "outputs": [],
   "source": [
    "train_pred_xg_for_stack_proba_cv[train_pred_xg_for_stack_proba_cv>0.5] = 1\n",
    "train_pred_xg_for_stack_proba_cv[train_pred_xg_for_stack_proba_cv<=0.5] = 0"
   ]
  },
  {
   "cell_type": "code",
   "execution_count": 923,
   "metadata": {},
   "outputs": [
    {
     "name": "stderr",
     "output_type": "stream",
     "text": [
      "[Parallel(n_jobs=4)]: Done  42 tasks      | elapsed:    0.8s\n",
      "[Parallel(n_jobs=4)]: Done 192 tasks      | elapsed:    3.2s\n",
      "[Parallel(n_jobs=4)]: Done 442 tasks      | elapsed:    7.1s\n",
      "[Parallel(n_jobs=4)]: Done 500 out of 500 | elapsed:    8.1s finished\n"
     ]
    }
   ],
   "source": [
    "val_pred_rf_for_stack_proba_cv = rf_x.predict(X_val_cv)"
   ]
  },
  {
   "cell_type": "code",
   "execution_count": 924,
   "metadata": {},
   "outputs": [],
   "source": [
    "val_pred_xg_for_stack_proba_cv = xgb_modelx.predict(xg_val_cv)"
   ]
  },
  {
   "cell_type": "code",
   "execution_count": 925,
   "metadata": {},
   "outputs": [],
   "source": [
    "val_pred_xg_for_stack_proba_cv[val_pred_xg_for_stack_proba_cv>0.5] = 1\n",
    "val_pred_xg_for_stack_proba_cv[val_pred_xg_for_stack_proba_cv<=0.5] = 0"
   ]
  },
  {
   "cell_type": "code",
   "execution_count": 926,
   "metadata": {},
   "outputs": [],
   "source": [
    "stack_train_cv = pd.DataFrame({'rf':train_pred_rf_for_stack_proba_cv, 'xg':train_pred_xg_for_stack_proba_cv})"
   ]
  },
  {
   "cell_type": "code",
   "execution_count": 927,
   "metadata": {},
   "outputs": [],
   "source": [
    "stack_val_cv = pd.DataFrame({'rf':val_pred_rf_for_stack_proba_cv, 'xg':val_pred_xg_for_stack_proba_cv})"
   ]
  },
  {
   "cell_type": "code",
   "execution_count": 928,
   "metadata": {},
   "outputs": [],
   "source": [
    "#Logistic layer.\n",
    "lm_cv_stack = LogisticRegression()"
   ]
  },
  {
   "cell_type": "code",
   "execution_count": 929,
   "metadata": {},
   "outputs": [
    {
     "data": {
      "text/plain": [
       "LogisticRegression(C=1.0, class_weight=None, dual=False, fit_intercept=True,\n",
       "          intercept_scaling=1, max_iter=100, multi_class='ovr', n_jobs=1,\n",
       "          penalty='l2', random_state=None, solver='liblinear', tol=0.0001,\n",
       "          verbose=0, warm_start=False)"
      ]
     },
     "execution_count": 929,
     "metadata": {},
     "output_type": "execute_result"
    }
   ],
   "source": [
    "lm_cv_stack.fit(stack_train_cv, y_train_cv)"
   ]
  },
  {
   "cell_type": "code",
   "execution_count": 933,
   "metadata": {},
   "outputs": [
    {
     "data": {
      "text/plain": [
       "0.9100777777777778"
      ]
     },
     "execution_count": 933,
     "metadata": {},
     "output_type": "execute_result"
    }
   ],
   "source": [
    "lm_cv_stack.score(stack_train_cv, y_train_cv)"
   ]
  },
  {
   "cell_type": "code",
   "execution_count": 762,
   "metadata": {},
   "outputs": [],
   "source": [
    "X_test['age_sex'] = X_test['age']*X_test['sex']\n",
    "X_test['cholestoral_age_sex'] = X_test['age']*X_test['serum_cholestoral']*X_test['sex']\n",
    "X_test['sex_chest'] = X_test['chest']*X_test['sex']\n",
    "X_test['age_chest'] = X_test['age']*X_test['chest']\n",
    "X_test['big_mix'] = X_test['age']*X_test['resting_blood_pressure']*X_test['sex']*X_test['number_of_major_vessels']*X_test['exercise_induced_angina']*X_test['slope']*X_test['thal']"
   ]
  },
  {
   "cell_type": "code",
   "execution_count": 769,
   "metadata": {},
   "outputs": [],
   "source": [
    "X_test_for_pred = X_test.copy()[train_df.copy().drop(['ID','class'], axis = 1).columns]"
   ]
  },
  {
   "cell_type": "code",
   "execution_count": 763,
   "metadata": {},
   "outputs": [],
   "source": [
    "xg_train_full = xgboost.DMatrix(train_df.copy().drop(['ID','class'], axis = 1), train_df['class'])"
   ]
  },
  {
   "cell_type": "code",
   "execution_count": 773,
   "metadata": {},
   "outputs": [],
   "source": [
    "xg_test_full = xgboost.DMatrix(X_test_for_pred)"
   ]
  },
  {
   "cell_type": "code",
   "execution_count": 767,
   "metadata": {},
   "outputs": [
    {
     "name": "stdout",
     "output_type": "stream",
     "text": [
      "[0]\ttrain_set-error:0.122115\n",
      "Will train until train_set-error hasn't improved in 30 rounds.\n",
      "[1]\ttrain_set-error:0.11975\n",
      "[2]\ttrain_set-error:0.115877\n",
      "[3]\ttrain_set-error:0.116322\n",
      "[4]\ttrain_set-error:0.1153\n",
      "[5]\ttrain_set-error:0.115295\n",
      "[6]\ttrain_set-error:0.114138\n",
      "[7]\ttrain_set-error:0.114173\n",
      "[8]\ttrain_set-error:0.113157\n",
      "[9]\ttrain_set-error:0.112937\n",
      "[10]\ttrain_set-error:0.112067\n",
      "[11]\ttrain_set-error:0.11164\n",
      "[12]\ttrain_set-error:0.111288\n",
      "[13]\ttrain_set-error:0.110197\n",
      "[14]\ttrain_set-error:0.109842\n",
      "[15]\ttrain_set-error:0.10906\n",
      "[16]\ttrain_set-error:0.10849\n",
      "[17]\ttrain_set-error:0.107863\n",
      "[18]\ttrain_set-error:0.107285\n",
      "[19]\ttrain_set-error:0.106947\n",
      "[20]\ttrain_set-error:0.106367\n",
      "[21]\ttrain_set-error:0.105772\n",
      "[22]\ttrain_set-error:0.105293\n",
      "[23]\ttrain_set-error:0.10467\n",
      "[24]\ttrain_set-error:0.104405\n",
      "[25]\ttrain_set-error:0.104075\n",
      "[26]\ttrain_set-error:0.103795\n",
      "[27]\ttrain_set-error:0.103302\n",
      "[28]\ttrain_set-error:0.102873\n",
      "[29]\ttrain_set-error:0.102627\n",
      "[30]\ttrain_set-error:0.102347\n",
      "[31]\ttrain_set-error:0.102002\n",
      "[32]\ttrain_set-error:0.101712\n",
      "[33]\ttrain_set-error:0.101472\n",
      "[34]\ttrain_set-error:0.101398\n",
      "[35]\ttrain_set-error:0.101053\n",
      "[36]\ttrain_set-error:0.10065\n",
      "[37]\ttrain_set-error:0.100473\n",
      "[38]\ttrain_set-error:0.100363\n",
      "[39]\ttrain_set-error:0.100143\n",
      "[40]\ttrain_set-error:0.099842\n",
      "[41]\ttrain_set-error:0.099668\n",
      "[42]\ttrain_set-error:0.099512\n",
      "[43]\ttrain_set-error:0.099347\n",
      "[44]\ttrain_set-error:0.099303\n",
      "[45]\ttrain_set-error:0.099145\n",
      "[46]\ttrain_set-error:0.099017\n",
      "[47]\ttrain_set-error:0.098888\n",
      "[48]\ttrain_set-error:0.098837\n",
      "[49]\ttrain_set-error:0.098763\n",
      "[50]\ttrain_set-error:0.098622\n",
      "[51]\ttrain_set-error:0.098545\n",
      "[52]\ttrain_set-error:0.098543\n",
      "[53]\ttrain_set-error:0.098335\n",
      "[54]\ttrain_set-error:0.098303\n",
      "[55]\ttrain_set-error:0.098257\n",
      "[56]\ttrain_set-error:0.098118\n",
      "[57]\ttrain_set-error:0.09803\n",
      "[58]\ttrain_set-error:0.097987\n",
      "[59]\ttrain_set-error:0.097915\n",
      "[60]\ttrain_set-error:0.097748\n",
      "[61]\ttrain_set-error:0.097742\n",
      "[62]\ttrain_set-error:0.09771\n",
      "[63]\ttrain_set-error:0.097627\n",
      "[64]\ttrain_set-error:0.097602\n",
      "[65]\ttrain_set-error:0.097565\n",
      "[66]\ttrain_set-error:0.097525\n",
      "[67]\ttrain_set-error:0.097265\n",
      "[68]\ttrain_set-error:0.097258\n",
      "[69]\ttrain_set-error:0.097187\n",
      "[70]\ttrain_set-error:0.097142\n",
      "[71]\ttrain_set-error:0.09713\n",
      "[72]\ttrain_set-error:0.097057\n",
      "[73]\ttrain_set-error:0.096997\n",
      "[74]\ttrain_set-error:0.096975\n",
      "[75]\ttrain_set-error:0.096882\n",
      "[76]\ttrain_set-error:0.096875\n",
      "[77]\ttrain_set-error:0.096762\n",
      "[78]\ttrain_set-error:0.096692\n",
      "[79]\ttrain_set-error:0.096648\n",
      "[80]\ttrain_set-error:0.096617\n",
      "[81]\ttrain_set-error:0.096533\n",
      "[82]\ttrain_set-error:0.096508\n",
      "[83]\ttrain_set-error:0.09645\n",
      "[84]\ttrain_set-error:0.09632\n",
      "[85]\ttrain_set-error:0.096262\n",
      "[86]\ttrain_set-error:0.09623\n",
      "[87]\ttrain_set-error:0.096203\n",
      "[88]\ttrain_set-error:0.096153\n",
      "[89]\ttrain_set-error:0.096118\n",
      "[90]\ttrain_set-error:0.096072\n",
      "[91]\ttrain_set-error:0.09604\n",
      "[92]\ttrain_set-error:0.09596\n",
      "[93]\ttrain_set-error:0.0959\n",
      "[94]\ttrain_set-error:0.095863\n",
      "[95]\ttrain_set-error:0.095742\n",
      "[96]\ttrain_set-error:0.095707\n",
      "[97]\ttrain_set-error:0.095628\n",
      "[98]\ttrain_set-error:0.095658\n",
      "[99]\ttrain_set-error:0.095628\n",
      "[100]\ttrain_set-error:0.09556\n",
      "[101]\ttrain_set-error:0.095522\n",
      "[102]\ttrain_set-error:0.095482\n",
      "[103]\ttrain_set-error:0.095463\n",
      "[104]\ttrain_set-error:0.095463\n",
      "[105]\ttrain_set-error:0.095417\n",
      "[106]\ttrain_set-error:0.095388\n",
      "[107]\ttrain_set-error:0.095372\n",
      "[108]\ttrain_set-error:0.09528\n",
      "[109]\ttrain_set-error:0.095232\n",
      "[110]\ttrain_set-error:0.095202\n",
      "[111]\ttrain_set-error:0.09517\n",
      "[112]\ttrain_set-error:0.095158\n",
      "[113]\ttrain_set-error:0.095132\n",
      "[114]\ttrain_set-error:0.095068\n",
      "[115]\ttrain_set-error:0.095023\n",
      "[116]\ttrain_set-error:0.095032\n",
      "[117]\ttrain_set-error:0.095027\n",
      "[118]\ttrain_set-error:0.094988\n",
      "[119]\ttrain_set-error:0.094957\n",
      "[120]\ttrain_set-error:0.094873\n",
      "[121]\ttrain_set-error:0.094812\n",
      "[122]\ttrain_set-error:0.094788\n",
      "[123]\ttrain_set-error:0.094772\n",
      "[124]\ttrain_set-error:0.094753\n",
      "[125]\ttrain_set-error:0.094722\n",
      "[126]\ttrain_set-error:0.094723\n",
      "[127]\ttrain_set-error:0.094688\n",
      "[128]\ttrain_set-error:0.094693\n",
      "[129]\ttrain_set-error:0.094678\n",
      "[130]\ttrain_set-error:0.094623\n",
      "[131]\ttrain_set-error:0.09449\n",
      "[132]\ttrain_set-error:0.094477\n",
      "[133]\ttrain_set-error:0.094403\n",
      "[134]\ttrain_set-error:0.09441\n",
      "[135]\ttrain_set-error:0.094417\n",
      "[136]\ttrain_set-error:0.094378\n",
      "[137]\ttrain_set-error:0.094358\n",
      "[138]\ttrain_set-error:0.094358\n",
      "[139]\ttrain_set-error:0.094352\n",
      "[140]\ttrain_set-error:0.094297\n",
      "[141]\ttrain_set-error:0.094123\n",
      "[142]\ttrain_set-error:0.094093\n",
      "[143]\ttrain_set-error:0.094103\n",
      "[144]\ttrain_set-error:0.094093\n",
      "[145]\ttrain_set-error:0.094097\n",
      "[146]\ttrain_set-error:0.09409\n",
      "[147]\ttrain_set-error:0.094057\n",
      "[148]\ttrain_set-error:0.094008\n",
      "[149]\ttrain_set-error:0.093995\n",
      "[150]\ttrain_set-error:0.093992\n",
      "[151]\ttrain_set-error:0.093972\n",
      "[152]\ttrain_set-error:0.093962\n",
      "[153]\ttrain_set-error:0.093942\n",
      "[154]\ttrain_set-error:0.093907\n",
      "[155]\ttrain_set-error:0.093883\n",
      "[156]\ttrain_set-error:0.093878\n",
      "[157]\ttrain_set-error:0.09385\n",
      "[158]\ttrain_set-error:0.09385\n",
      "[159]\ttrain_set-error:0.093818\n",
      "[160]\ttrain_set-error:0.09377\n",
      "[161]\ttrain_set-error:0.093773\n",
      "[162]\ttrain_set-error:0.093652\n",
      "[163]\ttrain_set-error:0.093637\n",
      "[164]\ttrain_set-error:0.093642\n",
      "[165]\ttrain_set-error:0.093637\n",
      "[166]\ttrain_set-error:0.093643\n",
      "[167]\ttrain_set-error:0.093608\n",
      "[168]\ttrain_set-error:0.093613\n",
      "[169]\ttrain_set-error:0.093602\n",
      "[170]\ttrain_set-error:0.093557\n",
      "[171]\ttrain_set-error:0.093538\n",
      "[172]\ttrain_set-error:0.093467\n",
      "[173]\ttrain_set-error:0.093462\n",
      "[174]\ttrain_set-error:0.093447\n",
      "[175]\ttrain_set-error:0.09344\n",
      "[176]\ttrain_set-error:0.093373\n",
      "[177]\ttrain_set-error:0.09336\n",
      "[178]\ttrain_set-error:0.093345\n",
      "[179]\ttrain_set-error:0.093333\n",
      "[180]\ttrain_set-error:0.093308\n",
      "[181]\ttrain_set-error:0.093305\n",
      "[182]\ttrain_set-error:0.093257\n",
      "[183]\ttrain_set-error:0.093257\n",
      "[184]\ttrain_set-error:0.09322\n",
      "[185]\ttrain_set-error:0.093205\n",
      "[186]\ttrain_set-error:0.093183\n",
      "[187]\ttrain_set-error:0.093158\n",
      "[188]\ttrain_set-error:0.093125\n",
      "[189]\ttrain_set-error:0.093127\n",
      "[190]\ttrain_set-error:0.093097\n",
      "[191]\ttrain_set-error:0.093098\n",
      "[192]\ttrain_set-error:0.093093\n",
      "[193]\ttrain_set-error:0.093067\n",
      "[194]\ttrain_set-error:0.093063\n",
      "[195]\ttrain_set-error:0.093047\n",
      "[196]\ttrain_set-error:0.09305\n",
      "[197]\ttrain_set-error:0.093048\n",
      "[198]\ttrain_set-error:0.093035\n",
      "[199]\ttrain_set-error:0.093018\n",
      "[200]\ttrain_set-error:0.093018\n",
      "[201]\ttrain_set-error:0.09301\n",
      "[202]\ttrain_set-error:0.093008\n",
      "[203]\ttrain_set-error:0.092998\n",
      "[204]\ttrain_set-error:0.093008\n",
      "[205]\ttrain_set-error:0.092992\n",
      "[206]\ttrain_set-error:0.09298\n",
      "[207]\ttrain_set-error:0.092955\n",
      "[208]\ttrain_set-error:0.092932\n",
      "[209]\ttrain_set-error:0.092867\n",
      "[210]\ttrain_set-error:0.092735\n",
      "[211]\ttrain_set-error:0.092713\n",
      "[212]\ttrain_set-error:0.092688\n",
      "[213]\ttrain_set-error:0.092637\n",
      "[214]\ttrain_set-error:0.092617\n",
      "[215]\ttrain_set-error:0.092617\n",
      "[216]\ttrain_set-error:0.092623\n",
      "[217]\ttrain_set-error:0.092608\n",
      "[218]\ttrain_set-error:0.092573\n",
      "[219]\ttrain_set-error:0.092543\n",
      "[220]\ttrain_set-error:0.092458\n",
      "[221]\ttrain_set-error:0.092442\n",
      "[222]\ttrain_set-error:0.092447\n",
      "[223]\ttrain_set-error:0.092443\n",
      "[224]\ttrain_set-error:0.092415\n",
      "[225]\ttrain_set-error:0.092402\n",
      "[226]\ttrain_set-error:0.092383\n",
      "[227]\ttrain_set-error:0.092378\n",
      "[228]\ttrain_set-error:0.092363\n",
      "[229]\ttrain_set-error:0.092353\n",
      "[230]\ttrain_set-error:0.092343\n",
      "[231]\ttrain_set-error:0.09233\n",
      "[232]\ttrain_set-error:0.092323\n",
      "[233]\ttrain_set-error:0.092342\n",
      "[234]\ttrain_set-error:0.092312\n",
      "[235]\ttrain_set-error:0.092292\n",
      "[236]\ttrain_set-error:0.092255\n",
      "[237]\ttrain_set-error:0.092263\n",
      "[238]\ttrain_set-error:0.092223\n",
      "[239]\ttrain_set-error:0.092218\n",
      "[240]\ttrain_set-error:0.092202\n",
      "[241]\ttrain_set-error:0.092187\n",
      "[242]\ttrain_set-error:0.092185\n",
      "[243]\ttrain_set-error:0.092185\n",
      "[244]\ttrain_set-error:0.092168\n",
      "[245]\ttrain_set-error:0.092165\n",
      "[246]\ttrain_set-error:0.092125\n",
      "[247]\ttrain_set-error:0.092117\n",
      "[248]\ttrain_set-error:0.09211\n",
      "[249]\ttrain_set-error:0.092097\n",
      "[250]\ttrain_set-error:0.092085\n",
      "[251]\ttrain_set-error:0.092065\n",
      "[252]\ttrain_set-error:0.09205\n",
      "[253]\ttrain_set-error:0.092055\n",
      "[254]\ttrain_set-error:0.092042\n",
      "[255]\ttrain_set-error:0.092007\n",
      "[256]\ttrain_set-error:0.091982\n",
      "[257]\ttrain_set-error:0.091972\n",
      "[258]\ttrain_set-error:0.091943\n",
      "[259]\ttrain_set-error:0.09192\n",
      "[260]\ttrain_set-error:0.091898\n",
      "[261]\ttrain_set-error:0.091893\n",
      "[262]\ttrain_set-error:0.091868\n",
      "[263]\ttrain_set-error:0.091835\n",
      "[264]\ttrain_set-error:0.09183\n",
      "[265]\ttrain_set-error:0.091803\n",
      "[266]\ttrain_set-error:0.091807\n",
      "[267]\ttrain_set-error:0.091793\n"
     ]
    },
    {
     "name": "stdout",
     "output_type": "stream",
     "text": [
      "[268]\ttrain_set-error:0.091803\n",
      "[269]\ttrain_set-error:0.091793\n",
      "[270]\ttrain_set-error:0.091788\n",
      "[271]\ttrain_set-error:0.091772\n",
      "[272]\ttrain_set-error:0.091737\n",
      "[273]\ttrain_set-error:0.09171\n",
      "[274]\ttrain_set-error:0.091672\n",
      "[275]\ttrain_set-error:0.091665\n",
      "[276]\ttrain_set-error:0.091663\n",
      "[277]\ttrain_set-error:0.091653\n",
      "[278]\ttrain_set-error:0.091653\n",
      "[279]\ttrain_set-error:0.091652\n",
      "[280]\ttrain_set-error:0.091648\n",
      "[281]\ttrain_set-error:0.091632\n",
      "[282]\ttrain_set-error:0.091633\n",
      "[283]\ttrain_set-error:0.091637\n"
     ]
    }
   ],
   "source": [
    "xg_modelx_full = xgboost.train(paramsx,xg_train_full,early_stopping_rounds=30,evals=[(xg_train_full , \"train_set\")]\n",
    "                              x           ,num_boost_round=284)"
   ]
  },
  {
   "cell_type": "code",
   "execution_count": 937,
   "metadata": {},
   "outputs": [],
   "source": [
    "test_pred = xg_modelx_full.predict(xg_test_full)"
   ]
  },
  {
   "cell_type": "code",
   "execution_count": 938,
   "metadata": {},
   "outputs": [],
   "source": [
    "test_pred[test_pred>0.5] = 1\n",
    "test_pred[test_pred<=0.5] = 0"
   ]
  },
  {
   "cell_type": "code",
   "execution_count": 939,
   "metadata": {},
   "outputs": [],
   "source": [
    "test_pred = test_pred.astype(int)"
   ]
  },
  {
   "cell_type": "code",
   "execution_count": 940,
   "metadata": {},
   "outputs": [],
   "source": [
    "submit = pd.DataFrame({'ID':X_test['ID'], 'class': test_pred})"
   ]
  },
  {
   "cell_type": "code",
   "execution_count": 942,
   "metadata": {},
   "outputs": [],
   "source": [
    "submit.to_csv('sandbox.csv', index=False)"
   ]
  },
  {
   "cell_type": "code",
   "execution_count": null,
   "metadata": {},
   "outputs": [],
   "source": [
    "#Full stack with logistic upper layer.\n"
   ]
  },
  {
   "cell_type": "code",
   "execution_count": 935,
   "metadata": {},
   "outputs": [],
   "source": [
    "#full rf first\n",
    "rf_full = RandomForestClassifier(n_estimators=500, max_depth=10, max_features='sqrt', n_jobs=-1, verbose = 1)"
   ]
  },
  {
   "cell_type": "code",
   "execution_count": 936,
   "metadata": {},
   "outputs": [
    {
     "name": "stderr",
     "output_type": "stream",
     "text": [
      "[Parallel(n_jobs=-1)]: Done  42 tasks      | elapsed:  1.1min\n",
      "[Parallel(n_jobs=-1)]: Done 192 tasks      | elapsed:  3.3min\n",
      "[Parallel(n_jobs=-1)]: Done 442 tasks      | elapsed:  6.9min\n",
      "[Parallel(n_jobs=-1)]: Done 500 out of 500 | elapsed:  7.7min finished\n"
     ]
    },
    {
     "data": {
      "text/plain": [
       "RandomForestClassifier(bootstrap=True, class_weight=None, criterion='gini',\n",
       "            max_depth=10, max_features='sqrt', max_leaf_nodes=None,\n",
       "            min_impurity_decrease=0.0, min_impurity_split=None,\n",
       "            min_samples_leaf=1, min_samples_split=2,\n",
       "            min_weight_fraction_leaf=0.0, n_estimators=500, n_jobs=-1,\n",
       "            oob_score=False, random_state=None, verbose=1,\n",
       "            warm_start=False)"
      ]
     },
     "execution_count": 936,
     "metadata": {},
     "output_type": "execute_result"
    }
   ],
   "source": [
    "rf_full.fit(X_train_full,train_df['class'])"
   ]
  },
  {
   "cell_type": "code",
   "execution_count": 1063,
   "metadata": {},
   "outputs": [
    {
     "name": "stderr",
     "output_type": "stream",
     "text": [
      "[Parallel(n_jobs=4)]: Done  42 tasks      | elapsed:    1.7s\n",
      "[Parallel(n_jobs=4)]: Done 192 tasks      | elapsed:    6.6s\n",
      "[Parallel(n_jobs=4)]: Done 442 tasks      | elapsed:   14.6s\n",
      "[Parallel(n_jobs=4)]: Done 500 out of 500 | elapsed:   16.4s finished\n"
     ]
    }
   ],
   "source": [
    "train_rf_full_pred_stack = rf_full.predict_proba(X_train_full)"
   ]
  },
  {
   "cell_type": "code",
   "execution_count": 1064,
   "metadata": {},
   "outputs": [],
   "source": [
    "train_xg_full_pred_stack = xg_modelx_full.predict(xg_train_full)"
   ]
  },
  {
   "cell_type": "code",
   "execution_count": 1066,
   "metadata": {},
   "outputs": [],
   "source": [
    "stack_train_full = pd.DataFrame({'rf':train_rf_full_pred_stack[:,1],'xg':train_xg_full_pred_stack})"
   ]
  },
  {
   "cell_type": "code",
   "execution_count": 1067,
   "metadata": {},
   "outputs": [
    {
     "name": "stderr",
     "output_type": "stream",
     "text": [
      "[Parallel(n_jobs=4)]: Done  42 tasks      | elapsed:    1.0s\n",
      "[Parallel(n_jobs=4)]: Done 192 tasks      | elapsed:    4.3s\n",
      "[Parallel(n_jobs=4)]: Done 442 tasks      | elapsed:    9.5s\n",
      "[Parallel(n_jobs=4)]: Done 500 out of 500 | elapsed:   10.7s finished\n"
     ]
    }
   ],
   "source": [
    "test_rf_full_pred_stack = rf_full.predict_proba(X_test_for_pred)"
   ]
  },
  {
   "cell_type": "code",
   "execution_count": 1068,
   "metadata": {},
   "outputs": [],
   "source": [
    "test_xg_full_pred_stack = xg_modelx_full.predict(xg_test_full)"
   ]
  },
  {
   "cell_type": "code",
   "execution_count": 1070,
   "metadata": {},
   "outputs": [],
   "source": [
    "stack_test_full = pd.DataFrame({'rf':test_rf_full_pred_stack[:,1],'xg':test_xg_full_pred_stack})"
   ]
  },
  {
   "cell_type": "code",
   "execution_count": null,
   "metadata": {},
   "outputs": [],
   "source": [
    "#stack_train_full.loc[stack_train_full['xg']>0.5, 'xg'] = 1\n",
    "#stack_train_full.loc[stack_train_full['xg']<=0.5, 'xg'] = 0\n",
    "#stack_test_full.loc[stack_test_full['xg']>0.5, 'xg'] = 1\n",
    "#stack_test_full.loc[stack_test_full['xg']<=0.5, 'xg'] = 0"
   ]
  },
  {
   "cell_type": "code",
   "execution_count": 1071,
   "metadata": {},
   "outputs": [],
   "source": [
    "lm_full_stack = LogisticRegression()"
   ]
  },
  {
   "cell_type": "code",
   "execution_count": 1072,
   "metadata": {},
   "outputs": [
    {
     "data": {
      "text/plain": [
       "LogisticRegression(C=1.0, class_weight=None, dual=False, fit_intercept=True,\n",
       "          intercept_scaling=1, max_iter=100, multi_class='ovr', n_jobs=1,\n",
       "          penalty='l2', random_state=None, solver='liblinear', tol=0.0001,\n",
       "          verbose=0, warm_start=False)"
      ]
     },
     "execution_count": 1072,
     "metadata": {},
     "output_type": "execute_result"
    }
   ],
   "source": [
    "lm_full_stack.fit(stack_train_full, train_df['class'])"
   ]
  },
  {
   "cell_type": "code",
   "execution_count": 1073,
   "metadata": {},
   "outputs": [],
   "source": [
    "stack_pred = lm_full_stack.predict(stack_test_full)"
   ]
  },
  {
   "cell_type": "code",
   "execution_count": 1074,
   "metadata": {},
   "outputs": [],
   "source": [
    "stack_pred[stack_pred>0.5] = 1\n",
    "stack_pred[stack_pred<=0.5] = 0"
   ]
  },
  {
   "cell_type": "code",
   "execution_count": 1080,
   "metadata": {},
   "outputs": [
    {
     "data": {
      "text/plain": [
       "400000"
      ]
     },
     "execution_count": 1080,
     "metadata": {},
     "output_type": "execute_result"
    }
   ],
   "source": [
    "len(stack_pred)"
   ]
  },
  {
   "cell_type": "code",
   "execution_count": 1078,
   "metadata": {},
   "outputs": [],
   "source": [
    "submit = pd.DataFrame({'ID':X_test['ID'], 'class': stack_pred})"
   ]
  },
  {
   "cell_type": "code",
   "execution_count": 1081,
   "metadata": {},
   "outputs": [],
   "source": [
    "submit.to_csv('stack.csv', index=False)"
   ]
  },
  {
   "cell_type": "code",
   "execution_count": null,
   "metadata": {},
   "outputs": [],
   "source": []
  },
  {
   "cell_type": "code",
   "execution_count": null,
   "metadata": {},
   "outputs": [],
   "source": [
    "#Hmm logistic giving same output as xg_full_pred. No gain. I guess some non-linear model would help."
   ]
  },
  {
   "cell_type": "code",
   "execution_count": null,
   "metadata": {},
   "outputs": [],
   "source": [
    "#Two layer NNet."
   ]
  },
  {
   "cell_type": "code",
   "execution_count": null,
   "metadata": {},
   "outputs": [],
   "source": []
  },
  {
   "cell_type": "code",
   "execution_count": null,
   "metadata": {},
   "outputs": [],
   "source": []
  },
  {
   "cell_type": "code",
   "execution_count": null,
   "metadata": {},
   "outputs": [],
   "source": []
  },
  {
   "cell_type": "code",
   "execution_count": null,
   "metadata": {},
   "outputs": [],
   "source": []
  },
  {
   "cell_type": "code",
   "execution_count": null,
   "metadata": {},
   "outputs": [],
   "source": []
  },
  {
   "cell_type": "code",
   "execution_count": 1000,
   "metadata": {},
   "outputs": [],
   "source": [
    "from keras.layers import Dense"
   ]
  },
  {
   "cell_type": "code",
   "execution_count": 1001,
   "metadata": {},
   "outputs": [],
   "source": [
    "from keras.models import Sequential"
   ]
  },
  {
   "cell_type": "code",
   "execution_count": 1054,
   "metadata": {},
   "outputs": [],
   "source": [
    "modelx = Sequential()"
   ]
  },
  {
   "cell_type": "code",
   "execution_count": 1055,
   "metadata": {},
   "outputs": [
    {
     "name": "stdout",
     "output_type": "stream",
     "text": [
      "_________________________________________________________________\n",
      "Layer (type)                 Output Shape              Param #   \n",
      "=================================================================\n",
      "dense_25 (Dense)             (None, 4)                 12        \n",
      "_________________________________________________________________\n",
      "dense_26 (Dense)             (None, 2)                 10        \n",
      "_________________________________________________________________\n",
      "dense_27 (Dense)             (None, 1)                 3         \n",
      "=================================================================\n",
      "Total params: 25\n",
      "Trainable params: 25\n",
      "Non-trainable params: 0\n",
      "_________________________________________________________________\n"
     ]
    }
   ],
   "source": [
    "modelx.add(Dense(4, activation = \"relu\", input_shape=(2,)))\n",
    "modelx.add(Dense(2, activation = \"relu\"))\n",
    "modelx.add(Dense(1, activation = \"sigmoid\"))\n",
    "modelx.summary()"
   ]
  },
  {
   "cell_type": "code",
   "execution_count": 1059,
   "metadata": {},
   "outputs": [],
   "source": [
    "modelx.compile(optimizer='adam',\n",
    "              loss='binary_crossentropy',\n",
    "              metrics=['accuracy'])"
   ]
  },
  {
   "cell_type": "code",
   "execution_count": 1060,
   "metadata": {},
   "outputs": [],
   "source": [
    "from keras.utils.np_utils import to_categorical\n",
    "nn_label = to_categorical(y_train_cv)\n",
    "nn_label_val = to_categorical(y_val_cv)"
   ]
  },
  {
   "cell_type": "code",
   "execution_count": 1061,
   "metadata": {},
   "outputs": [
    {
     "data": {
      "text/plain": [
       "array([[0., 1.],\n",
       "       [0., 1.],\n",
       "       [1., 0.],\n",
       "       ...,\n",
       "       [1., 0.],\n",
       "       [0., 1.],\n",
       "       [1., 0.]])"
      ]
     },
     "execution_count": 1061,
     "metadata": {},
     "output_type": "execute_result"
    }
   ],
   "source": [
    "nn_label"
   ]
  },
  {
   "cell_type": "code",
   "execution_count": 1062,
   "metadata": {},
   "outputs": [
    {
     "name": "stdout",
     "output_type": "stream",
     "text": [
      "Train on 450000 samples, validate on 150000 samples\n",
      "Epoch 1/10\n",
      "450000/450000 [==============================] - 31s 68us/step - loss: 0.6869 - acc: 0.5558 - val_loss: 0.6869 - val_acc: 0.5560\n",
      "Epoch 2/10\n",
      "450000/450000 [==============================] - 31s 68us/step - loss: 0.6869 - acc: 0.5558 - val_loss: 0.6869 - val_acc: 0.5560\n",
      "Epoch 3/10\n",
      "450000/450000 [==============================] - 31s 69us/step - loss: 0.6869 - acc: 0.5558 - val_loss: 0.6869 - val_acc: 0.5560\n",
      "Epoch 4/10\n",
      "427584/450000 [===========================>..] - ETA: 1s - loss: 0.6870 - acc: 0.5557"
     ]
    },
    {
     "ename": "KeyboardInterrupt",
     "evalue": "",
     "output_type": "error",
     "traceback": [
      "\u001b[0;31m---------------------------------------------------------------------------\u001b[0m",
      "\u001b[0;31mKeyboardInterrupt\u001b[0m                         Traceback (most recent call last)",
      "\u001b[0;32m<ipython-input-1062-c523a84dc77b>\u001b[0m in \u001b[0;36m<module>\u001b[0;34m()\u001b[0m\n\u001b[0;32m----> 1\u001b[0;31m \u001b[0mmodelx\u001b[0m\u001b[0;34m.\u001b[0m\u001b[0mfit\u001b[0m\u001b[0;34m(\u001b[0m\u001b[0mstack_train_cv\u001b[0m\u001b[0;34m,\u001b[0m \u001b[0my_train_cv\u001b[0m\u001b[0;34m,\u001b[0m \u001b[0mepochs\u001b[0m\u001b[0;34m=\u001b[0m\u001b[0;36m10\u001b[0m\u001b[0;34m,\u001b[0m \u001b[0mbatch_size\u001b[0m\u001b[0;34m=\u001b[0m\u001b[0;36m32\u001b[0m\u001b[0;34m,\u001b[0m \u001b[0mvalidation_data\u001b[0m\u001b[0;34m=\u001b[0m\u001b[0;34m(\u001b[0m\u001b[0mstack_val_cv\u001b[0m\u001b[0;34m,\u001b[0m\u001b[0my_val_cv\u001b[0m\u001b[0;34m)\u001b[0m\u001b[0;34m)\u001b[0m\u001b[0;34m\u001b[0m\u001b[0m\n\u001b[0m",
      "\u001b[0;32m/anaconda/lib/python3.6/site-packages/keras/models.py\u001b[0m in \u001b[0;36mfit\u001b[0;34m(self, x, y, batch_size, epochs, verbose, callbacks, validation_split, validation_data, shuffle, class_weight, sample_weight, initial_epoch, steps_per_epoch, validation_steps, **kwargs)\u001b[0m\n\u001b[1;32m    961\u001b[0m                               \u001b[0minitial_epoch\u001b[0m\u001b[0;34m=\u001b[0m\u001b[0minitial_epoch\u001b[0m\u001b[0;34m,\u001b[0m\u001b[0;34m\u001b[0m\u001b[0m\n\u001b[1;32m    962\u001b[0m                               \u001b[0msteps_per_epoch\u001b[0m\u001b[0;34m=\u001b[0m\u001b[0msteps_per_epoch\u001b[0m\u001b[0;34m,\u001b[0m\u001b[0;34m\u001b[0m\u001b[0m\n\u001b[0;32m--> 963\u001b[0;31m                               validation_steps=validation_steps)\n\u001b[0m\u001b[1;32m    964\u001b[0m \u001b[0;34m\u001b[0m\u001b[0m\n\u001b[1;32m    965\u001b[0m     def evaluate(self, x=None, y=None,\n",
      "\u001b[0;32m/anaconda/lib/python3.6/site-packages/keras/engine/training.py\u001b[0m in \u001b[0;36mfit\u001b[0;34m(self, x, y, batch_size, epochs, verbose, callbacks, validation_split, validation_data, shuffle, class_weight, sample_weight, initial_epoch, steps_per_epoch, validation_steps, **kwargs)\u001b[0m\n\u001b[1;32m   1710\u001b[0m                               \u001b[0minitial_epoch\u001b[0m\u001b[0;34m=\u001b[0m\u001b[0minitial_epoch\u001b[0m\u001b[0;34m,\u001b[0m\u001b[0;34m\u001b[0m\u001b[0m\n\u001b[1;32m   1711\u001b[0m                               \u001b[0msteps_per_epoch\u001b[0m\u001b[0;34m=\u001b[0m\u001b[0msteps_per_epoch\u001b[0m\u001b[0;34m,\u001b[0m\u001b[0;34m\u001b[0m\u001b[0m\n\u001b[0;32m-> 1712\u001b[0;31m                               validation_steps=validation_steps)\n\u001b[0m\u001b[1;32m   1713\u001b[0m \u001b[0;34m\u001b[0m\u001b[0m\n\u001b[1;32m   1714\u001b[0m     def evaluate(self, x=None, y=None,\n",
      "\u001b[0;32m/anaconda/lib/python3.6/site-packages/keras/engine/training.py\u001b[0m in \u001b[0;36m_fit_loop\u001b[0;34m(self, f, ins, out_labels, batch_size, epochs, verbose, callbacks, val_f, val_ins, shuffle, callback_metrics, initial_epoch, steps_per_epoch, validation_steps)\u001b[0m\n\u001b[1;32m   1233\u001b[0m                         \u001b[0mins_batch\u001b[0m\u001b[0;34m[\u001b[0m\u001b[0mi\u001b[0m\u001b[0;34m]\u001b[0m \u001b[0;34m=\u001b[0m \u001b[0mins_batch\u001b[0m\u001b[0;34m[\u001b[0m\u001b[0mi\u001b[0m\u001b[0;34m]\u001b[0m\u001b[0;34m.\u001b[0m\u001b[0mtoarray\u001b[0m\u001b[0;34m(\u001b[0m\u001b[0;34m)\u001b[0m\u001b[0;34m\u001b[0m\u001b[0m\n\u001b[1;32m   1234\u001b[0m \u001b[0;34m\u001b[0m\u001b[0m\n\u001b[0;32m-> 1235\u001b[0;31m                     \u001b[0mouts\u001b[0m \u001b[0;34m=\u001b[0m \u001b[0mf\u001b[0m\u001b[0;34m(\u001b[0m\u001b[0mins_batch\u001b[0m\u001b[0;34m)\u001b[0m\u001b[0;34m\u001b[0m\u001b[0m\n\u001b[0m\u001b[1;32m   1236\u001b[0m                     \u001b[0;32mif\u001b[0m \u001b[0;32mnot\u001b[0m \u001b[0misinstance\u001b[0m\u001b[0;34m(\u001b[0m\u001b[0mouts\u001b[0m\u001b[0;34m,\u001b[0m \u001b[0mlist\u001b[0m\u001b[0;34m)\u001b[0m\u001b[0;34m:\u001b[0m\u001b[0;34m\u001b[0m\u001b[0m\n\u001b[1;32m   1237\u001b[0m                         \u001b[0mouts\u001b[0m \u001b[0;34m=\u001b[0m \u001b[0;34m[\u001b[0m\u001b[0mouts\u001b[0m\u001b[0;34m]\u001b[0m\u001b[0;34m\u001b[0m\u001b[0m\n",
      "\u001b[0;32m/anaconda/lib/python3.6/site-packages/keras/backend/tensorflow_backend.py\u001b[0m in \u001b[0;36m__call__\u001b[0;34m(self, inputs)\u001b[0m\n\u001b[1;32m   2473\u001b[0m         \u001b[0msession\u001b[0m \u001b[0;34m=\u001b[0m \u001b[0mget_session\u001b[0m\u001b[0;34m(\u001b[0m\u001b[0;34m)\u001b[0m\u001b[0;34m\u001b[0m\u001b[0m\n\u001b[1;32m   2474\u001b[0m         updated = session.run(fetches=fetches, feed_dict=feed_dict,\n\u001b[0;32m-> 2475\u001b[0;31m                               **self.session_kwargs)\n\u001b[0m\u001b[1;32m   2476\u001b[0m         \u001b[0;32mreturn\u001b[0m \u001b[0mupdated\u001b[0m\u001b[0;34m[\u001b[0m\u001b[0;34m:\u001b[0m\u001b[0mlen\u001b[0m\u001b[0;34m(\u001b[0m\u001b[0mself\u001b[0m\u001b[0;34m.\u001b[0m\u001b[0moutputs\u001b[0m\u001b[0;34m)\u001b[0m\u001b[0;34m]\u001b[0m\u001b[0;34m\u001b[0m\u001b[0m\n\u001b[1;32m   2477\u001b[0m \u001b[0;34m\u001b[0m\u001b[0m\n",
      "\u001b[0;32m/anaconda/lib/python3.6/site-packages/tensorflow/python/client/session.py\u001b[0m in \u001b[0;36mrun\u001b[0;34m(self, fetches, feed_dict, options, run_metadata)\u001b[0m\n\u001b[1;32m    903\u001b[0m     \u001b[0;32mtry\u001b[0m\u001b[0;34m:\u001b[0m\u001b[0;34m\u001b[0m\u001b[0m\n\u001b[1;32m    904\u001b[0m       result = self._run(None, fetches, feed_dict, options_ptr,\n\u001b[0;32m--> 905\u001b[0;31m                          run_metadata_ptr)\n\u001b[0m\u001b[1;32m    906\u001b[0m       \u001b[0;32mif\u001b[0m \u001b[0mrun_metadata\u001b[0m\u001b[0;34m:\u001b[0m\u001b[0;34m\u001b[0m\u001b[0m\n\u001b[1;32m    907\u001b[0m         \u001b[0mproto_data\u001b[0m \u001b[0;34m=\u001b[0m \u001b[0mtf_session\u001b[0m\u001b[0;34m.\u001b[0m\u001b[0mTF_GetBuffer\u001b[0m\u001b[0;34m(\u001b[0m\u001b[0mrun_metadata_ptr\u001b[0m\u001b[0;34m)\u001b[0m\u001b[0;34m\u001b[0m\u001b[0m\n",
      "\u001b[0;32m/anaconda/lib/python3.6/site-packages/tensorflow/python/client/session.py\u001b[0m in \u001b[0;36m_run\u001b[0;34m(self, handle, fetches, feed_dict, options, run_metadata)\u001b[0m\n\u001b[1;32m   1138\u001b[0m     \u001b[0;32mif\u001b[0m \u001b[0mfinal_fetches\u001b[0m \u001b[0;32mor\u001b[0m \u001b[0mfinal_targets\u001b[0m \u001b[0;32mor\u001b[0m \u001b[0;34m(\u001b[0m\u001b[0mhandle\u001b[0m \u001b[0;32mand\u001b[0m \u001b[0mfeed_dict_tensor\u001b[0m\u001b[0;34m)\u001b[0m\u001b[0;34m:\u001b[0m\u001b[0;34m\u001b[0m\u001b[0m\n\u001b[1;32m   1139\u001b[0m       results = self._do_run(handle, final_targets, final_fetches,\n\u001b[0;32m-> 1140\u001b[0;31m                              feed_dict_tensor, options, run_metadata)\n\u001b[0m\u001b[1;32m   1141\u001b[0m     \u001b[0;32melse\u001b[0m\u001b[0;34m:\u001b[0m\u001b[0;34m\u001b[0m\u001b[0m\n\u001b[1;32m   1142\u001b[0m       \u001b[0mresults\u001b[0m \u001b[0;34m=\u001b[0m \u001b[0;34m[\u001b[0m\u001b[0;34m]\u001b[0m\u001b[0;34m\u001b[0m\u001b[0m\n",
      "\u001b[0;32m/anaconda/lib/python3.6/site-packages/tensorflow/python/client/session.py\u001b[0m in \u001b[0;36m_do_run\u001b[0;34m(self, handle, target_list, fetch_list, feed_dict, options, run_metadata)\u001b[0m\n\u001b[1;32m   1302\u001b[0m       \u001b[0;31m# pylint: enable=protected-access\u001b[0m\u001b[0;34m\u001b[0m\u001b[0;34m\u001b[0m\u001b[0m\n\u001b[1;32m   1303\u001b[0m     \u001b[0;32melse\u001b[0m\u001b[0;34m:\u001b[0m\u001b[0;34m\u001b[0m\u001b[0m\n\u001b[0;32m-> 1304\u001b[0;31m       \u001b[0mfeeds\u001b[0m \u001b[0;34m=\u001b[0m \u001b[0mdict\u001b[0m\u001b[0;34m(\u001b[0m\u001b[0;34m(\u001b[0m\u001b[0mcompat\u001b[0m\u001b[0;34m.\u001b[0m\u001b[0mas_bytes\u001b[0m\u001b[0;34m(\u001b[0m\u001b[0mt\u001b[0m\u001b[0;34m.\u001b[0m\u001b[0mname\u001b[0m\u001b[0;34m)\u001b[0m\u001b[0;34m,\u001b[0m \u001b[0mv\u001b[0m\u001b[0;34m)\u001b[0m \u001b[0;32mfor\u001b[0m \u001b[0mt\u001b[0m\u001b[0;34m,\u001b[0m \u001b[0mv\u001b[0m \u001b[0;32min\u001b[0m \u001b[0mfeed_dict\u001b[0m\u001b[0;34m.\u001b[0m\u001b[0mitems\u001b[0m\u001b[0;34m(\u001b[0m\u001b[0;34m)\u001b[0m\u001b[0;34m)\u001b[0m\u001b[0;34m\u001b[0m\u001b[0m\n\u001b[0m\u001b[1;32m   1305\u001b[0m       \u001b[0mfetches\u001b[0m \u001b[0;34m=\u001b[0m \u001b[0m_name_list\u001b[0m\u001b[0;34m(\u001b[0m\u001b[0mfetch_list\u001b[0m\u001b[0;34m)\u001b[0m\u001b[0;34m\u001b[0m\u001b[0m\n\u001b[1;32m   1306\u001b[0m       \u001b[0mtargets\u001b[0m \u001b[0;34m=\u001b[0m \u001b[0m_name_list\u001b[0m\u001b[0;34m(\u001b[0m\u001b[0mtarget_list\u001b[0m\u001b[0;34m)\u001b[0m\u001b[0;34m\u001b[0m\u001b[0m\n",
      "\u001b[0;32m/anaconda/lib/python3.6/site-packages/tensorflow/python/client/session.py\u001b[0m in \u001b[0;36m<genexpr>\u001b[0;34m(.0)\u001b[0m\n\u001b[1;32m   1302\u001b[0m       \u001b[0;31m# pylint: enable=protected-access\u001b[0m\u001b[0;34m\u001b[0m\u001b[0;34m\u001b[0m\u001b[0m\n\u001b[1;32m   1303\u001b[0m     \u001b[0;32melse\u001b[0m\u001b[0;34m:\u001b[0m\u001b[0;34m\u001b[0m\u001b[0m\n\u001b[0;32m-> 1304\u001b[0;31m       \u001b[0mfeeds\u001b[0m \u001b[0;34m=\u001b[0m \u001b[0mdict\u001b[0m\u001b[0;34m(\u001b[0m\u001b[0;34m(\u001b[0m\u001b[0mcompat\u001b[0m\u001b[0;34m.\u001b[0m\u001b[0mas_bytes\u001b[0m\u001b[0;34m(\u001b[0m\u001b[0mt\u001b[0m\u001b[0;34m.\u001b[0m\u001b[0mname\u001b[0m\u001b[0;34m)\u001b[0m\u001b[0;34m,\u001b[0m \u001b[0mv\u001b[0m\u001b[0;34m)\u001b[0m \u001b[0;32mfor\u001b[0m \u001b[0mt\u001b[0m\u001b[0;34m,\u001b[0m \u001b[0mv\u001b[0m \u001b[0;32min\u001b[0m \u001b[0mfeed_dict\u001b[0m\u001b[0;34m.\u001b[0m\u001b[0mitems\u001b[0m\u001b[0;34m(\u001b[0m\u001b[0;34m)\u001b[0m\u001b[0;34m)\u001b[0m\u001b[0;34m\u001b[0m\u001b[0m\n\u001b[0m\u001b[1;32m   1305\u001b[0m       \u001b[0mfetches\u001b[0m \u001b[0;34m=\u001b[0m \u001b[0m_name_list\u001b[0m\u001b[0;34m(\u001b[0m\u001b[0mfetch_list\u001b[0m\u001b[0;34m)\u001b[0m\u001b[0;34m\u001b[0m\u001b[0m\n\u001b[1;32m   1306\u001b[0m       \u001b[0mtargets\u001b[0m \u001b[0;34m=\u001b[0m \u001b[0m_name_list\u001b[0m\u001b[0;34m(\u001b[0m\u001b[0mtarget_list\u001b[0m\u001b[0;34m)\u001b[0m\u001b[0;34m\u001b[0m\u001b[0m\n",
      "\u001b[0;31mKeyboardInterrupt\u001b[0m: "
     ]
    }
   ],
   "source": [
    "modelx.fit(stack_train_cv, y_train_cv, epochs=10, batch_size=32, validation_data=(stack_val_cv,y_val_cv))"
   ]
  },
  {
   "cell_type": "code",
   "execution_count": 1083,
   "metadata": {},
   "outputs": [],
   "source": [
    "to_save_train = pd.concat([X_train_full, train_df['class']], axis = 1)"
   ]
  },
  {
   "cell_type": "code",
   "execution_count": 1084,
   "metadata": {},
   "outputs": [],
   "source": [
    "to_save_train.to_csv('train_new_feature.csv', index = False)"
   ]
  },
  {
   "cell_type": "code",
   "execution_count": 1085,
   "metadata": {},
   "outputs": [],
   "source": [
    "X_test_for_pred.to_csv('test_new_feature.csv', index = False)"
   ]
  },
  {
   "cell_type": "code",
   "execution_count": null,
   "metadata": {},
   "outputs": [],
   "source": []
  },
  {
   "cell_type": "code",
   "execution_count": 1090,
   "metadata": {},
   "outputs": [],
   "source": [
    "from xgboost import plot_tree"
   ]
  },
  {
   "cell_type": "code",
   "execution_count": 1098,
   "metadata": {},
   "outputs": [
    {
     "data": {
      "text/plain": [
       "<Figure size 720x720 with 0 Axes>"
      ]
     },
     "metadata": {},
     "output_type": "display_data"
    },
    {
     "data": {
      "image/png": "[encoded data removed]",
      "text/plain": [
       "<Figure size 432x288 with 1 Axes>"
      ]
     },
     "metadata": {},
     "output_type": "display_data"
    }
   ],
   "source": [
    "plt.figure(figsize=(10,10))\n",
    "plot_tree(xg_modelx_full, num_trees=0)\n",
    "plt.tight_layout()\n",
    "plt.savefig(\"tree_structure.pdf\")\n",
    "plt.show()"
   ]
  },
  {
   "cell_type": "code",
   "execution_count": 1099,
   "metadata": {},
   "outputs": [
    {
     "data": {
      "image/svg+xml": [
       "<?xml version=\"1.0\" encoding=\"UTF-8\" standalone=\"no\"?>\n",
       "<!DOCTYPE svg PUBLIC \"-//W3C//DTD SVG 1.1//EN\"\n",
       " \"http://www.w3.org/Graphics/SVG/1.1/DTD/svg11.dtd\">\n",
       "<!-- Generated by graphviz version 2.38.0 (20140413.2041)\n",
       " -->\n",
       "<!-- Title: %3 Pages: 1 -->\n",
       "<svg width=\"8082pt\" height=\"1724pt\"\n",
       " viewBox=\"0.00 0.00 8082.20 1723.54\" xmlns=\"http://www.w3.org/2000/svg\" xmlns:xlink=\"http://www.w3.org/1999/xlink\">\n",
       "<g id=\"graph0\" class=\"graph\" transform=\"scale(1 1) rotate(0) translate(4 1719.54)\">\n",
       "<title>%3</title>\n",
       "<polygon fill=\"white\" stroke=\"none\" points=\"-4,4 -4,-1719.54 8078.2,-1719.54 8078.2,4 -4,4\"/>\n",
       "<!-- 0 -->\n",
       "<g id=\"node1\" class=\"node\"><title>0</title>\n",
       "<ellipse fill=\"none\" stroke=\"black\" cx=\"4213.31\" cy=\"-1682.76\" rx=\"32.5552\" ry=\"32.5552\"/>\n",
       "<text text-anchor=\"middle\" x=\"4213.31\" y=\"-1678.56\" font-family=\"Times,serif\" font-size=\"14.00\">thal&lt;5</text>\n",
       "</g>\n",
       "<!-- 1 -->\n",
       "<g id=\"node2\" class=\"node\"><title>1</title>\n",
       "<ellipse fill=\"none\" stroke=\"black\" cx=\"3081.31\" cy=\"-1521.77\" rx=\"78.433\" ry=\"78.433\"/>\n",
       "<text text-anchor=\"middle\" x=\"3081.31\" y=\"-1517.57\" font-family=\"Times,serif\" font-size=\"14.00\">sex_chest&lt;3.85867</text>\n",
       "</g>\n",
       "<!-- 0&#45;&gt;1 -->\n",
       "<g id=\"edge1\" class=\"edge\"><title>0&#45;&gt;1</title>\n",
       "<path fill=\"none\" stroke=\"#0000ff\" d=\"M4180.96,-1677.22C4031.14,-1656.18 3402.22,-1567.84 3168.91,-1535.07\"/>\n",
       "<polygon fill=\"#0000ff\" stroke=\"#0000ff\" points=\"3169.16,-1531.58 3158.77,-1533.65 3168.18,-1538.51 3169.16,-1531.58\"/>\n",
       "<text text-anchor=\"middle\" x=\"3881.93\" y=\"-1620.79\" font-family=\"Times,serif\" font-size=\"14.00\">yes, missing</text>\n",
       "</g>\n",
       "<!-- 2 -->\n",
       "<g id=\"node3\" class=\"node\"><title>2</title>\n",
       "<ellipse fill=\"none\" stroke=\"black\" cx=\"4842.31\" cy=\"-1521.77\" rx=\"61.8649\" ry=\"61.8649\"/>\n",
       "<text text-anchor=\"middle\" x=\"4842.31\" y=\"-1517.57\" font-family=\"Times,serif\" font-size=\"14.00\">chest&lt;3.88911</text>\n",
       "</g>\n",
       "<!-- 0&#45;&gt;2 -->\n",
       "<g id=\"edge2\" class=\"edge\"><title>0&#45;&gt;2</title>\n",
       "<path fill=\"none\" stroke=\"#ff0000\" d=\"M4244.93,-1673.77C4341.91,-1649.26 4636.72,-1574.74 4772.5,-1540.42\"/>\n",
       "<polygon fill=\"#ff0000\" stroke=\"#ff0000\" points=\"4773.55,-1543.76 4782.39,-1537.92 4771.83,-1536.98 4773.55,-1543.76\"/>\n",
       "<text text-anchor=\"middle\" x=\"4460.31\" y=\"-1620.79\" font-family=\"Times,serif\" font-size=\"14.00\">no</text>\n",
       "</g>\n",
       "<!-- 3 -->\n",
       "<g id=\"node4\" class=\"node\"><title>3</title>\n",
       "<ellipse fill=\"none\" stroke=\"black\" cx=\"1422.31\" cy=\"-1280.71\" rx=\"112.686\" ry=\"112.686\"/>\n",
       "<text text-anchor=\"middle\" x=\"1422.31\" y=\"-1276.51\" font-family=\"Times,serif\" font-size=\"14.00\">number_of_major_vessels&lt;1</text>\n",
       "</g>\n",
       "<!-- 1&#45;&gt;3 -->\n",
       "<g id=\"edge3\" class=\"edge\"><title>1&#45;&gt;3</title>\n",
       "<path fill=\"none\" stroke=\"#0000ff\" d=\"M3003.8,-1509.6C2738.77,-1471.41 1867.33,-1345.84 1544.25,-1299.28\"/>\n",
       "<polygon fill=\"#0000ff\" stroke=\"#0000ff\" points=\"1544.32,-1295.76 1533.92,-1297.79 1543.32,-1302.69 1544.32,-1295.76\"/>\n",
       "<text text-anchor=\"middle\" x=\"2435.93\" y=\"-1414.36\" font-family=\"Times,serif\" font-size=\"14.00\">yes, missing</text>\n",
       "</g>\n",
       "<!-- 4 -->\n",
       "<g id=\"node5\" class=\"node\"><title>4</title>\n",
       "<ellipse fill=\"none\" stroke=\"black\" cx=\"3081.31\" cy=\"-1280.71\" rx=\"112.686\" ry=\"112.686\"/>\n",
       "<text text-anchor=\"middle\" x=\"3081.31\" y=\"-1276.51\" font-family=\"Times,serif\" font-size=\"14.00\">number_of_major_vessels&lt;1</text>\n",
       "</g>\n",
       "<!-- 1&#45;&gt;4 -->\n",
       "<g id=\"edge4\" class=\"edge\"><title>1&#45;&gt;4</title>\n",
       "<path fill=\"none\" stroke=\"#ff0000\" d=\"M3081.31,-1443.49C3081.31,-1430.88 3081.31,-1417.55 3081.31,-1404.17\"/>\n",
       "<polygon fill=\"#ff0000\" stroke=\"#ff0000\" points=\"3084.81,-1403.94 3081.31,-1393.94 3077.81,-1403.94 3084.81,-1403.94\"/>\n",
       "<text text-anchor=\"middle\" x=\"3088.31\" y=\"-1414.36\" font-family=\"Times,serif\" font-size=\"14.00\">no</text>\n",
       "</g>\n",
       "<!-- 5 -->\n",
       "<g id=\"node66\" class=\"node\"><title>5</title>\n",
       "<ellipse fill=\"none\" stroke=\"black\" cx=\"4842.31\" cy=\"-1280.71\" rx=\"112.686\" ry=\"112.686\"/>\n",
       "<text text-anchor=\"middle\" x=\"4842.31\" y=\"-1276.51\" font-family=\"Times,serif\" font-size=\"14.00\">number_of_major_vessels&lt;1</text>\n",
       "</g>\n",
       "<!-- 2&#45;&gt;5 -->\n",
       "<g id=\"edge65\" class=\"edge\"><title>2&#45;&gt;5</title>\n",
       "<path fill=\"none\" stroke=\"#0000ff\" d=\"M4842.31,-1459.83C4842.31,-1442.63 4842.31,-1423.28 4842.31,-1403.84\"/>\n",
       "<polygon fill=\"#0000ff\" stroke=\"#0000ff\" points=\"4845.81,-1403.68 4842.31,-1393.68 4838.81,-1403.68 4845.81,-1403.68\"/>\n",
       "<text text-anchor=\"middle\" x=\"4876.93\" y=\"-1414.36\" font-family=\"Times,serif\" font-size=\"14.00\">yes, missing</text>\n",
       "</g>\n",
       "<!-- 6 -->\n",
       "<g id=\"node67\" class=\"node\"><title>6</title>\n",
       "<ellipse fill=\"none\" stroke=\"black\" cx=\"6565.31\" cy=\"-1280.71\" rx=\"112.686\" ry=\"112.686\"/>\n",
       "<text text-anchor=\"middle\" x=\"6565.31\" y=\"-1276.51\" font-family=\"Times,serif\" font-size=\"14.00\">number_of_major_vessels&lt;1</text>\n",
       "</g>\n",
       "<!-- 2&#45;&gt;6 -->\n",
       "<g id=\"edge66\" class=\"edge\"><title>2&#45;&gt;6</title>\n",
       "<path fill=\"none\" stroke=\"#ff0000\" d=\"M4903.38,-1512.3C5153.65,-1477.57 6103.62,-1345.77 6443.48,-1298.62\"/>\n",
       "<polygon fill=\"#ff0000\" stroke=\"#ff0000\" points=\"6444.18,-1302.05 6453.6,-1297.21 6443.22,-1295.12 6444.18,-1302.05\"/>\n",
       "<text text-anchor=\"middle\" x=\"5608.31\" y=\"-1414.36\" font-family=\"Times,serif\" font-size=\"14.00\">no</text>\n",
       "</g>\n",
       "<!-- 7 -->\n",
       "<g id=\"node6\" class=\"node\"><title>7</title>\n",
       "<ellipse fill=\"none\" stroke=\"black\" cx=\"739.312\" cy=\"-962.558\" rx=\"71.6598\" ry=\"71.6598\"/>\n",
       "<text text-anchor=\"middle\" x=\"739.312\" y=\"-958.358\" font-family=\"Times,serif\" font-size=\"14.00\">oldpeak&lt;2.10751</text>\n",
       "</g>\n",
       "<!-- 3&#45;&gt;7 -->\n",
       "<g id=\"edge5\" class=\"edge\"><title>3&#45;&gt;7</title>\n",
       "<path fill=\"none\" stroke=\"#0000ff\" d=\"M1320.06,-1232.38C1181.15,-1168.08 936.107,-1054.65 813.517,-997.907\"/>\n",
       "<polygon fill=\"#0000ff\" stroke=\"#0000ff\" points=\"814.735,-994.614 804.189,-993.589 811.794,-1000.97 814.735,-994.614\"/>\n",
       "<text text-anchor=\"middle\" x=\"1156.93\" y=\"-1138.67\" font-family=\"Times,serif\" font-size=\"14.00\">yes, missing</text>\n",
       "</g>\n",
       "<!-- 8 -->\n",
       "<g id=\"node7\" class=\"node\"><title>8</title>\n",
       "<ellipse fill=\"none\" stroke=\"black\" cx=\"1422.31\" cy=\"-962.558\" rx=\"76.0037\" ry=\"76.0037\"/>\n",
       "<text text-anchor=\"middle\" x=\"1422.31\" y=\"-958.358\" font-family=\"Times,serif\" font-size=\"14.00\">oldpeak&lt;0.787701</text>\n",
       "</g>\n",
       "<!-- 3&#45;&gt;8 -->\n",
       "<g id=\"edge6\" class=\"edge\"><title>3&#45;&gt;8</title>\n",
       "<path fill=\"none\" stroke=\"#ff0000\" d=\"M1422.31,-1167.8C1422.31,-1128.83 1422.31,-1085.76 1422.31,-1049.26\"/>\n",
       "<polygon fill=\"#ff0000\" stroke=\"#ff0000\" points=\"1425.81,-1049.15 1422.31,-1039.15 1418.81,-1049.15 1425.81,-1049.15\"/>\n",
       "<text text-anchor=\"middle\" x=\"1429.31\" y=\"-1138.67\" font-family=\"Times,serif\" font-size=\"14.00\">no</text>\n",
       "</g>\n",
       "<!-- 9 -->\n",
       "<g id=\"node36\" class=\"node\"><title>9</title>\n",
       "<ellipse fill=\"none\" stroke=\"black\" cx=\"2792.31\" cy=\"-962.558\" rx=\"108.784\" ry=\"108.784\"/>\n",
       "<text text-anchor=\"middle\" x=\"2792.31\" y=\"-958.358\" font-family=\"Times,serif\" font-size=\"14.00\">exercise_induced_angina&lt;1</text>\n",
       "</g>\n",
       "<!-- 4&#45;&gt;9 -->\n",
       "<g id=\"edge35\" class=\"edge\"><title>4&#45;&gt;9</title>\n",
       "<path fill=\"none\" stroke=\"#0000ff\" d=\"M3005.38,-1196.65C2964.43,-1151.85 2913.91,-1096.58 2872.35,-1051.11\"/>\n",
       "<polygon fill=\"#0000ff\" stroke=\"#0000ff\" points=\"2874.82,-1048.63 2865.49,-1043.61 2869.66,-1053.36 2874.82,-1048.63\"/>\n",
       "<text text-anchor=\"middle\" x=\"2988.93\" y=\"-1138.67\" font-family=\"Times,serif\" font-size=\"14.00\">yes, missing</text>\n",
       "</g>\n",
       "<!-- 10 -->\n",
       "<g id=\"node37\" class=\"node\"><title>10</title>\n",
       "<ellipse fill=\"none\" stroke=\"black\" cx=\"3241.31\" cy=\"-962.558\" rx=\"73.1308\" ry=\"73.1308\"/>\n",
       "<text text-anchor=\"middle\" x=\"3241.31\" y=\"-958.358\" font-family=\"Times,serif\" font-size=\"14.00\">big_mix&lt;20865.7</text>\n",
       "</g>\n",
       "<!-- 4&#45;&gt;10 -->\n",
       "<g id=\"edge36\" class=\"edge\"><title>4&#45;&gt;10</title>\n",
       "<path fill=\"none\" stroke=\"#ff0000\" d=\"M3131.94,-1179.68C3155.22,-1133.67 3182.36,-1080.04 3203.78,-1037.71\"/>\n",
       "<polygon fill=\"#ff0000\" stroke=\"#ff0000\" points=\"3207.01,-1039.09 3208.4,-1028.59 3200.76,-1035.93 3207.01,-1039.09\"/>\n",
       "<text text-anchor=\"middle\" x=\"3159.31\" y=\"-1138.67\" font-family=\"Times,serif\" font-size=\"14.00\">no</text>\n",
       "</g>\n",
       "<!-- 15 -->\n",
       "<g id=\"node8\" class=\"node\"><title>15</title>\n",
       "<ellipse fill=\"none\" stroke=\"black\" cx=\"437.312\" cy=\"-601.935\" rx=\"78.9001\" ry=\"78.9001\"/>\n",
       "<text text-anchor=\"middle\" x=\"437.312\" y=\"-597.735\" font-family=\"Times,serif\" font-size=\"14.00\">age_chest&lt;218.075</text>\n",
       "</g>\n",
       "<!-- 7&#45;&gt;15 -->\n",
       "<g id=\"edge7\" class=\"edge\"><title>7&#45;&gt;15</title>\n",
       "<path fill=\"none\" stroke=\"#0000ff\" d=\"M693.444,-907.091C640.059,-843.696 551.87,-738.972 494.178,-670.463\"/>\n",
       "<polygon fill=\"#0000ff\" stroke=\"#0000ff\" points=\"496.766,-668.102 487.647,-662.708 491.411,-672.611 496.766,-668.102\"/>\n",
       "<text text-anchor=\"middle\" x=\"622.925\" y=\"-778.046\" font-family=\"Times,serif\" font-size=\"14.00\">yes, missing</text>\n",
       "</g>\n",
       "<!-- 16 -->\n",
       "<g id=\"node9\" class=\"node\"><title>16</title>\n",
       "<ellipse fill=\"none\" stroke=\"black\" cx=\"739.312\" cy=\"-601.935\" rx=\"155.123\" ry=\"155.123\"/>\n",
       "<text text-anchor=\"middle\" x=\"739.312\" y=\"-597.735\" font-family=\"Times,serif\" font-size=\"14.00\">maximum_heart_rate_achieved&lt;146.448</text>\n",
       "</g>\n",
       "<!-- 7&#45;&gt;16 -->\n",
       "<g id=\"edge8\" class=\"edge\"><title>7&#45;&gt;16</title>\n",
       "<path fill=\"none\" stroke=\"#ff0000\" d=\"M739.312,-890.705C739.312,-855.292 739.312,-810.838 739.312,-767.535\"/>\n",
       "<polygon fill=\"#ff0000\" stroke=\"#ff0000\" points=\"742.812,-767.442 739.312,-757.442 735.812,-767.442 742.812,-767.442\"/>\n",
       "<text text-anchor=\"middle\" x=\"746.312\" y=\"-778.046\" font-family=\"Times,serif\" font-size=\"14.00\">no</text>\n",
       "</g>\n",
       "<!-- 17 -->\n",
       "<g id=\"node22\" class=\"node\"><title>17</title>\n",
       "<ellipse fill=\"none\" stroke=\"black\" cx=\"1339.31\" cy=\"-601.935\" rx=\"155.123\" ry=\"155.123\"/>\n",
       "<text text-anchor=\"middle\" x=\"1339.31\" y=\"-597.735\" font-family=\"Times,serif\" font-size=\"14.00\">maximum_heart_rate_achieved&lt;146.239</text>\n",
       "</g>\n",
       "<!-- 8&#45;&gt;17 -->\n",
       "<g id=\"edge21\" class=\"edge\"><title>8&#45;&gt;17</title>\n",
       "<path fill=\"none\" stroke=\"#0000ff\" d=\"M1405.31,-888.12C1396.96,-852.017 1386.54,-806.994 1376.46,-763.464\"/>\n",
       "<polygon fill=\"#0000ff\" stroke=\"#0000ff\" points=\"1379.85,-762.571 1374.19,-753.617 1373.03,-764.149 1379.85,-762.571\"/>\n",
       "<text text-anchor=\"middle\" x=\"1415.93\" y=\"-778.046\" font-family=\"Times,serif\" font-size=\"14.00\">yes, missing</text>\n",
       "</g>\n",
       "<!-- 18 -->\n",
       "<g id=\"node23\" class=\"node\"><title>18</title>\n",
       "<ellipse fill=\"none\" stroke=\"black\" cx=\"1668.31\" cy=\"-601.935\" rx=\"155.123\" ry=\"155.123\"/>\n",
       "<text text-anchor=\"middle\" x=\"1668.31\" y=\"-597.735\" font-family=\"Times,serif\" font-size=\"14.00\">maximum_heart_rate_achieved&lt;147.499</text>\n",
       "</g>\n",
       "<!-- 8&#45;&gt;18 -->\n",
       "<g id=\"edge22\" class=\"edge\"><title>8&#45;&gt;18</title>\n",
       "<path fill=\"none\" stroke=\"#ff0000\" d=\"M1465.16,-899.09C1495.47,-854.901 1537.29,-793.944 1575.1,-738.815\"/>\n",
       "<polygon fill=\"#ff0000\" stroke=\"#ff0000\" points=\"1578.12,-740.6 1580.89,-730.374 1572.35,-736.64 1578.12,-740.6\"/>\n",
       "<text text-anchor=\"middle\" x=\"1552.31\" y=\"-778.046\" font-family=\"Times,serif\" font-size=\"14.00\">no</text>\n",
       "</g>\n",
       "<!-- 31 -->\n",
       "<g id=\"node10\" class=\"node\"><title>31</title>\n",
       "<ellipse fill=\"none\" stroke=\"black\" cx=\"155.312\" cy=\"-241.312\" rx=\"155.123\" ry=\"155.123\"/>\n",
       "<text text-anchor=\"middle\" x=\"155.312\" y=\"-237.112\" font-family=\"Times,serif\" font-size=\"14.00\">maximum_heart_rate_achieved&lt;145.578</text>\n",
       "</g>\n",
       "<!-- 15&#45;&gt;31 -->\n",
       "<g id=\"edge9\" class=\"edge\"><title>15&#45;&gt;31</title>\n",
       "<path fill=\"none\" stroke=\"#0000ff\" d=\"M388.834,-539.285C352.737,-493.381 302.157,-429.056 257.295,-372.006\"/>\n",
       "<polygon fill=\"#0000ff\" stroke=\"#0000ff\" points=\"259.938,-369.704 251.005,-364.006 254.435,-374.031 259.938,-369.704\"/>\n",
       "<text text-anchor=\"middle\" x=\"330.925\" y=\"-417.423\" font-family=\"Times,serif\" font-size=\"14.00\">yes, missing</text>\n",
       "</g>\n",
       "<!-- 32 -->\n",
       "<g id=\"node11\" class=\"node\"><title>32</title>\n",
       "<ellipse fill=\"none\" stroke=\"black\" cx=\"437.312\" cy=\"-241.312\" rx=\"108.784\" ry=\"108.784\"/>\n",
       "<text text-anchor=\"middle\" x=\"437.312\" y=\"-237.112\" font-family=\"Times,serif\" font-size=\"14.00\">exercise_induced_angina&lt;1</text>\n",
       "</g>\n",
       "<!-- 15&#45;&gt;32 -->\n",
       "<g id=\"edge10\" class=\"edge\"><title>15&#45;&gt;32</title>\n",
       "<path fill=\"none\" stroke=\"#ff0000\" d=\"M437.312,-523.119C437.312,-475.607 437.312,-413.92 437.312,-360.469\"/>\n",
       "<polygon fill=\"#ff0000\" stroke=\"#ff0000\" points=\"440.812,-360.243 437.312,-350.243 433.812,-360.243 440.812,-360.243\"/>\n",
       "<text text-anchor=\"middle\" x=\"444.312\" y=\"-417.423\" font-family=\"Times,serif\" font-size=\"14.00\">no</text>\n",
       "</g>\n",
       "<!-- 33 -->\n",
       "<g id=\"node16\" class=\"node\"><title>33</title>\n",
       "<ellipse fill=\"none\" stroke=\"black\" cx=\"668.312\" cy=\"-241.312\" rx=\"62.0121\" ry=\"62.0121\"/>\n",
       "<text text-anchor=\"middle\" x=\"668.312\" y=\"-237.112\" font-family=\"Times,serif\" font-size=\"14.00\">chest&lt;3.64588</text>\n",
       "</g>\n",
       "<!-- 16&#45;&gt;33 -->\n",
       "<g id=\"edge15\" class=\"edge\"><title>16&#45;&gt;33</title>\n",
       "<path fill=\"none\" stroke=\"#0000ff\" d=\"M709.304,-449.366C699.889,-401.81 689.946,-351.586 682.21,-312.513\"/>\n",
       "<polygon fill=\"#0000ff\" stroke=\"#0000ff\" points=\"685.567,-311.445 680.191,-302.316 678.7,-312.805 685.567,-311.445\"/>\n",
       "<text text-anchor=\"middle\" x=\"738.925\" y=\"-417.423\" font-family=\"Times,serif\" font-size=\"14.00\">yes, missing</text>\n",
       "</g>\n",
       "<!-- 34 -->\n",
       "<g id=\"node17\" class=\"node\"><title>34</title>\n",
       "<ellipse fill=\"none\" stroke=\"black\" cx=\"827.312\" cy=\"-241.312\" rx=\"78.9001\" ry=\"78.9001\"/>\n",
       "<text text-anchor=\"middle\" x=\"827.312\" y=\"-237.112\" font-family=\"Times,serif\" font-size=\"14.00\">age_chest&lt;228.695</text>\n",
       "</g>\n",
       "<!-- 16&#45;&gt;34 -->\n",
       "<g id=\"edge16\" class=\"edge\"><title>16&#45;&gt;34</title>\n",
       "<path fill=\"none\" stroke=\"#ff0000\" d=\"M776.122,-450.924C786.411,-408.993 797.239,-364.865 806.273,-328.049\"/>\n",
       "<polygon fill=\"#ff0000\" stroke=\"#ff0000\" points=\"809.788,-328.412 808.772,-317.866 802.989,-326.744 809.788,-328.412\"/>\n",
       "<text text-anchor=\"middle\" x=\"790.312\" y=\"-417.423\" font-family=\"Times,serif\" font-size=\"14.00\">no</text>\n",
       "</g>\n",
       "<!-- 63 -->\n",
       "<g id=\"node12\" class=\"node\"><title>63</title>\n",
       "<polygon fill=\"none\" stroke=\"black\" points=\"105.349,-36 3.27441,-36 3.27441,-0 105.349,-0 105.349,-36\"/>\n",
       "<text text-anchor=\"middle\" x=\"54.3115\" y=\"-13.8\" font-family=\"Times,serif\" font-size=\"14.00\">leaf=&#45;0.166455</text>\n",
       "</g>\n",
       "<!-- 31&#45;&gt;63 -->\n",
       "<g id=\"edge11\" class=\"edge\"><title>31&#45;&gt;63</title>\n",
       "<path fill=\"none\" stroke=\"#0000ff\" d=\"M91.2036,-99.838C81.7542,-79.1324 72.9917,-59.932 66.3796,-45.4436\"/>\n",
       "<polygon fill=\"#0000ff\" stroke=\"#0000ff\" points=\"69.4995,-43.8497 62.1636,-36.2055 63.1313,-46.756 69.4995,-43.8497\"/>\n",
       "<text text-anchor=\"middle\" x=\"110.925\" y=\"-56.8\" font-family=\"Times,serif\" font-size=\"14.00\">yes, missing</text>\n",
       "</g>\n",
       "<!-- 64 -->\n",
       "<g id=\"node13\" class=\"node\"><title>64</title>\n",
       "<polygon fill=\"none\" stroke=\"black\" points=\"225.349,-36 123.274,-36 123.274,-0 225.349,-0 225.349,-36\"/>\n",
       "<text text-anchor=\"middle\" x=\"174.312\" y=\"-13.8\" font-family=\"Times,serif\" font-size=\"14.00\">leaf=&#45;0.192433</text>\n",
       "</g>\n",
       "<!-- 31&#45;&gt;64 -->\n",
       "<g id=\"edge12\" class=\"edge\"><title>31&#45;&gt;64</title>\n",
       "<path fill=\"none\" stroke=\"#ff0000\" d=\"M168.534,-86.3021C169.83,-71.2019 171.016,-57.3811 171.972,-46.2452\"/>\n",
       "<polygon fill=\"#ff0000\" stroke=\"#ff0000\" points=\"175.479,-46.3191 172.847,-36.0564 168.505,-45.7203 175.479,-46.3191\"/>\n",
       "<text text-anchor=\"middle\" x=\"178.312\" y=\"-56.8\" font-family=\"Times,serif\" font-size=\"14.00\">no</text>\n",
       "</g>\n",
       "<!-- 65 -->\n",
       "<g id=\"node14\" class=\"node\"><title>65</title>\n",
       "<polygon fill=\"none\" stroke=\"black\" points=\"364.837,-36 263.786,-36 263.786,-0 364.837,-0 364.837,-36\"/>\n",
       "<text text-anchor=\"middle\" x=\"314.312\" y=\"-13.8\" font-family=\"Times,serif\" font-size=\"14.00\">leaf=&#45;0.166911</text>\n",
       "</g>\n",
       "<!-- 32&#45;&gt;65 -->\n",
       "<g id=\"edge13\" class=\"edge\"><title>32&#45;&gt;65</title>\n",
       "<path fill=\"none\" stroke=\"#0000ff\" d=\"M384.792,-145.814C364.411,-109.144 342.687,-70.0549 328.831,-45.124\"/>\n",
       "<polygon fill=\"#0000ff\" stroke=\"#0000ff\" points=\"331.842,-43.3373 323.925,-36.2968 325.723,-46.7378 331.842,-43.3373\"/>\n",
       "<text text-anchor=\"middle\" x=\"375.925\" y=\"-56.8\" font-family=\"Times,serif\" font-size=\"14.00\">yes, missing</text>\n",
       "</g>\n",
       "<!-- 66 -->\n",
       "<g id=\"node15\" class=\"node\"><title>66</title>\n",
       "<polygon fill=\"none\" stroke=\"black\" points=\"491.849,-36 382.774,-36 382.774,-0 491.849,-0 491.849,-36\"/>\n",
       "<text text-anchor=\"middle\" x=\"437.312\" y=\"-13.8\" font-family=\"Times,serif\" font-size=\"14.00\">leaf=&#45;0.0609414</text>\n",
       "</g>\n",
       "<!-- 32&#45;&gt;66 -->\n",
       "<g id=\"edge14\" class=\"edge\"><title>32&#45;&gt;66</title>\n",
       "<path fill=\"none\" stroke=\"#ff0000\" d=\"M437.312,-132.249C437.312,-100.335 437.312,-68.1328 437.312,-46.2693\"/>\n",
       "<polygon fill=\"#ff0000\" stroke=\"#ff0000\" points=\"440.812,-46.1244 437.312,-36.1244 433.812,-46.1244 440.812,-46.1244\"/>\n",
       "<text text-anchor=\"middle\" x=\"444.312\" y=\"-56.8\" font-family=\"Times,serif\" font-size=\"14.00\">no</text>\n",
       "</g>\n",
       "<!-- 67 -->\n",
       "<g id=\"node18\" class=\"node\"><title>67</title>\n",
       "<polygon fill=\"none\" stroke=\"black\" points=\"618.849,-36 509.774,-36 509.774,-0 618.849,-0 618.849,-36\"/>\n",
       "<text text-anchor=\"middle\" x=\"564.312\" y=\"-13.8\" font-family=\"Times,serif\" font-size=\"14.00\">leaf=&#45;0.0603248</text>\n",
       "</g>\n",
       "<!-- 33&#45;&gt;67 -->\n",
       "<g id=\"edge17\" class=\"edge\"><title>33&#45;&gt;67</title>\n",
       "<path fill=\"none\" stroke=\"#0000ff\" d=\"M642.202,-184.751C621.282,-140.234 592.857,-79.7446 576.766,-45.5033\"/>\n",
       "<polygon fill=\"#0000ff\" stroke=\"#0000ff\" points=\"579.801,-43.7329 572.381,-36.171 573.466,-46.7101 579.801,-43.7329\"/>\n",
       "<text text-anchor=\"middle\" x=\"621.925\" y=\"-56.8\" font-family=\"Times,serif\" font-size=\"14.00\">yes, missing</text>\n",
       "</g>\n",
       "<!-- 68 -->\n",
       "<g id=\"node19\" class=\"node\"><title>68</title>\n",
       "<polygon fill=\"none\" stroke=\"black\" points=\"741.687,-36 636.936,-36 636.936,-0 741.687,-0 741.687,-36\"/>\n",
       "<text text-anchor=\"middle\" x=\"689.312\" y=\"-13.8\" font-family=\"Times,serif\" font-size=\"14.00\">leaf=0.0900356</text>\n",
       "</g>\n",
       "<!-- 33&#45;&gt;68 -->\n",
       "<g id=\"edge18\" class=\"edge\"><title>33&#45;&gt;68</title>\n",
       "<path fill=\"none\" stroke=\"#ff0000\" d=\"M674.078,-179.544C678.201,-136.087 683.557,-79.6461 686.696,-46.5653\"/>\n",
       "<polygon fill=\"#ff0000\" stroke=\"#ff0000\" points=\"690.21,-46.5806 687.67,-36.2946 683.241,-45.9193 690.21,-46.5806\"/>\n",
       "<text text-anchor=\"middle\" x=\"693.312\" y=\"-56.8\" font-family=\"Times,serif\" font-size=\"14.00\">no</text>\n",
       "</g>\n",
       "<!-- 69 -->\n",
       "<g id=\"node20\" class=\"node\"><title>69</title>\n",
       "<polygon fill=\"none\" stroke=\"black\" points=\"854.849,-36 759.774,-36 759.774,-0 854.849,-0 854.849,-36\"/>\n",
       "<text text-anchor=\"middle\" x=\"807.312\" y=\"-13.8\" font-family=\"Times,serif\" font-size=\"14.00\">leaf=&#45;0.14752</text>\n",
       "</g>\n",
       "<!-- 34&#45;&gt;69 -->\n",
       "<g id=\"edge19\" class=\"edge\"><title>34&#45;&gt;69</title>\n",
       "<path fill=\"none\" stroke=\"#0000ff\" d=\"M820.316,-162.907C816.661,-122.454 812.414,-75.465 809.795,-46.479\"/>\n",
       "<polygon fill=\"#0000ff\" stroke=\"#0000ff\" points=\"813.261,-45.9469 808.875,-36.3025 806.289,-46.577 813.261,-45.9469\"/>\n",
       "<text text-anchor=\"middle\" x=\"846.925\" y=\"-56.8\" font-family=\"Times,serif\" font-size=\"14.00\">yes, missing</text>\n",
       "</g>\n",
       "<!-- 70 -->\n",
       "<g id=\"node21\" class=\"node\"><title>70</title>\n",
       "<polygon fill=\"none\" stroke=\"black\" points=\"970.187,-36 872.436,-36 872.436,-0 970.187,-0 970.187,-36\"/>\n",
       "<text text-anchor=\"middle\" x=\"921.312\" y=\"-13.8\" font-family=\"Times,serif\" font-size=\"14.00\">leaf=0.033892</text>\n",
       "</g>\n",
       "<!-- 34&#45;&gt;70 -->\n",
       "<g id=\"edge20\" class=\"edge\"><title>34&#45;&gt;70</title>\n",
       "<path fill=\"none\" stroke=\"#ff0000\" d=\"M857.831,-168.458C875.651,-126.502 897.091,-76.0241 909.938,-45.7765\"/>\n",
       "<polygon fill=\"#ff0000\" stroke=\"#ff0000\" points=\"913.26,-46.9082 913.948,-36.3357 906.817,-44.1715 913.26,-46.9082\"/>\n",
       "<text text-anchor=\"middle\" x=\"913.312\" y=\"-56.8\" font-family=\"Times,serif\" font-size=\"14.00\">no</text>\n",
       "</g>\n",
       "<!-- 35 -->\n",
       "<g id=\"node24\" class=\"node\"><title>35</title>\n",
       "<ellipse fill=\"none\" stroke=\"black\" cx=\"1162.31\" cy=\"-241.312\" rx=\"108.784\" ry=\"108.784\"/>\n",
       "<text text-anchor=\"middle\" x=\"1162.31\" y=\"-237.112\" font-family=\"Times,serif\" font-size=\"14.00\">exercise_induced_angina&lt;1</text>\n",
       "</g>\n",
       "<!-- 17&#45;&gt;35 -->\n",
       "<g id=\"edge23\" class=\"edge\"><title>17&#45;&gt;35</title>\n",
       "<path fill=\"none\" stroke=\"#0000ff\" d=\"M1270.88,-462.282C1252.18,-424.396 1232.22,-383.955 1214.58,-348.216\"/>\n",
       "<polygon fill=\"#0000ff\" stroke=\"#0000ff\" points=\"1217.71,-346.654 1210.15,-339.235 1211.44,-349.752 1217.71,-346.654\"/>\n",
       "<text text-anchor=\"middle\" x=\"1285.93\" y=\"-417.423\" font-family=\"Times,serif\" font-size=\"14.00\">yes, missing</text>\n",
       "</g>\n",
       "<!-- 36 -->\n",
       "<g id=\"node25\" class=\"node\"><title>36</title>\n",
       "<ellipse fill=\"none\" stroke=\"black\" cx=\"1368.31\" cy=\"-241.312\" rx=\"78.9001\" ry=\"78.9001\"/>\n",
       "<text text-anchor=\"middle\" x=\"1368.31\" y=\"-237.112\" font-family=\"Times,serif\" font-size=\"14.00\">age_chest&lt;229.991</text>\n",
       "</g>\n",
       "<!-- 17&#45;&gt;36 -->\n",
       "<g id=\"edge24\" class=\"edge\"><title>17&#45;&gt;36</title>\n",
       "<path fill=\"none\" stroke=\"#ff0000\" d=\"M1351.76,-447.025C1354.99,-407.083 1358.36,-365.425 1361.2,-330.196\"/>\n",
       "<polygon fill=\"#ff0000\" stroke=\"#ff0000\" points=\"1364.72,-330.208 1362.03,-319.959 1357.74,-329.644 1364.72,-330.208\"/>\n",
       "<text text-anchor=\"middle\" x=\"1361.31\" y=\"-417.423\" font-family=\"Times,serif\" font-size=\"14.00\">no</text>\n",
       "</g>\n",
       "<!-- 37 -->\n",
       "<g id=\"node30\" class=\"node\"><title>37</title>\n",
       "<ellipse fill=\"none\" stroke=\"black\" cx=\"1642.31\" cy=\"-241.312\" rx=\"38.3671\" ry=\"38.3671\"/>\n",
       "<text text-anchor=\"middle\" x=\"1642.31\" y=\"-237.112\" font-family=\"Times,serif\" font-size=\"14.00\">slope&lt;2</text>\n",
       "</g>\n",
       "<!-- 18&#45;&gt;37 -->\n",
       "<g id=\"edge29\" class=\"edge\"><title>18&#45;&gt;37</title>\n",
       "<path fill=\"none\" stroke=\"#0000ff\" d=\"M1657.13,-446.765C1653.02,-390.007 1648.66,-329.82 1645.74,-289.563\"/>\n",
       "<polygon fill=\"#0000ff\" stroke=\"#0000ff\" points=\"1649.22,-289.239 1645.01,-279.518 1642.24,-289.745 1649.22,-289.239\"/>\n",
       "<text text-anchor=\"middle\" x=\"1689.93\" y=\"-417.423\" font-family=\"Times,serif\" font-size=\"14.00\">yes, missing</text>\n",
       "</g>\n",
       "<!-- 38 -->\n",
       "<g id=\"node31\" class=\"node\"><title>38</title>\n",
       "<ellipse fill=\"none\" stroke=\"black\" cx=\"1777.31\" cy=\"-241.312\" rx=\"78.9001\" ry=\"78.9001\"/>\n",
       "<text text-anchor=\"middle\" x=\"1777.31\" y=\"-237.112\" font-family=\"Times,serif\" font-size=\"14.00\">age_chest&lt;172.391</text>\n",
       "</g>\n",
       "<!-- 18&#45;&gt;38 -->\n",
       "<g id=\"edge30\" class=\"edge\"><title>18&#45;&gt;38</title>\n",
       "<path fill=\"none\" stroke=\"#ff0000\" d=\"M1720,-455.012C1722.89,-446.106 1725.68,-437.258 1728.31,-428.623 1738.31,-395.863 1748.15,-359.5 1756.35,-327.657\"/>\n",
       "<polygon fill=\"#ff0000\" stroke=\"#ff0000\" points=\"1759.76,-328.485 1758.85,-317.929 1752.97,-326.747 1759.76,-328.485\"/>\n",
       "<text text-anchor=\"middle\" x=\"1738.31\" y=\"-417.423\" font-family=\"Times,serif\" font-size=\"14.00\">no</text>\n",
       "</g>\n",
       "<!-- 71 -->\n",
       "<g id=\"node26\" class=\"node\"><title>71</title>\n",
       "<polygon fill=\"none\" stroke=\"black\" points=\"1096.85,-36 987.774,-36 987.774,-0 1096.85,-0 1096.85,-36\"/>\n",
       "<text text-anchor=\"middle\" x=\"1042.31\" y=\"-13.8\" font-family=\"Times,serif\" font-size=\"14.00\">leaf=&#45;0.0998537</text>\n",
       "</g>\n",
       "<!-- 35&#45;&gt;71 -->\n",
       "<g id=\"edge25\" class=\"edge\"><title>35&#45;&gt;71</title>\n",
       "<path fill=\"none\" stroke=\"#0000ff\" d=\"M1110.72,-145.171C1090.98,-108.765 1070,-70.074 1056.56,-45.2821\"/>\n",
       "<polygon fill=\"#0000ff\" stroke=\"#0000ff\" points=\"1059.47,-43.3043 1051.63,-36.1818 1053.32,-46.641 1059.47,-43.3043\"/>\n",
       "<text text-anchor=\"middle\" x=\"1102.93\" y=\"-56.8\" font-family=\"Times,serif\" font-size=\"14.00\">yes, missing</text>\n",
       "</g>\n",
       "<!-- 72 -->\n",
       "<g id=\"node27\" class=\"node\"><title>72</title>\n",
       "<polygon fill=\"none\" stroke=\"black\" points=\"1219.69,-36 1114.94,-36 1114.94,-0 1219.69,-0 1219.69,-36\"/>\n",
       "<text text-anchor=\"middle\" x=\"1167.31\" y=\"-13.8\" font-family=\"Times,serif\" font-size=\"14.00\">leaf=0.0450973</text>\n",
       "</g>\n",
       "<!-- 35&#45;&gt;72 -->\n",
       "<g id=\"edge26\" class=\"edge\"><title>35&#45;&gt;72</title>\n",
       "<path fill=\"none\" stroke=\"#ff0000\" d=\"M1164.75,-132.249C1165.47,-100.335 1166.2,-68.1328 1166.7,-46.2693\"/>\n",
       "<polygon fill=\"#ff0000\" stroke=\"#ff0000\" points=\"1170.2,-46.2009 1166.92,-36.1244 1163.2,-46.0428 1170.2,-46.2009\"/>\n",
       "<text text-anchor=\"middle\" x=\"1174.31\" y=\"-56.8\" font-family=\"Times,serif\" font-size=\"14.00\">no</text>\n",
       "</g>\n",
       "<!-- 73 -->\n",
       "<g id=\"node28\" class=\"node\"><title>73</title>\n",
       "<polygon fill=\"none\" stroke=\"black\" points=\"1339.35,-36 1237.27,-36 1237.27,-0 1339.35,-0 1339.35,-36\"/>\n",
       "<text text-anchor=\"middle\" x=\"1288.31\" y=\"-13.8\" font-family=\"Times,serif\" font-size=\"14.00\">leaf=&#45;0.168093</text>\n",
       "</g>\n",
       "<!-- 36&#45;&gt;73 -->\n",
       "<g id=\"edge27\" class=\"edge\"><title>36&#45;&gt;73</title>\n",
       "<path fill=\"none\" stroke=\"#0000ff\" d=\"M1341.78,-166.925C1326.73,-125.281 1308.79,-75.662 1297.99,-45.7813\"/>\n",
       "<polygon fill=\"#0000ff\" stroke=\"#0000ff\" points=\"1301.18,-44.2953 1294.49,-36.0807 1294.59,-46.675 1301.18,-44.2953\"/>\n",
       "<text text-anchor=\"middle\" x=\"1340.93\" y=\"-56.8\" font-family=\"Times,serif\" font-size=\"14.00\">yes, missing</text>\n",
       "</g>\n",
       "<!-- 74 -->\n",
       "<g id=\"node29\" class=\"node\"><title>74</title>\n",
       "<polygon fill=\"none\" stroke=\"black\" points=\"1466.85,-36 1357.77,-36 1357.77,-0 1466.85,-0 1466.85,-36\"/>\n",
       "<text text-anchor=\"middle\" x=\"1412.31\" y=\"-13.8\" font-family=\"Times,serif\" font-size=\"14.00\">leaf=&#45;0.0289855</text>\n",
       "</g>\n",
       "<!-- 36&#45;&gt;74 -->\n",
       "<g id=\"edge28\" class=\"edge\"><title>36&#45;&gt;74</title>\n",
       "<path fill=\"none\" stroke=\"#ff0000\" d=\"M1383.52,-163.839C1391.66,-122.89 1401.17,-75.0154 1406.97,-45.8619\"/>\n",
       "<polygon fill=\"#ff0000\" stroke=\"#ff0000\" points=\"1410.41,-46.5062 1408.93,-36.0156 1403.55,-45.1411 1410.41,-46.5062\"/>\n",
       "<text text-anchor=\"middle\" x=\"1412.31\" y=\"-56.8\" font-family=\"Times,serif\" font-size=\"14.00\">no</text>\n",
       "</g>\n",
       "<!-- 75 -->\n",
       "<g id=\"node32\" class=\"node\"><title>75</title>\n",
       "<polygon fill=\"none\" stroke=\"black\" points=\"1593.85,-36 1484.77,-36 1484.77,-0 1593.85,-0 1593.85,-36\"/>\n",
       "<text text-anchor=\"middle\" x=\"1539.31\" y=\"-13.8\" font-family=\"Times,serif\" font-size=\"14.00\">leaf=&#45;0.0353021</text>\n",
       "</g>\n",
       "<!-- 37&#45;&gt;75 -->\n",
       "<g id=\"edge31\" class=\"edge\"><title>37&#45;&gt;75</title>\n",
       "<path fill=\"none\" stroke=\"#0000ff\" d=\"M1626.44,-206.217C1605.8,-161.859 1570.17,-85.3084 1551.51,-45.2164\"/>\n",
       "<polygon fill=\"#0000ff\" stroke=\"#0000ff\" points=\"1554.65,-43.6708 1547.26,-36.0814 1548.31,-46.6245 1554.65,-43.6708\"/>\n",
       "<text text-anchor=\"middle\" x=\"1596.93\" y=\"-56.8\" font-family=\"Times,serif\" font-size=\"14.00\">yes, missing</text>\n",
       "</g>\n",
       "<!-- 76 -->\n",
       "<g id=\"node33\" class=\"node\"><title>76</title>\n",
       "<polygon fill=\"none\" stroke=\"black\" points=\"1708.67,-36 1611.95,-36 1611.95,-0 1708.67,-0 1708.67,-36\"/>\n",
       "<text text-anchor=\"middle\" x=\"1660.31\" y=\"-13.8\" font-family=\"Times,serif\" font-size=\"14.00\">leaf=0.115208</text>\n",
       "</g>\n",
       "<!-- 37&#45;&gt;76 -->\n",
       "<g id=\"edge32\" class=\"edge\"><title>37&#45;&gt;76</title>\n",
       "<path fill=\"none\" stroke=\"#ff0000\" d=\"M1645.36,-202.769C1648.98,-158.356 1654.9,-85.4993 1658.1,-46.1881\"/>\n",
       "<polygon fill=\"#ff0000\" stroke=\"#ff0000\" points=\"1661.6,-46.2922 1658.93,-36.0414 1654.63,-45.7247 1661.6,-46.2922\"/>\n",
       "<text text-anchor=\"middle\" x=\"1664.31\" y=\"-56.8\" font-family=\"Times,serif\" font-size=\"14.00\">no</text>\n",
       "</g>\n",
       "<!-- 77 -->\n",
       "<g id=\"node34\" class=\"node\"><title>77</title>\n",
       "<polygon fill=\"none\" stroke=\"black\" points=\"1827.84,-36 1726.79,-36 1726.79,-0 1827.84,-0 1827.84,-36\"/>\n",
       "<text text-anchor=\"middle\" x=\"1777.31\" y=\"-13.8\" font-family=\"Times,serif\" font-size=\"14.00\">leaf=&#45;0.113851</text>\n",
       "</g>\n",
       "<!-- 38&#45;&gt;77 -->\n",
       "<g id=\"edge33\" class=\"edge\"><title>38&#45;&gt;77</title>\n",
       "<path fill=\"none\" stroke=\"#0000ff\" d=\"M1777.31,-162.597C1777.31,-122.176 1777.31,-75.3027 1777.31,-46.3975\"/>\n",
       "<polygon fill=\"#0000ff\" stroke=\"#0000ff\" points=\"1780.81,-46.25 1777.31,-36.25 1773.81,-46.2501 1780.81,-46.25\"/>\n",
       "<text text-anchor=\"middle\" x=\"1811.93\" y=\"-56.8\" font-family=\"Times,serif\" font-size=\"14.00\">yes, missing</text>\n",
       "</g>\n",
       "<!-- 78 -->\n",
       "<g id=\"node35\" class=\"node\"><title>78</title>\n",
       "<polygon fill=\"none\" stroke=\"black\" points=\"1950.17,-36 1846.45,-36 1846.45,-0 1950.17,-0 1950.17,-36\"/>\n",
       "<text text-anchor=\"middle\" x=\"1898.31\" y=\"-13.8\" font-family=\"Times,serif\" font-size=\"14.00\">leaf=0.0297911</text>\n",
       "</g>\n",
       "<!-- 38&#45;&gt;78 -->\n",
       "<g id=\"edge34\" class=\"edge\"><title>38&#45;&gt;78</title>\n",
       "<path fill=\"none\" stroke=\"#ff0000\" d=\"M1814.77,-171.803C1838.17,-129.006 1866.97,-76.3198 1883.92,-45.3224\"/>\n",
       "<polygon fill=\"#ff0000\" stroke=\"#ff0000\" points=\"1887.05,-46.887 1888.78,-36.4338 1880.91,-43.5289 1887.05,-46.887\"/>\n",
       "<text text-anchor=\"middle\" x=\"1885.31\" y=\"-56.8\" font-family=\"Times,serif\" font-size=\"14.00\">no</text>\n",
       "</g>\n",
       "<!-- 19 -->\n",
       "<g id=\"node38\" class=\"node\"><title>19</title>\n",
       "<ellipse fill=\"none\" stroke=\"black\" cx=\"2358.31\" cy=\"-601.935\" rx=\"62.9725\" ry=\"62.9725\"/>\n",
       "<text text-anchor=\"middle\" x=\"2358.31\" y=\"-597.735\" font-family=\"Times,serif\" font-size=\"14.00\">oldpeak&lt;2.157</text>\n",
       "</g>\n",
       "<!-- 9&#45;&gt;19 -->\n",
       "<g id=\"edge37\" class=\"edge\"><title>9&#45;&gt;19</title>\n",
       "<path fill=\"none\" stroke=\"#0000ff\" d=\"M2708.63,-892.412C2622.01,-820.83 2489.1,-711.006 2414.36,-649.25\"/>\n",
       "<polygon fill=\"#0000ff\" stroke=\"#0000ff\" points=\"2416.37,-646.366 2406.43,-642.695 2411.91,-651.763 2416.37,-646.366\"/>\n",
       "<text text-anchor=\"middle\" x=\"2609.93\" y=\"-778.046\" font-family=\"Times,serif\" font-size=\"14.00\">yes, missing</text>\n",
       "</g>\n",
       "<!-- 20 -->\n",
       "<g id=\"node39\" class=\"node\"><title>20</title>\n",
       "<ellipse fill=\"none\" stroke=\"black\" cx=\"2792.31\" cy=\"-601.935\" rx=\"76.0037\" ry=\"76.0037\"/>\n",
       "<text text-anchor=\"middle\" x=\"2792.31\" y=\"-597.735\" font-family=\"Times,serif\" font-size=\"14.00\">oldpeak&lt;0.735795</text>\n",
       "</g>\n",
       "<!-- 9&#45;&gt;20 -->\n",
       "<g id=\"edge38\" class=\"edge\"><title>9&#45;&gt;20</title>\n",
       "<path fill=\"none\" stroke=\"#ff0000\" d=\"M2792.31,-853.473C2792.31,-800.605 2792.31,-737.875 2792.31,-688.409\"/>\n",
       "<polygon fill=\"#ff0000\" stroke=\"#ff0000\" points=\"2795.81,-688.382 2792.31,-678.382 2788.81,-688.382 2795.81,-688.382\"/>\n",
       "<text text-anchor=\"middle\" x=\"2799.31\" y=\"-778.046\" font-family=\"Times,serif\" font-size=\"14.00\">no</text>\n",
       "</g>\n",
       "<!-- 21 -->\n",
       "<g id=\"node52\" class=\"node\"><title>21</title>\n",
       "<ellipse fill=\"none\" stroke=\"black\" cx=\"3241.31\" cy=\"-601.935\" rx=\"155.123\" ry=\"155.123\"/>\n",
       "<text text-anchor=\"middle\" x=\"3241.31\" y=\"-597.735\" font-family=\"Times,serif\" font-size=\"14.00\">maximum_heart_rate_achieved&lt;148.084</text>\n",
       "</g>\n",
       "<!-- 10&#45;&gt;21 -->\n",
       "<g id=\"edge51\" class=\"edge\"><title>10&#45;&gt;21</title>\n",
       "<path fill=\"none\" stroke=\"#0000ff\" d=\"M3241.31,-888.985C3241.31,-853.931 3241.31,-810.321 3241.31,-767.801\"/>\n",
       "<polygon fill=\"#0000ff\" stroke=\"#0000ff\" points=\"3244.81,-767.601 3241.31,-757.601 3237.81,-767.601 3244.81,-767.601\"/>\n",
       "<text text-anchor=\"middle\" x=\"3275.93\" y=\"-778.046\" font-family=\"Times,serif\" font-size=\"14.00\">yes, missing</text>\n",
       "</g>\n",
       "<!-- 22 -->\n",
       "<g id=\"node53\" class=\"node\"><title>22</title>\n",
       "<ellipse fill=\"none\" stroke=\"black\" cx=\"3491.31\" cy=\"-601.935\" rx=\"76.0037\" ry=\"76.0037\"/>\n",
       "<text text-anchor=\"middle\" x=\"3491.31\" y=\"-597.735\" font-family=\"Times,serif\" font-size=\"14.00\">oldpeak&lt;0.716256</text>\n",
       "</g>\n",
       "<!-- 10&#45;&gt;22 -->\n",
       "<g id=\"edge52\" class=\"edge\"><title>10&#45;&gt;22</title>\n",
       "<path fill=\"none\" stroke=\"#ff0000\" d=\"M3289.55,-906.694C3323.71,-866.626 3369.63,-810.262 3405.31,-757.246 3421.93,-732.551 3438.31,-704.401 3452.24,-678.965\"/>\n",
       "<polygon fill=\"#ff0000\" stroke=\"#ff0000\" points=\"3455.37,-680.549 3457.07,-670.092 3449.22,-677.207 3455.37,-680.549\"/>\n",
       "<text text-anchor=\"middle\" x=\"3396.31\" y=\"-778.046\" font-family=\"Times,serif\" font-size=\"14.00\">no</text>\n",
       "</g>\n",
       "<!-- 39 -->\n",
       "<g id=\"node40\" class=\"node\"><title>39</title>\n",
       "<ellipse fill=\"none\" stroke=\"black\" cx=\"2029.31\" cy=\"-241.312\" rx=\"155.123\" ry=\"155.123\"/>\n",
       "<text text-anchor=\"middle\" x=\"2029.31\" y=\"-237.112\" font-family=\"Times,serif\" font-size=\"14.00\">maximum_heart_rate_achieved&lt;144.592</text>\n",
       "</g>\n",
       "<!-- 19&#45;&gt;39 -->\n",
       "<g id=\"edge39\" class=\"edge\"><title>19&#45;&gt;39</title>\n",
       "<path fill=\"none\" stroke=\"#0000ff\" d=\"M2315.97,-554.785C2271.94,-506.787 2201.15,-429.626 2140.94,-363.992\"/>\n",
       "<polygon fill=\"#0000ff\" stroke=\"#0000ff\" points=\"2143.37,-361.46 2134.03,-356.457 2138.21,-366.192 2143.37,-361.46\"/>\n",
       "<text text-anchor=\"middle\" x=\"2228.93\" y=\"-417.423\" font-family=\"Times,serif\" font-size=\"14.00\">yes, missing</text>\n",
       "</g>\n",
       "<!-- 40 -->\n",
       "<g id=\"node41\" class=\"node\"><title>40</title>\n",
       "<ellipse fill=\"none\" stroke=\"black\" cx=\"2358.31\" cy=\"-241.312\" rx=\"155.123\" ry=\"155.123\"/>\n",
       "<text text-anchor=\"middle\" x=\"2358.31\" y=\"-237.112\" font-family=\"Times,serif\" font-size=\"14.00\">maximum_heart_rate_achieved&lt;145.672</text>\n",
       "</g>\n",
       "<!-- 19&#45;&gt;40 -->\n",
       "<g id=\"edge40\" class=\"edge\"><title>19&#45;&gt;40</title>\n",
       "<path fill=\"none\" stroke=\"#ff0000\" d=\"M2358.31,-538.877C2358.31,-502.193 2358.31,-453.85 2358.31,-406.868\"/>\n",
       "<polygon fill=\"#ff0000\" stroke=\"#ff0000\" points=\"2361.81,-406.868 2358.31,-396.868 2354.81,-406.868 2361.81,-406.868\"/>\n",
       "<text text-anchor=\"middle\" x=\"2365.31\" y=\"-417.423\" font-family=\"Times,serif\" font-size=\"14.00\">no</text>\n",
       "</g>\n",
       "<!-- 41 -->\n",
       "<g id=\"node46\" class=\"node\"><title>41</title>\n",
       "<ellipse fill=\"none\" stroke=\"black\" cx=\"2687.31\" cy=\"-241.312\" rx=\"155.123\" ry=\"155.123\"/>\n",
       "<text text-anchor=\"middle\" x=\"2687.31\" y=\"-237.112\" font-family=\"Times,serif\" font-size=\"14.00\">maximum_heart_rate_achieved&lt;148.184</text>\n",
       "</g>\n",
       "<!-- 20&#45;&gt;41 -->\n",
       "<g id=\"edge45\" class=\"edge\"><title>20&#45;&gt;41</title>\n",
       "<path fill=\"none\" stroke=\"#0000ff\" d=\"M2771.06,-528.362C2760.26,-491.466 2746.68,-445.089 2733.62,-400.483\"/>\n",
       "<polygon fill=\"#0000ff\" stroke=\"#0000ff\" points=\"2736.93,-399.311 2730.76,-390.697 2730.21,-401.278 2736.93,-399.311\"/>\n",
       "<text text-anchor=\"middle\" x=\"2774.93\" y=\"-417.423\" font-family=\"Times,serif\" font-size=\"14.00\">yes, missing</text>\n",
       "</g>\n",
       "<!-- 42 -->\n",
       "<g id=\"node47\" class=\"node\"><title>42</title>\n",
       "<ellipse fill=\"none\" stroke=\"black\" cx=\"2898.31\" cy=\"-241.312\" rx=\"38.3671\" ry=\"38.3671\"/>\n",
       "<text text-anchor=\"middle\" x=\"2898.31\" y=\"-237.112\" font-family=\"Times,serif\" font-size=\"14.00\">slope&lt;2</text>\n",
       "</g>\n",
       "<!-- 20&#45;&gt;42 -->\n",
       "<g id=\"edge46\" class=\"edge\"><title>20&#45;&gt;42</title>\n",
       "<path fill=\"none\" stroke=\"#ff0000\" d=\"M2813.76,-528.362C2835.02,-456.434 2866.93,-348.478 2884.85,-287.841\"/>\n",
       "<polygon fill=\"#ff0000\" stroke=\"#ff0000\" points=\"2888.23,-288.751 2887.71,-278.169 2881.52,-286.767 2888.23,-288.751\"/>\n",
       "<text text-anchor=\"middle\" x=\"2852.31\" y=\"-417.423\" font-family=\"Times,serif\" font-size=\"14.00\">no</text>\n",
       "</g>\n",
       "<!-- 79 -->\n",
       "<g id=\"node42\" class=\"node\"><title>79</title>\n",
       "<polygon fill=\"none\" stroke=\"black\" points=\"2080.85,-36 1971.77,-36 1971.77,-0 2080.85,-0 2080.85,-36\"/>\n",
       "<text text-anchor=\"middle\" x=\"2026.31\" y=\"-13.8\" font-family=\"Times,serif\" font-size=\"14.00\">leaf=&#45;0.0633667</text>\n",
       "</g>\n",
       "<!-- 39&#45;&gt;79 -->\n",
       "<g id=\"edge41\" class=\"edge\"><title>39&#45;&gt;79</title>\n",
       "<path fill=\"none\" stroke=\"#0000ff\" d=\"M2027.22,-86.0013C2027.02,-71.0682 2026.83,-57.3983 2026.68,-46.3556\"/>\n",
       "<polygon fill=\"#0000ff\" stroke=\"#0000ff\" points=\"2030.18,-46.1909 2026.55,-36.2392 2023.18,-46.2858 2030.18,-46.1909\"/>\n",
       "<text text-anchor=\"middle\" x=\"2061.93\" y=\"-56.8\" font-family=\"Times,serif\" font-size=\"14.00\">yes, missing</text>\n",
       "</g>\n",
       "<!-- 80 -->\n",
       "<g id=\"node43\" class=\"node\"><title>80</title>\n",
       "<polygon fill=\"none\" stroke=\"black\" points=\"2199.84,-36 2098.79,-36 2098.79,-0 2199.84,-0 2199.84,-36\"/>\n",
       "<text text-anchor=\"middle\" x=\"2149.31\" y=\"-13.8\" font-family=\"Times,serif\" font-size=\"14.00\">leaf=&#45;0.160114</text>\n",
       "</g>\n",
       "<!-- 39&#45;&gt;80 -->\n",
       "<g id=\"edge42\" class=\"edge\"><title>39&#45;&gt;80</title>\n",
       "<path fill=\"none\" stroke=\"#ff0000\" d=\"M2103.09,-104.248C2115.35,-81.6412 2126.79,-60.5297 2135.23,-44.9713\"/>\n",
       "<polygon fill=\"#ff0000\" stroke=\"#ff0000\" points=\"2138.38,-46.497 2140.07,-36.0378 2132.23,-43.1603 2138.38,-46.497\"/>\n",
       "<text text-anchor=\"middle\" x=\"2136.31\" y=\"-56.8\" font-family=\"Times,serif\" font-size=\"14.00\">no</text>\n",
       "</g>\n",
       "<!-- 81 -->\n",
       "<g id=\"node44\" class=\"node\"><title>81</title>\n",
       "<polygon fill=\"none\" stroke=\"black\" points=\"2331.19,-36 2233.44,-36 2233.44,-0 2331.19,-0 2331.19,-36\"/>\n",
       "<text text-anchor=\"middle\" x=\"2282.31\" y=\"-13.8\" font-family=\"Times,serif\" font-size=\"14.00\">leaf=0.122348</text>\n",
       "</g>\n",
       "<!-- 40&#45;&gt;81 -->\n",
       "<g id=\"edge43\" class=\"edge\"><title>40&#45;&gt;81</title>\n",
       "<path fill=\"none\" stroke=\"#0000ff\" d=\"M2308.15,-94.2348C2301.85,-75.9055 2296.06,-59.0258 2291.56,-45.9197\"/>\n",
       "<polygon fill=\"#0000ff\" stroke=\"#0000ff\" points=\"2294.8,-44.5833 2288.24,-36.2623 2288.18,-46.8569 2294.8,-44.5833\"/>\n",
       "<text text-anchor=\"middle\" x=\"2333.93\" y=\"-56.8\" font-family=\"Times,serif\" font-size=\"14.00\">yes, missing</text>\n",
       "</g>\n",
       "<!-- 82 -->\n",
       "<g id=\"node45\" class=\"node\"><title>82</title>\n",
       "<polygon fill=\"none\" stroke=\"black\" points=\"2467.69,-36 2348.94,-36 2348.94,-0 2467.69,-0 2467.69,-36\"/>\n",
       "<text text-anchor=\"middle\" x=\"2408.31\" y=\"-13.8\" font-family=\"Times,serif\" font-size=\"14.00\">leaf=0.000497925</text>\n",
       "</g>\n",
       "<!-- 40&#45;&gt;82 -->\n",
       "<g id=\"edge44\" class=\"edge\"><title>40&#45;&gt;82</title>\n",
       "<path fill=\"none\" stroke=\"#ff0000\" d=\"M2392.35,-89.6328C2396.06,-73.2257 2399.46,-58.1752 2402.16,-46.2217\"/>\n",
       "<polygon fill=\"#ff0000\" stroke=\"#ff0000\" points=\"2405.64,-46.6901 2404.43,-36.1646 2398.82,-45.1474 2405.64,-46.6901\"/>\n",
       "<text text-anchor=\"middle\" x=\"2407.31\" y=\"-56.8\" font-family=\"Times,serif\" font-size=\"14.00\">no</text>\n",
       "</g>\n",
       "<!-- 83 -->\n",
       "<g id=\"node48\" class=\"node\"><title>83</title>\n",
       "<polygon fill=\"none\" stroke=\"black\" points=\"2601.69,-36 2496.94,-36 2496.94,-0 2601.69,-0 2601.69,-36\"/>\n",
       "<text text-anchor=\"middle\" x=\"2549.31\" y=\"-13.8\" font-family=\"Times,serif\" font-size=\"14.00\">leaf=0.0371826</text>\n",
       "</g>\n",
       "<!-- 41&#45;&gt;83 -->\n",
       "<g id=\"edge47\" class=\"edge\"><title>41&#45;&gt;83</title>\n",
       "<path fill=\"none\" stroke=\"#0000ff\" d=\"M2605.44,-109.016C2590.16,-84.5133 2575.76,-61.4106 2565.37,-44.7457\"/>\n",
       "<polygon fill=\"#0000ff\" stroke=\"#0000ff\" points=\"2568.29,-42.8154 2560.03,-36.1818 2562.35,-46.5192 2568.29,-42.8154\"/>\n",
       "<text text-anchor=\"middle\" x=\"2613.93\" y=\"-56.8\" font-family=\"Times,serif\" font-size=\"14.00\">yes, missing</text>\n",
       "</g>\n",
       "<!-- 84 -->\n",
       "<g id=\"node49\" class=\"node\"><title>84</title>\n",
       "<polygon fill=\"none\" stroke=\"black\" points=\"2721.35,-36 2619.27,-36 2619.27,-0 2721.35,-0 2721.35,-36\"/>\n",
       "<text text-anchor=\"middle\" x=\"2670.31\" y=\"-13.8\" font-family=\"Times,serif\" font-size=\"14.00\">leaf=&#45;0.107416</text>\n",
       "</g>\n",
       "<!-- 41&#45;&gt;84 -->\n",
       "<g id=\"edge48\" class=\"edge\"><title>41&#45;&gt;84</title>\n",
       "<path fill=\"none\" stroke=\"#ff0000\" d=\"M2675.48,-86.3021C2674.32,-71.2019 2673.26,-57.3811 2672.4,-46.2452\"/>\n",
       "<polygon fill=\"#ff0000\" stroke=\"#ff0000\" points=\"2675.88,-45.7589 2671.62,-36.0564 2668.9,-46.2951 2675.88,-45.7589\"/>\n",
       "<text text-anchor=\"middle\" x=\"2681.31\" y=\"-56.8\" font-family=\"Times,serif\" font-size=\"14.00\">no</text>\n",
       "</g>\n",
       "<!-- 85 -->\n",
       "<g id=\"node50\" class=\"node\"><title>85</title>\n",
       "<polygon fill=\"none\" stroke=\"black\" points=\"2848.85,-36 2739.77,-36 2739.77,-0 2848.85,-0 2848.85,-36\"/>\n",
       "<text text-anchor=\"middle\" x=\"2794.31\" y=\"-13.8\" font-family=\"Times,serif\" font-size=\"14.00\">leaf=&#45;0.0162222</text>\n",
       "</g>\n",
       "<!-- 42&#45;&gt;85 -->\n",
       "<g id=\"edge49\" class=\"edge\"><title>42&#45;&gt;85</title>\n",
       "<path fill=\"none\" stroke=\"#0000ff\" d=\"M2891.52,-203.413C2884.56,-171.06 2871.8,-123.474 2851.31,-86 2846.38,-76.9852 2830.89,-58.9391 2817.3,-43.8449\"/>\n",
       "<polygon fill=\"#0000ff\" stroke=\"#0000ff\" points=\"2819.75,-41.3329 2810.43,-36.2842 2814.56,-46.0396 2819.75,-41.3329\"/>\n",
       "<text text-anchor=\"middle\" x=\"2872.93\" y=\"-56.8\" font-family=\"Times,serif\" font-size=\"14.00\">yes, missing</text>\n",
       "</g>\n",
       "<!-- 86 -->\n",
       "<g id=\"node51\" class=\"node\"><title>86</title>\n",
       "<polygon fill=\"none\" stroke=\"black\" points=\"2964.19,-36 2866.44,-36 2866.44,-0 2964.19,-0 2964.19,-36\"/>\n",
       "<text text-anchor=\"middle\" x=\"2915.31\" y=\"-13.8\" font-family=\"Times,serif\" font-size=\"14.00\">leaf=0.123623</text>\n",
       "</g>\n",
       "<!-- 42&#45;&gt;86 -->\n",
       "<g id=\"edge50\" class=\"edge\"><title>42&#45;&gt;86</title>\n",
       "<path fill=\"none\" stroke=\"#ff0000\" d=\"M2901.2,-202.769C2904.61,-158.356 2910.2,-85.4993 2913.22,-46.1881\"/>\n",
       "<polygon fill=\"#ff0000\" stroke=\"#ff0000\" points=\"2916.73,-46.2801 2914,-36.0414 2909.75,-45.7439 2916.73,-46.2801\"/>\n",
       "<text text-anchor=\"middle\" x=\"2920.31\" y=\"-56.8\" font-family=\"Times,serif\" font-size=\"14.00\">no</text>\n",
       "</g>\n",
       "<!-- 43 -->\n",
       "<g id=\"node54\" class=\"node\"><title>43</title>\n",
       "<ellipse fill=\"none\" stroke=\"black\" cx=\"3138.31\" cy=\"-241.312\" rx=\"76.0037\" ry=\"76.0037\"/>\n",
       "<text text-anchor=\"middle\" x=\"3138.31\" y=\"-237.112\" font-family=\"Times,serif\" font-size=\"14.00\">oldpeak&lt;0.787104</text>\n",
       "</g>\n",
       "<!-- 21&#45;&gt;43 -->\n",
       "<g id=\"edge53\" class=\"edge\"><title>21&#45;&gt;43</title>\n",
       "<path fill=\"none\" stroke=\"#0000ff\" d=\"M3190.85,-454.572C3188.15,-445.816 3185.53,-437.118 3183.08,-428.623 3173.47,-395.311 3164.27,-358.244 3156.73,-326\"/>\n",
       "<polygon fill=\"#0000ff\" stroke=\"#0000ff\" points=\"3160.12,-325.108 3154.45,-316.158 3153.3,-326.69 3160.12,-325.108\"/>\n",
       "<text text-anchor=\"middle\" x=\"3217.93\" y=\"-417.423\" font-family=\"Times,serif\" font-size=\"14.00\">yes, missing</text>\n",
       "</g>\n",
       "<!-- 44 -->\n",
       "<g id=\"node55\" class=\"node\"><title>44</title>\n",
       "<ellipse fill=\"none\" stroke=\"black\" cx=\"3270.31\" cy=\"-241.312\" rx=\"38.3671\" ry=\"38.3671\"/>\n",
       "<text text-anchor=\"middle\" x=\"3270.31\" y=\"-237.112\" font-family=\"Times,serif\" font-size=\"14.00\">slope&lt;2</text>\n",
       "</g>\n",
       "<!-- 21&#45;&gt;44 -->\n",
       "<g id=\"edge54\" class=\"edge\"><title>21&#45;&gt;44</title>\n",
       "<path fill=\"none\" stroke=\"#ff0000\" d=\"M3253.76,-447.025C3258.35,-390.227 3263.22,-329.959 3266.48,-289.64\"/>\n",
       "<polygon fill=\"#ff0000\" stroke=\"#ff0000\" points=\"3269.98,-289.829 3267.3,-279.579 3263,-289.265 3269.98,-289.829\"/>\n",
       "<text text-anchor=\"middle\" x=\"3263.31\" y=\"-417.423\" font-family=\"Times,serif\" font-size=\"14.00\">no</text>\n",
       "</g>\n",
       "<!-- 45 -->\n",
       "<g id=\"node60\" class=\"node\"><title>45</title>\n",
       "<ellipse fill=\"none\" stroke=\"black\" cx=\"3491.31\" cy=\"-241.312\" rx=\"155.123\" ry=\"155.123\"/>\n",
       "<text text-anchor=\"middle\" x=\"3491.31\" y=\"-237.112\" font-family=\"Times,serif\" font-size=\"14.00\">maximum_heart_rate_achieved&lt;152.573</text>\n",
       "</g>\n",
       "<!-- 22&#45;&gt;45 -->\n",
       "<g id=\"edge59\" class=\"edge\"><title>22&#45;&gt;45</title>\n",
       "<path fill=\"none\" stroke=\"#0000ff\" d=\"M3491.31,-525.318C3491.31,-490.766 3491.31,-448.387 3491.31,-407.049\"/>\n",
       "<polygon fill=\"#0000ff\" stroke=\"#0000ff\" points=\"3494.81,-406.849 3491.31,-396.849 3487.81,-406.849 3494.81,-406.849\"/>\n",
       "<text text-anchor=\"middle\" x=\"3525.93\" y=\"-417.423\" font-family=\"Times,serif\" font-size=\"14.00\">yes, missing</text>\n",
       "</g>\n",
       "<!-- 46 -->\n",
       "<g id=\"node61\" class=\"node\"><title>46</title>\n",
       "<ellipse fill=\"none\" stroke=\"black\" cx=\"3820.31\" cy=\"-241.312\" rx=\"155.123\" ry=\"155.123\"/>\n",
       "<text text-anchor=\"middle\" x=\"3820.31\" y=\"-237.112\" font-family=\"Times,serif\" font-size=\"14.00\">maximum_heart_rate_achieved&lt;150.198</text>\n",
       "</g>\n",
       "<!-- 22&#45;&gt;46 -->\n",
       "<g id=\"edge60\" class=\"edge\"><title>22&#45;&gt;46</title>\n",
       "<path fill=\"none\" stroke=\"#ff0000\" d=\"M3542.72,-544.9C3587,-496.628 3652.48,-425.253 3708.72,-363.946\"/>\n",
       "<polygon fill=\"#ff0000\" stroke=\"#ff0000\" points=\"3711.35,-366.256 3715.54,-356.521 3706.2,-361.524 3711.35,-366.256\"/>\n",
       "<text text-anchor=\"middle\" x=\"3663.31\" y=\"-417.423\" font-family=\"Times,serif\" font-size=\"14.00\">no</text>\n",
       "</g>\n",
       "<!-- 87 -->\n",
       "<g id=\"node56\" class=\"node\"><title>87</title>\n",
       "<polygon fill=\"none\" stroke=\"black\" points=\"3079.19,-36 2981.44,-36 2981.44,-0 3079.19,-0 3079.19,-36\"/>\n",
       "<text text-anchor=\"middle\" x=\"3030.31\" y=\"-13.8\" font-family=\"Times,serif\" font-size=\"14.00\">leaf=0.084409</text>\n",
       "</g>\n",
       "<!-- 43&#45;&gt;87 -->\n",
       "<g id=\"edge55\" class=\"edge\"><title>43&#45;&gt;87</title>\n",
       "<path fill=\"none\" stroke=\"#0000ff\" d=\"M3105.17,-172.407C3084.25,-129.526 3058.38,-76.5252 3043.18,-45.3747\"/>\n",
       "<polygon fill=\"#0000ff\" stroke=\"#0000ff\" points=\"3046.17,-43.5213 3038.64,-36.0693 3039.88,-46.5913 3046.17,-43.5213\"/>\n",
       "<text text-anchor=\"middle\" x=\"3088.93\" y=\"-56.8\" font-family=\"Times,serif\" font-size=\"14.00\">yes, missing</text>\n",
       "</g>\n",
       "<!-- 88 -->\n",
       "<g id=\"node57\" class=\"node\"><title>88</title>\n",
       "<polygon fill=\"none\" stroke=\"black\" points=\"3194.19,-36 3096.44,-36 3096.44,-0 3194.19,-0 3194.19,-36\"/>\n",
       "<text text-anchor=\"middle\" x=\"3145.31\" y=\"-13.8\" font-family=\"Times,serif\" font-size=\"14.00\">leaf=0.163792</text>\n",
       "</g>\n",
       "<!-- 43&#45;&gt;88 -->\n",
       "<g id=\"edge56\" class=\"edge\"><title>43&#45;&gt;88</title>\n",
       "<path fill=\"none\" stroke=\"#ff0000\" d=\"M3140.69,-165.077C3141.98,-124.187 3143.51,-76.0827 3144.44,-46.5693\"/>\n",
       "<polygon fill=\"#ff0000\" stroke=\"#ff0000\" points=\"3147.95,-46.3277 3144.77,-36.222 3140.95,-46.1063 3147.95,-46.3277\"/>\n",
       "<text text-anchor=\"middle\" x=\"3151.31\" y=\"-56.8\" font-family=\"Times,serif\" font-size=\"14.00\">no</text>\n",
       "</g>\n",
       "<!-- 89 -->\n",
       "<g id=\"node58\" class=\"node\"><title>89</title>\n",
       "<polygon fill=\"none\" stroke=\"black\" points=\"3314.35,-36 3212.27,-36 3212.27,-0 3314.35,-0 3314.35,-36\"/>\n",
       "<text text-anchor=\"middle\" x=\"3263.31\" y=\"-13.8\" font-family=\"Times,serif\" font-size=\"14.00\">leaf=&#45;0.062618</text>\n",
       "</g>\n",
       "<!-- 44&#45;&gt;89 -->\n",
       "<g id=\"edge57\" class=\"edge\"><title>44&#45;&gt;89</title>\n",
       "<path fill=\"none\" stroke=\"#0000ff\" d=\"M3269.12,-202.769C3267.72,-158.356 3265.41,-85.4993 3264.17,-46.1881\"/>\n",
       "<polygon fill=\"#0000ff\" stroke=\"#0000ff\" points=\"3267.67,-45.9257 3263.85,-36.0414 3260.67,-46.147 3267.67,-45.9257\"/>\n",
       "<text text-anchor=\"middle\" x=\"3299.93\" y=\"-56.8\" font-family=\"Times,serif\" font-size=\"14.00\">yes, missing</text>\n",
       "</g>\n",
       "<!-- 90 -->\n",
       "<g id=\"node59\" class=\"node\"><title>90</title>\n",
       "<polygon fill=\"none\" stroke=\"black\" points=\"3436.17,-36 3332.45,-36 3332.45,-0 3436.17,-0 3436.17,-36\"/>\n",
       "<text text-anchor=\"middle\" x=\"3384.31\" y=\"-13.8\" font-family=\"Times,serif\" font-size=\"14.00\">leaf=0.0775911</text>\n",
       "</g>\n",
       "<!-- 44&#45;&gt;90 -->\n",
       "<g id=\"edge58\" class=\"edge\"><title>44&#45;&gt;90</title>\n",
       "<path fill=\"none\" stroke=\"#ff0000\" d=\"M3279.76,-204.105C3289.09,-171.78 3305.17,-123.838 3327.31,-86 3336.23,-70.7538 3348.73,-55.6074 3359.75,-43.583\"/>\n",
       "<polygon fill=\"#ff0000\" stroke=\"#ff0000\" points=\"3362.42,-45.8458 3366.72,-36.1623 3357.32,-41.0514 3362.42,-45.8458\"/>\n",
       "<text text-anchor=\"middle\" x=\"3357.31\" y=\"-56.8\" font-family=\"Times,serif\" font-size=\"14.00\">no</text>\n",
       "</g>\n",
       "<!-- 91 -->\n",
       "<g id=\"node62\" class=\"node\"><title>91</title>\n",
       "<polygon fill=\"none\" stroke=\"black\" points=\"3552.19,-36 3454.44,-36 3454.44,-0 3552.19,-0 3552.19,-36\"/>\n",
       "<text text-anchor=\"middle\" x=\"3503.31\" y=\"-13.8\" font-family=\"Times,serif\" font-size=\"14.00\">leaf=0.164026</text>\n",
       "</g>\n",
       "<!-- 45&#45;&gt;91 -->\n",
       "<g id=\"edge61\" class=\"edge\"><title>45&#45;&gt;91</title>\n",
       "<path fill=\"none\" stroke=\"#0000ff\" d=\"M3499.68,-86.0013C3500.49,-71.0682 3501.23,-57.3983 3501.83,-46.3556\"/>\n",
       "<polygon fill=\"#0000ff\" stroke=\"#0000ff\" points=\"3505.33,-46.4141 3502.38,-36.2392 3498.34,-46.035 3505.33,-46.4141\"/>\n",
       "<text text-anchor=\"middle\" x=\"3535.93\" y=\"-56.8\" font-family=\"Times,serif\" font-size=\"14.00\">yes, missing</text>\n",
       "</g>\n",
       "<!-- 92 -->\n",
       "<g id=\"node63\" class=\"node\"><title>92</title>\n",
       "<polygon fill=\"none\" stroke=\"black\" points=\"3674.69,-36 3569.94,-36 3569.94,-0 3674.69,-0 3674.69,-36\"/>\n",
       "<text text-anchor=\"middle\" x=\"3622.31\" y=\"-13.8\" font-family=\"Times,serif\" font-size=\"14.00\">leaf=0.0917574</text>\n",
       "</g>\n",
       "<!-- 45&#45;&gt;92 -->\n",
       "<g id=\"edge62\" class=\"edge\"><title>45&#45;&gt;92</title>\n",
       "<path fill=\"none\" stroke=\"#ff0000\" d=\"M3570.16,-107.104C3584.2,-83.3812 3597.39,-61.1025 3606.99,-44.8832\"/>\n",
       "<polygon fill=\"#ff0000\" stroke=\"#ff0000\" points=\"3610.13,-46.4568 3612.21,-36.0685 3604.1,-42.8912 3610.13,-46.4568\"/>\n",
       "<text text-anchor=\"middle\" x=\"3608.31\" y=\"-56.8\" font-family=\"Times,serif\" font-size=\"14.00\">no</text>\n",
       "</g>\n",
       "<!-- 93 -->\n",
       "<g id=\"node64\" class=\"node\"><title>93</title>\n",
       "<polygon fill=\"none\" stroke=\"black\" points=\"3810.69,-36 3719.94,-36 3719.94,-0 3810.69,-0 3810.69,-36\"/>\n",
       "<text text-anchor=\"middle\" x=\"3765.31\" y=\"-13.8\" font-family=\"Times,serif\" font-size=\"14.00\">leaf=0.19353</text>\n",
       "</g>\n",
       "<!-- 46&#45;&gt;93 -->\n",
       "<g id=\"edge63\" class=\"edge\"><title>46&#45;&gt;93</title>\n",
       "<path fill=\"none\" stroke=\"#0000ff\" d=\"M3783.02,-90.2426C3778.84,-73.429 3775.01,-58.0119 3771.98,-45.8527\"/>\n",
       "<polygon fill=\"#0000ff\" stroke=\"#0000ff\" points=\"3775.36,-44.9134 3769.55,-36.0528 3768.56,-46.6018 3775.36,-44.9134\"/>\n",
       "<text text-anchor=\"middle\" x=\"3811.93\" y=\"-56.8\" font-family=\"Times,serif\" font-size=\"14.00\">yes, missing</text>\n",
       "</g>\n",
       "<!-- 94 -->\n",
       "<g id=\"node65\" class=\"node\"><title>94</title>\n",
       "<polygon fill=\"none\" stroke=\"black\" points=\"3926.19,-36 3828.44,-36 3828.44,-0 3926.19,-0 3926.19,-36\"/>\n",
       "<text text-anchor=\"middle\" x=\"3877.31\" y=\"-13.8\" font-family=\"Times,serif\" font-size=\"14.00\">leaf=0.169792</text>\n",
       "</g>\n",
       "<!-- 46&#45;&gt;94 -->\n",
       "<g id=\"edge64\" class=\"edge\"><title>46&#45;&gt;94</title>\n",
       "<path fill=\"none\" stroke=\"#ff0000\" d=\"M3858.88,-90.5479C3863.23,-73.6741 3867.22,-58.1927 3870.36,-45.9795\"/>\n",
       "<polygon fill=\"#ff0000\" stroke=\"#ff0000\" points=\"3873.79,-46.6921 3872.9,-36.1352 3867.01,-44.9462 3873.79,-46.6921\"/>\n",
       "<text text-anchor=\"middle\" x=\"3875.31\" y=\"-56.8\" font-family=\"Times,serif\" font-size=\"14.00\">no</text>\n",
       "</g>\n",
       "<!-- 11 -->\n",
       "<g id=\"node68\" class=\"node\"><title>11</title>\n",
       "<ellipse fill=\"none\" stroke=\"black\" cx=\"4698.31\" cy=\"-962.558\" rx=\"155.123\" ry=\"155.123\"/>\n",
       "<text text-anchor=\"middle\" x=\"4698.31\" y=\"-958.358\" font-family=\"Times,serif\" font-size=\"14.00\">maximum_heart_rate_achieved&lt;146.408</text>\n",
       "</g>\n",
       "<!-- 5&#45;&gt;11 -->\n",
       "<g id=\"edge67\" class=\"edge\"><title>5&#45;&gt;11</title>\n",
       "<path fill=\"none\" stroke=\"#0000ff\" d=\"M4795.76,-1177.5C4786.45,-1157.06 4776.48,-1135.19 4766.61,-1113.52\"/>\n",
       "<polygon fill=\"#0000ff\" stroke=\"#0000ff\" points=\"4769.72,-1111.9 4762.39,-1104.25 4763.35,-1114.8 4769.72,-1111.9\"/>\n",
       "<text text-anchor=\"middle\" x=\"4813.93\" y=\"-1138.67\" font-family=\"Times,serif\" font-size=\"14.00\">yes, missing</text>\n",
       "</g>\n",
       "<!-- 12 -->\n",
       "<g id=\"node69\" class=\"node\"><title>12</title>\n",
       "<ellipse fill=\"none\" stroke=\"black\" cx=\"5182.31\" cy=\"-962.558\" rx=\"38.3671\" ry=\"38.3671\"/>\n",
       "<text text-anchor=\"middle\" x=\"5182.31\" y=\"-958.358\" font-family=\"Times,serif\" font-size=\"14.00\">slope&lt;2</text>\n",
       "</g>\n",
       "<!-- 5&#45;&gt;12 -->\n",
       "<g id=\"edge68\" class=\"edge\"><title>5&#45;&gt;12</title>\n",
       "<path fill=\"none\" stroke=\"#ff0000\" d=\"M4924.62,-1203.18C4995.8,-1136.99 5095.23,-1044.54 5147.32,-996.098\"/>\n",
       "<polygon fill=\"#ff0000\" stroke=\"#ff0000\" points=\"5149.71,-998.652 5154.65,-989.279 5144.94,-993.526 5149.71,-998.652\"/>\n",
       "<text text-anchor=\"middle\" x=\"4999.31\" y=\"-1138.67\" font-family=\"Times,serif\" font-size=\"14.00\">no</text>\n",
       "</g>\n",
       "<!-- 13 -->\n",
       "<g id=\"node98\" class=\"node\"><title>13</title>\n",
       "<ellipse fill=\"none\" stroke=\"black\" cx=\"6565.31\" cy=\"-962.558\" rx=\"108.784\" ry=\"108.784\"/>\n",
       "<text text-anchor=\"middle\" x=\"6565.31\" y=\"-958.358\" font-family=\"Times,serif\" font-size=\"14.00\">exercise_induced_angina&lt;1</text>\n",
       "</g>\n",
       "<!-- 6&#45;&gt;13 -->\n",
       "<g id=\"edge97\" class=\"edge\"><title>6&#45;&gt;13</title>\n",
       "<path fill=\"none\" stroke=\"#0000ff\" d=\"M6565.31,-1167.8C6565.31,-1139.96 6565.31,-1110.02 6565.31,-1081.88\"/>\n",
       "<polygon fill=\"#0000ff\" stroke=\"#0000ff\" points=\"6568.81,-1081.6 6565.31,-1071.6 6561.81,-1081.6 6568.81,-1081.6\"/>\n",
       "<text text-anchor=\"middle\" x=\"6599.93\" y=\"-1138.67\" font-family=\"Times,serif\" font-size=\"14.00\">yes, missing</text>\n",
       "</g>\n",
       "<!-- 14 -->\n",
       "<g id=\"node99\" class=\"node\"><title>14</title>\n",
       "<ellipse fill=\"none\" stroke=\"black\" cx=\"7366.31\" cy=\"-962.558\" rx=\"38.3671\" ry=\"38.3671\"/>\n",
       "<text text-anchor=\"middle\" x=\"7366.31\" y=\"-958.358\" font-family=\"Times,serif\" font-size=\"14.00\">slope&lt;2</text>\n",
       "</g>\n",
       "<!-- 6&#45;&gt;14 -->\n",
       "<g id=\"edge98\" class=\"edge\"><title>6&#45;&gt;14</title>\n",
       "<path fill=\"none\" stroke=\"#ff0000\" d=\"M6670.03,-1238.38C6846.74,-1168.63 7197.04,-1030.37 7321.3,-981.323\"/>\n",
       "<polygon fill=\"#ff0000\" stroke=\"#ff0000\" points=\"7322.88,-984.465 7330.89,-977.538 7320.31,-977.953 7322.88,-984.465\"/>\n",
       "<text text-anchor=\"middle\" x=\"6925.31\" y=\"-1138.67\" font-family=\"Times,serif\" font-size=\"14.00\">no</text>\n",
       "</g>\n",
       "<!-- 23 -->\n",
       "<g id=\"node70\" class=\"node\"><title>23</title>\n",
       "<ellipse fill=\"none\" stroke=\"black\" cx=\"4367.31\" cy=\"-601.935\" rx=\"76.0037\" ry=\"76.0037\"/>\n",
       "<text text-anchor=\"middle\" x=\"4367.31\" y=\"-597.735\" font-family=\"Times,serif\" font-size=\"14.00\">oldpeak&lt;0.758366</text>\n",
       "</g>\n",
       "<!-- 11&#45;&gt;23 -->\n",
       "<g id=\"edge69\" class=\"edge\"><title>11&#45;&gt;23</title>\n",
       "<path fill=\"none\" stroke=\"#0000ff\" d=\"M4593.13,-847.594C4537.85,-787.704 4472.17,-716.546 4425.94,-666.454\"/>\n",
       "<polygon fill=\"#0000ff\" stroke=\"#0000ff\" points=\"4428.33,-663.885 4418.98,-658.91 4423.19,-668.632 4428.33,-663.885\"/>\n",
       "<text text-anchor=\"middle\" x=\"4567.93\" y=\"-778.046\" font-family=\"Times,serif\" font-size=\"14.00\">yes, missing</text>\n",
       "</g>\n",
       "<!-- 24 -->\n",
       "<g id=\"node71\" class=\"node\"><title>24</title>\n",
       "<ellipse fill=\"none\" stroke=\"black\" cx=\"4698.31\" cy=\"-601.935\" rx=\"71.5117\" ry=\"71.5117\"/>\n",
       "<text text-anchor=\"middle\" x=\"4698.31\" y=\"-597.735\" font-family=\"Times,serif\" font-size=\"14.00\">oldpeak&lt;2.11338</text>\n",
       "</g>\n",
       "<!-- 11&#45;&gt;24 -->\n",
       "<g id=\"edge70\" class=\"edge\"><title>11&#45;&gt;24</title>\n",
       "<path fill=\"none\" stroke=\"#ff0000\" d=\"M4698.31,-807.128C4698.31,-764.643 4698.31,-720.259 4698.31,-683.765\"/>\n",
       "<polygon fill=\"#ff0000\" stroke=\"#ff0000\" points=\"4701.81,-683.689 4698.31,-673.689 4694.81,-683.689 4701.81,-683.689\"/>\n",
       "<text text-anchor=\"middle\" x=\"4705.31\" y=\"-778.046\" font-family=\"Times,serif\" font-size=\"14.00\">no</text>\n",
       "</g>\n",
       "<!-- 25 -->\n",
       "<g id=\"node84\" class=\"node\"><title>25</title>\n",
       "<ellipse fill=\"none\" stroke=\"black\" cx=\"5182.31\" cy=\"-601.935\" rx=\"155.123\" ry=\"155.123\"/>\n",
       "<text text-anchor=\"middle\" x=\"5182.31\" y=\"-597.735\" font-family=\"Times,serif\" font-size=\"14.00\">maximum_heart_rate_achieved&lt;147.248</text>\n",
       "</g>\n",
       "<!-- 12&#45;&gt;25 -->\n",
       "<g id=\"edge83\" class=\"edge\"><title>12&#45;&gt;25</title>\n",
       "<path fill=\"none\" stroke=\"#0000ff\" d=\"M5182.31,-924.194C5182.31,-886.63 5182.31,-826.06 5182.31,-767.585\"/>\n",
       "<polygon fill=\"#0000ff\" stroke=\"#0000ff\" points=\"5185.81,-767.462 5182.31,-757.462 5178.81,-767.462 5185.81,-767.462\"/>\n",
       "<text text-anchor=\"middle\" x=\"5216.93\" y=\"-778.046\" font-family=\"Times,serif\" font-size=\"14.00\">yes, missing</text>\n",
       "</g>\n",
       "<!-- 26 -->\n",
       "<g id=\"node85\" class=\"node\"><title>26</title>\n",
       "<ellipse fill=\"none\" stroke=\"black\" cx=\"5470.31\" cy=\"-601.935\" rx=\"76.0037\" ry=\"76.0037\"/>\n",
       "<text text-anchor=\"middle\" x=\"5470.31\" y=\"-597.735\" font-family=\"Times,serif\" font-size=\"14.00\">oldpeak&lt;0.688361</text>\n",
       "</g>\n",
       "<!-- 12&#45;&gt;26 -->\n",
       "<g id=\"edge84\" class=\"edge\"><title>12&#45;&gt;26</title>\n",
       "<path fill=\"none\" stroke=\"#ff0000\" d=\"M5205.88,-932.21C5251.6,-875.281 5353.36,-748.56 5416.47,-669.975\"/>\n",
       "<polygon fill=\"#ff0000\" stroke=\"#ff0000\" points=\"5419.3,-672.042 5422.83,-662.053 5413.84,-667.659 5419.3,-672.042\"/>\n",
       "<text text-anchor=\"middle\" x=\"5333.31\" y=\"-778.046\" font-family=\"Times,serif\" font-size=\"14.00\">no</text>\n",
       "</g>\n",
       "<!-- 47 -->\n",
       "<g id=\"node72\" class=\"node\"><title>47</title>\n",
       "<ellipse fill=\"none\" stroke=\"black\" cx=\"4141.31\" cy=\"-241.312\" rx=\"148.374\" ry=\"148.374\"/>\n",
       "<text text-anchor=\"middle\" x=\"4141.31\" y=\"-237.112\" font-family=\"Times,serif\" font-size=\"14.00\">resting_electrocardiographic_results&lt;1</text>\n",
       "</g>\n",
       "<!-- 23&#45;&gt;47 -->\n",
       "<g id=\"edge71\" class=\"edge\"><title>23&#45;&gt;47</title>\n",
       "<path fill=\"none\" stroke=\"#0000ff\" d=\"M4326.91,-536.82C4298.77,-492.166 4260.21,-430.982 4225.53,-375.948\"/>\n",
       "<polygon fill=\"#0000ff\" stroke=\"#0000ff\" points=\"4228.29,-373.766 4220,-367.172 4222.37,-377.498 4228.29,-373.766\"/>\n",
       "<text text-anchor=\"middle\" x=\"4288.93\" y=\"-417.423\" font-family=\"Times,serif\" font-size=\"14.00\">yes, missing</text>\n",
       "</g>\n",
       "<!-- 48 -->\n",
       "<g id=\"node73\" class=\"node\"><title>48</title>\n",
       "<ellipse fill=\"none\" stroke=\"black\" cx=\"4367.31\" cy=\"-241.312\" rx=\"38.3671\" ry=\"38.3671\"/>\n",
       "<text text-anchor=\"middle\" x=\"4367.31\" y=\"-237.112\" font-family=\"Times,serif\" font-size=\"14.00\">slope&lt;2</text>\n",
       "</g>\n",
       "<!-- 23&#45;&gt;48 -->\n",
       "<g id=\"edge72\" class=\"edge\"><title>23&#45;&gt;48</title>\n",
       "<path fill=\"none\" stroke=\"#ff0000\" d=\"M4367.31,-525.318C4367.31,-454.365 4367.31,-350.409 4367.31,-290.227\"/>\n",
       "<polygon fill=\"#ff0000\" stroke=\"#ff0000\" points=\"4370.81,-289.877 4367.31,-279.877 4363.81,-289.877 4370.81,-289.877\"/>\n",
       "<text text-anchor=\"middle\" x=\"4374.31\" y=\"-417.423\" font-family=\"Times,serif\" font-size=\"14.00\">no</text>\n",
       "</g>\n",
       "<!-- 49 -->\n",
       "<g id=\"node78\" class=\"node\"><title>49</title>\n",
       "<ellipse fill=\"none\" stroke=\"black\" cx=\"4620.31\" cy=\"-241.312\" rx=\"56.2153\" ry=\"56.2153\"/>\n",
       "<text text-anchor=\"middle\" x=\"4620.31\" y=\"-237.112\" font-family=\"Times,serif\" font-size=\"14.00\">age&lt;57.4754</text>\n",
       "</g>\n",
       "<!-- 24&#45;&gt;49 -->\n",
       "<g id=\"edge77\" class=\"edge\"><title>24&#45;&gt;49</title>\n",
       "<path fill=\"none\" stroke=\"#0000ff\" d=\"M4676.93,-533.505C4667.46,-501.894 4656.74,-463.572 4649.08,-428.623 4640.35,-388.759 4633.3,-343.527 4628.36,-307.614\"/>\n",
       "<polygon fill=\"#0000ff\" stroke=\"#0000ff\" points=\"4631.77,-306.707 4626.96,-297.266 4624.83,-307.645 4631.77,-306.707\"/>\n",
       "<text text-anchor=\"middle\" x=\"4683.93\" y=\"-417.423\" font-family=\"Times,serif\" font-size=\"14.00\">yes, missing</text>\n",
       "</g>\n",
       "<!-- 50 -->\n",
       "<g id=\"node79\" class=\"node\"><title>50</title>\n",
       "<ellipse fill=\"none\" stroke=\"black\" cx=\"4745.31\" cy=\"-241.312\" rx=\"38.3671\" ry=\"38.3671\"/>\n",
       "<text text-anchor=\"middle\" x=\"4745.31\" y=\"-237.112\" font-family=\"Times,serif\" font-size=\"14.00\">slope&lt;3</text>\n",
       "</g>\n",
       "<!-- 24&#45;&gt;50 -->\n",
       "<g id=\"edge78\" class=\"edge\"><title>24&#45;&gt;50</title>\n",
       "<path fill=\"none\" stroke=\"#ff0000\" d=\"M4707.49,-530.937C4716.83,-459.641 4731.06,-351.061 4739.14,-289.408\"/>\n",
       "<polygon fill=\"#ff0000\" stroke=\"#ff0000\" points=\"4742.65,-289.566 4740.48,-279.196 4735.71,-288.656 4742.65,-289.566\"/>\n",
       "<text text-anchor=\"middle\" x=\"4729.31\" y=\"-417.423\" font-family=\"Times,serif\" font-size=\"14.00\">no</text>\n",
       "</g>\n",
       "<!-- 95 -->\n",
       "<g id=\"node74\" class=\"node\"><title>95</title>\n",
       "<polygon fill=\"none\" stroke=\"black\" points=\"4057.84,-36 3956.79,-36 3956.79,-0 4057.84,-0 4057.84,-36\"/>\n",
       "<text text-anchor=\"middle\" x=\"4007.31\" y=\"-13.8\" font-family=\"Times,serif\" font-size=\"14.00\">leaf=&#45;0.115274</text>\n",
       "</g>\n",
       "<!-- 47&#45;&gt;95 -->\n",
       "<g id=\"edge73\" class=\"edge\"><title>47&#45;&gt;95</title>\n",
       "<path fill=\"none\" stroke=\"#0000ff\" d=\"M4064.92,-114.14C4049,-87.8539 4033.81,-62.7592 4023.02,-44.9488\"/>\n",
       "<polygon fill=\"#0000ff\" stroke=\"#0000ff\" points=\"4025.98,-43.0727 4017.81,-36.3314 4019.99,-46.6983 4025.98,-43.0727\"/>\n",
       "<text text-anchor=\"middle\" x=\"4070.93\" y=\"-56.8\" font-family=\"Times,serif\" font-size=\"14.00\">yes, missing</text>\n",
       "</g>\n",
       "<!-- 96 -->\n",
       "<g id=\"node75\" class=\"node\"><title>96</title>\n",
       "<polygon fill=\"none\" stroke=\"black\" points=\"4184.85,-36 4075.77,-36 4075.77,-0 4184.85,-0 4184.85,-36\"/>\n",
       "<text text-anchor=\"middle\" x=\"4130.31\" y=\"-13.8\" font-family=\"Times,serif\" font-size=\"14.00\">leaf=&#45;0.0488809</text>\n",
       "</g>\n",
       "<!-- 47&#45;&gt;96 -->\n",
       "<g id=\"edge74\" class=\"edge\"><title>47&#45;&gt;96</title>\n",
       "<path fill=\"none\" stroke=\"#ff0000\" d=\"M4133.99,-93.0012C4133.11,-75.4016 4132.31,-59.1965 4131.68,-46.4662\"/>\n",
       "<polygon fill=\"#ff0000\" stroke=\"#ff0000\" points=\"4135.16,-46.0395 4131.17,-36.2256 4128.17,-46.387 4135.16,-46.0395\"/>\n",
       "<text text-anchor=\"middle\" x=\"4140.31\" y=\"-56.8\" font-family=\"Times,serif\" font-size=\"14.00\">no</text>\n",
       "</g>\n",
       "<!-- 97 -->\n",
       "<g id=\"node76\" class=\"node\"><title>97</title>\n",
       "<polygon fill=\"none\" stroke=\"black\" points=\"4311.85,-36 4202.77,-36 4202.77,-0 4311.85,-0 4311.85,-36\"/>\n",
       "<text text-anchor=\"middle\" x=\"4257.31\" y=\"-13.8\" font-family=\"Times,serif\" font-size=\"14.00\">leaf=&#45;0.0480069</text>\n",
       "</g>\n",
       "<!-- 48&#45;&gt;97 -->\n",
       "<g id=\"edge75\" class=\"edge\"><title>48&#45;&gt;97</title>\n",
       "<path fill=\"none\" stroke=\"#0000ff\" d=\"M4353.34,-205.692C4340.2,-174.015 4319.44,-126.115 4298.31,-86 4291.02,-72.1548 4282.03,-57.2599 4274.32,-45.0381\"/>\n",
       "<polygon fill=\"#0000ff\" stroke=\"#0000ff\" points=\"4277.06,-42.8234 4268.73,-36.2748 4271.16,-46.5879 4277.06,-42.8234\"/>\n",
       "<text text-anchor=\"middle\" x=\"4322.93\" y=\"-56.8\" font-family=\"Times,serif\" font-size=\"14.00\">yes, missing</text>\n",
       "</g>\n",
       "<!-- 98 -->\n",
       "<g id=\"node77\" class=\"node\"><title>98</title>\n",
       "<polygon fill=\"none\" stroke=\"black\" points=\"4427.19,-36 4329.44,-36 4329.44,-0 4427.19,-0 4427.19,-36\"/>\n",
       "<text text-anchor=\"middle\" x=\"4378.31\" y=\"-13.8\" font-family=\"Times,serif\" font-size=\"14.00\">leaf=0.100769</text>\n",
       "</g>\n",
       "<!-- 48&#45;&gt;98 -->\n",
       "<g id=\"edge76\" class=\"edge\"><title>48&#45;&gt;98</title>\n",
       "<path fill=\"none\" stroke=\"#ff0000\" d=\"M4369.18,-202.769C4371.39,-158.356 4375.01,-85.4993 4376.96,-46.1881\"/>\n",
       "<polygon fill=\"#ff0000\" stroke=\"#ff0000\" points=\"4380.46,-46.2028 4377.46,-36.0414 4373.47,-45.8552 4380.46,-46.2028\"/>\n",
       "<text text-anchor=\"middle\" x=\"4384.31\" y=\"-56.8\" font-family=\"Times,serif\" font-size=\"14.00\">no</text>\n",
       "</g>\n",
       "<!-- 99 -->\n",
       "<g id=\"node80\" class=\"node\"><title>99</title>\n",
       "<polygon fill=\"none\" stroke=\"black\" points=\"4547.35,-36 4445.27,-36 4445.27,-0 4547.35,-0 4547.35,-36\"/>\n",
       "<text text-anchor=\"middle\" x=\"4496.31\" y=\"-13.8\" font-family=\"Times,serif\" font-size=\"14.00\">leaf=&#45;0.166614</text>\n",
       "</g>\n",
       "<!-- 49&#45;&gt;99 -->\n",
       "<g id=\"edge79\" class=\"edge\"><title>49&#45;&gt;99</title>\n",
       "<path fill=\"none\" stroke=\"#0000ff\" d=\"M4593.25,-192.017C4567.94,-146.834 4531.08,-81.0557 4510.89,-45.0148\"/>\n",
       "<polygon fill=\"#0000ff\" stroke=\"#0000ff\" points=\"4513.83,-43.1143 4505.89,-36.1011 4507.73,-46.5359 4513.83,-43.1143\"/>\n",
       "<text text-anchor=\"middle\" x=\"4557.93\" y=\"-56.8\" font-family=\"Times,serif\" font-size=\"14.00\">yes, missing</text>\n",
       "</g>\n",
       "<!-- 100 -->\n",
       "<g id=\"node81\" class=\"node\"><title>100</title>\n",
       "<polygon fill=\"none\" stroke=\"black\" points=\"4674.85,-36 4565.77,-36 4565.77,-0 4674.85,-0 4674.85,-36\"/>\n",
       "<text text-anchor=\"middle\" x=\"4620.31\" y=\"-13.8\" font-family=\"Times,serif\" font-size=\"14.00\">leaf=&#45;0.0920424</text>\n",
       "</g>\n",
       "<!-- 49&#45;&gt;100 -->\n",
       "<g id=\"edge80\" class=\"edge\"><title>49&#45;&gt;100</title>\n",
       "<path fill=\"none\" stroke=\"#ff0000\" d=\"M4620.31,-185.036C4620.31,-140.905 4620.31,-80.9403 4620.31,-46.4635\"/>\n",
       "<polygon fill=\"#ff0000\" stroke=\"#ff0000\" points=\"4623.81,-46.2177 4620.31,-36.2177 4616.81,-46.2177 4623.81,-46.2177\"/>\n",
       "<text text-anchor=\"middle\" x=\"4627.31\" y=\"-56.8\" font-family=\"Times,serif\" font-size=\"14.00\">no</text>\n",
       "</g>\n",
       "<!-- 101 -->\n",
       "<g id=\"node82\" class=\"node\"><title>101</title>\n",
       "<polygon fill=\"none\" stroke=\"black\" points=\"4797.69,-36 4692.94,-36 4692.94,-0 4797.69,-0 4797.69,-36\"/>\n",
       "<text text-anchor=\"middle\" x=\"4745.31\" y=\"-13.8\" font-family=\"Times,serif\" font-size=\"14.00\">leaf=0.0717217</text>\n",
       "</g>\n",
       "<!-- 50&#45;&gt;101 -->\n",
       "<g id=\"edge81\" class=\"edge\"><title>50&#45;&gt;101</title>\n",
       "<path fill=\"none\" stroke=\"#0000ff\" d=\"M4745.31,-202.769C4745.31,-158.356 4745.31,-85.4993 4745.31,-46.1881\"/>\n",
       "<polygon fill=\"#0000ff\" stroke=\"#0000ff\" points=\"4748.81,-46.0413 4745.31,-36.0414 4741.81,-46.0414 4748.81,-46.0413\"/>\n",
       "<text text-anchor=\"middle\" x=\"4779.93\" y=\"-56.8\" font-family=\"Times,serif\" font-size=\"14.00\">yes, missing</text>\n",
       "</g>\n",
       "<!-- 102 -->\n",
       "<g id=\"node83\" class=\"node\"><title>102</title>\n",
       "<polygon fill=\"none\" stroke=\"black\" points=\"4924.85,-36 4815.77,-36 4815.77,-0 4924.85,-0 4924.85,-36\"/>\n",
       "<text text-anchor=\"middle\" x=\"4870.31\" y=\"-13.8\" font-family=\"Times,serif\" font-size=\"14.00\">leaf=&#45;0.0690496</text>\n",
       "</g>\n",
       "<!-- 50&#45;&gt;102 -->\n",
       "<g id=\"edge82\" class=\"edge\"><title>50&#45;&gt;102</title>\n",
       "<path fill=\"none\" stroke=\"#ff0000\" d=\"M4763.76,-207.656C4788.77,-163.372 4832.93,-85.1752 4855.75,-44.7724\"/>\n",
       "<polygon fill=\"#ff0000\" stroke=\"#ff0000\" points=\"4858.81,-46.4812 4860.68,-36.0528 4852.71,-43.0387 4858.81,-46.4812\"/>\n",
       "<text text-anchor=\"middle\" x=\"4857.31\" y=\"-56.8\" font-family=\"Times,serif\" font-size=\"14.00\">no</text>\n",
       "</g>\n",
       "<!-- 51 -->\n",
       "<g id=\"node86\" class=\"node\"><title>51</title>\n",
       "<ellipse fill=\"none\" stroke=\"black\" cx=\"5109.31\" cy=\"-241.312\" rx=\"56.2153\" ry=\"56.2153\"/>\n",
       "<text text-anchor=\"middle\" x=\"5109.31\" y=\"-237.112\" font-family=\"Times,serif\" font-size=\"14.00\">age&lt;62.7996</text>\n",
       "</g>\n",
       "<!-- 25&#45;&gt;51 -->\n",
       "<g id=\"edge85\" class=\"edge\"><title>25&#45;&gt;51</title>\n",
       "<path fill=\"none\" stroke=\"#0000ff\" d=\"M5141.12,-451.76C5139.33,-443.955 5137.64,-436.208 5136.08,-428.623 5127.89,-388.708 5121.33,-343.475 5116.75,-307.575\"/>\n",
       "<polygon fill=\"#0000ff\" stroke=\"#0000ff\" points=\"5120.17,-306.717 5115.45,-297.23 5113.23,-307.588 5120.17,-306.717\"/>\n",
       "<text text-anchor=\"middle\" x=\"5170.93\" y=\"-417.423\" font-family=\"Times,serif\" font-size=\"14.00\">yes, missing</text>\n",
       "</g>\n",
       "<!-- 52 -->\n",
       "<g id=\"node87\" class=\"node\"><title>52</title>\n",
       "<ellipse fill=\"none\" stroke=\"black\" cx=\"5235.31\" cy=\"-241.312\" rx=\"51.8723\" ry=\"51.8723\"/>\n",
       "<text text-anchor=\"middle\" x=\"5235.31\" y=\"-237.112\" font-family=\"Times,serif\" font-size=\"14.00\">age&lt;57.242</text>\n",
       "</g>\n",
       "<!-- 25&#45;&gt;52 -->\n",
       "<g id=\"edge86\" class=\"edge\"><title>25&#45;&gt;52</title>\n",
       "<path fill=\"none\" stroke=\"#ff0000\" d=\"M5204.9,-448.066C5212.47,-396.892 5220.46,-342.78 5226.36,-302.899\"/>\n",
       "<polygon fill=\"#ff0000\" stroke=\"#ff0000\" points=\"5229.85,-303.223 5227.85,-292.819 5222.92,-302.2 5229.85,-303.223\"/>\n",
       "<text text-anchor=\"middle\" x=\"5216.31\" y=\"-417.423\" font-family=\"Times,serif\" font-size=\"14.00\">no</text>\n",
       "</g>\n",
       "<!-- 53 -->\n",
       "<g id=\"node92\" class=\"node\"><title>53</title>\n",
       "<ellipse fill=\"none\" stroke=\"black\" cx=\"5470.31\" cy=\"-241.312\" rx=\"155.123\" ry=\"155.123\"/>\n",
       "<text text-anchor=\"middle\" x=\"5470.31\" y=\"-237.112\" font-family=\"Times,serif\" font-size=\"14.00\">maximum_heart_rate_achieved&lt;148.741</text>\n",
       "</g>\n",
       "<!-- 26&#45;&gt;53 -->\n",
       "<g id=\"edge91\" class=\"edge\"><title>26&#45;&gt;53</title>\n",
       "<path fill=\"none\" stroke=\"#0000ff\" d=\"M5470.31,-525.318C5470.31,-490.766 5470.31,-448.387 5470.31,-407.049\"/>\n",
       "<polygon fill=\"#0000ff\" stroke=\"#0000ff\" points=\"5473.81,-406.849 5470.31,-396.849 5466.81,-406.849 5473.81,-406.849\"/>\n",
       "<text text-anchor=\"middle\" x=\"5504.93\" y=\"-417.423\" font-family=\"Times,serif\" font-size=\"14.00\">yes, missing</text>\n",
       "</g>\n",
       "<!-- 54 -->\n",
       "<g id=\"node93\" class=\"node\"><title>54</title>\n",
       "<ellipse fill=\"none\" stroke=\"black\" cx=\"5799.31\" cy=\"-241.312\" rx=\"155.123\" ry=\"155.123\"/>\n",
       "<text text-anchor=\"middle\" x=\"5799.31\" y=\"-237.112\" font-family=\"Times,serif\" font-size=\"14.00\">maximum_heart_rate_achieved&lt;148.192</text>\n",
       "</g>\n",
       "<!-- 26&#45;&gt;54 -->\n",
       "<g id=\"edge92\" class=\"edge\"><title>26&#45;&gt;54</title>\n",
       "<path fill=\"none\" stroke=\"#ff0000\" d=\"M5521.72,-544.9C5566,-496.628 5631.48,-425.253 5687.72,-363.946\"/>\n",
       "<polygon fill=\"#ff0000\" stroke=\"#ff0000\" points=\"5690.35,-366.256 5694.54,-356.521 5685.2,-361.524 5690.35,-366.256\"/>\n",
       "<text text-anchor=\"middle\" x=\"5642.31\" y=\"-417.423\" font-family=\"Times,serif\" font-size=\"14.00\">no</text>\n",
       "</g>\n",
       "<!-- 103 -->\n",
       "<g id=\"node88\" class=\"node\"><title>103</title>\n",
       "<polygon fill=\"none\" stroke=\"black\" points=\"5039.67,-36 4942.95,-36 4942.95,-0 5039.67,-0 5039.67,-36\"/>\n",
       "<text text-anchor=\"middle\" x=\"4991.31\" y=\"-13.8\" font-family=\"Times,serif\" font-size=\"14.00\">leaf=0.118846</text>\n",
       "</g>\n",
       "<!-- 51&#45;&gt;103 -->\n",
       "<g id=\"edge87\" class=\"edge\"><title>51&#45;&gt;103</title>\n",
       "<path fill=\"none\" stroke=\"#0000ff\" d=\"M5083.27,-191.47C5059.16,-146.249 5024.23,-80.7483 5005.11,-44.8815\"/>\n",
       "<polygon fill=\"#0000ff\" stroke=\"#0000ff\" points=\"5008.18,-43.1891 5000.38,-36.0117 5002,-46.4825 5008.18,-43.1891\"/>\n",
       "<text text-anchor=\"middle\" x=\"5051.93\" y=\"-56.8\" font-family=\"Times,serif\" font-size=\"14.00\">yes, missing</text>\n",
       "</g>\n",
       "<!-- 104 -->\n",
       "<g id=\"node89\" class=\"node\"><title>104</title>\n",
       "<polygon fill=\"none\" stroke=\"black\" points=\"5162.69,-36 5057.94,-36 5057.94,-0 5162.69,-0 5162.69,-36\"/>\n",
       "<text text-anchor=\"middle\" x=\"5110.31\" y=\"-13.8\" font-family=\"Times,serif\" font-size=\"14.00\">leaf=0.0427988</text>\n",
       "</g>\n",
       "<!-- 51&#45;&gt;104 -->\n",
       "<g id=\"edge88\" class=\"edge\"><title>51&#45;&gt;104</title>\n",
       "<path fill=\"none\" stroke=\"#ff0000\" d=\"M5109.56,-185.036C5109.76,-140.905 5110.03,-80.9403 5110.19,-46.4635\"/>\n",
       "<polygon fill=\"#ff0000\" stroke=\"#ff0000\" points=\"5113.69,-46.2334 5110.23,-36.2177 5106.69,-46.2017 5113.69,-46.2334\"/>\n",
       "<text text-anchor=\"middle\" x=\"5117.31\" y=\"-56.8\" font-family=\"Times,serif\" font-size=\"14.00\">no</text>\n",
       "</g>\n",
       "<!-- 105 -->\n",
       "<g id=\"node90\" class=\"node\"><title>105</title>\n",
       "<polygon fill=\"none\" stroke=\"black\" points=\"5289.85,-36 5180.77,-36 5180.77,-0 5289.85,-0 5289.85,-36\"/>\n",
       "<text text-anchor=\"middle\" x=\"5235.31\" y=\"-13.8\" font-family=\"Times,serif\" font-size=\"14.00\">leaf=&#45;0.0875171</text>\n",
       "</g>\n",
       "<!-- 52&#45;&gt;105 -->\n",
       "<g id=\"edge89\" class=\"edge\"><title>52&#45;&gt;105</title>\n",
       "<path fill=\"none\" stroke=\"#0000ff\" d=\"M5235.31,-189.538C5235.31,-145.013 5235.31,-81.9764 5235.31,-46.3349\"/>\n",
       "<polygon fill=\"#0000ff\" stroke=\"#0000ff\" points=\"5238.81,-46.204 5235.31,-36.204 5231.81,-46.2041 5238.81,-46.204\"/>\n",
       "<text text-anchor=\"middle\" x=\"5269.93\" y=\"-56.8\" font-family=\"Times,serif\" font-size=\"14.00\">yes, missing</text>\n",
       "</g>\n",
       "<!-- 106 -->\n",
       "<g id=\"node91\" class=\"node\"><title>106</title>\n",
       "<polygon fill=\"none\" stroke=\"black\" points=\"5412.69,-36 5307.94,-36 5307.94,-0 5412.69,-0 5412.69,-36\"/>\n",
       "<text text-anchor=\"middle\" x=\"5360.31\" y=\"-13.8\" font-family=\"Times,serif\" font-size=\"14.00\">leaf=0.0469555</text>\n",
       "</g>\n",
       "<!-- 52&#45;&gt;106 -->\n",
       "<g id=\"edge90\" class=\"edge\"><title>52&#45;&gt;106</title>\n",
       "<path fill=\"none\" stroke=\"#ff0000\" d=\"M5253.56,-192.852C5266.47,-161.511 5285.18,-120.091 5306.31,-86 5315.46,-71.2456 5327.42,-56.0829 5337.77,-43.9217\"/>\n",
       "<polygon fill=\"#ff0000\" stroke=\"#ff0000\" points=\"5340.71,-45.8723 5344.61,-36.0239 5335.42,-41.2868 5340.71,-45.8723\"/>\n",
       "<text text-anchor=\"middle\" x=\"5335.31\" y=\"-56.8\" font-family=\"Times,serif\" font-size=\"14.00\">no</text>\n",
       "</g>\n",
       "<!-- 107 -->\n",
       "<g id=\"node94\" class=\"node\"><title>107</title>\n",
       "<polygon fill=\"none\" stroke=\"black\" points=\"5528.19,-36 5430.44,-36 5430.44,-0 5528.19,-0 5528.19,-36\"/>\n",
       "<text text-anchor=\"middle\" x=\"5479.31\" y=\"-13.8\" font-family=\"Times,serif\" font-size=\"14.00\">leaf=0.126882</text>\n",
       "</g>\n",
       "<!-- 53&#45;&gt;107 -->\n",
       "<g id=\"edge93\" class=\"edge\"><title>53&#45;&gt;107</title>\n",
       "<path fill=\"none\" stroke=\"#0000ff\" d=\"M5476.59,-86.0013C5477.19,-71.0682 5477.75,-57.3983 5478.2,-46.3556\"/>\n",
       "<polygon fill=\"#0000ff\" stroke=\"#0000ff\" points=\"5481.7,-46.3732 5478.61,-36.2392 5474.71,-46.0887 5481.7,-46.3732\"/>\n",
       "<text text-anchor=\"middle\" x=\"5512.93\" y=\"-56.8\" font-family=\"Times,serif\" font-size=\"14.00\">yes, missing</text>\n",
       "</g>\n",
       "<!-- 108 -->\n",
       "<g id=\"node95\" class=\"node\"><title>108</title>\n",
       "<polygon fill=\"none\" stroke=\"black\" points=\"5657.19,-36 5545.44,-36 5545.44,-0 5657.19,-0 5657.19,-36\"/>\n",
       "<text text-anchor=\"middle\" x=\"5601.31\" y=\"-13.8\" font-family=\"Times,serif\" font-size=\"14.00\">leaf=0.00040568</text>\n",
       "</g>\n",
       "<!-- 53&#45;&gt;108 -->\n",
       "<g id=\"edge94\" class=\"edge\"><title>53&#45;&gt;108</title>\n",
       "<path fill=\"none\" stroke=\"#ff0000\" d=\"M5549.16,-107.104C5563.2,-83.3812 5576.39,-61.1025 5585.99,-44.8832\"/>\n",
       "<polygon fill=\"#ff0000\" stroke=\"#ff0000\" points=\"5589.13,-46.4568 5591.21,-36.0685 5583.1,-42.8912 5589.13,-46.4568\"/>\n",
       "<text text-anchor=\"middle\" x=\"5587.31\" y=\"-56.8\" font-family=\"Times,serif\" font-size=\"14.00\">no</text>\n",
       "</g>\n",
       "<!-- 109 -->\n",
       "<g id=\"node96\" class=\"node\"><title>109</title>\n",
       "<polygon fill=\"none\" stroke=\"black\" points=\"5810.19,-36 5712.44,-36 5712.44,-0 5810.19,-0 5810.19,-36\"/>\n",
       "<text text-anchor=\"middle\" x=\"5761.31\" y=\"-13.8\" font-family=\"Times,serif\" font-size=\"14.00\">leaf=0.182863</text>\n",
       "</g>\n",
       "<!-- 54&#45;&gt;109 -->\n",
       "<g id=\"edge95\" class=\"edge\"><title>54&#45;&gt;109</title>\n",
       "<path fill=\"none\" stroke=\"#0000ff\" d=\"M5773.18,-88.114C5770.46,-72.2822 5767.97,-57.7775 5765.98,-46.1882\"/>\n",
       "<polygon fill=\"#0000ff\" stroke=\"#0000ff\" points=\"5769.38,-45.2855 5764.23,-36.0221 5762.48,-46.4701 5769.38,-45.2855\"/>\n",
       "<text text-anchor=\"middle\" x=\"5804.93\" y=\"-56.8\" font-family=\"Times,serif\" font-size=\"14.00\">yes, missing</text>\n",
       "</g>\n",
       "<!-- 110 -->\n",
       "<g id=\"node97\" class=\"node\"><title>110</title>\n",
       "<polygon fill=\"none\" stroke=\"black\" points=\"5925.19,-36 5827.44,-36 5827.44,-0 5925.19,-0 5925.19,-36\"/>\n",
       "<text text-anchor=\"middle\" x=\"5876.31\" y=\"-13.8\" font-family=\"Times,serif\" font-size=\"14.00\">leaf=0.131928</text>\n",
       "</g>\n",
       "<!-- 54&#45;&gt;110 -->\n",
       "<g id=\"edge96\" class=\"edge\"><title>54&#45;&gt;110</title>\n",
       "<path fill=\"none\" stroke=\"#ff0000\" d=\"M5850.14,-94.2348C5856.51,-75.9055 5862.39,-59.0258 5866.95,-45.9197\"/>\n",
       "<polygon fill=\"#ff0000\" stroke=\"#ff0000\" points=\"5870.33,-46.8571 5870.31,-36.2623 5863.71,-44.5568 5870.33,-46.8571\"/>\n",
       "<text text-anchor=\"middle\" x=\"5871.31\" y=\"-56.8\" font-family=\"Times,serif\" font-size=\"14.00\">no</text>\n",
       "</g>\n",
       "<!-- 27 -->\n",
       "<g id=\"node100\" class=\"node\"><title>27</title>\n",
       "<ellipse fill=\"none\" stroke=\"black\" cx=\"6378.31\" cy=\"-601.935\" rx=\"38.3671\" ry=\"38.3671\"/>\n",
       "<text text-anchor=\"middle\" x=\"6378.31\" y=\"-597.735\" font-family=\"Times,serif\" font-size=\"14.00\">slope&lt;2</text>\n",
       "</g>\n",
       "<!-- 13&#45;&gt;27 -->\n",
       "<g id=\"edge99\" class=\"edge\"><title>13&#45;&gt;27</title>\n",
       "<path fill=\"none\" stroke=\"#0000ff\" d=\"M6515.2,-865.453C6477.77,-793.669 6428.42,-699.025 6400.35,-645.196\"/>\n",
       "<polygon fill=\"#0000ff\" stroke=\"#0000ff\" points=\"6403.42,-643.524 6395.7,-636.276 6397.22,-646.761 6403.42,-643.524\"/>\n",
       "<text text-anchor=\"middle\" x=\"6506.93\" y=\"-778.046\" font-family=\"Times,serif\" font-size=\"14.00\">yes, missing</text>\n",
       "</g>\n",
       "<!-- 28 -->\n",
       "<g id=\"node101\" class=\"node\"><title>28</title>\n",
       "<ellipse fill=\"none\" stroke=\"black\" cx=\"6628.31\" cy=\"-601.935\" rx=\"38.3671\" ry=\"38.3671\"/>\n",
       "<text text-anchor=\"middle\" x=\"6628.31\" y=\"-597.735\" font-family=\"Times,serif\" font-size=\"14.00\">slope&lt;2</text>\n",
       "</g>\n",
       "<!-- 13&#45;&gt;28 -->\n",
       "<g id=\"edge100\" class=\"edge\"><title>13&#45;&gt;28</title>\n",
       "<path fill=\"none\" stroke=\"#ff0000\" d=\"M6584.04,-854.93C6596.05,-786.601 6611.03,-701.323 6620.12,-649.553\"/>\n",
       "<polygon fill=\"#ff0000\" stroke=\"#ff0000\" points=\"6623.58,-650.116 6621.86,-639.661 6616.68,-648.904 6623.58,-650.116\"/>\n",
       "<text text-anchor=\"middle\" x=\"6604.31\" y=\"-778.046\" font-family=\"Times,serif\" font-size=\"14.00\">no</text>\n",
       "</g>\n",
       "<!-- 29 -->\n",
       "<g id=\"node114\" class=\"node\"><title>29</title>\n",
       "<ellipse fill=\"none\" stroke=\"black\" cx=\"7366.31\" cy=\"-601.935\" rx=\"108.784\" ry=\"108.784\"/>\n",
       "<text text-anchor=\"middle\" x=\"7366.31\" y=\"-597.735\" font-family=\"Times,serif\" font-size=\"14.00\">exercise_induced_angina&lt;1</text>\n",
       "</g>\n",
       "<!-- 14&#45;&gt;29 -->\n",
       "<g id=\"edge113\" class=\"edge\"><title>14&#45;&gt;29</title>\n",
       "<path fill=\"none\" stroke=\"#0000ff\" d=\"M7366.31,-924.194C7366.31,-876.487 7366.31,-791.675 7366.31,-721.171\"/>\n",
       "<polygon fill=\"#0000ff\" stroke=\"#0000ff\" points=\"7369.81,-720.878 7366.31,-710.878 7362.81,-720.878 7369.81,-720.878\"/>\n",
       "<text text-anchor=\"middle\" x=\"7400.93\" y=\"-778.046\" font-family=\"Times,serif\" font-size=\"14.00\">yes, missing</text>\n",
       "</g>\n",
       "<!-- 30 -->\n",
       "<g id=\"node115\" class=\"node\"><title>30</title>\n",
       "<ellipse fill=\"none\" stroke=\"black\" cx=\"7729.31\" cy=\"-601.935\" rx=\"76.0037\" ry=\"76.0037\"/>\n",
       "<text text-anchor=\"middle\" x=\"7729.31\" y=\"-597.735\" font-family=\"Times,serif\" font-size=\"14.00\">oldpeak&lt;0.718301</text>\n",
       "</g>\n",
       "<!-- 14&#45;&gt;30 -->\n",
       "<g id=\"edge114\" class=\"edge\"><title>14&#45;&gt;30</title>\n",
       "<path fill=\"none\" stroke=\"#ff0000\" d=\"M7393,-935.187C7450.58,-878.304 7587.71,-742.824 7667.96,-663.546\"/>\n",
       "<polygon fill=\"#ff0000\" stroke=\"#ff0000\" points=\"7670.89,-665.572 7675.54,-656.054 7665.97,-660.592 7670.89,-665.572\"/>\n",
       "<text text-anchor=\"middle\" x=\"7555.31\" y=\"-778.046\" font-family=\"Times,serif\" font-size=\"14.00\">no</text>\n",
       "</g>\n",
       "<!-- 55 -->\n",
       "<g id=\"node102\" class=\"node\"><title>55</title>\n",
       "<ellipse fill=\"none\" stroke=\"black\" cx=\"6128.31\" cy=\"-241.312\" rx=\"155.123\" ry=\"155.123\"/>\n",
       "<text text-anchor=\"middle\" x=\"6128.31\" y=\"-237.112\" font-family=\"Times,serif\" font-size=\"14.00\">maximum_heart_rate_achieved&lt;147.949</text>\n",
       "</g>\n",
       "<!-- 27&#45;&gt;55 -->\n",
       "<g id=\"edge101\" class=\"edge\"><title>27&#45;&gt;55</title>\n",
       "<path fill=\"none\" stroke=\"#0000ff\" d=\"M6356.78,-570.048C6327.08,-527.436 6271.65,-447.929 6222.83,-377.898\"/>\n",
       "<polygon fill=\"#0000ff\" stroke=\"#0000ff\" points=\"6225.5,-375.61 6216.91,-369.408 6219.76,-379.613 6225.5,-375.61\"/>\n",
       "<text text-anchor=\"middle\" x=\"6287.93\" y=\"-417.423\" font-family=\"Times,serif\" font-size=\"14.00\">yes, missing</text>\n",
       "</g>\n",
       "<!-- 56 -->\n",
       "<g id=\"node103\" class=\"node\"><title>56</title>\n",
       "<ellipse fill=\"none\" stroke=\"black\" cx=\"6378.31\" cy=\"-241.312\" rx=\"76.0037\" ry=\"76.0037\"/>\n",
       "<text text-anchor=\"middle\" x=\"6378.31\" y=\"-237.112\" font-family=\"Times,serif\" font-size=\"14.00\">oldpeak&lt;0.728642</text>\n",
       "</g>\n",
       "<!-- 27&#45;&gt;56 -->\n",
       "<g id=\"edge102\" class=\"edge\"><title>27&#45;&gt;56</title>\n",
       "<path fill=\"none\" stroke=\"#ff0000\" d=\"M6378.31,-563.571C6378.31,-508.228 6378.31,-402.948 6378.31,-327.999\"/>\n",
       "<polygon fill=\"#ff0000\" stroke=\"#ff0000\" points=\"6381.81,-327.633 6378.31,-317.633 6374.81,-327.633 6381.81,-327.633\"/>\n",
       "<text text-anchor=\"middle\" x=\"6385.31\" y=\"-417.423\" font-family=\"Times,serif\" font-size=\"14.00\">no</text>\n",
       "</g>\n",
       "<!-- 57 -->\n",
       "<g id=\"node108\" class=\"node\"><title>57</title>\n",
       "<ellipse fill=\"none\" stroke=\"black\" cx=\"6628.31\" cy=\"-241.312\" rx=\"155.123\" ry=\"155.123\"/>\n",
       "<text text-anchor=\"middle\" x=\"6628.31\" y=\"-237.112\" font-family=\"Times,serif\" font-size=\"14.00\">maximum_heart_rate_achieved&lt;148.274</text>\n",
       "</g>\n",
       "<!-- 28&#45;&gt;57 -->\n",
       "<g id=\"edge107\" class=\"edge\"><title>28&#45;&gt;57</title>\n",
       "<path fill=\"none\" stroke=\"#0000ff\" d=\"M6628.31,-563.571C6628.31,-526.007 6628.31,-465.437 6628.31,-406.962\"/>\n",
       "<polygon fill=\"#0000ff\" stroke=\"#0000ff\" points=\"6631.81,-406.839 6628.31,-396.839 6624.81,-406.839 6631.81,-406.839\"/>\n",
       "<text text-anchor=\"middle\" x=\"6662.93\" y=\"-417.423\" font-family=\"Times,serif\" font-size=\"14.00\">yes, missing</text>\n",
       "</g>\n",
       "<!-- 58 -->\n",
       "<g id=\"node109\" class=\"node\"><title>58</title>\n",
       "<ellipse fill=\"none\" stroke=\"black\" cx=\"6878.31\" cy=\"-241.312\" rx=\"76.0037\" ry=\"76.0037\"/>\n",
       "<text text-anchor=\"middle\" x=\"6878.31\" y=\"-237.112\" font-family=\"Times,serif\" font-size=\"14.00\">oldpeak&lt;0.800794</text>\n",
       "</g>\n",
       "<!-- 28&#45;&gt;58 -->\n",
       "<g id=\"edge108\" class=\"edge\"><title>28&#45;&gt;58</title>\n",
       "<path fill=\"none\" stroke=\"#ff0000\" d=\"M6653.25,-573.004C6686.86,-534.699 6747.61,-463.035 6792.31,-396.623 6808.93,-371.928 6825.31,-343.778 6839.24,-318.342\"/>\n",
       "<polygon fill=\"#ff0000\" stroke=\"#ff0000\" points=\"6842.37,-319.926 6844.07,-309.469 6836.22,-316.584 6842.37,-319.926\"/>\n",
       "<text text-anchor=\"middle\" x=\"6787.31\" y=\"-417.423\" font-family=\"Times,serif\" font-size=\"14.00\">no</text>\n",
       "</g>\n",
       "<!-- 111 -->\n",
       "<g id=\"node104\" class=\"node\"><title>111</title>\n",
       "<polygon fill=\"none\" stroke=\"black\" points=\"6085.69,-36 5980.94,-36 5980.94,-0 6085.69,-0 6085.69,-36\"/>\n",
       "<text text-anchor=\"middle\" x=\"6033.31\" y=\"-13.8\" font-family=\"Times,serif\" font-size=\"14.00\">leaf=0.0426925</text>\n",
       "</g>\n",
       "<!-- 55&#45;&gt;111 -->\n",
       "<g id=\"edge103\" class=\"edge\"><title>55&#45;&gt;111</title>\n",
       "<path fill=\"none\" stroke=\"#0000ff\" d=\"M6067.34,-98.2734C6058.73,-78.2235 6050.77,-59.672 6044.71,-45.564\"/>\n",
       "<polygon fill=\"#0000ff\" stroke=\"#0000ff\" points=\"6047.82,-43.9272 6040.66,-36.1187 6041.39,-46.6885 6047.82,-43.9272\"/>\n",
       "<text text-anchor=\"middle\" x=\"6088.93\" y=\"-56.8\" font-family=\"Times,serif\" font-size=\"14.00\">yes, missing</text>\n",
       "</g>\n",
       "<!-- 112 -->\n",
       "<g id=\"node105\" class=\"node\"><title>112</title>\n",
       "<polygon fill=\"none\" stroke=\"black\" points=\"6212.85,-36 6103.77,-36 6103.77,-0 6212.85,-0 6212.85,-36\"/>\n",
       "<text text-anchor=\"middle\" x=\"6158.31\" y=\"-13.8\" font-family=\"Times,serif\" font-size=\"14.00\">leaf=&#45;0.0961201</text>\n",
       "</g>\n",
       "<!-- 55&#45;&gt;112 -->\n",
       "<g id=\"edge104\" class=\"edge\"><title>55&#45;&gt;112</title>\n",
       "<path fill=\"none\" stroke=\"#ff0000\" d=\"M6149.07,-87.2066C6151.17,-71.663 6153.1,-57.4365 6154.65,-46.045\"/>\n",
       "<polygon fill=\"#ff0000\" stroke=\"#ff0000\" points=\"6158.13,-46.4209 6156,-36.0414 6151.19,-45.4806 6158.13,-46.4209\"/>\n",
       "<text text-anchor=\"middle\" x=\"6160.31\" y=\"-56.8\" font-family=\"Times,serif\" font-size=\"14.00\">no</text>\n",
       "</g>\n",
       "<!-- 113 -->\n",
       "<g id=\"node106\" class=\"node\"><title>113</title>\n",
       "<polygon fill=\"none\" stroke=\"black\" points=\"6379.22,-36 6259.4,-36 6259.4,-0 6379.22,-0 6379.22,-36\"/>\n",
       "<text text-anchor=\"middle\" x=\"6319.31\" y=\"-13.8\" font-family=\"Times,serif\" font-size=\"14.00\">leaf=&#45;5.84624e&#45;05</text>\n",
       "</g>\n",
       "<!-- 56&#45;&gt;113 -->\n",
       "<g id=\"edge105\" class=\"edge\"><title>56&#45;&gt;113</title>\n",
       "<path fill=\"none\" stroke=\"#0000ff\" d=\"M6358.91,-167.539C6347.79,-125.842 6334.5,-75.9819 6326.49,-45.9374\"/>\n",
       "<polygon fill=\"#0000ff\" stroke=\"#0000ff\" points=\"6329.85,-44.9434 6323.89,-36.1825 6323.09,-46.7466 6329.85,-44.9434\"/>\n",
       "<text text-anchor=\"middle\" x=\"6366.93\" y=\"-56.8\" font-family=\"Times,serif\" font-size=\"14.00\">yes, missing</text>\n",
       "</g>\n",
       "<!-- 114 -->\n",
       "<g id=\"node107\" class=\"node\"><title>114</title>\n",
       "<polygon fill=\"none\" stroke=\"black\" points=\"6495.19,-36 6397.44,-36 6397.44,-0 6495.19,-0 6495.19,-36\"/>\n",
       "<text text-anchor=\"middle\" x=\"6446.31\" y=\"-13.8\" font-family=\"Times,serif\" font-size=\"14.00\">leaf=0.130418</text>\n",
       "</g>\n",
       "<!-- 56&#45;&gt;114 -->\n",
       "<g id=\"edge106\" class=\"edge\"><title>56&#45;&gt;114</title>\n",
       "<path fill=\"none\" stroke=\"#ff0000\" d=\"M6400.48,-168.152C6413.31,-126.403 6428.7,-76.3023 6437.99,-46.0938\"/>\n",
       "<polygon fill=\"#ff0000\" stroke=\"#ff0000\" points=\"6441.41,-46.8715 6441,-36.2846 6434.72,-44.8155 6441.41,-46.8715\"/>\n",
       "<text text-anchor=\"middle\" x=\"6442.31\" y=\"-56.8\" font-family=\"Times,serif\" font-size=\"14.00\">no</text>\n",
       "</g>\n",
       "<!-- 115 -->\n",
       "<g id=\"node110\" class=\"node\"><title>115</title>\n",
       "<polygon fill=\"none\" stroke=\"black\" points=\"6644.19,-36 6546.44,-36 6546.44,-0 6644.19,-0 6644.19,-36\"/>\n",
       "<text text-anchor=\"middle\" x=\"6595.31\" y=\"-13.8\" font-family=\"Times,serif\" font-size=\"14.00\">leaf=0.156951</text>\n",
       "</g>\n",
       "<!-- 57&#45;&gt;115 -->\n",
       "<g id=\"edge109\" class=\"edge\"><title>57&#45;&gt;115</title>\n",
       "<path fill=\"none\" stroke=\"#0000ff\" d=\"M6605.53,-87.5087C6603.2,-71.907 6601.07,-57.6195 6599.36,-46.176\"/>\n",
       "<polygon fill=\"#0000ff\" stroke=\"#0000ff\" points=\"6602.8,-45.5003 6597.87,-36.1258 6595.88,-46.5327 6602.8,-45.5003\"/>\n",
       "<text text-anchor=\"middle\" x=\"6637.93\" y=\"-56.8\" font-family=\"Times,serif\" font-size=\"14.00\">yes, missing</text>\n",
       "</g>\n",
       "<!-- 116 -->\n",
       "<g id=\"node111\" class=\"node\"><title>116</title>\n",
       "<polygon fill=\"none\" stroke=\"black\" points=\"6759.19,-36 6661.44,-36 6661.44,-0 6759.19,-0 6759.19,-36\"/>\n",
       "<text text-anchor=\"middle\" x=\"6710.31\" y=\"-13.8\" font-family=\"Times,serif\" font-size=\"14.00\">leaf=0.056224</text>\n",
       "</g>\n",
       "<!-- 57&#45;&gt;116 -->\n",
       "<g id=\"edge110\" class=\"edge\"><title>57&#45;&gt;116</title>\n",
       "<path fill=\"none\" stroke=\"#ff0000\" d=\"M6681.98,-95.4728C6689.02,-76.4516 6695.52,-58.9247 6700.51,-45.4625\"/>\n",
       "<polygon fill=\"#ff0000\" stroke=\"#ff0000\" points=\"6703.82,-46.5958 6704.01,-36.0028 6697.26,-44.1637 6703.82,-46.5958\"/>\n",
       "<text text-anchor=\"middle\" x=\"6704.31\" y=\"-56.8\" font-family=\"Times,serif\" font-size=\"14.00\">no</text>\n",
       "</g>\n",
       "<!-- 117 -->\n",
       "<g id=\"node112\" class=\"node\"><title>117</title>\n",
       "<polygon fill=\"none\" stroke=\"black\" points=\"6901.19,-36 6803.44,-36 6803.44,-0 6901.19,-0 6901.19,-36\"/>\n",
       "<text text-anchor=\"middle\" x=\"6852.31\" y=\"-13.8\" font-family=\"Times,serif\" font-size=\"14.00\">leaf=0.139233</text>\n",
       "</g>\n",
       "<!-- 58&#45;&gt;117 -->\n",
       "<g id=\"edge111\" class=\"edge\"><title>58&#45;&gt;117</title>\n",
       "<path fill=\"none\" stroke=\"#0000ff\" d=\"M6869.51,-165.386C6864.68,-124.286 6858.99,-75.82 6855.51,-46.2602\"/>\n",
       "<polygon fill=\"#0000ff\" stroke=\"#0000ff\" points=\"6858.98,-45.7971 6854.34,-36.2738 6852.03,-46.6139 6858.98,-45.7971\"/>\n",
       "<text text-anchor=\"middle\" x=\"6892.93\" y=\"-56.8\" font-family=\"Times,serif\" font-size=\"14.00\">yes, missing</text>\n",
       "</g>\n",
       "<!-- 118 -->\n",
       "<g id=\"node113\" class=\"node\"><title>118</title>\n",
       "<polygon fill=\"none\" stroke=\"black\" points=\"7016.19,-36 6918.44,-36 6918.44,-0 7016.19,-0 7016.19,-36\"/>\n",
       "<text text-anchor=\"middle\" x=\"6967.31\" y=\"-13.8\" font-family=\"Times,serif\" font-size=\"14.00\">leaf=0.184564</text>\n",
       "</g>\n",
       "<!-- 58&#45;&gt;118 -->\n",
       "<g id=\"edge112\" class=\"edge\"><title>58&#45;&gt;118</title>\n",
       "<path fill=\"none\" stroke=\"#ff0000\" d=\"M6906.47,-170.287C6923.49,-127.963 6944.22,-76.43 6956.56,-45.7452\"/>\n",
       "<polygon fill=\"#ff0000\" stroke=\"#ff0000\" points=\"6959.92,-46.7656 6960.4,-36.1818 6953.42,-44.1538 6959.92,-46.7656\"/>\n",
       "<text text-anchor=\"middle\" x=\"6960.31\" y=\"-56.8\" font-family=\"Times,serif\" font-size=\"14.00\">no</text>\n",
       "</g>\n",
       "<!-- 59 -->\n",
       "<g id=\"node116\" class=\"node\"><title>59</title>\n",
       "<ellipse fill=\"none\" stroke=\"black\" cx=\"7123.31\" cy=\"-241.312\" rx=\"150.78\" ry=\"150.78\"/>\n",
       "<text text-anchor=\"middle\" x=\"7123.31\" y=\"-237.112\" font-family=\"Times,serif\" font-size=\"14.00\">maximum_heart_rate_achieved&lt;151.96</text>\n",
       "</g>\n",
       "<!-- 29&#45;&gt;59 -->\n",
       "<g id=\"edge115\" class=\"edge\"><title>29&#45;&gt;59</title>\n",
       "<path fill=\"none\" stroke=\"#0000ff\" d=\"M7305.62,-511.364C7277.7,-470.154 7244,-420.423 7213.21,-374.986\"/>\n",
       "<polygon fill=\"#0000ff\" stroke=\"#0000ff\" points=\"7216.01,-372.871 7207.5,-366.555 7210.21,-376.797 7216.01,-372.871\"/>\n",
       "<text text-anchor=\"middle\" x=\"7279.93\" y=\"-417.423\" font-family=\"Times,serif\" font-size=\"14.00\">yes, missing</text>\n",
       "</g>\n",
       "<!-- 60 -->\n",
       "<g id=\"node117\" class=\"node\"><title>60</title>\n",
       "<ellipse fill=\"none\" stroke=\"black\" cx=\"7447.31\" cy=\"-241.312\" rx=\"155.123\" ry=\"155.123\"/>\n",
       "<text text-anchor=\"middle\" x=\"7447.31\" y=\"-237.112\" font-family=\"Times,serif\" font-size=\"14.00\">maximum_heart_rate_achieved&lt;169.987</text>\n",
       "</g>\n",
       "<!-- 29&#45;&gt;60 -->\n",
       "<g id=\"edge116\" class=\"edge\"><title>29&#45;&gt;60</title>\n",
       "<path fill=\"none\" stroke=\"#ff0000\" d=\"M7390.18,-495.276C7396.7,-466.378 7403.93,-434.392 7410.98,-403.161\"/>\n",
       "<polygon fill=\"#ff0000\" stroke=\"#ff0000\" points=\"7414.48,-403.578 7413.26,-393.052 7407.65,-402.035 7414.48,-403.578\"/>\n",
       "<text text-anchor=\"middle\" x=\"7414.31\" y=\"-417.423\" font-family=\"Times,serif\" font-size=\"14.00\">no</text>\n",
       "</g>\n",
       "<!-- 61 -->\n",
       "<g id=\"node122\" class=\"node\"><title>61</title>\n",
       "<ellipse fill=\"none\" stroke=\"black\" cx=\"7729.31\" cy=\"-241.312\" rx=\"108.784\" ry=\"108.784\"/>\n",
       "<text text-anchor=\"middle\" x=\"7729.31\" y=\"-237.112\" font-family=\"Times,serif\" font-size=\"14.00\">exercise_induced_angina&lt;1</text>\n",
       "</g>\n",
       "<!-- 30&#45;&gt;61 -->\n",
       "<g id=\"edge121\" class=\"edge\"><title>30&#45;&gt;61</title>\n",
       "<path fill=\"none\" stroke=\"#0000ff\" d=\"M7729.31,-525.318C7729.31,-477.534 7729.31,-414.78 7729.31,-360.51\"/>\n",
       "<polygon fill=\"#0000ff\" stroke=\"#0000ff\" points=\"7732.81,-360.481 7729.31,-350.481 7725.81,-360.481 7732.81,-360.481\"/>\n",
       "<text text-anchor=\"middle\" x=\"7763.93\" y=\"-417.423\" font-family=\"Times,serif\" font-size=\"14.00\">yes, missing</text>\n",
       "</g>\n",
       "<!-- 62 -->\n",
       "<g id=\"node123\" class=\"node\"><title>62</title>\n",
       "<ellipse fill=\"none\" stroke=\"black\" cx=\"7965.31\" cy=\"-241.312\" rx=\"108.784\" ry=\"108.784\"/>\n",
       "<text text-anchor=\"middle\" x=\"7965.31\" y=\"-237.112\" font-family=\"Times,serif\" font-size=\"14.00\">exercise_induced_angina&lt;1</text>\n",
       "</g>\n",
       "<!-- 30&#45;&gt;62 -->\n",
       "<g id=\"edge122\" class=\"edge\"><title>30&#45;&gt;62</title>\n",
       "<path fill=\"none\" stroke=\"#ff0000\" d=\"M7770.96,-537.645C7806.66,-483.392 7858.71,-404.304 7899.96,-341.623\"/>\n",
       "<polygon fill=\"#ff0000\" stroke=\"#ff0000\" points=\"7903.13,-343.169 7905.7,-332.891 7897.28,-339.321 7903.13,-343.169\"/>\n",
       "<text text-anchor=\"middle\" x=\"7854.31\" y=\"-417.423\" font-family=\"Times,serif\" font-size=\"14.00\">no</text>\n",
       "</g>\n",
       "<!-- 119 -->\n",
       "<g id=\"node118\" class=\"node\"><title>119</title>\n",
       "<polygon fill=\"none\" stroke=\"black\" points=\"7158.19,-36 7060.44,-36 7060.44,-0 7158.19,-0 7158.19,-36\"/>\n",
       "<text text-anchor=\"middle\" x=\"7109.31\" y=\"-13.8\" font-family=\"Times,serif\" font-size=\"14.00\">leaf=0.166844</text>\n",
       "</g>\n",
       "<!-- 59&#45;&gt;119 -->\n",
       "<g id=\"edge117\" class=\"edge\"><title>59&#45;&gt;119</title>\n",
       "<path fill=\"none\" stroke=\"#0000ff\" d=\"M7113.84,-90.5479C7112.78,-73.8446 7111.81,-58.5056 7111.04,-46.3506\"/>\n",
       "<polygon fill=\"#0000ff\" stroke=\"#0000ff\" points=\"7114.52,-45.8942 7110.4,-36.1352 7107.53,-46.3362 7114.52,-45.8942\"/>\n",
       "<text text-anchor=\"middle\" x=\"7147.93\" y=\"-56.8\" font-family=\"Times,serif\" font-size=\"14.00\">yes, missing</text>\n",
       "</g>\n",
       "<!-- 120 -->\n",
       "<g id=\"node119\" class=\"node\"><title>120</title>\n",
       "<polygon fill=\"none\" stroke=\"black\" points=\"7280.69,-36 7175.94,-36 7175.94,-0 7280.69,-0 7280.69,-36\"/>\n",
       "<text text-anchor=\"middle\" x=\"7228.31\" y=\"-13.8\" font-family=\"Times,serif\" font-size=\"14.00\">leaf=0.0863023</text>\n",
       "</g>\n",
       "<!-- 59&#45;&gt;120 -->\n",
       "<g id=\"edge118\" class=\"edge\"><title>59&#45;&gt;120</title>\n",
       "<path fill=\"none\" stroke=\"#ff0000\" d=\"M7187.72,-104.565C7198.37,-82.1055 7208.34,-61.1019 7215.73,-45.5249\"/>\n",
       "<polygon fill=\"#ff0000\" stroke=\"#ff0000\" points=\"7219.07,-46.6465 7220.19,-36.1115 7212.74,-43.646 7219.07,-46.6465\"/>\n",
       "<text text-anchor=\"middle\" x=\"7218.31\" y=\"-56.8\" font-family=\"Times,serif\" font-size=\"14.00\">no</text>\n",
       "</g>\n",
       "<!-- 121 -->\n",
       "<g id=\"node120\" class=\"node\"><title>121</title>\n",
       "<polygon fill=\"none\" stroke=\"black\" points=\"7395.19,-36 7311.44,-36 7311.44,-0 7395.19,-0 7395.19,-36\"/>\n",
       "<text text-anchor=\"middle\" x=\"7353.31\" y=\"-13.8\" font-family=\"Times,serif\" font-size=\"14.00\">leaf=0.1874</text>\n",
       "</g>\n",
       "<!-- 60&#45;&gt;121 -->\n",
       "<g id=\"edge119\" class=\"edge\"><title>60&#45;&gt;121</title>\n",
       "<path fill=\"none\" stroke=\"#0000ff\" d=\"M7386.85,-97.9613C7378.36,-77.9753 7370.51,-59.4959 7364.54,-45.4466\"/>\n",
       "<polygon fill=\"#0000ff\" stroke=\"#0000ff\" points=\"7367.68,-43.8772 7360.55,-36.0414 7361.24,-46.6138 7367.68,-43.8772\"/>\n",
       "<text text-anchor=\"middle\" x=\"7408.93\" y=\"-56.8\" font-family=\"Times,serif\" font-size=\"14.00\">yes, missing</text>\n",
       "</g>\n",
       "<!-- 122 -->\n",
       "<g id=\"node121\" class=\"node\"><title>122</title>\n",
       "<polygon fill=\"none\" stroke=\"black\" points=\"7510.19,-36 7412.44,-36 7412.44,-0 7510.19,-0 7510.19,-36\"/>\n",
       "<text text-anchor=\"middle\" x=\"7461.31\" y=\"-13.8\" font-family=\"Times,serif\" font-size=\"14.00\">leaf=0.147264</text>\n",
       "</g>\n",
       "<!-- 60&#45;&gt;122 -->\n",
       "<g id=\"edge120\" class=\"edge\"><title>60&#45;&gt;122</title>\n",
       "<path fill=\"none\" stroke=\"#ff0000\" d=\"M7457.05,-86.3021C7458.01,-71.2019 7458.88,-57.3811 7459.59,-46.2452\"/>\n",
       "<polygon fill=\"#ff0000\" stroke=\"#ff0000\" points=\"7463.09,-46.2574 7460.23,-36.0564 7456.11,-45.8154 7463.09,-46.2574\"/>\n",
       "<text text-anchor=\"middle\" x=\"7466.31\" y=\"-56.8\" font-family=\"Times,serif\" font-size=\"14.00\">no</text>\n",
       "</g>\n",
       "<!-- 123 -->\n",
       "<g id=\"node124\" class=\"node\"><title>123</title>\n",
       "<polygon fill=\"none\" stroke=\"black\" points=\"7667.19,-36 7569.44,-36 7569.44,-0 7667.19,-0 7667.19,-36\"/>\n",
       "<text text-anchor=\"middle\" x=\"7618.31\" y=\"-13.8\" font-family=\"Times,serif\" font-size=\"14.00\">leaf=0.149279</text>\n",
       "</g>\n",
       "<!-- 61&#45;&gt;123 -->\n",
       "<g id=\"edge123\" class=\"edge\"><title>61&#45;&gt;123</title>\n",
       "<path fill=\"none\" stroke=\"#0000ff\" d=\"M7680.79,-143.563C7662.76,-107.625 7643.74,-69.6976 7631.49,-45.2708\"/>\n",
       "<polygon fill=\"#0000ff\" stroke=\"#0000ff\" points=\"7634.6,-43.6627 7626.99,-36.2932 7628.34,-46.8011 7634.6,-43.6627\"/>\n",
       "<text text-anchor=\"middle\" x=\"7676.93\" y=\"-56.8\" font-family=\"Times,serif\" font-size=\"14.00\">yes, missing</text>\n",
       "</g>\n",
       "<!-- 124 -->\n",
       "<g id=\"node125\" class=\"node\"><title>124</title>\n",
       "<polygon fill=\"none\" stroke=\"black\" points=\"7782.19,-36 7684.44,-36 7684.44,-0 7782.19,-0 7782.19,-36\"/>\n",
       "<text text-anchor=\"middle\" x=\"7733.31\" y=\"-13.8\" font-family=\"Times,serif\" font-size=\"14.00\">leaf=0.190613</text>\n",
       "</g>\n",
       "<!-- 61&#45;&gt;124 -->\n",
       "<g id=\"edge124\" class=\"edge\"><title>61&#45;&gt;124</title>\n",
       "<path fill=\"none\" stroke=\"#ff0000\" d=\"M7731.26,-132.249C7731.84,-100.335 7732.42,-68.1328 7732.82,-46.2693\"/>\n",
       "<polygon fill=\"#ff0000\" stroke=\"#ff0000\" points=\"7736.32,-46.1861 7733,-36.1244 7729.32,-46.0595 7736.32,-46.1861\"/>\n",
       "<text text-anchor=\"middle\" x=\"7740.31\" y=\"-56.8\" font-family=\"Times,serif\" font-size=\"14.00\">no</text>\n",
       "</g>\n",
       "<!-- 125 -->\n",
       "<g id=\"node126\" class=\"node\"><title>125</title>\n",
       "<polygon fill=\"none\" stroke=\"black\" points=\"7958.19,-36 7860.44,-36 7860.44,-0 7958.19,-0 7958.19,-36\"/>\n",
       "<text text-anchor=\"middle\" x=\"7909.31\" y=\"-13.8\" font-family=\"Times,serif\" font-size=\"14.00\">leaf=0.190152</text>\n",
       "</g>\n",
       "<!-- 62&#45;&gt;125 -->\n",
       "<g id=\"edge125\" class=\"edge\"><title>62&#45;&gt;125</title>\n",
       "<path fill=\"none\" stroke=\"#0000ff\" d=\"M7938.79,-135.489C7930.44,-102.503 7921.92,-68.8249 7916.2,-46.221\"/>\n",
       "<polygon fill=\"#0000ff\" stroke=\"#0000ff\" points=\"7919.55,-45.1975 7913.7,-36.3616 7912.76,-46.9147 7919.55,-45.1975\"/>\n",
       "<text text-anchor=\"middle\" x=\"7956.93\" y=\"-56.8\" font-family=\"Times,serif\" font-size=\"14.00\">yes, missing</text>\n",
       "</g>\n",
       "<!-- 126 -->\n",
       "<g id=\"node127\" class=\"node\"><title>126</title>\n",
       "<polygon fill=\"none\" stroke=\"black\" points=\"8066.69,-36 7975.94,-36 7975.94,-0 8066.69,-0 8066.69,-36\"/>\n",
       "<text text-anchor=\"middle\" x=\"8021.31\" y=\"-13.8\" font-family=\"Times,serif\" font-size=\"14.00\">leaf=0.19801</text>\n",
       "</g>\n",
       "<!-- 62&#45;&gt;126 -->\n",
       "<g id=\"edge126\" class=\"edge\"><title>62&#45;&gt;126</title>\n",
       "<path fill=\"none\" stroke=\"#ff0000\" d=\"M7991.84,-135.489C8000.18,-102.503 8008.7,-68.8249 8014.42,-46.221\"/>\n",
       "<polygon fill=\"#ff0000\" stroke=\"#ff0000\" points=\"8017.86,-46.9147 8016.92,-36.3616 8011.07,-45.1975 8017.86,-46.9147\"/>\n",
       "<text text-anchor=\"middle\" x=\"8019.31\" y=\"-56.8\" font-family=\"Times,serif\" font-size=\"14.00\">no</text>\n",
       "</g>\n",
       "</g>\n",
       "</svg>\n"
      ],
      "text/plain": [
       "<graphviz.dot.Digraph at 0x1dce64828>"
      ]
     },
     "execution_count": 1099,
     "metadata": {},
     "output_type": "execute_result"
    }
   ],
   "source": [
    "xgboost.to_graphviz(xg_modelx_full)"
   ]
  },
  {
   "cell_type": "code",
   "execution_count": 1101,
   "metadata": {},
   "outputs": [
    {
     "data": {
      "text/plain": [
       "3"
      ]
     },
     "execution_count": 1101,
     "metadata": {},
     "output_type": "execute_result"
    }
   ],
   "source": [
    "max(train_df['number_of_major_vessels'])"
   ]
  },
  {
   "cell_type": "code",
   "execution_count": 1103,
   "metadata": {},
   "outputs": [
    {
     "name": "stderr",
     "output_type": "stream",
     "text": [
      "/anaconda/lib/python3.6/site-packages/pandas/core/computation/expressions.py:183: UserWarning: evaluating in Python space because the '*' operator is not supported by numexpr for the bool dtype, use '&' instead\n",
      "  unsupported[op_str]))\n"
     ]
    }
   ],
   "source": [
    "train_df['num_vessels_and_angina_less_one'] = (train_df['exercise_induced_angina'] < 1) * (train_df['number_of_major_vessels']<1)"
   ]
  },
  {
   "cell_type": "code",
   "execution_count": 1105,
   "metadata": {},
   "outputs": [],
   "source": [
    "train_df.drop('num_vessels_and_angina_less_one', axis = 1 , inplace = True)"
   ]
  },
  {
   "cell_type": "code",
   "execution_count": null,
   "metadata": {},
   "outputs": [],
   "source": []
  }
 ],
 "metadata": {
  "kernelspec": {
   "display_name": "Python [conda root]",
   "language": "python",
   "name": "conda-root-py"
  },
  "language_info": {
   "codemirror_mode": {
    "name": "ipython",
    "version": 3
   },
   "file_extension": ".py",
   "mimetype": "text/x-python",
   "name": "python",
   "nbconvert_exporter": "python",
   "pygments_lexer": "ipython3",
   "version": "3.6.5"
  }
 },
 "nbformat": 4,
 "nbformat_minor": 2
}
